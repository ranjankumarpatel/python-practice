{
 "cells": [
  {
   "cell_type": "code",
   "execution_count": 4,
   "metadata": {},
   "outputs": [
    {
     "name": "stdout",
     "output_type": "stream",
     "text": [
      "None\n"
     ]
    }
   ],
   "source": [
    "import re\n",
    "\n",
    "txt='2017-04-24T11:39:49.387Z 172.31.8.36 - - [24/Apr/2017:11:39:41 +0000] \"GET /rest/user/position/user/84 HTTP/1.1\" 200 1517 \"https://assess.thinktalentindianext.net/user/position\" \"Mozilla/5.0 (X11; Linux x86_64) AppleWebKit/537.36 (KHTML, like Gecko) Chrome/54.0.2840.59 Safari/537.36\"'\n",
    "\n",
    "re1='((?:2|1)\\\\d{3}(?:-|\\\\/)(?:(?:0[1-9])|(?:1[0-2]))(?:-|\\\\/)(?:(?:0[1-9])|(?:[1-2][0-9])|(?:3[0-1]))(?:T|\\\\s)(?:(?:[0-1][0-9])|(?:2[0-3])):(?:[0-5][0-9]):(?:[0-5][0-9]))'\t# Time Stamp 1\n",
    "re2='((?:(?:\\\\d{1}\\\\d{1}))[-:\\\\/.](?:[0]?[1-9]|[1][012])[-:\\\\/.](?:(?:[0-2]?\\\\d{1})|(?:[3][01]{1})))(?![\\\\d])'\t# YYMMDD 1\n",
    "re3='.*?'\t# Non-greedy match on filler\n",
    "re4='((?:(?:25[0-5]|2[0-4][0-9]|[01]?[0-9][0-9]?)\\\\.){3}(?:25[0-5]|2[0-4][0-9]|[01]?[0-9][0-9]?))(?![\\\\d])'\t# IPv4 IP Address 1\n",
    "re5='.*?'\t# Non-greedy match on filler\n",
    "re6='((?:http|https)(?::\\\\/{2}[\\\\w]+)(?:[\\\\/|\\\\.]?)(?:[^\\\\s\"]*))'\t# HTTP URL 1\n",
    "\n",
    "rg = re.compile(re1+re2+re3+re4+re5+re6,re.IGNORECASE|re.DOTALL)\n",
    "m = rg.search(txt)\n",
    "print(m)\n",
    "if m:\n",
    "    timestamp1=m.group(1)\n",
    "    yymmdd1=m.group(2)\n",
    "    ipaddress1=m.group(3)\n",
    "    httpurl1=m.group(4)\n",
    "    print(\"(\"+timestamp1+\")\"+\"(\"+yymmdd1+\")\"+\"(\"+ipaddress1+\")\"+\"(\"+httpurl1+\")\"+\"\\n\")\n"
   ]
  },
  {
   "cell_type": "code",
   "execution_count": 6,
   "metadata": {},
   "outputs": [
    {
     "name": "stdout",
     "output_type": "stream",
     "text": [
      "2017-04-24T11:39:49.387Z 172.31.8.36 - - [24/Apr/2017:11:39:41 +0000] \"GET /rest/user/position/user/84 HTTP/1.1\" 200 1517 \"https://assess.thinktalentindianext.net/user/position\" \"Mozilla/5.0 (X11; Linux x86_64) AppleWebKit/537.36 (KHTML\n",
      "\n"
     ]
    }
   ],
   "source": [
    "import re\n",
    "\n",
    "txt='2017-04-24T11:39:49.387Z 172.31.8.36 - - [24/Apr/2017:11:39:41 +0000] \"GET /rest/user/position/user/84 HTTP/1.1\" 200 1517 \"https://assess.thinktalentindianext.net/user/position\" \"Mozilla/5.0 (X11; Linux x86_64) AppleWebKit/537.36 (KHTML, like Gecko) Chrome/54.0.2840.59 Safari/537.36\"'\n",
    "\n",
    "re1='(.*?),'\t# Command Seperated Values 1\n",
    "\n",
    "rg = re.compile(re1,re.IGNORECASE|re.DOTALL)\n",
    "m = rg.search(txt)\n",
    "if m:\n",
    "    csv1=m.group(1)\n",
    "    print (csv1+\"\\n\")"
   ]
  },
  {
   "cell_type": "code",
   "execution_count": 7,
   "metadata": {},
   "outputs": [
    {
     "name": "stdout",
     "output_type": "stream",
     "text": [
      "2017-04-24T11:39:49\n",
      "\n"
     ]
    }
   ],
   "source": [
    "import re\n",
    "\n",
    "txt='2017-04-24T11:39:49.387Z 172.31.8.36 - - [24/Apr/2017:11:39:41 +0000] \"GET /rest/user/position/user/84 HTTP/1.1\" 200 1517 \"https://assess.thinktalentindianext.net/user/position\" \"Mozilla/5.0 (X11; Linux x86_64) AppleWebKit/537.36 (KHTML, like Gecko) Chrome/54.0.2840.59 Safari/537.36\"'\n",
    "\n",
    "re1='((?:2|1)\\\\d{3}(?:-|\\\\/)(?:(?:0[1-9])|(?:1[0-2]))(?:-|\\\\/)(?:(?:0[1-9])|(?:[1-2][0-9])|(?:3[0-1]))(?:T|\\\\s)(?:(?:[0-1][0-9])|(?:2[0-3])):(?:[0-5][0-9]):(?:[0-5][0-9]))'\t# Time Stamp 1\n",
    "\n",
    "rg = re.compile(re1,re.IGNORECASE|re.DOTALL)\n",
    "m = rg.search(txt)\n",
    "if m:\n",
    "    timestamp1=m.group(1)\n",
    "    print (timestamp1+\"\\n\")"
   ]
  },
  {
   "cell_type": "code",
   "execution_count": 8,
   "metadata": {},
   "outputs": [
    {
     "name": "stdout",
     "output_type": "stream",
     "text": [
      "2017-04-24T11:39:49 172.31.8.36\n"
     ]
    }
   ],
   "source": [
    "txt='2017-04-24T11:39:49.387Z 172.31.8.36 - - [24/Apr/2017:11:39:41 +0000] \"GET /rest/user/position/user/84 HTTP/1.1\" 200 1517 \"https://assess.thinktalentindianext.net/user/position\" \"Mozilla/5.0 (X11; Linux x86_64) AppleWebKit/537.36 (KHTML, like Gecko) Chrome/54.0.2840.59 Safari/537.36\"'\n",
    "\n",
    "re1='((?:2|1)\\\\d{3}(?:-|\\\\/)(?:(?:0[1-9])|(?:1[0-2]))(?:-|\\\\/)(?:(?:0[1-9])|(?:[1-2][0-9])|(?:3[0-1]))(?:T|\\\\s)(?:(?:[0-1][0-9])|(?:2[0-3])):(?:[0-5][0-9]):(?:[0-5][0-9]))'\t# Time Stamp 1\n",
    "re2='.*?'\t# Non-greedy match on filler\n",
    "re3='((?:(?:25[0-5]|2[0-4][0-9]|[01]?[0-9][0-9]?)\\\\.){3}(?:25[0-5]|2[0-4][0-9]|[01]?[0-9][0-9]?))(?![\\\\d])'\t# IPv4 IP Address 1\n",
    "\n",
    "rg = re.compile(re1+re2+re3,re.IGNORECASE|re.DOTALL)\n",
    "m = rg.search(txt)\n",
    "if m:\n",
    "    timestamp1=m.group(1)\n",
    "    ipaddress1=m.group(2)\n",
    "    print (timestamp1,ipaddress1)\n"
   ]
  },
  {
   "cell_type": "code",
   "execution_count": 9,
   "metadata": {},
   "outputs": [
    {
     "name": "stdout",
     "output_type": "stream",
     "text": [
      "2017-04-24T11:39:49 172.31.8.36 [24/Apr/2017:11:39:41 +0000]\n"
     ]
    }
   ],
   "source": [
    "import re\n",
    "\n",
    "txt='2017-04-24T11:39:49.387Z 172.31.8.36 - - [24/Apr/2017:11:39:41 +0000] \"GET /rest/user/position/user/84 HTTP/1.1\" 200 1517 \"https://assess.thinktalentindianext.net/user/position\" \"Mozilla/5.0 (X11; Linux x86_64) AppleWebKit/537.36 (KHTML, like Gecko) Chrome/54.0.2840.59 Safari/537.36\"'\n",
    "\n",
    "re1='((?:2|1)\\\\d{3}(?:-|\\\\/)(?:(?:0[1-9])|(?:1[0-2]))(?:-|\\\\/)(?:(?:0[1-9])|(?:[1-2][0-9])|(?:3[0-1]))(?:T|\\\\s)(?:(?:[0-1][0-9])|(?:2[0-3])):(?:[0-5][0-9]):(?:[0-5][0-9]))'\t# Time Stamp 1\n",
    "re2='.*?'\t# Non-greedy match on filler\n",
    "re3='((?:(?:25[0-5]|2[0-4][0-9]|[01]?[0-9][0-9]?)\\\\.){3}(?:25[0-5]|2[0-4][0-9]|[01]?[0-9][0-9]?))(?![\\\\d])'\t# IPv4 IP Address 1\n",
    "re4='.*?'\t# Non-greedy match on filler\n",
    "re5='(\\\\[.*?\\\\])'\t# Square Braces 1\n",
    "\n",
    "rg = re.compile(re1+re2+re3+re4+re5,re.IGNORECASE|re.DOTALL)\n",
    "m = rg.search(txt)\n",
    "if m:\n",
    "    timestamp1=m.group(1)\n",
    "    ipaddress1=m.group(2)\n",
    "    sbraces1=m.group(3)\n",
    "    print (timestamp1,ipaddress1,sbraces1)"
   ]
  },
  {
   "cell_type": "code",
   "execution_count": 25,
   "metadata": {},
   "outputs": [
    {
     "name": "stdout",
     "output_type": "stream",
     "text": [
      "((?:2|1)\\d{3}(?:-|\\/)(?:(?:0[1-9])|(?:1[0-2]))(?:-|\\/)(?:(?:0[1-9])|(?:[1-2][0-9])|(?:3[0-1]))(?:T|\\s)(?:(?:[0-1][0-9])|(?:2[0-3])):(?:[0-5][0-9]):(?:[0-5][0-9])).*?((?:(?:25[0-5]|2[0-4][0-9]|[01]?[0-9][0-9]?)\\.){3}(?:25[0-5]|2[0-4][0-9]|[01]?[0-9][0-9]?))(?![\\d]).*?(\\[.*?\\]).*?((?:[a-z][a-z]+)).*?((?:\\/[\\w\\.\\-]+)+).*?((?:http|https)(?::\\/{2}[\\w]+)(?:[\\/|\\.]?)(?:[^\\s\"]*))\"*\\S\n",
      "('2017-04-24T11:39:49', '172.31.8.36', '[24/Apr/2017:11:39:41 +0000]', 'GET', '/rest/user/position/user/84', 'https://assess.thinktalentindianext.net/user/position')\n",
      "2017-04-24T11:39:49 172.31.8.36 [24/Apr/2017:11:39:41 +0000] GET /rest/user/position/user/84 https://assess.thinktalentindianext.net/user/position\n"
     ]
    }
   ],
   "source": [
    "import re\n",
    "\n",
    "txt='2017-04-24T11:39:49.387Z 172.31.8.36 - - [24/Apr/2017:11:39:41 +0000] \"GET /rest/user/position/user/84 HTTP/1.1\" 200 1517 \"https://assess.thinktalentindianext.net/user/position\" \"Mozilla/5.0 (X11; Linux x86_64) AppleWebKit/537.36 (KHTML, like Gecko) Chrome/54.0.2840.59 Safari/537.36\"'\n",
    "\n",
    "re1='((?:2|1)\\\\d{3}(?:-|\\\\/)(?:(?:0[1-9])|(?:1[0-2]))(?:-|\\\\/)(?:(?:0[1-9])|(?:[1-2][0-9])|(?:3[0-1]))(?:T|\\\\s)(?:(?:[0-1][0-9])|(?:2[0-3])):(?:[0-5][0-9]):(?:[0-5][0-9]))'\t# Time Stamp 1\n",
    "re2='.*?'\t# Non-greedy match on filler\n",
    "re3='((?:(?:25[0-5]|2[0-4][0-9]|[01]?[0-9][0-9]?)\\\\.){3}(?:25[0-5]|2[0-4][0-9]|[01]?[0-9][0-9]?))(?![\\\\d])'\t# IPv4 IP Address 1\n",
    "re4='.*?'\t# Non-greedy match on filler\n",
    "re5='(\\\\[.*?\\\\])'\t# Square Braces 1\n",
    "re6='.*?'\t# Non-greedy match on filler\n",
    "re7='((?:[a-z][a-z]+))'\t# Word 1\n",
    "re8='.*?'\t# Non-greedy match on filler\n",
    "re9='((?:\\\\/[\\\\w\\\\.\\\\-]+)+)'\t# Unix Path 1\n",
    "re10='.*?'\t# Non-greedy match on filler\n",
    "re11='((?:http|https)(?::\\\\/{2}[\\\\w]+)(?:[\\\\/|\\\\.]?)(?:[^\\\\s\"]*))'\t# HTTP URL 1\n",
    "re12='\"*\\S'\t# Non-greedy match on filler\n",
    "\n",
    "rg = re.compile(re1+re2+re3+re4+re5+re6+re7+re8+re9+re10+re11+re12,re.IGNORECASE|re.DOTALL)\n",
    "print(rg.pattern)\n",
    "m = rg.search(txt)\n",
    "print(m.groups())\n",
    "if m:\n",
    "    timestamp1=m.group(1)\n",
    "    ipaddress1=m.group(2)\n",
    "    sbraces1=m.group(3)\n",
    "    word1=m.group(4)\n",
    "    unixpath1=m.group(5)\n",
    "    httpurl1=m.group(6)\n",
    "    #browser=m.group(7)\n",
    "    print (timestamp1,ipaddress1,sbraces1,word1,unixpath1,httpurl1)"
   ]
  },
  {
   "cell_type": "code",
   "execution_count": 37,
   "metadata": {},
   "outputs": [
    {
     "name": "stdout",
     "output_type": "stream",
     "text": [
      "((?:2|1)\\d{3}(?:-|\\/)(?:(?:0[1-9])|(?:1[0-2]))(?:-|\\/)(?:(?:0[1-9])|(?:[1-2][0-9])|(?:3[0-1]))(?:T|\\s)(?:(?:[0-1][0-9])|(?:2[0-3])):(?:[0-5][0-9]):(?:[0-5][0-9])).*?((?:(?:25[0-5]|2[0-4][0-9]|[01]?[0-9][0-9]?)\\.){3}(?:25[0-5]|2[0-4][0-9]|[01]?[0-9][0-9]?))(?![\\d]).*?(\\[.*?\\]).*?((?:[a-z][a-z]+)).*?((?:\\/[\\w\\.\\-]+)+).*?((?:http|https)(?::\\/{2}[\\w]+)(?:[\\/|\\.]?)(?:[^\\s\"]*)).*?(\".*?\")\n",
      "2017-04-24T11:39:49 172.31.8.36 [24/Apr/2017:11:39:41 +0000] GET /rest/user/position/user/84 https://assess.thinktalentindianext.net/user/position \" \"\n"
     ]
    }
   ],
   "source": [
    "import re\n",
    "\n",
    "txt='2017-04-24T11:39:49.387Z 172.31.8.36 - - [24/Apr/2017:11:39:41 +0000] \"GET /rest/user/position/user/84 HTTP/1.1\" 200 1517 \"https://assess.thinktalentindianext.net/user/position\" \"Mozilla/5.0 (X11; Linux x86_64) AppleWebKit/537.36 (KHTML, like Gecko) Chrome/54.0.2840.59 Safari/537.36\"'\n",
    "\n",
    "re1='((?:2|1)\\\\d{3}(?:-|\\\\/)(?:(?:0[1-9])|(?:1[0-2]))(?:-|\\\\/)(?:(?:0[1-9])|(?:[1-2][0-9])|(?:3[0-1]))(?:T|\\\\s)(?:(?:[0-1][0-9])|(?:2[0-3])):(?:[0-5][0-9]):(?:[0-5][0-9]))'\t# Time Stamp 1\n",
    "re2='.*?'\t# Non-greedy match on filler\n",
    "re3='((?:(?:25[0-5]|2[0-4][0-9]|[01]?[0-9][0-9]?)\\\\.){3}(?:25[0-5]|2[0-4][0-9]|[01]?[0-9][0-9]?))(?![\\\\d])'\t# IPv4 IP Address 1\n",
    "re4='.*?'\t# Non-greedy match on filler\n",
    "re5='(\\\\[.*?\\\\])'\t# Square Braces 1\n",
    "re6='.*?'\t# Non-greedy match on filler\n",
    "re7='((?:[a-z][a-z]+))'\t# Word 1\n",
    "re8='.*?'\t# Non-greedy match on filler\n",
    "re9='((?:\\\\/[\\\\w\\\\.\\\\-]+)+)'\t# Unix Path 1\n",
    "re10='.*?'\t# Non-greedy match on filler\n",
    "re11='((?:http|https)(?::\\\\/{2}[\\\\w]+)(?:[\\\\/|\\\\.]?)(?:[^\\\\s\"]*))'\t# HTTP URL 1\n",
    "re12='.*?'\t# Non-greedy match on filler\n",
    "re13='(\".*?\")'\t# Word 2\n",
    "\n",
    "rg = re.compile(re1+re2+re3+re4+re5+re6+re7+re8+re9+re10+re11+re12+re13,re.IGNORECASE|re.DOTALL)\n",
    "print(rg.pattern)\n",
    "m = rg.search(txt)\n",
    "if m:\n",
    "    timestamp1=m.group(1)\n",
    "    ipaddress1=m.group(2)\n",
    "    sbraces1=m.group(3)\n",
    "    word1=m.group(4)\n",
    "    unixpath1=m.group(5)\n",
    "    httpurl1=m.group(6)\n",
    "    word2=m.group(7)\n",
    "    print (timestamp1,ipaddress1,sbraces1,word1,unixpath1,httpurl1,word2)"
   ]
  },
  {
   "cell_type": "code",
   "execution_count": null,
   "metadata": {
    "collapsed": true
   },
   "outputs": [],
   "source": []
  },
  {
   "cell_type": "code",
   "execution_count": null,
   "metadata": {
    "collapsed": true
   },
   "outputs": [],
   "source": []
  }
 ],
 "metadata": {
  "kernelspec": {
   "display_name": "Python 2",
   "language": "python",
   "name": "python2"
  },
  "language_info": {
   "codemirror_mode": {
    "name": "ipython",
    "version": 2
   },
   "file_extension": ".py",
   "mimetype": "text/x-python",
   "name": "python",
   "nbconvert_exporter": "python",
   "pygments_lexer": "ipython2",
   "version": "2.7.12"
  },
  "varInspector": {
   "cols": {
    "lenName": 16,
    "lenType": 16,
    "lenVar": 40
   },
   "kernels_config": {
    "python": {
     "delete_cmd_postfix": "",
     "delete_cmd_prefix": "del ",
     "library": "var_list.py",
     "varRefreshCmd": "print(var_dic_list())"
    },
    "r": {
     "delete_cmd_postfix": ") ",
     "delete_cmd_prefix": "rm(",
     "library": "var_list.r",
     "varRefreshCmd": "cat(var_dic_list()) "
    }
   },
   "types_to_exclude": [
    "module",
    "function",
    "builtin_function_or_method",
    "instance",
    "_Feature"
   ],
   "window_display": false
  }
 },
 "nbformat": 4,
 "nbformat_minor": 2
}
