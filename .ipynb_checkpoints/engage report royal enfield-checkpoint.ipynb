{
 "cells": [
  {
   "cell_type": "code",
   "execution_count": 58,
   "metadata": {
    "collapsed": false
   },
   "outputs": [],
   "source": [
    "import pandas as pd"
   ]
  },
  {
   "cell_type": "code",
   "execution_count": 113,
   "metadata": {
    "collapsed": true
   },
   "outputs": [],
   "source": [
    "import MySQLdb as db\n",
    "from pandas import DataFrame\n",
    "#from pandas.io.sql import frame_query\n",
    "\n",
    "database = db.connect('xxxxxxxx','cen_survey','survey@0215','engage_v1')\n",
    "#data     = frame_query(\"SELECT * FROM ass_v1_360_invite_response\", database)"
   ]
  },
  {
   "cell_type": "code",
   "execution_count": 114,
   "metadata": {
    "collapsed": true
   },
   "outputs": [],
   "source": [
    "database.autocommit=False"
   ]
  },
  {
   "cell_type": "code",
   "execution_count": 115,
   "metadata": {
    "collapsed": false
   },
   "outputs": [
    {
     "data": {
      "text/plain": [
       "False"
      ]
     },
     "execution_count": 115,
     "metadata": {},
     "output_type": "execute_result"
    }
   ],
   "source": [
    "database.autocommit"
   ]
  },
  {
   "cell_type": "code",
   "execution_count": 116,
   "metadata": {
    "collapsed": false
   },
   "outputs": [],
   "source": [
    "royal = pd.read_sql_query(sql=\"\"\"SELECT survey_v1_question.QUESTION_TEXT,\n",
    "       survey_v1_option.OPT_TEXT,\n",
    "       survey_v1_option.OPT_VALUE,\n",
    "       `survey_v1_user_response_store`.FIELD_VALUE,\n",
    "       `survey_v1_user_response_store`.COMMENT,\n",
    "       survey_v1_user_servey_def.SURVEY_DEF_ID\n",
    "  FROM ttn_central_v1.survey_v1_user_response_store\n",
    "       JOIN survey_v1_question\n",
    "          ON survey_v1_question.QUESTION_ID =\n",
    "                survey_v1_user_response_store.QUESTION_ID\n",
    "       JOIN survey_v1_user_servey_def\n",
    "          ON survey_v1_user_servey_def.USD_ID =\n",
    "                survey_v1_user_response_store.USER_SURVEY_DEF_ID\n",
    "       LEFT OUTER JOIN survey_v1_option\n",
    "          ON survey_v1_option.OPT_ID =\n",
    "                survey_v1_user_response_store.OPTION_ID\n",
    " WHERE survey_v1_user_servey_def.SURVEY_DEF_ID BETWEEN 203 AND 220\n",
    "ORDER BY survey_v1_user_servey_def.SURVEY_DEF_ID;\"\"\",con=database)\n"
   ]
  },
  {
   "cell_type": "code",
   "execution_count": 117,
   "metadata": {
    "collapsed": false
   },
   "outputs": [],
   "source": [
    "survey = pd.read_sql_query(sql=\"\"\"SELECT SD_ID,\n",
    "       SURVEY_TEMPLATE_TITLE,\n",
    "       DESCRIPTION,\n",
    "       AUTO_REMINDER_PATTERN,\n",
    "       START_DATE,\n",
    "       END_DATE,\n",
    "       EMAIL_INVITATION_TEMPLATE,\n",
    "       IS_PUBLIC,\n",
    "       SURVEY_THEME,\n",
    "       AUTO_REMINDER_SENT_LAST_DATE,\n",
    "       LOGO,\n",
    "       GEN_DATE,\n",
    "       STATUS,\n",
    "       PTM_ID,\n",
    "       PS_ID,\n",
    "       TYPE_ID,\n",
    "       TARGET_COMPLETE_DURATION\n",
    "  FROM ttn_central_v1.survey_v1_defination\n",
    " WHERE SD_ID BETWEEN 203 AND 220;\"\"\",con=database)"
   ]
  },
  {
   "cell_type": "code",
   "execution_count": 118,
   "metadata": {
    "collapsed": true
   },
   "outputs": [],
   "source": [
    "database.close()"
   ]
  },
  {
   "cell_type": "code",
   "execution_count": 119,
   "metadata": {
    "collapsed": false
   },
   "outputs": [
    {
     "ename": "ProgrammingError",
     "evalue": "closing a closed connection",
     "output_type": "error",
     "traceback": [
      "\u001b[0;31m---------------------------------------------------------------------------\u001b[0m",
      "\u001b[0;31mProgrammingError\u001b[0m                          Traceback (most recent call last)",
      "\u001b[0;32m<ipython-input-119-8e2440668105>\u001b[0m in \u001b[0;36m<module>\u001b[0;34m()\u001b[0m\n\u001b[0;32m----> 1\u001b[0;31m \u001b[0mdatabase\u001b[0m\u001b[1;33m.\u001b[0m\u001b[0mclose\u001b[0m\u001b[1;33m(\u001b[0m\u001b[1;33m)\u001b[0m\u001b[1;33m\u001b[0m\u001b[0m\n\u001b[0m",
      "\u001b[0;31mProgrammingError\u001b[0m: closing a closed connection"
     ]
    }
   ],
   "source": [
    "database.close()"
   ]
  },
  {
   "cell_type": "code",
   "execution_count": 120,
   "metadata": {
    "collapsed": false
   },
   "outputs": [
    {
     "data": {
      "text/html": [
       "<div>\n",
       "<table border=\"1\" class=\"dataframe\">\n",
       "  <thead>\n",
       "    <tr style=\"text-align: right;\">\n",
       "      <th></th>\n",
       "      <th>QUESTION_TEXT</th>\n",
       "      <th>OPT_TEXT</th>\n",
       "      <th>OPT_VALUE</th>\n",
       "      <th>FIELD_VALUE</th>\n",
       "      <th>COMMENT</th>\n",
       "      <th>SURVEY_DEF_ID</th>\n",
       "    </tr>\n",
       "  </thead>\n",
       "  <tbody>\n",
       "    <tr>\n",
       "      <th>0</th>\n",
       "      <td>&lt;p&gt;Our team members have adequate knowledge on...</td>\n",
       "      <td>Somewhat  agree</td>\n",
       "      <td>3</td>\n",
       "      <td>None</td>\n",
       "      <td></td>\n",
       "      <td>203</td>\n",
       "    </tr>\n",
       "    <tr>\n",
       "      <th>1</th>\n",
       "      <td>&lt;p&gt;In the face of difficulty our team members ...</td>\n",
       "      <td>Completely disagree</td>\n",
       "      <td>1</td>\n",
       "      <td>None</td>\n",
       "      <td></td>\n",
       "      <td>203</td>\n",
       "    </tr>\n",
       "    <tr>\n",
       "      <th>2</th>\n",
       "      <td>&lt;p&gt;Our team members deal conflict management c...</td>\n",
       "      <td>Completely disagree</td>\n",
       "      <td>1</td>\n",
       "      <td>None</td>\n",
       "      <td></td>\n",
       "      <td>203</td>\n",
       "    </tr>\n",
       "    <tr>\n",
       "      <th>3</th>\n",
       "      <td>&lt;p&gt;Our team members share their expertise and ...</td>\n",
       "      <td>Somewhat disagree</td>\n",
       "      <td>2</td>\n",
       "      <td>None</td>\n",
       "      <td></td>\n",
       "      <td>203</td>\n",
       "    </tr>\n",
       "    <tr>\n",
       "      <th>4</th>\n",
       "      <td>&lt;p&gt;Communication between our team members are ...</td>\n",
       "      <td>Completely disagree</td>\n",
       "      <td>1</td>\n",
       "      <td>None</td>\n",
       "      <td></td>\n",
       "      <td>203</td>\n",
       "    </tr>\n",
       "  </tbody>\n",
       "</table>\n",
       "</div>"
      ],
      "text/plain": [
       "                                       QUESTION_TEXT             OPT_TEXT  \\\n",
       "0  <p>Our team members have adequate knowledge on...      Somewhat  agree   \n",
       "1  <p>In the face of difficulty our team members ...  Completely disagree   \n",
       "2  <p>Our team members deal conflict management c...  Completely disagree   \n",
       "3  <p>Our team members share their expertise and ...    Somewhat disagree   \n",
       "4  <p>Communication between our team members are ...  Completely disagree   \n",
       "\n",
       "  OPT_VALUE FIELD_VALUE COMMENT  SURVEY_DEF_ID  \n",
       "0         3        None                    203  \n",
       "1         1        None                    203  \n",
       "2         1        None                    203  \n",
       "3         2        None                    203  \n",
       "4         1        None                    203  "
      ]
     },
     "execution_count": 120,
     "metadata": {},
     "output_type": "execute_result"
    }
   ],
   "source": [
    "royal.head()"
   ]
  },
  {
   "cell_type": "code",
   "execution_count": 123,
   "metadata": {
    "collapsed": false
   },
   "outputs": [
    {
     "data": {
      "text/plain": [
       "Index([u'QUESTION_TEXT', u'OPT_TEXT', u'OPT_VALUE', u'FIELD_VALUE', u'COMMENT',\n",
       "       u'SURVEY_DEF_ID'],\n",
       "      dtype='object')"
      ]
     },
     "execution_count": 123,
     "metadata": {},
     "output_type": "execute_result"
    }
   ],
   "source": [
    "royal.columns"
   ]
  },
  {
   "cell_type": "code",
   "execution_count": 139,
   "metadata": {
    "collapsed": false
   },
   "outputs": [
    {
     "data": {
      "text/html": [
       "<div>\n",
       "<table border=\"1\" class=\"dataframe\">\n",
       "  <thead>\n",
       "    <tr style=\"text-align: right;\">\n",
       "      <th></th>\n",
       "      <th>SD_ID</th>\n",
       "      <th>SURVEY_TEMPLATE_TITLE</th>\n",
       "      <th>DESCRIPTION</th>\n",
       "      <th>AUTO_REMINDER_PATTERN</th>\n",
       "      <th>START_DATE</th>\n",
       "      <th>END_DATE</th>\n",
       "      <th>EMAIL_INVITATION_TEMPLATE</th>\n",
       "      <th>IS_PUBLIC</th>\n",
       "      <th>SURVEY_THEME</th>\n",
       "      <th>AUTO_REMINDER_SENT_LAST_DATE</th>\n",
       "      <th>LOGO</th>\n",
       "      <th>GEN_DATE</th>\n",
       "      <th>STATUS</th>\n",
       "      <th>PTM_ID</th>\n",
       "      <th>PS_ID</th>\n",
       "      <th>TYPE_ID</th>\n",
       "      <th>TARGET_COMPLETE_DURATION</th>\n",
       "    </tr>\n",
       "  </thead>\n",
       "  <tbody>\n",
       "    <tr>\n",
       "      <th>0</th>\n",
       "      <td>203</td>\n",
       "      <td>Rajeev Sharma</td>\n",
       "      <td>&lt;p style=\"text-align:justify\"&gt;Dear Participant...</td>\n",
       "      <td>0</td>\n",
       "      <td>2016-10-05</td>\n",
       "      <td>2016-10-10 23:59:59</td>\n",
       "      <td></td>\n",
       "      <td>0</td>\n",
       "      <td>THEME-2</td>\n",
       "      <td>None</td>\n",
       "      <td>None</td>\n",
       "      <td>2016-10-04 15:01:03</td>\n",
       "      <td>Y</td>\n",
       "      <td>18</td>\n",
       "      <td>63</td>\n",
       "      <td>1</td>\n",
       "      <td>None</td>\n",
       "    </tr>\n",
       "    <tr>\n",
       "      <th>1</th>\n",
       "      <td>204</td>\n",
       "      <td>Arul Prabu</td>\n",
       "      <td>&lt;p style=\"text-align:justify\"&gt;Dear Participant...</td>\n",
       "      <td>0</td>\n",
       "      <td>2016-10-05</td>\n",
       "      <td>2016-10-08 23:59:59</td>\n",
       "      <td></td>\n",
       "      <td>0</td>\n",
       "      <td>THEME-2</td>\n",
       "      <td>None</td>\n",
       "      <td>None</td>\n",
       "      <td>2016-10-04 15:04:32</td>\n",
       "      <td>Y</td>\n",
       "      <td>18</td>\n",
       "      <td>63</td>\n",
       "      <td>1</td>\n",
       "      <td>None</td>\n",
       "    </tr>\n",
       "    <tr>\n",
       "      <th>2</th>\n",
       "      <td>205</td>\n",
       "      <td>Meenakshi</td>\n",
       "      <td>&lt;p style=\"text-align:justify\"&gt;Dear Participant...</td>\n",
       "      <td>0</td>\n",
       "      <td>2016-10-05</td>\n",
       "      <td>2016-10-11 23:59:59</td>\n",
       "      <td></td>\n",
       "      <td>0</td>\n",
       "      <td>THEME-2</td>\n",
       "      <td>None</td>\n",
       "      <td>None</td>\n",
       "      <td>2016-10-04 15:06:58</td>\n",
       "      <td>Y</td>\n",
       "      <td>18</td>\n",
       "      <td>63</td>\n",
       "      <td>1</td>\n",
       "      <td>None</td>\n",
       "    </tr>\n",
       "    <tr>\n",
       "      <th>3</th>\n",
       "      <td>206</td>\n",
       "      <td>Piyush Arya</td>\n",
       "      <td>&lt;p style=\"text-align:justify\"&gt;Dear Participant...</td>\n",
       "      <td>0</td>\n",
       "      <td>2016-10-05</td>\n",
       "      <td>2016-10-10 23:59:59</td>\n",
       "      <td></td>\n",
       "      <td>0</td>\n",
       "      <td>THEME-2</td>\n",
       "      <td>None</td>\n",
       "      <td>None</td>\n",
       "      <td>2016-10-04 15:08:55</td>\n",
       "      <td>Y</td>\n",
       "      <td>18</td>\n",
       "      <td>63</td>\n",
       "      <td>1</td>\n",
       "      <td>None</td>\n",
       "    </tr>\n",
       "    <tr>\n",
       "      <th>4</th>\n",
       "      <td>207</td>\n",
       "      <td>Parul Sharma</td>\n",
       "      <td>&lt;p style=\"text-align:justify\"&gt;Dear Participant...</td>\n",
       "      <td>0</td>\n",
       "      <td>2016-10-05</td>\n",
       "      <td>2016-10-10 23:59:59</td>\n",
       "      <td></td>\n",
       "      <td>0</td>\n",
       "      <td>THEME-2</td>\n",
       "      <td>None</td>\n",
       "      <td>None</td>\n",
       "      <td>2016-10-04 15:09:42</td>\n",
       "      <td>Y</td>\n",
       "      <td>18</td>\n",
       "      <td>63</td>\n",
       "      <td>1</td>\n",
       "      <td>None</td>\n",
       "    </tr>\n",
       "  </tbody>\n",
       "</table>\n",
       "</div>"
      ],
      "text/plain": [
       "   SD_ID SURVEY_TEMPLATE_TITLE  \\\n",
       "0    203         Rajeev Sharma   \n",
       "1    204            Arul Prabu   \n",
       "2    205             Meenakshi   \n",
       "3    206           Piyush Arya   \n",
       "4    207          Parul Sharma   \n",
       "\n",
       "                                         DESCRIPTION AUTO_REMINDER_PATTERN  \\\n",
       "0  <p style=\"text-align:justify\">Dear Participant...                     0   \n",
       "1  <p style=\"text-align:justify\">Dear Participant...                     0   \n",
       "2  <p style=\"text-align:justify\">Dear Participant...                     0   \n",
       "3  <p style=\"text-align:justify\">Dear Participant...                     0   \n",
       "4  <p style=\"text-align:justify\">Dear Participant...                     0   \n",
       "\n",
       "   START_DATE            END_DATE EMAIL_INVITATION_TEMPLATE  IS_PUBLIC  \\\n",
       "0  2016-10-05 2016-10-10 23:59:59                                    0   \n",
       "1  2016-10-05 2016-10-08 23:59:59                                    0   \n",
       "2  2016-10-05 2016-10-11 23:59:59                                    0   \n",
       "3  2016-10-05 2016-10-10 23:59:59                                    0   \n",
       "4  2016-10-05 2016-10-10 23:59:59                                    0   \n",
       "\n",
       "  SURVEY_THEME AUTO_REMINDER_SENT_LAST_DATE  LOGO            GEN_DATE STATUS  \\\n",
       "0      THEME-2                         None  None 2016-10-04 15:01:03      Y   \n",
       "1      THEME-2                         None  None 2016-10-04 15:04:32      Y   \n",
       "2      THEME-2                         None  None 2016-10-04 15:06:58      Y   \n",
       "3      THEME-2                         None  None 2016-10-04 15:08:55      Y   \n",
       "4      THEME-2                         None  None 2016-10-04 15:09:42      Y   \n",
       "\n",
       "   PTM_ID  PS_ID  TYPE_ID TARGET_COMPLETE_DURATION  \n",
       "0      18     63        1                     None  \n",
       "1      18     63        1                     None  \n",
       "2      18     63        1                     None  \n",
       "3      18     63        1                     None  \n",
       "4      18     63        1                     None  "
      ]
     },
     "execution_count": 139,
     "metadata": {},
     "output_type": "execute_result"
    }
   ],
   "source": [
    "survey.head()"
   ]
  },
  {
   "cell_type": "code",
   "execution_count": 135,
   "metadata": {
    "collapsed": false
   },
   "outputs": [],
   "source": [
    "#royal.drop(['SURVEY_DEF_ID'],axis=1,inplace=True)"
   ]
  },
  {
   "cell_type": "code",
   "execution_count": 136,
   "metadata": {
    "collapsed": false
   },
   "outputs": [],
   "source": [
    "user_203 = royal[royal.SURVEY_DEF_ID == 203]"
   ]
  },
  {
   "cell_type": "code",
   "execution_count": 137,
   "metadata": {
    "collapsed": false
   },
   "outputs": [
    {
     "name": "stderr",
     "output_type": "stream",
     "text": [
      "c:\\python27\\lib\\site-packages\\ipykernel\\__main__.py:1: SettingWithCopyWarning: \n",
      "A value is trying to be set on a copy of a slice from a DataFrame\n",
      "\n",
      "See the caveats in the documentation: http://pandas.pydata.org/pandas-docs/stable/indexing.html#indexing-view-versus-copy\n",
      "  if __name__ == '__main__':\n"
     ]
    }
   ],
   "source": [
    "user_203.drop(['SURVEY_DEF_ID'],axis=1,inplace=True)"
   ]
  },
  {
   "cell_type": "code",
   "execution_count": 140,
   "metadata": {
    "collapsed": false
   },
   "outputs": [
    {
     "data": {
      "text/html": [
       "<div>\n",
       "<table border=\"1\" class=\"dataframe\">\n",
       "  <thead>\n",
       "    <tr style=\"text-align: right;\">\n",
       "      <th></th>\n",
       "      <th>QUESTION_TEXT</th>\n",
       "      <th>OPT_TEXT</th>\n",
       "      <th>OPT_VALUE</th>\n",
       "      <th>FIELD_VALUE</th>\n",
       "      <th>COMMENT</th>\n",
       "    </tr>\n",
       "  </thead>\n",
       "  <tbody>\n",
       "    <tr>\n",
       "      <th>0</th>\n",
       "      <td>&lt;p&gt;Our team members have adequate knowledge on...</td>\n",
       "      <td>Somewhat  agree</td>\n",
       "      <td>3</td>\n",
       "      <td>None</td>\n",
       "      <td></td>\n",
       "    </tr>\n",
       "    <tr>\n",
       "      <th>1</th>\n",
       "      <td>&lt;p&gt;In the face of difficulty our team members ...</td>\n",
       "      <td>Completely disagree</td>\n",
       "      <td>1</td>\n",
       "      <td>None</td>\n",
       "      <td></td>\n",
       "    </tr>\n",
       "    <tr>\n",
       "      <th>2</th>\n",
       "      <td>&lt;p&gt;Our team members deal conflict management c...</td>\n",
       "      <td>Completely disagree</td>\n",
       "      <td>1</td>\n",
       "      <td>None</td>\n",
       "      <td></td>\n",
       "    </tr>\n",
       "    <tr>\n",
       "      <th>3</th>\n",
       "      <td>&lt;p&gt;Our team members share their expertise and ...</td>\n",
       "      <td>Somewhat disagree</td>\n",
       "      <td>2</td>\n",
       "      <td>None</td>\n",
       "      <td></td>\n",
       "    </tr>\n",
       "    <tr>\n",
       "      <th>4</th>\n",
       "      <td>&lt;p&gt;Communication between our team members are ...</td>\n",
       "      <td>Completely disagree</td>\n",
       "      <td>1</td>\n",
       "      <td>None</td>\n",
       "      <td></td>\n",
       "    </tr>\n",
       "    <tr>\n",
       "      <th>5</th>\n",
       "      <td>&lt;p&gt;There is excellent teamwork in the team&lt;/p&gt;</td>\n",
       "      <td>Completely disagree</td>\n",
       "      <td>1</td>\n",
       "      <td>None</td>\n",
       "      <td></td>\n",
       "    </tr>\n",
       "    <tr>\n",
       "      <th>6</th>\n",
       "      <td>&lt;p&gt;HR team at Royal Enfield has a meaningful a...</td>\n",
       "      <td>Somewhat  agree</td>\n",
       "      <td>3</td>\n",
       "      <td>None</td>\n",
       "      <td></td>\n",
       "    </tr>\n",
       "    <tr>\n",
       "      <th>7</th>\n",
       "      <td>&lt;p&gt;When conflict arises team members discuss i...</td>\n",
       "      <td>Somewhat disagree</td>\n",
       "      <td>2</td>\n",
       "      <td>None</td>\n",
       "      <td></td>\n",
       "    </tr>\n",
       "    <tr>\n",
       "      <th>8</th>\n",
       "      <td>&lt;p&gt;Team members are strongly committed to a sh...</td>\n",
       "      <td>Somewhat  agree</td>\n",
       "      <td>3</td>\n",
       "      <td>None</td>\n",
       "      <td></td>\n",
       "    </tr>\n",
       "    <tr>\n",
       "      <th>9</th>\n",
       "      <td>&lt;p&gt;Which of the following element you wish to ...</td>\n",
       "      <td>None</td>\n",
       "      <td>None</td>\n",
       "      <td>Collaboration \\r\\nCommitment to Collective Goals</td>\n",
       "      <td></td>\n",
       "    </tr>\n",
       "    <tr>\n",
       "      <th>10</th>\n",
       "      <td>&lt;p&gt;Which of the following element is your core...</td>\n",
       "      <td>None</td>\n",
       "      <td>None</td>\n",
       "      <td>Commitment to Collective Goals\\r\\nCollaboration</td>\n",
       "      <td></td>\n",
       "    </tr>\n",
       "  </tbody>\n",
       "</table>\n",
       "</div>"
      ],
      "text/plain": [
       "                                        QUESTION_TEXT             OPT_TEXT  \\\n",
       "0   <p>Our team members have adequate knowledge on...      Somewhat  agree   \n",
       "1   <p>In the face of difficulty our team members ...  Completely disagree   \n",
       "2   <p>Our team members deal conflict management c...  Completely disagree   \n",
       "3   <p>Our team members share their expertise and ...    Somewhat disagree   \n",
       "4   <p>Communication between our team members are ...  Completely disagree   \n",
       "5      <p>There is excellent teamwork in the team</p>  Completely disagree   \n",
       "6   <p>HR team at Royal Enfield has a meaningful a...      Somewhat  agree   \n",
       "7   <p>When conflict arises team members discuss i...    Somewhat disagree   \n",
       "8   <p>Team members are strongly committed to a sh...      Somewhat  agree   \n",
       "9   <p>Which of the following element you wish to ...                 None   \n",
       "10  <p>Which of the following element is your core...                 None   \n",
       "\n",
       "   OPT_VALUE                                       FIELD_VALUE COMMENT  \n",
       "0          3                                              None          \n",
       "1          1                                              None          \n",
       "2          1                                              None          \n",
       "3          2                                              None          \n",
       "4          1                                              None          \n",
       "5          1                                              None          \n",
       "6          3                                              None          \n",
       "7          2                                              None          \n",
       "8          3                                              None          \n",
       "9       None  Collaboration \\r\\nCommitment to Collective Goals          \n",
       "10      None   Commitment to Collective Goals\\r\\nCollaboration          "
      ]
     },
     "execution_count": 140,
     "metadata": {},
     "output_type": "execute_result"
    }
   ],
   "source": [
    "user_203"
   ]
  },
  {
   "cell_type": "code",
   "execution_count": 141,
   "metadata": {
    "collapsed": false
   },
   "outputs": [],
   "source": [
    "name = survey[survey.SD_ID==203].SURVEY_TEMPLATE_TITLE.asobject[0]"
   ]
  },
  {
   "cell_type": "code",
   "execution_count": 142,
   "metadata": {
    "collapsed": false
   },
   "outputs": [
    {
     "name": "stdout",
     "output_type": "stream",
     "text": [
      "Rajeev Sharma\n"
     ]
    }
   ],
   "source": [
    "print name"
   ]
  },
  {
   "cell_type": "code",
   "execution_count": 143,
   "metadata": {
    "collapsed": false
   },
   "outputs": [],
   "source": [
    "user_203.to_excel(\"C:/Users/BNSPL-2/Documents/jupyter/survey_report/\"+name+\"-report.xlsx\",sheet_name='203')"
   ]
  },
  {
   "cell_type": "code",
   "execution_count": 146,
   "metadata": {
    "collapsed": false
   },
   "outputs": [
    {
     "name": "stdout",
     "output_type": "stream",
     "text": [
      "203\n",
      "204\n",
      "205\n",
      "206\n",
      "207\n",
      "208\n",
      "209\n",
      "210\n",
      "211\n",
      "212\n",
      "213\n",
      "214\n",
      "215\n",
      "216\n",
      "217\n",
      "218\n",
      "219\n",
      "220\n"
     ]
    }
   ],
   "source": [
    "for itr_user in range(203,221):\n",
    "    print itr_user"
   ]
  },
  {
   "cell_type": "code",
   "execution_count": 149,
   "metadata": {
    "collapsed": false
   },
   "outputs": [
    {
     "name": "stdout",
     "output_type": "stream",
     "text": [
      "203\n",
      "204\n",
      "205\n",
      "206\n"
     ]
    },
    {
     "name": "stderr",
     "output_type": "stream",
     "text": [
      "c:\\python27\\lib\\site-packages\\ipykernel\\__main__.py:4: SettingWithCopyWarning: \n",
      "A value is trying to be set on a copy of a slice from a DataFrame\n",
      "\n",
      "See the caveats in the documentation: http://pandas.pydata.org/pandas-docs/stable/indexing.html#indexing-view-versus-copy\n"
     ]
    },
    {
     "name": "stdout",
     "output_type": "stream",
     "text": [
      "207\n",
      "208\n",
      "209\n",
      "210\n",
      "211\n",
      "212\n",
      "213\n",
      "214\n",
      "215\n",
      "216\n",
      "217\n",
      "218\n",
      "219\n",
      "220\n"
     ]
    }
   ],
   "source": [
    "for itr_user in range(203,221):\n",
    "    print itr_user\n",
    "    user_itr = royal[royal.SURVEY_DEF_ID == itr_user]\n",
    "    user_itr.drop(['SURVEY_DEF_ID'],axis=1,inplace=True)\n",
    "    user_itr_name = survey[survey.SD_ID==itr_user].SURVEY_TEMPLATE_TITLE.asobject[0]\n",
    "    user_itr.to_excel(\"C:/Users/BNSPL-2/Documents/jupyter/survey_report/\"+user_itr_name+\"-report.xlsx\",sheet_name='Response Report')"
   ]
  },
  {
   "cell_type": "code",
   "execution_count": null,
   "metadata": {
    "collapsed": true
   },
   "outputs": [],
   "source": []
  }
 ],
 "metadata": {
  "kernelspec": {
   "display_name": "Python 2",
   "language": "python",
   "name": "python2"
  },
  "language_info": {
   "codemirror_mode": {
    "name": "ipython",
    "version": 2
   },
   "file_extension": ".py",
   "mimetype": "text/x-python",
   "name": "python",
   "nbconvert_exporter": "python",
   "pygments_lexer": "ipython2",
   "version": "2.7.12"
  }
 },
 "nbformat": 4,
 "nbformat_minor": 1
}
