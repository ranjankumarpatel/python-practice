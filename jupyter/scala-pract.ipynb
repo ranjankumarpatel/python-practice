{
 "cells": [
  {
   "cell_type": "code",
   "execution_count": 1,
   "metadata": {
    "collapsed": false
   },
   "outputs": [
    {
     "name": "stdout",
     "output_type": "stream",
     "text": [
      "h\n",
      "e\n",
      "l\n",
      "l\n",
      "o\n"
     ]
    },
    {
     "data": {
      "text/plain": []
     },
     "metadata": {},
     "output_type": "display_data"
    }
   ],
   "source": [
    "\"hello\".foreach(println)"
   ]
  },
  {
   "cell_type": "code",
   "execution_count": 2,
   "metadata": {
    "collapsed": false
   },
   "outputs": [
    {
     "name": "stdout",
     "output_type": "stream",
     "text": [
      "h\n",
      "e\n",
      "l\n",
      "l\n",
      "o\n"
     ]
    },
    {
     "data": {
      "text/plain": []
     },
     "metadata": {},
     "output_type": "display_data"
    }
   ],
   "source": [
    "for (c <- \"hello\") println(c)"
   ]
  },
  {
   "cell_type": "code",
   "execution_count": 3,
   "metadata": {
    "collapsed": false
   },
   "outputs": [
    {
     "data": {
      "text/plain": [
       "\u001b[36mres2\u001b[0m: \u001b[32mString\u001b[0m = \u001b[32m\"heo word\"\u001b[0m"
      ]
     },
     "metadata": {},
     "output_type": "display_data"
    }
   ],
   "source": [
    "\"hello world\".filter(_ != 'l')"
   ]
  },
  {
   "cell_type": "code",
   "execution_count": 5,
   "metadata": {
    "collapsed": false
   },
   "outputs": [
    {
     "data": {
      "text/plain": [
       "\u001b[36mres4\u001b[0m: \u001b[32mcollection\u001b[0m.\u001b[32mimmutable\u001b[0m.\u001b[32mIndexedSeq\u001b[0m[\u001b[32mBoolean\u001b[0m] = \u001b[33mVector\u001b[0m(\u001b[32mtrue\u001b[0m, \u001b[32mtrue\u001b[0m, \u001b[32mfalse\u001b[0m, \u001b[32mfalse\u001b[0m, \u001b[32mtrue\u001b[0m, \u001b[32mtrue\u001b[0m, \u001b[32mtrue\u001b[0m, \u001b[32mtrue\u001b[0m, \u001b[32mtrue\u001b[0m, \u001b[32mfalse\u001b[0m, \u001b[32mtrue\u001b[0m)"
      ]
     },
     "metadata": {},
     "output_type": "display_data"
    }
   ],
   "source": [
    "\"hello world\".map(x=> x != 'l')"
   ]
  },
  {
   "cell_type": "code",
   "execution_count": 6,
   "metadata": {
    "collapsed": false
   },
   "outputs": [
    {
     "data": {
      "text/plain": [
       "\u001b[36mfoo\u001b[0m: \u001b[32mString\u001b[0m = \u001b[32m\"\"\"\n",
       "This is\n",
       "a multiline\n",
       "String\n",
       "\"\"\"\u001b[0m"
      ]
     },
     "metadata": {},
     "output_type": "display_data"
    }
   ],
   "source": [
    "val foo = \"\"\"This is\n",
    "a multiline\n",
    "String\"\"\""
   ]
  },
  {
   "cell_type": "code",
   "execution_count": 9,
   "metadata": {
    "collapsed": false
   },
   "outputs": [
    {
     "data": {
      "text/plain": [
       "\u001b[36mres8\u001b[0m: \u001b[32mString\u001b[0m = \u001b[32m\"\"\"\n",
       "This is\n",
       "a multiline\n",
       "String\n",
       "\"\"\"\u001b[0m"
      ]
     },
     "metadata": {},
     "output_type": "display_data"
    }
   ],
   "source": [
    "foo.stripMargin"
   ]
  },
  {
   "cell_type": "code",
   "execution_count": 10,
   "metadata": {
    "collapsed": false
   },
   "outputs": [
    {
     "data": {
      "text/plain": [
       "\u001b[36mres9\u001b[0m: \u001b[32mString\u001b[0m = \u001b[32m\"\"\"\n",
       "Four score and\n",
       "seven years ago\n",
       "\"\"\"\u001b[0m"
      ]
     },
     "metadata": {},
     "output_type": "display_data"
    }
   ],
   "source": [
    "\"\"\"Four score and\n",
    "|seven years ago\"\"\".stripMargin"
   ]
  },
  {
   "cell_type": "code",
   "execution_count": 11,
   "metadata": {
    "collapsed": false,
    "scrolled": true
   },
   "outputs": [
    {
     "data": {
      "text/plain": [
       "\u001b[36mres10\u001b[0m: \u001b[32mString\u001b[0m = \u001b[32m\"\"\"\n",
       "Four score and\n",
       "seven years ago\n",
       "\"\"\"\u001b[0m"
      ]
     },
     "metadata": {},
     "output_type": "display_data"
    }
   ],
   "source": [
    "\"\"\"Four score and\n",
    "#seven years ago\"\"\".stripMargin('#')"
   ]
  },
  {
   "cell_type": "code",
   "execution_count": 12,
   "metadata": {
    "collapsed": false,
    "scrolled": true
   },
   "outputs": [
    {
     "data": {
      "text/plain": [
       "\u001b[36mres11\u001b[0m: \u001b[32mString\u001b[0m = \u001b[32m\"Four score and seven years ago our fathers\"\u001b[0m"
      ]
     },
     "metadata": {},
     "output_type": "display_data"
    }
   ],
   "source": [
    "\"\"\"Four score and\n",
    "|seven years ago\n",
    "|our fathers\"\"\".stripMargin.replaceAll(\"\\n\", \" \")"
   ]
  },
  {
   "cell_type": "code",
   "execution_count": 13,
   "metadata": {
    "collapsed": false
   },
   "outputs": [
    {
     "data": {
      "text/plain": [
       "\u001b[36mres12\u001b[0m: \u001b[32mString\u001b[0m = \u001b[32m\"\"\"\n",
       "This is known as a \"multiline\" string or 'heredoc' syntax.\n",
       "\"\"\"\u001b[0m"
      ]
     },
     "metadata": {},
     "output_type": "display_data"
    }
   ],
   "source": [
    "\"\"\"This is known as a\n",
    "|\"multiline\" string\n",
    "|or 'heredoc' syntax.\"\"\". stripMargin.replaceAll(\"\\n\", \" \")"
   ]
  },
  {
   "cell_type": "code",
   "execution_count": 1,
   "metadata": {
    "collapsed": false
   },
   "outputs": [
    {
     "name": "stdout",
     "output_type": "stream",
     "text": [
      "hello\n",
      "world\n"
     ]
    },
    {
     "data": {
      "text/plain": []
     },
     "metadata": {},
     "output_type": "display_data"
    }
   ],
   "source": [
    "\"hello world\".split(\" \").foreach(println)"
   ]
  },
  {
   "cell_type": "code",
   "execution_count": 3,
   "metadata": {
    "collapsed": false
   },
   "outputs": [
    {
     "name": "stdout",
     "output_type": "stream",
     "text": [
      "hello1\n",
      "world1\n"
     ]
    },
    {
     "data": {
      "text/plain": []
     },
     "metadata": {},
     "output_type": "display_data"
    }
   ],
   "source": [
    "\"hello world\".split(\" \").foreach(x => println(x+1))"
   ]
  },
  {
   "cell_type": "code",
   "execution_count": 4,
   "metadata": {
    "collapsed": false
   },
   "outputs": [
    {
     "data": {
      "text/plain": [
       "\u001b[36ms\u001b[0m: \u001b[32mString\u001b[0m = \u001b[32m\"eggs, milk, butter, Coco Puffs\"\u001b[0m"
      ]
     },
     "metadata": {},
     "output_type": "display_data"
    }
   ],
   "source": [
    "val s = \"eggs, milk, butter, Coco Puffs\""
   ]
  },
  {
   "cell_type": "code",
   "execution_count": 5,
   "metadata": {
    "collapsed": false
   },
   "outputs": [
    {
     "data": {
      "text/plain": [
       "\u001b[36mres4\u001b[0m: \u001b[32mString\u001b[0m = \u001b[32m\"eggs, milk, butter, Coco Puffs\"\u001b[0m"
      ]
     },
     "metadata": {},
     "output_type": "display_data"
    }
   ],
   "source": [
    "s"
   ]
  },
  {
   "cell_type": "code",
   "execution_count": 6,
   "metadata": {
    "collapsed": false
   },
   "outputs": [
    {
     "data": {
      "text/plain": [
       "\u001b[36mres5\u001b[0m: \u001b[32mArray\u001b[0m[\u001b[32mString\u001b[0m] = \u001b[33mArray\u001b[0m(\u001b[32m\"eggs\"\u001b[0m, \u001b[32m\" milk\"\u001b[0m, \u001b[32m\" butter\"\u001b[0m, \u001b[32m\" Coco Puffs\"\u001b[0m)"
      ]
     },
     "metadata": {},
     "output_type": "display_data"
    }
   ],
   "source": [
    "s.split(\",\")"
   ]
  },
  {
   "cell_type": "code",
   "execution_count": 7,
   "metadata": {
    "collapsed": false
   },
   "outputs": [
    {
     "data": {
      "text/plain": [
       "\u001b[36mres6\u001b[0m: \u001b[32mArray\u001b[0m[\u001b[32mString\u001b[0m] = \u001b[33mArray\u001b[0m(\u001b[32m\"eggs\"\u001b[0m, \u001b[32m\"milk\"\u001b[0m, \u001b[32m\"butter\"\u001b[0m, \u001b[32m\"Coco Puffs\"\u001b[0m)"
      ]
     },
     "metadata": {},
     "output_type": "display_data"
    }
   ],
   "source": [
    "s.split(\",\").map(x => x.trim())"
   ]
  },
  {
   "cell_type": "code",
   "execution_count": 8,
   "metadata": {
    "collapsed": false
   },
   "outputs": [
    {
     "data": {
      "text/plain": [
       "\u001b[36mres7\u001b[0m: \u001b[32mArray\u001b[0m[\u001b[32mString\u001b[0m] = \u001b[33mArray\u001b[0m(\u001b[32m\"eggs\"\u001b[0m, \u001b[32m\"milk\"\u001b[0m, \u001b[32m\"butter\"\u001b[0m, \u001b[32m\"Coco Puffs\"\u001b[0m)"
      ]
     },
     "metadata": {},
     "output_type": "display_data"
    }
   ],
   "source": [
    "s.split(\",\").map(_.trim)"
   ]
  },
  {
   "cell_type": "code",
   "execution_count": 9,
   "metadata": {
    "collapsed": false
   },
   "outputs": [
    {
     "data": {
      "text/plain": [
       "\u001b[36mres8\u001b[0m: \u001b[32mArray\u001b[0m[\u001b[32mString\u001b[0m] = \u001b[33mArray\u001b[0m(\u001b[32m\"hello\"\u001b[0m, \u001b[32m\"world,\"\u001b[0m, \u001b[32m\"this\"\u001b[0m, \u001b[32m\"is\"\u001b[0m, \u001b[32m\"Al\"\u001b[0m)"
      ]
     },
     "metadata": {},
     "output_type": "display_data"
    }
   ],
   "source": [
    "\"hello world, this is Al\".split(\"\\\\s+\")"
   ]
  },
  {
   "cell_type": "code",
   "execution_count": 1,
   "metadata": {
    "collapsed": false
   },
   "outputs": [
    {
     "data": {
      "text/plain": [
       "\u001b[36mname\u001b[0m: \u001b[32mString\u001b[0m = \u001b[32m\"Fred\"\u001b[0m\n",
       "\u001b[36mage\u001b[0m: \u001b[32mInt\u001b[0m = \u001b[32m33\u001b[0m\n",
       "\u001b[36mweight\u001b[0m: \u001b[32mDouble\u001b[0m = \u001b[32m200.0\u001b[0m"
      ]
     },
     "metadata": {},
     "output_type": "display_data"
    }
   ],
   "source": [
    "val name = \"Fred\"\n",
    "val age = 33\n",
    "val weight = 200.00"
   ]
  },
  {
   "cell_type": "code",
   "execution_count": 2,
   "metadata": {
    "collapsed": false
   },
   "outputs": [
    {
     "name": "stdout",
     "output_type": "stream",
     "text": [
      "Fred is 33 years old, and weighs 200.0 pounds.\n"
     ]
    },
    {
     "data": {
      "text/plain": []
     },
     "metadata": {},
     "output_type": "display_data"
    }
   ],
   "source": [
    "println(s\"$name is $age years old, and weighs $weight pounds.\")"
   ]
  },
  {
   "cell_type": "code",
   "execution_count": 3,
   "metadata": {
    "collapsed": false
   },
   "outputs": [
    {
     "name": "stdout",
     "output_type": "stream",
     "text": [
      "1 + 1 = 2\n"
     ]
    },
    {
     "data": {
      "text/plain": []
     },
     "metadata": {},
     "output_type": "display_data"
    }
   ],
   "source": [
    "println(s\"1 + 1 = ${1 + 1}\")"
   ]
  },
  {
   "cell_type": "code",
   "execution_count": 4,
   "metadata": {
    "collapsed": false
   },
   "outputs": [
    {
     "name": "stdout",
     "output_type": "stream",
     "text": [
      "Age next year: 34\n"
     ]
    },
    {
     "data": {
      "text/plain": []
     },
     "metadata": {},
     "output_type": "display_data"
    }
   ],
   "source": [
    "println(s\"Age next year: ${age + 1}\")"
   ]
  },
  {
   "cell_type": "code",
   "execution_count": 5,
   "metadata": {
    "collapsed": false
   },
   "outputs": [
    {
     "name": "stdout",
     "output_type": "stream",
     "text": [
      "You are 33 years old: true\n"
     ]
    },
    {
     "data": {
      "text/plain": []
     },
     "metadata": {},
     "output_type": "display_data"
    }
   ],
   "source": [
    "println(s\"You are 33 years old: ${age == 33}\")"
   ]
  },
  {
   "cell_type": "code",
   "execution_count": 6,
   "metadata": {
    "collapsed": false
   },
   "outputs": [
    {
     "data": {
      "text/plain": [
       "defined \u001b[32mclass \u001b[36mStudent\u001b[0m"
      ]
     },
     "metadata": {},
     "output_type": "display_data"
    }
   ],
   "source": [
    "case class Student(name: String, score: Int)"
   ]
  },
  {
   "cell_type": "code",
   "execution_count": 7,
   "metadata": {
    "collapsed": false
   },
   "outputs": [
    {
     "data": {
      "text/plain": [
       "\u001b[36mhannah\u001b[0m: \u001b[32mStudent\u001b[0m = \u001b[33mStudent\u001b[0m(\u001b[32m\"Hannah\"\u001b[0m, \u001b[32m95\u001b[0m)"
      ]
     },
     "metadata": {},
     "output_type": "display_data"
    }
   ],
   "source": [
    "val hannah = Student(\"Hannah\", 95)"
   ]
  },
  {
   "cell_type": "code",
   "execution_count": 8,
   "metadata": {
    "collapsed": false
   },
   "outputs": [
    {
     "name": "stdout",
     "output_type": "stream",
     "text": [
      "Hannah has a score of 95\n"
     ]
    },
    {
     "data": {
      "text/plain": []
     },
     "metadata": {},
     "output_type": "display_data"
    }
   ],
   "source": [
    "println(s\"${hannah.name} has a score of ${hannah.score}\")"
   ]
  },
  {
   "cell_type": "code",
   "execution_count": 9,
   "metadata": {
    "collapsed": false
   },
   "outputs": [
    {
     "name": "stdout",
     "output_type": "stream",
     "text": [
      "Student(Hannah,95).name has a score of Student(Hannah,95).score\n"
     ]
    },
    {
     "data": {
      "text/plain": []
     },
     "metadata": {},
     "output_type": "display_data"
    }
   ],
   "source": [
    "// error: this is intentionally wrong\n",
    "println(s\"$hannah.name has a score of $hannah.score\")"
   ]
  },
  {
   "cell_type": "code",
   "execution_count": 10,
   "metadata": {
    "collapsed": false
   },
   "outputs": [
    {
     "data": {
      "text/plain": [
       "\u001b[36ms\u001b[0m: \u001b[32mString\u001b[0m = \u001b[32m\"Fred has a score of 33\"\u001b[0m"
      ]
     },
     "metadata": {},
     "output_type": "display_data"
    }
   ],
   "source": [
    "val s = \"%s has a score of %d\".format(name, age)"
   ]
  },
  {
   "cell_type": "code",
   "execution_count": 11,
   "metadata": {
    "collapsed": false
   },
   "outputs": [
    {
     "data": {
      "text/plain": [
       "\u001b[36mres10\u001b[0m: \u001b[32mString\u001b[0m = \u001b[32m\"HELLO, WORLD\"\u001b[0m"
      ]
     },
     "metadata": {},
     "output_type": "display_data"
    }
   ],
   "source": [
    "\"hello, world\".map(c => c.toUpper)"
   ]
  },
  {
   "cell_type": "code",
   "execution_count": 12,
   "metadata": {
    "collapsed": false
   },
   "outputs": [
    {
     "data": {
      "text/plain": [
       "\u001b[36mres11\u001b[0m: \u001b[32mString\u001b[0m = \u001b[32m\"HELLO, WORLD\"\u001b[0m"
      ]
     },
     "metadata": {},
     "output_type": "display_data"
    }
   ],
   "source": [
    "\"hello, world\".map(_.toUpper)"
   ]
  },
  {
   "cell_type": "code",
   "execution_count": 13,
   "metadata": {
    "collapsed": false
   },
   "outputs": [
    {
     "data": {
      "text/plain": [
       "\u001b[36mres12\u001b[0m: \u001b[32mString\u001b[0m = \u001b[32m\"hello, world\"\u001b[0m"
      ]
     },
     "metadata": {},
     "output_type": "display_data"
    }
   ],
   "source": [
    "\"hello, world\".intern"
   ]
  },
  {
   "cell_type": "code",
   "execution_count": 14,
   "metadata": {
    "collapsed": false
   },
   "outputs": [
    {
     "data": {
      "text/plain": [
       "\u001b[36mres13\u001b[0m: \u001b[32mString\u001b[0m = \u001b[32m\"HEO, WORD\"\u001b[0m"
      ]
     },
     "metadata": {},
     "output_type": "display_data"
    }
   ],
   "source": [
    "\"hello, world\".filter(_ != 'l').map(_.toUpper)"
   ]
  },
  {
   "cell_type": "code",
   "execution_count": 15,
   "metadata": {
    "collapsed": false
   },
   "outputs": [
    {
     "name": "stdout",
     "output_type": "stream",
     "text": [
      "h\n",
      "e\n",
      "l\n",
      "l\n",
      "o\n"
     ]
    },
    {
     "data": {
      "text/plain": []
     },
     "metadata": {},
     "output_type": "display_data"
    }
   ],
   "source": [
    "for (c <- \"hello\") println(c)"
   ]
  },
  {
   "cell_type": "code",
   "execution_count": 16,
   "metadata": {
    "collapsed": false
   },
   "outputs": [
    {
     "name": "stdout",
     "output_type": "stream",
     "text": [
      "hello\n",
      "world\n"
     ]
    },
    {
     "data": {
      "text/plain": []
     },
     "metadata": {},
     "output_type": "display_data"
    }
   ],
   "source": [
    "for (c <- Array(\"hello\",\"world\")) println(c)"
   ]
  },
  {
   "cell_type": "code",
   "execution_count": 17,
   "metadata": {
    "collapsed": false
   },
   "outputs": [
    {
     "data": {
      "text/plain": [
       "\u001b[36mres16\u001b[0m: \u001b[32mString\u001b[0m = \u001b[32m\"HELLO, WORLD\"\u001b[0m"
      ]
     },
     "metadata": {},
     "output_type": "display_data"
    }
   ],
   "source": [
    "for (c <- \"hello, world\") yield c.toUpper"
   ]
  },
  {
   "cell_type": "code",
   "execution_count": 18,
   "metadata": {
    "collapsed": false
   },
   "outputs": [
    {
     "data": {
      "text/plain": [
       "\u001b[36mresult\u001b[0m: \u001b[32mString\u001b[0m = \u001b[32m\"HEO, WORD\"\u001b[0m"
      ]
     },
     "metadata": {},
     "output_type": "display_data"
    }
   ],
   "source": [
    "val result = for {\n",
    "c <- \"hello, world\"\n",
    "if c != 'l'\n",
    "} yield c.toUpper"
   ]
  },
  {
   "cell_type": "code",
   "execution_count": 19,
   "metadata": {
    "collapsed": false
   },
   "outputs": [
    {
     "name": "stdout",
     "output_type": "stream",
     "text": [
      "h\n",
      "e\n",
      "l\n",
      "l\n",
      "o\n"
     ]
    },
    {
     "data": {
      "text/plain": []
     },
     "metadata": {},
     "output_type": "display_data"
    }
   ],
   "source": [
    "\"hello\".foreach(println)"
   ]
  },
  {
   "cell_type": "code",
   "execution_count": 20,
   "metadata": {
    "collapsed": false
   },
   "outputs": [
    {
     "data": {
      "text/plain": [
       "\u001b[36mres19\u001b[0m: \u001b[32mString\u001b[0m = \u001b[32m\"hello\"\u001b[0m"
      ]
     },
     "metadata": {},
     "output_type": "display_data"
    }
   ],
   "source": [
    "\"HELLO\".map(c => (c.toByte+32).toChar)"
   ]
  },
  {
   "cell_type": "code",
   "execution_count": 21,
   "metadata": {
    "collapsed": false
   },
   "outputs": [
    {
     "data": {
      "text/plain": [
       "\u001b[36mres20\u001b[0m: \u001b[32mString\u001b[0m = \u001b[32m\"hello\"\u001b[0m"
      ]
     },
     "metadata": {},
     "output_type": "display_data"
    }
   ],
   "source": [
    "\"HELLO\".map{ c =>\n",
    "(c.toByte+32).toChar\n",
    "}"
   ]
  },
  {
   "cell_type": "code",
   "execution_count": 22,
   "metadata": {
    "collapsed": false
   },
   "outputs": [
    {
     "data": {
      "text/plain": [
       "defined \u001b[32mfunction \u001b[36mtoLower\u001b[0m"
      ]
     },
     "metadata": {},
     "output_type": "display_data"
    }
   ],
   "source": [
    "def toLower(c: Char): Char = (c.toByte+32).toChar"
   ]
  },
  {
   "cell_type": "code",
   "execution_count": 23,
   "metadata": {
    "collapsed": false
   },
   "outputs": [
    {
     "data": {
      "text/plain": [
       "\u001b[36mres22\u001b[0m: \u001b[32mString\u001b[0m = \u001b[32m\"hello\"\u001b[0m"
      ]
     },
     "metadata": {},
     "output_type": "display_data"
    }
   ],
   "source": [
    "\"HELLO\".map(toLower)"
   ]
  },
  {
   "cell_type": "code",
   "execution_count": 24,
   "metadata": {
    "collapsed": false
   },
   "outputs": [
    {
     "data": {
      "text/plain": [
       "\u001b[36mres23\u001b[0m: \u001b[32mString\u001b[0m = \u001b[32m\"hello\"\u001b[0m"
      ]
     },
     "metadata": {},
     "output_type": "display_data"
    }
   ],
   "source": [
    "\"HELLO\".map(c => toLower(c))"
   ]
  },
  {
   "cell_type": "code",
   "execution_count": 25,
   "metadata": {
    "collapsed": false
   },
   "outputs": [
    {
     "data": {
      "text/plain": [
       "\u001b[36mres24\u001b[0m: \u001b[32mString\u001b[0m = \u001b[32m\"hello\"\u001b[0m"
      ]
     },
     "metadata": {},
     "output_type": "display_data"
    }
   ],
   "source": [
    "for (c <- \"HELLO\") yield toLower(c)"
   ]
  },
  {
   "cell_type": "code",
   "execution_count": 26,
   "metadata": {
    "collapsed": false
   },
   "outputs": [
    {
     "data": {
      "text/plain": [
       "\u001b[36mnumPattern\u001b[0m: \u001b[32mutil\u001b[0m.\u001b[32mmatching\u001b[0m.\u001b[32mRegex\u001b[0m = [0-9]+"
      ]
     },
     "metadata": {},
     "output_type": "display_data"
    }
   ],
   "source": [
    "val numPattern = \"[0-9]+\".r"
   ]
  },
  {
   "cell_type": "code",
   "execution_count": 28,
   "metadata": {
    "collapsed": false
   },
   "outputs": [
    {
     "data": {
      "text/plain": [
       "\u001b[36maddress\u001b[0m: \u001b[32mString\u001b[0m = \u001b[32m\"123 Main Street Suite 101\"\u001b[0m"
      ]
     },
     "metadata": {},
     "output_type": "display_data"
    }
   ],
   "source": [
    "val address = \"123 Main Street Suite 101\""
   ]
  },
  {
   "cell_type": "code",
   "execution_count": 29,
   "metadata": {
    "collapsed": false
   },
   "outputs": [
    {
     "data": {
      "text/plain": [
       "\u001b[36mres28\u001b[0m: \u001b[32mOption\u001b[0m[\u001b[32mString\u001b[0m] = \u001b[33mSome\u001b[0m(\u001b[32m\"123\"\u001b[0m)"
      ]
     },
     "metadata": {},
     "output_type": "display_data"
    }
   ],
   "source": [
    "numPattern.findFirstIn(address)"
   ]
  },
  {
   "cell_type": "code",
   "execution_count": 30,
   "metadata": {
    "collapsed": false
   },
   "outputs": [
    {
     "data": {
      "text/plain": [
       "\u001b[36mres29\u001b[0m: \u001b[32mutil\u001b[0m.\u001b[32mmatching\u001b[0m.\u001b[32mRegex\u001b[0m.\u001b[32mMatchIterator\u001b[0m = non-empty iterator"
      ]
     },
     "metadata": {},
     "output_type": "display_data"
    }
   ],
   "source": [
    "numPattern.findAllIn(address)"
   ]
  },
  {
   "cell_type": "code",
   "execution_count": 32,
   "metadata": {
    "collapsed": false
   },
   "outputs": [
    {
     "data": {
      "text/plain": [
       "\u001b[36mres31\u001b[0m: \u001b[32mArray\u001b[0m[\u001b[32mString\u001b[0m] = \u001b[33mArray\u001b[0m(\u001b[32m\"123\"\u001b[0m, \u001b[32m\"101\"\u001b[0m)"
      ]
     },
     "metadata": {},
     "output_type": "display_data"
    }
   ],
   "source": [
    "numPattern.findAllIn(address).toArray"
   ]
  },
  {
   "cell_type": "code",
   "execution_count": 33,
   "metadata": {
    "collapsed": false
   },
   "outputs": [
    {
     "data": {
      "text/plain": [
       "\u001b[36mpattern\u001b[0m: \u001b[32mutil\u001b[0m.\u001b[32mmatching\u001b[0m.\u001b[32mRegex\u001b[0m = ([0-9]+) ([A-Za-z]+)"
      ]
     },
     "metadata": {},
     "output_type": "display_data"
    }
   ],
   "source": [
    "val pattern = \"([0-9]+) ([A-Za-z]+)\".r"
   ]
  },
  {
   "cell_type": "code",
   "execution_count": 34,
   "metadata": {
    "collapsed": false
   },
   "outputs": [
    {
     "data": {
      "text/plain": [
       "\u001b[36mcount\u001b[0m: \u001b[32mString\u001b[0m = \u001b[32m\"100\"\u001b[0m\n",
       "\u001b[36mfruit\u001b[0m: \u001b[32mString\u001b[0m = \u001b[32m\"Bananas\"\u001b[0m"
      ]
     },
     "metadata": {},
     "output_type": "display_data"
    }
   ],
   "source": [
    "val pattern(count, fruit) = \"100 Bananas\""
   ]
  },
  {
   "cell_type": "code",
   "execution_count": 35,
   "metadata": {
    "collapsed": false
   },
   "outputs": [
    {
     "data": {
      "text/plain": [
       "\u001b[36mres34\u001b[0m: \u001b[32mString\u001b[0m = \u001b[32m\"100\"\u001b[0m"
      ]
     },
     "metadata": {},
     "output_type": "display_data"
    }
   ],
   "source": [
    "count"
   ]
  },
  {
   "cell_type": "code",
   "execution_count": 36,
   "metadata": {
    "collapsed": false
   },
   "outputs": [
    {
     "data": {
      "text/plain": [
       "\u001b[36mMoviesZipRE\u001b[0m: \u001b[32mutil\u001b[0m.\u001b[32mmatching\u001b[0m.\u001b[32mRegex\u001b[0m = movies (\\d{5})\n",
       "\u001b[36mMoviesNearCityStateRE\u001b[0m: \u001b[32mutil\u001b[0m.\u001b[32mmatching\u001b[0m.\u001b[32mRegex\u001b[0m = movies near ([a-z]+), ([a-z]{2})"
      ]
     },
     "metadata": {},
     "output_type": "display_data"
    }
   ],
   "source": [
    "val MoviesZipRE = \"movies (\\\\d{5})\".r\n",
    "val MoviesNearCityStateRE = \"movies near ([a-z]+), ([a-z]{2})\".r"
   ]
  },
  {
   "cell_type": "code",
   "execution_count": 43,
   "metadata": {
    "collapsed": false
   },
   "outputs": [
    {
     "data": {
      "text/plain": [
       "defined \u001b[32mfunction \u001b[36mgetSearchResults\u001b[0m"
      ]
     },
     "metadata": {},
     "output_type": "display_data"
    }
   ],
   "source": [
    "def getSearchResults(zip:String):Boolean = zip==\"80301\""
   ]
  },
  {
   "cell_type": "code",
   "execution_count": 46,
   "metadata": {
    "collapsed": false
   },
   "outputs": [
    {
     "data": {
      "text/plain": [
       "\u001b[36mtextUserTyped\u001b[0m: \u001b[32mString\u001b[0m = \u001b[32m\"movies 80301\"\u001b[0m"
      ]
     },
     "metadata": {},
     "output_type": "display_data"
    }
   ],
   "source": [
    "val textUserTyped = \"movies 80301\""
   ]
  },
  {
   "cell_type": "code",
   "execution_count": 47,
   "metadata": {
    "collapsed": false
   },
   "outputs": [
    {
     "data": {
      "text/plain": [
       "\u001b[36mres46\u001b[0m: \u001b[32mAnyVal\u001b[0m = true"
      ]
     },
     "metadata": {},
     "output_type": "display_data"
    }
   ],
   "source": [
    "textUserTyped match {\n",
    "case MoviesZipRE(zip) => getSearchResults(zip)\n",
    "//case MoviesNearCityStateRE(city, state) => getSearchResults(city, state)\n",
    "case _ => println(\"did not match a regex\")\n",
    "}"
   ]
  },
  {
   "cell_type": "code",
   "execution_count": 48,
   "metadata": {
    "collapsed": false
   },
   "outputs": [
    {
     "data": {
      "text/plain": [
       "\u001b[36ma\u001b[0m: \u001b[32mDouble\u001b[0m = \u001b[32m0.0\u001b[0m"
      ]
     },
     "metadata": {},
     "output_type": "display_data"
    }
   ],
   "source": [
    "val a = 0: Double"
   ]
  },
  {
   "cell_type": "code",
   "execution_count": 49,
   "metadata": {
    "collapsed": false
   },
   "outputs": [
    {
     "data": {
      "text/plain": [
       "\u001b[36mp\u001b[0m: \u001b[32mObject\u001b[0m = Fred has a score of 33"
      ]
     },
     "metadata": {},
     "output_type": "display_data"
    }
   ],
   "source": [
    "val p = s: Object"
   ]
  },
  {
   "cell_type": "code",
   "execution_count": 50,
   "metadata": {
    "collapsed": false
   },
   "outputs": [
    {
     "data": {
      "text/plain": [
       "defined \u001b[32mfunction \u001b[36m~=\u001b[0m"
      ]
     },
     "metadata": {},
     "output_type": "display_data"
    }
   ],
   "source": [
    "def ~=(x: Double, y: Double, precision: Double) = {\n",
    "if ((x - y).abs < precision) true else false\n",
    "}"
   ]
  },
  {
   "cell_type": "code",
   "execution_count": 51,
   "metadata": {
    "collapsed": false
   },
   "outputs": [
    {
     "data": {
      "text/plain": [
       "\u001b[36mb\u001b[0m: \u001b[32mBigInt\u001b[0m = 1234567890"
      ]
     },
     "metadata": {},
     "output_type": "display_data"
    }
   ],
   "source": [
    "var b = BigInt(1234567890)"
   ]
  },
  {
   "cell_type": "code",
   "execution_count": 52,
   "metadata": {
    "collapsed": false
   },
   "outputs": [
    {
     "data": {
      "text/plain": [
       "\u001b[36mb\u001b[0m: \u001b[32mBigDecimal\u001b[0m = 123456.789"
      ]
     },
     "metadata": {},
     "output_type": "display_data"
    }
   ],
   "source": [
    "var b = BigDecimal(123456.789)"
   ]
  },
  {
   "cell_type": "code",
   "execution_count": 53,
   "metadata": {
    "collapsed": false
   },
   "outputs": [
    {
     "data": {
      "text/plain": [
       "\u001b[36mr\u001b[0m: \u001b[32mcollection\u001b[0m.\u001b[32mimmutable\u001b[0m.\u001b[32mRange\u001b[0m.\u001b[32mInclusive\u001b[0m = \u001b[33mRange\u001b[0m(\u001b[32m1\u001b[0m, \u001b[32m2\u001b[0m, \u001b[32m3\u001b[0m, \u001b[32m4\u001b[0m, \u001b[32m5\u001b[0m, \u001b[32m6\u001b[0m, \u001b[32m7\u001b[0m, \u001b[32m8\u001b[0m, \u001b[32m9\u001b[0m, \u001b[32m10\u001b[0m)"
      ]
     },
     "metadata": {},
     "output_type": "display_data"
    }
   ],
   "source": [
    "val r = 1 to 10"
   ]
  },
  {
   "cell_type": "code",
   "execution_count": 54,
   "metadata": {
    "collapsed": false
   },
   "outputs": [
    {
     "data": {
      "text/plain": [
       "\u001b[36mx\u001b[0m: \u001b[32mArray\u001b[0m[\u001b[32mInt\u001b[0m] = \u001b[33mArray\u001b[0m(\u001b[32m1\u001b[0m, \u001b[32m2\u001b[0m, \u001b[32m3\u001b[0m, \u001b[32m4\u001b[0m, \u001b[32m5\u001b[0m, \u001b[32m6\u001b[0m, \u001b[32m7\u001b[0m, \u001b[32m8\u001b[0m, \u001b[32m9\u001b[0m, \u001b[32m10\u001b[0m)"
      ]
     },
     "metadata": {},
     "output_type": "display_data"
    }
   ],
   "source": [
    "val x = 1 to 10 toArray"
   ]
  },
  {
   "cell_type": "code",
   "execution_count": 57,
   "metadata": {
    "collapsed": false
   },
   "outputs": [
    {
     "data": {
      "text/plain": [
       "\u001b[36mx\u001b[0m: \u001b[32mList\u001b[0m[\u001b[32mInt\u001b[0m] = \u001b[33mList\u001b[0m(\u001b[32m1\u001b[0m, \u001b[32m2\u001b[0m, \u001b[32m3\u001b[0m, \u001b[32m4\u001b[0m, \u001b[32m5\u001b[0m, \u001b[32m6\u001b[0m, \u001b[32m7\u001b[0m, \u001b[32m8\u001b[0m, \u001b[32m9\u001b[0m, \u001b[32m10\u001b[0m)"
      ]
     },
     "metadata": {},
     "output_type": "display_data"
    }
   ],
   "source": [
    "val x = (1 to 10) toList"
   ]
  },
  {
   "cell_type": "code",
   "execution_count": 59,
   "metadata": {
    "collapsed": false
   },
   "outputs": [
    {
     "data": {
      "text/plain": [
       "\u001b[36msource\u001b[0m: \u001b[32mArray\u001b[0m[\u001b[32mString\u001b[0m] = \u001b[33mArray\u001b[0m(\u001b[32m\"ranjan\"\u001b[0m, \u001b[32m\"kumar\"\u001b[0m, \u001b[32m\"patel\"\u001b[0m)\n",
       "\u001b[36mres58_1\u001b[0m: \u001b[32mArray\u001b[0m[\u001b[32mString\u001b[0m] = \u001b[33mArray\u001b[0m(\n",
       "  \u001b[32m\"r\"\u001b[0m,\n",
       "  \u001b[32m\"a\"\u001b[0m,\n",
       "  \u001b[32m\"n\"\u001b[0m,\n",
       "  \u001b[32m\"j\"\u001b[0m,\n",
       "  \u001b[32m\"a\"\u001b[0m,\n",
       "  \u001b[32m\"n\"\u001b[0m,\n",
       "  \u001b[32m\"k\"\u001b[0m,\n",
       "  \u001b[32m\"u\"\u001b[0m,\n",
       "  \u001b[32m\"m\"\u001b[0m,\n",
       "  \u001b[32m\"a\"\u001b[0m,\n",
       "  \u001b[32m\"r\"\u001b[0m,\n",
       "  \u001b[32m\"p\"\u001b[0m,\n",
       "  \u001b[32m\"a\"\u001b[0m,\n",
       "  \u001b[32m\"t\"\u001b[0m,\n",
       "  \u001b[32m\"e\"\u001b[0m,\n",
       "  \u001b[32m\"l\"\u001b[0m\n",
       ")"
      ]
     },
     "metadata": {},
     "output_type": "display_data"
    }
   ],
   "source": [
    "val source = Array(\"ranjan\",\"kumar\",\"patel\")\n",
    "for {\n",
    "line <- source\n",
    "char <- line\n",
    "if char.isLetter\n",
    "} yield char.toString"
   ]
  },
  {
   "cell_type": "code",
   "execution_count": 60,
   "metadata": {
    "collapsed": false
   },
   "outputs": [
    {
     "data": {
      "text/plain": [
       "\u001b[36ma\u001b[0m: \u001b[32mArray\u001b[0m[\u001b[32mString\u001b[0m] = \u001b[33mArray\u001b[0m(\u001b[32m\"apple\"\u001b[0m, \u001b[32m\"banana\"\u001b[0m, \u001b[32m\"orange\"\u001b[0m)"
      ]
     },
     "metadata": {},
     "output_type": "display_data"
    }
   ],
   "source": [
    "val a = Array(\"apple\", \"banana\", \"orange\")"
   ]
  },
  {
   "cell_type": "code",
   "execution_count": 61,
   "metadata": {
    "collapsed": false
   },
   "outputs": [
    {
     "data": {
      "text/plain": [
       "\u001b[36mnewArray\u001b[0m: \u001b[32mArray\u001b[0m[\u001b[32mString\u001b[0m] = \u001b[33mArray\u001b[0m(\u001b[32m\"APPLE\"\u001b[0m, \u001b[32m\"BANANA\"\u001b[0m, \u001b[32m\"ORANGE\"\u001b[0m)"
      ]
     },
     "metadata": {},
     "output_type": "display_data"
    }
   ],
   "source": [
    "val newArray = for (e <- a) yield {\n",
    "// imagine this requires multiple lines\n",
    "val s = e.toUpperCase\n",
    "s\n",
    "}"
   ]
  },
  {
   "cell_type": "code",
   "execution_count": 62,
   "metadata": {
    "collapsed": false
   },
   "outputs": [
    {
     "name": "stdout",
     "output_type": "stream",
     "text": [
      "0 is apple\n",
      "1 is banana\n",
      "2 is orange\n"
     ]
    },
    {
     "data": {
      "text/plain": []
     },
     "metadata": {},
     "output_type": "display_data"
    }
   ],
   "source": [
    "for (i <- 0 until a.length) {\n",
    "println(s\"$i is ${a(i)}\")\n",
    "}"
   ]
  },
  {
   "cell_type": "code",
   "execution_count": 63,
   "metadata": {
    "collapsed": false
   },
   "outputs": [
    {
     "data": {
      "text/plain": [
       "\u001b[36mres62\u001b[0m: \u001b[32mArray\u001b[0m[(\u001b[32mString\u001b[0m, \u001b[32mInt\u001b[0m)] = \u001b[33mArray\u001b[0m(\u001b[33m\u001b[0m(\u001b[32m\"apple\"\u001b[0m, \u001b[32m0\u001b[0m), \u001b[33m\u001b[0m(\u001b[32m\"banana\"\u001b[0m, \u001b[32m1\u001b[0m), \u001b[33m\u001b[0m(\u001b[32m\"orange\"\u001b[0m, \u001b[32m2\u001b[0m))"
      ]
     },
     "metadata": {},
     "output_type": "display_data"
    }
   ],
   "source": [
    "a.zipWithIndex"
   ]
  },
  {
   "cell_type": "code",
   "execution_count": 65,
   "metadata": {
    "collapsed": false
   },
   "outputs": [
    {
     "data": {
      "text/plain": [
       "\u001b[36mres64\u001b[0m: \u001b[32mArray\u001b[0m[\u001b[32mChar\u001b[0m] = \u001b[33mArray\u001b[0m(\n",
       "  \u001b[32m'a'\u001b[0m,\n",
       "  \u001b[32m'p'\u001b[0m,\n",
       "  \u001b[32m'p'\u001b[0m,\n",
       "  \u001b[32m'l'\u001b[0m,\n",
       "  \u001b[32m'e'\u001b[0m,\n",
       "  \u001b[32m'b'\u001b[0m,\n",
       "  \u001b[32m'a'\u001b[0m,\n",
       "  \u001b[32m'n'\u001b[0m,\n",
       "  \u001b[32m'a'\u001b[0m,\n",
       "  \u001b[32m'n'\u001b[0m,\n",
       "  \u001b[32m'a'\u001b[0m,\n",
       "  \u001b[32m'o'\u001b[0m,\n",
       "  \u001b[32m'r'\u001b[0m,\n",
       "  \u001b[32m'a'\u001b[0m,\n",
       "  \u001b[32m'n'\u001b[0m,\n",
       "  \u001b[32m'g'\u001b[0m,\n",
       "  \u001b[32m'e'\u001b[0m\n",
       ")"
      ]
     },
     "metadata": {},
     "output_type": "display_data"
    }
   ],
   "source": [
    "a.flatten"
   ]
  },
  {
   "cell_type": "code",
   "execution_count": 66,
   "metadata": {
    "collapsed": false
   },
   "outputs": [
    {
     "name": "stdout",
     "output_type": "stream",
     "text": [
      "1\n",
      "2\n",
      "3\n"
     ]
    },
    {
     "data": {
      "text/plain": []
     },
     "metadata": {},
     "output_type": "display_data"
    }
   ],
   "source": [
    "for (i <- 1 to 10 if i < 4) println(i)"
   ]
  },
  {
   "cell_type": "code",
   "execution_count": 67,
   "metadata": {
    "collapsed": false
   },
   "outputs": [
    {
     "name": "stdout",
     "output_type": "stream",
     "text": [
      "key: fname, value: Robert\n",
      "key: lname, value: Goren\n"
     ]
    },
    {
     "data": {
      "text/plain": [
       "\u001b[36mnames\u001b[0m: \u001b[32mMap\u001b[0m[\u001b[32mString\u001b[0m, \u001b[32mString\u001b[0m] = \u001b[33mMap\u001b[0m(\u001b[32m\"fname\"\u001b[0m -> \u001b[32m\"Robert\"\u001b[0m, \u001b[32m\"lname\"\u001b[0m -> \u001b[32m\"Goren\"\u001b[0m)"
      ]
     },
     "metadata": {},
     "output_type": "display_data"
    }
   ],
   "source": [
    "val names = Map(\"fname\" -> \"Robert\",\n",
    "\"lname\" -> \"Goren\")\n",
    "for ((k,v) <- names) println(s\"key: $k, value: $v\")"
   ]
  },
  {
   "cell_type": "code",
   "execution_count": 68,
   "metadata": {
    "collapsed": false
   },
   "outputs": [
    {
     "name": "stdout",
     "output_type": "stream",
     "text": [
      "i = 1, j = 1\n",
      "i = 1, j = 2\n",
      "i = 2, j = 1\n",
      "i = 2, j = 2\n"
     ]
    },
    {
     "data": {
      "text/plain": []
     },
     "metadata": {},
     "output_type": "display_data"
    }
   ],
   "source": [
    "for (i <- 1 to 2; j <- 1 to 2) println(s\"i = $i, j = $j\")"
   ]
  },
  {
   "cell_type": "code",
   "execution_count": 69,
   "metadata": {
    "collapsed": false
   },
   "outputs": [
    {
     "name": "stdout",
     "output_type": "stream",
     "text": [
      "i = 1, j = 1, k = 1\n",
      "i = 1, j = 1, k = 2\n",
      "i = 1, j = 1, k = 3\n",
      "i = 1, j = 1, k = 4\n",
      "i = 1, j = 1, k = 5\n",
      "i = 1, j = 1, k = 6\n",
      "i = 1, j = 1, k = 7\n",
      "i = 1, j = 1, k = 8\n",
      "i = 1, j = 1, k = 9\n",
      "i = 1, j = 1, k = 10\n",
      "i = 1, j = 2, k = 1\n",
      "i = 1, j = 2, k = 2\n",
      "i = 1, j = 2, k = 3\n",
      "i = 1, j = 2, k = 4\n",
      "i = 1, j = 2, k = 5\n",
      "i = 1, j = 2, k = 6\n",
      "i = 1, j = 2, k = 7\n",
      "i = 1, j = 2, k = 8\n",
      "i = 1, j = 2, k = 9\n",
      "i = 1, j = 2, k = 10\n",
      "i = 1, j = 3, k = 1\n",
      "i = 1, j = 3, k = 2\n",
      "i = 1, j = 3, k = 3\n",
      "i = 1, j = 3, k = 4\n",
      "i = 1, j = 3, k = 5\n",
      "i = 1, j = 3, k = 6\n",
      "i = 1, j = 3, k = 7\n",
      "i = 1, j = 3, k = 8\n",
      "i = 1, j = 3, k = 9\n",
      "i = 1, j = 3, k = 10\n",
      "i = 1, j = 4, k = 1\n",
      "i = 1, j = 4, k = 2\n",
      "i = 1, j = 4, k = 3\n",
      "i = 1, j = 4, k = 4\n",
      "i = 1, j = 4, k = 5\n",
      "i = 1, j = 4, k = 6\n",
      "i = 1, j = 4, k = 7\n",
      "i = 1, j = 4, k = 8\n",
      "i = 1, j = 4, k = 9\n",
      "i = 1, j = 4, k = 10\n",
      "i = 1, j = 5, k = 1\n",
      "i = 1, j = 5, k = 2\n",
      "i = 1, j = 5, k = 3\n",
      "i = 1, j = 5, k = 4\n",
      "i = 1, j = 5, k = 5\n",
      "i = 1, j = 5, k = 6\n",
      "i = 1, j = 5, k = 7\n",
      "i = 1, j = 5, k = 8\n",
      "i = 1, j = 5, k = 9\n",
      "i = 1, j = 5, k = 10\n",
      "i = 2, j = 1, k = 1\n",
      "i = 2, j = 1, k = 2\n",
      "i = 2, j = 1, k = 3\n",
      "i = 2, j = 1, k = 4\n",
      "i = 2, j = 1, k = 5\n",
      "i = 2, j = 1, k = 6\n",
      "i = 2, j = 1, k = 7\n",
      "i = 2, j = 1, k = 8\n",
      "i = 2, j = 1, k = 9\n",
      "i = 2, j = 1, k = 10\n",
      "i = 2, j = 2, k = 1\n",
      "i = 2, j = 2, k = 2\n",
      "i = 2, j = 2, k = 3\n",
      "i = 2, j = 2, k = 4\n",
      "i = 2, j = 2, k = 5\n",
      "i = 2, j = 2, k = 6\n",
      "i = 2, j = 2, k = 7\n",
      "i = 2, j = 2, k = 8\n",
      "i = 2, j = 2, k = 9\n",
      "i = 2, j = 2, k = 10\n",
      "i = 2, j = 3, k = 1\n",
      "i = 2, j = 3, k = 2\n",
      "i = 2, j = 3, k = 3\n",
      "i = 2, j = 3, k = 4\n",
      "i = 2, j = 3, k = 5\n",
      "i = 2, j = 3, k = 6\n",
      "i = 2, j = 3, k = 7\n",
      "i = 2, j = 3, k = 8\n",
      "i = 2, j = 3, k = 9\n",
      "i = 2, j = 3, k = 10\n",
      "i = 2, j = 4, k = 1\n",
      "i = 2, j = 4, k = 2\n",
      "i = 2, j = 4, k = 3\n",
      "i = 2, j = 4, k = 4\n",
      "i = 2, j = 4, k = 5\n",
      "i = 2, j = 4, k = 6\n",
      "i = 2, j = 4, k = 7\n",
      "i = 2, j = 4, k = 8\n",
      "i = 2, j = 4, k = 9\n",
      "i = 2, j = 4, k = 10\n",
      "i = 2, j = 5, k = 1\n",
      "i = 2, j = 5, k = 2\n",
      "i = 2, j = 5, k = 3\n",
      "i = 2, j = 5, k = 4\n",
      "i = 2, j = 5, k = 5\n",
      "i = 2, j = 5, k = 6\n",
      "i = 2, j = 5, k = 7\n",
      "i = 2, j = 5, k = 8\n",
      "i = 2, j = 5, k = 9\n",
      "i = 2, j = 5, k = 10\n",
      "i = 3, j = 1, k = 1\n",
      "i = 3, j = 1, k = 2\n",
      "i = 3, j = 1, k = 3\n",
      "i = 3, j = 1, k = 4\n",
      "i = 3, j = 1, k = 5\n",
      "i = 3, j = 1, k = 6\n",
      "i = 3, j = 1, k = 7\n",
      "i = 3, j = 1, k = 8\n",
      "i = 3, j = 1, k = 9\n",
      "i = 3, j = 1, k = 10\n",
      "i = 3, j = 2, k = 1\n",
      "i = 3, j = 2, k = 2\n",
      "i = 3, j = 2, k = 3\n",
      "i = 3, j = 2, k = 4\n",
      "i = 3, j = 2, k = 5\n",
      "i = 3, j = 2, k = 6\n",
      "i = 3, j = 2, k = 7\n",
      "i = 3, j = 2, k = 8\n",
      "i = 3, j = 2, k = 9\n",
      "i = 3, j = 2, k = 10\n",
      "i = 3, j = 3, k = 1\n",
      "i = 3, j = 3, k = 2\n",
      "i = 3, j = 3, k = 3\n",
      "i = 3, j = 3, k = 4\n",
      "i = 3, j = 3, k = 5\n",
      "i = 3, j = 3, k = 6\n",
      "i = 3, j = 3, k = 7\n",
      "i = 3, j = 3, k = 8\n",
      "i = 3, j = 3, k = 9\n",
      "i = 3, j = 3, k = 10\n",
      "i = 3, j = 4, k = 1\n",
      "i = 3, j = 4, k = 2\n",
      "i = 3, j = 4, k = 3\n",
      "i = 3, j = 4, k = 4\n",
      "i = 3, j = 4, k = 5\n",
      "i = 3, j = 4, k = 6\n",
      "i = 3, j = 4, k = 7\n",
      "i = 3, j = 4, k = 8\n",
      "i = 3, j = 4, k = 9\n",
      "i = 3, j = 4, k = 10\n",
      "i = 3, j = 5, k = 1\n",
      "i = 3, j = 5, k = 2\n",
      "i = 3, j = 5, k = 3\n",
      "i = 3, j = 5, k = 4\n",
      "i = 3, j = 5, k = 5\n",
      "i = 3, j = 5, k = 6\n",
      "i = 3, j = 5, k = 7\n",
      "i = 3, j = 5, k = 8\n",
      "i = 3, j = 5, k = 9\n",
      "i = 3, j = 5, k = 10\n"
     ]
    },
    {
     "data": {
      "text/plain": []
     },
     "metadata": {},
     "output_type": "display_data"
    }
   ],
   "source": [
    "for {\n",
    "i <- 1 to 3\n",
    "j <- 1 to 5\n",
    "k <- 1 to 10\n",
    "} println(s\"i = $i, j = $j, k = $k\")"
   ]
  },
  {
   "cell_type": "code",
   "execution_count": 70,
   "metadata": {
    "collapsed": false
   },
   "outputs": [
    {
     "data": {
      "text/plain": [
       "\u001b[36mres69\u001b[0m: \u001b[32mArray\u001b[0m[\u001b[32mArray\u001b[0m[\u001b[32mInt\u001b[0m]] = \u001b[33mArray\u001b[0m(\u001b[33mArray\u001b[0m(\u001b[32m0\u001b[0m, \u001b[32m0\u001b[0m), \u001b[33mArray\u001b[0m(\u001b[32m0\u001b[0m, \u001b[32m0\u001b[0m))"
      ]
     },
     "metadata": {},
     "output_type": "display_data"
    }
   ],
   "source": [
    "Array.ofDim[Int](2,2)"
   ]
  },
  {
   "cell_type": "code",
   "execution_count": 71,
   "metadata": {
    "collapsed": false
   },
   "outputs": [
    {
     "data": {
      "text/plain": [
       "\u001b[36mfruits\u001b[0m: \u001b[32mcollection\u001b[0m.\u001b[32mmutable\u001b[0m.\u001b[32mArrayBuffer\u001b[0m[\u001b[32mString\u001b[0m] = \u001b[33mArrayBuffer\u001b[0m(\u001b[32m\"apple\"\u001b[0m, \u001b[32m\"banana\"\u001b[0m, \u001b[32m\"orange\"\u001b[0m)\n",
       "\u001b[36mres70_1\u001b[0m: \u001b[32mcollection\u001b[0m.\u001b[32mmutable\u001b[0m.\u001b[32mArrayBuffer\u001b[0m[\u001b[32mString\u001b[0m] = \u001b[33mArrayBuffer\u001b[0m(\u001b[32m\"apple\"\u001b[0m, \u001b[32m\"banana\"\u001b[0m, \u001b[32m\"orange\"\u001b[0m)\n",
       "\u001b[36mres70_2\u001b[0m: \u001b[32mcollection\u001b[0m.\u001b[32mmutable\u001b[0m.\u001b[32mArrayBuffer\u001b[0m[\u001b[32mString\u001b[0m] = \u001b[33mArrayBuffer\u001b[0m(\u001b[32m\"apple\"\u001b[0m, \u001b[32m\"banana\"\u001b[0m, \u001b[32m\"orange\"\u001b[0m)\n",
       "\u001b[36mres70_3\u001b[0m: \u001b[32mcollection\u001b[0m.\u001b[32mmutable\u001b[0m.\u001b[32mArrayBuffer\u001b[0m[\u001b[32mString\u001b[0m] = \u001b[33mArrayBuffer\u001b[0m(\u001b[32m\"apple\"\u001b[0m, \u001b[32m\"banana\"\u001b[0m, \u001b[32m\"orange\"\u001b[0m)"
      ]
     },
     "metadata": {},
     "output_type": "display_data"
    }
   ],
   "source": [
    "var fruits = scala.collection.mutable.ArrayBuffer[String]()\n",
    "fruits += \"apple\"\n",
    "fruits += \"banana\"\n",
    "fruits += \"orange\""
   ]
  },
  {
   "cell_type": "code",
   "execution_count": 72,
   "metadata": {
    "collapsed": false
   },
   "outputs": [
    {
     "data": {
      "text/plain": [
       "\u001b[36mfruits\u001b[0m: \u001b[32mList\u001b[0m[\u001b[32mString\u001b[0m] = \u001b[33mList\u001b[0m(\u001b[32m\"apple\"\u001b[0m, \u001b[32m\"banana\"\u001b[0m, \u001b[32m\"orange\"\u001b[0m)"
      ]
     },
     "metadata": {},
     "output_type": "display_data"
    }
   ],
   "source": [
    "val fruits = \"apple\" :: \"banana\" :: \"orange\" :: Nil"
   ]
  },
  {
   "cell_type": "code",
   "execution_count": 73,
   "metadata": {
    "collapsed": false
   },
   "outputs": [
    {
     "name": "stdout",
     "output_type": "stream",
     "text": [
      "1\n",
      "2\n",
      "3\n",
      "4\n",
      "5\n"
     ]
    },
    {
     "data": {
      "text/plain": [
       "\u001b[32mimport \u001b[36mutil.control.Breaks._\u001b[0m"
      ]
     },
     "metadata": {},
     "output_type": "display_data"
    }
   ],
   "source": [
    "import util.control.Breaks._\n",
    "breakable {\n",
    "for (i <- 1 to 10) {\n",
    "println(i)\n",
    "if (i > 4) break // break out of the for loop\n",
    "}\n",
    "}"
   ]
  },
  {
   "cell_type": "code",
   "execution_count": 74,
   "metadata": {
    "collapsed": false
   },
   "outputs": [
    {
     "data": {
      "text/plain": [
       "defined \u001b[32mfunction \u001b[36mabs\u001b[0m\n",
       "defined \u001b[32mfunction \u001b[36mmax\u001b[0m"
      ]
     },
     "metadata": {},
     "output_type": "display_data"
    }
   ],
   "source": [
    "def abs(x: Int) = if (x >= 0) x else -x\n",
    "def max(a: Int, b: Int) = if (a > b) a else b"
   ]
  },
  {
   "cell_type": "code",
   "execution_count": 75,
   "metadata": {
    "collapsed": false
   },
   "outputs": [
    {
     "data": {
      "text/plain": [
       "\u001b[36mres74\u001b[0m: \u001b[32mInt\u001b[0m = \u001b[32m2\u001b[0m"
      ]
     },
     "metadata": {},
     "output_type": "display_data"
    }
   ],
   "source": [
    "max(1,2)"
   ]
  },
  {
   "cell_type": "code",
   "execution_count": 76,
   "metadata": {
    "collapsed": false
   },
   "outputs": [
    {
     "name": "stdout",
     "output_type": "stream",
     "text": [
      "One\n"
     ]
    },
    {
     "data": {
      "text/plain": [
       "\u001b[32mimport \u001b[36mscala.annotation.switch\u001b[0m\n",
       "\u001b[36mi\u001b[0m: \u001b[32mInt\u001b[0m = \u001b[32m1\u001b[0m\n",
       "\u001b[36mx\u001b[0m: \u001b[32mString\u001b[0m = \u001b[32m\"One\"\u001b[0m"
      ]
     },
     "metadata": {},
     "output_type": "display_data"
    }
   ],
   "source": [
    "import scala.annotation.switch\n",
    "val i = 1\n",
    "val x = (i: @switch) match {\n",
    "case 1 => \"One\"\n",
    "case 2 => \"Two\"\n",
    "case _ => \"Other\"\n",
    "}\n",
    "println(x)"
   ]
  },
  {
   "cell_type": "code",
   "execution_count": 77,
   "metadata": {
    "collapsed": false
   },
   "outputs": [
    {
     "data": {
      "text/plain": [
       "defined \u001b[32mclass \u001b[36mSocket\u001b[0m"
      ]
     },
     "metadata": {},
     "output_type": "display_data"
    }
   ],
   "source": [
    "class Socket (val timeout: Int = 10000)"
   ]
  },
  {
   "cell_type": "code",
   "execution_count": 81,
   "metadata": {
    "collapsed": false
   },
   "outputs": [
    {
     "data": {
      "text/plain": [
       "\u001b[36msoc\u001b[0m: \u001b[32mSocket\u001b[0m = cmd76$$user$Socket@68bc8e7e"
      ]
     },
     "metadata": {},
     "output_type": "display_data"
    }
   ],
   "source": [
    "val soc = new Socket"
   ]
  },
  {
   "cell_type": "code",
   "execution_count": 82,
   "metadata": {
    "collapsed": false
   },
   "outputs": [
    {
     "data": {
      "text/plain": [
       "\u001b[36mres81\u001b[0m: \u001b[32mInt\u001b[0m = \u001b[32m10000\u001b[0m"
      ]
     },
     "metadata": {},
     "output_type": "display_data"
    }
   ],
   "source": [
    "soc.timeout "
   ]
  },
  {
   "cell_type": "code",
   "execution_count": 79,
   "metadata": {
    "collapsed": false
   },
   "outputs": [
    {
     "data": {
      "text/plain": [
       "defined \u001b[32mclass \u001b[36mPizza\u001b[0m\n",
       "defined \u001b[32mobject \u001b[36mPizza\u001b[0m"
      ]
     },
     "metadata": {},
     "output_type": "display_data"
    }
   ],
   "source": [
    "class Pizza (var crustSize: Int, var crustType: String) {\n",
    "// one-arg auxiliary constructor\n",
    "def this(crustSize: Int) {\n",
    "this(crustSize, Pizza.DEFAULT_CRUST_TYPE)\n",
    "}\n",
    "// one-arg auxiliary constructor\n",
    "def this(crustType: String) {\n",
    "this(Pizza.DEFAULT_CRUST_SIZE, crustType)\n",
    "}\n",
    "// zero-arg auxiliary constructor\n",
    "def this() {\n",
    "this(Pizza.DEFAULT_CRUST_SIZE, Pizza.DEFAULT_CRUST_TYPE)\n",
    "}\n",
    "override def toString = s\"A $crustSize inch pizza with a $crustType crust\"\n",
    "}\n",
    "object Pizza {\n",
    "val DEFAULT_CRUST_SIZE = 12\n",
    "val DEFAULT_CRUST_TYPE = \"THIN\"\n",
    "}"
   ]
  },
  {
   "cell_type": "code",
   "execution_count": 80,
   "metadata": {
    "collapsed": false
   },
   "outputs": [
    {
     "data": {
      "text/plain": [
       "\u001b[36mpiz\u001b[0m: \u001b[32mPizza\u001b[0m = A 1 inch pizza with a one crust"
      ]
     },
     "metadata": {},
     "output_type": "display_data"
    }
   ],
   "source": [
    "val piz = new Pizza(1,\"one\")"
   ]
  },
  {
   "cell_type": "code",
   "execution_count": 83,
   "metadata": {
    "collapsed": false
   },
   "outputs": [
    {
     "data": {
      "text/plain": [
       "\u001b[36mres82\u001b[0m: \u001b[32mPizza\u001b[0m = A 1 inch pizza with a THIN crust"
      ]
     },
     "metadata": {},
     "output_type": "display_data"
    }
   ],
   "source": [
    "new Pizza(1)"
   ]
  },
  {
   "cell_type": "code",
   "execution_count": 84,
   "metadata": {
    "collapsed": false
   },
   "outputs": [
    {
     "data": {
      "text/plain": [
       "\u001b[36mres83\u001b[0m: \u001b[32mPizza\u001b[0m = A 12 inch pizza with a one crust"
      ]
     },
     "metadata": {},
     "output_type": "display_data"
    }
   ],
   "source": [
    "new Pizza(\"one\")"
   ]
  },
  {
   "cell_type": "code",
   "execution_count": 85,
   "metadata": {
    "collapsed": false
   },
   "outputs": [
    {
     "data": {
      "text/plain": [
       "defined \u001b[32mfunction \u001b[36mprintAll\u001b[0m"
      ]
     },
     "metadata": {},
     "output_type": "display_data"
    }
   ],
   "source": [
    "def printAll(numbers: Int*) {\n",
    "println(numbers.getClass)\n",
    "}"
   ]
  },
  {
   "cell_type": "code",
   "execution_count": 86,
   "metadata": {
    "collapsed": false
   },
   "outputs": [
    {
     "name": "stdout",
     "output_type": "stream",
     "text": [
      "class scala.collection.mutable.WrappedArray$ofInt\n",
      "class scala.collection.immutable.Nil$\n"
     ]
    },
    {
     "data": {
      "text/plain": []
     },
     "metadata": {},
     "output_type": "display_data"
    }
   ],
   "source": [
    "printAll(1, 2, 3)\n",
    "printAll()"
   ]
  },
  {
   "cell_type": "code",
   "execution_count": 87,
   "metadata": {
    "collapsed": false
   },
   "outputs": [
    {
     "data": {
      "text/plain": [
       "\u001b[36mhello\u001b[0m: \u001b[32mxml\u001b[0m.\u001b[32mElem\u001b[0m = \u001b[33mElem\u001b[0m(<p>Hello, world</p>)"
      ]
     },
     "metadata": {},
     "output_type": "display_data"
    }
   ],
   "source": [
    "val hello = <p>Hello, world</p>"
   ]
  },
  {
   "cell_type": "code",
   "execution_count": 1,
   "metadata": {
    "collapsed": false
   },
   "outputs": [
    {
     "data": {
      "text/plain": [
       "defined \u001b[32mobject \u001b[36mCashRegister\u001b[0m"
      ]
     },
     "metadata": {},
     "output_type": "display_data"
    }
   ],
   "source": [
    "object CashRegister {\n",
    "def open { println(\"opened\") }\n",
    "def close { println(\"closed\") }\n",
    "}"
   ]
  },
  {
   "cell_type": "code",
   "execution_count": 2,
   "metadata": {
    "collapsed": false
   },
   "outputs": [
    {
     "data": {
      "text/plain": [
       "defined \u001b[32mobject \u001b[36mMain\u001b[0m"
      ]
     },
     "metadata": {},
     "output_type": "display_data"
    }
   ],
   "source": [
    "object Main extends App {\n",
    "CashRegister.open\n",
    "CashRegister.close\n",
    "}"
   ]
  },
  {
   "cell_type": "code",
   "execution_count": 3,
   "metadata": {
    "collapsed": false
   },
   "outputs": [
    {
     "name": "stdout",
     "output_type": "stream",
     "text": [
      "opened\n"
     ]
    },
    {
     "data": {
      "text/plain": []
     },
     "metadata": {},
     "output_type": "display_data"
    }
   ],
   "source": [
    "CashRegister.open"
   ]
  },
  {
   "cell_type": "code",
   "execution_count": 1,
   "metadata": {
    "collapsed": false
   },
   "outputs": [
    {
     "data": {
      "text/plain": [
       "defined \u001b[32mclass \u001b[36mPerson\u001b[0m\n",
       "defined \u001b[32mobject \u001b[36mPerson\u001b[0m"
      ]
     },
     "metadata": {},
     "output_type": "display_data"
    }
   ],
   "source": [
    "class Person {\n",
    "var name: String = _\n",
    "}\n",
    "object Person {\n",
    "def apply(name: String): Person = {\n",
    "var p = new Person\n",
    "p.name = name\n",
    "p\n",
    "}\n",
    "}"
   ]
  },
  {
   "cell_type": "code",
   "execution_count": 2,
   "metadata": {
    "collapsed": false
   },
   "outputs": [
    {
     "data": {
      "text/plain": [
       "\u001b[36mf\u001b[0m: \u001b[32mInt\u001b[0m => \u001b[32mBoolean\u001b[0m = <function1>"
      ]
     },
     "metadata": {},
     "output_type": "display_data"
    }
   ],
   "source": [
    "val f = (i: Int) => { i % 2 == 0 }"
   ]
  },
  {
   "cell_type": "code",
   "execution_count": 3,
   "metadata": {
    "collapsed": false
   },
   "outputs": [
    {
     "data": {
      "text/plain": [
       "defined \u001b[32mfunction \u001b[36mf1\u001b[0m"
      ]
     },
     "metadata": {},
     "output_type": "display_data"
    }
   ],
   "source": [
    "def f1(i: Int){ i % 2 == 0 }"
   ]
  },
  {
   "cell_type": "code",
   "execution_count": 4,
   "metadata": {
    "collapsed": false
   },
   "outputs": [
    {
     "data": {
      "text/plain": [
       "defined \u001b[32mfunction \u001b[36mexec\u001b[0m"
      ]
     },
     "metadata": {},
     "output_type": "display_data"
    }
   ],
   "source": [
    "def exec(callback: Int => Unit) {\n",
    "// invoke the function we were given, giving it an Int parameter\n",
    "callback(1)\n",
    "}"
   ]
  },
  {
   "cell_type": "code",
   "execution_count": 1,
   "metadata": {
    "collapsed": false
   },
   "outputs": [
    {
     "data": {
      "text/plain": [
       "\u001b[36moriginalList\u001b[0m: \u001b[32mList\u001b[0m[\u001b[32mInt\u001b[0m] = \u001b[33mList\u001b[0m(\u001b[32m5\u001b[0m, \u001b[32m1\u001b[0m, \u001b[32m4\u001b[0m, \u001b[32m3\u001b[0m, \u001b[32m2\u001b[0m)"
      ]
     },
     "metadata": {},
     "output_type": "display_data"
    }
   ],
   "source": [
    "val originalList = List(5, 1, 4, 3, 2)"
   ]
  },
  {
   "cell_type": "code",
   "execution_count": 4,
   "metadata": {
    "collapsed": false
   },
   "outputs": [
    {
     "data": {
      "text/plain": [
       "\u001b[36mres3\u001b[0m: \u001b[32mList\u001b[0m[\u001b[32mInt\u001b[0m] = \u001b[33mList\u001b[0m(\u001b[32m3\u001b[0m, \u001b[32m4\u001b[0m, \u001b[32m5\u001b[0m)"
      ]
     },
     "metadata": {},
     "output_type": "display_data"
    }
   ],
   "source": [
    "originalList.filter(_ > 2).sorted"
   ]
  },
  {
   "cell_type": "code",
   "execution_count": 5,
   "metadata": {
    "collapsed": false
   },
   "outputs": [
    {
     "data": {
      "text/plain": [
       "\u001b[32mimport \u001b[36msys.process._\u001b[0m"
      ]
     },
     "metadata": {},
     "output_type": "display_data"
    }
   ],
   "source": [
    "import sys.process._"
   ]
  },
  {
   "cell_type": "code",
   "execution_count": 6,
   "metadata": {
    "collapsed": false
   },
   "outputs": [
    {
     "name": "stdout",
     "output_type": "stream",
     "text": [
      "total 124\n",
      "drwxrwxr-x 3 ranjan ranjan  4096 Oct 31 20:02 .\n",
      "drwxrwxr-x 5 ranjan ranjan  4096 Oct 27 14:05 ..\n",
      "-rw-rw-r-- 1 ranjan ranjan   354 Oct 25 02:13 Golang-pract.ipynb\n",
      "-rw-rw-r-- 1 ranjan ranjan 41269 Oct 26 22:41 hs_err_pid5990.log\n",
      "drwxr-xr-x 2 ranjan ranjan  4096 Oct 26 22:49 .ipynb_checkpoints\n",
      "-rw-rw-r-- 1 ranjan ranjan   639 Oct 27 23:37 jython-pract.ipynb\n",
      "-rw-rw-r-- 1 ranjan ranjan  1639 Oct 30 15:08 pract1.ipynb\n",
      "-rw-rw-r-- 1 ranjan ranjan 55897 Oct 31 20:02 scala-pract.ipynb\n"
     ]
    },
    {
     "data": {
      "text/plain": [
       "\u001b[36mres5\u001b[0m: \u001b[32mInt\u001b[0m = \u001b[32m0\u001b[0m"
      ]
     },
     "metadata": {},
     "output_type": "display_data"
    }
   ],
   "source": [
    "\"ls -al\".!"
   ]
  },
  {
   "cell_type": "code",
   "execution_count": 7,
   "metadata": {
    "collapsed": false
   },
   "outputs": [
    {
     "name": "stdout",
     "output_type": "stream",
     "text": [
      "total 124\n",
      "drwxrwxr-x 3 ranjan ranjan  4096 Oct 31 20:40 .\n",
      "drwxrwxr-x 5 ranjan ranjan  4096 Oct 27 14:05 ..\n",
      "-rw-rw-r-- 1 ranjan ranjan   354 Oct 25 02:13 Golang-pract.ipynb\n",
      "-rw-rw-r-- 1 ranjan ranjan 41269 Oct 26 22:41 hs_err_pid5990.log\n",
      "drwxr-xr-x 2 ranjan ranjan  4096 Oct 26 22:49 .ipynb_checkpoints\n",
      "-rw-rw-r-- 1 ranjan ranjan   639 Oct 27 23:37 jython-pract.ipynb\n",
      "-rw-rw-r-- 1 ranjan ranjan  1639 Oct 30 15:08 pract1.ipynb\n",
      "-rw-rw-r-- 1 ranjan ranjan 56939 Oct 31 20:40 scala-pract.ipynb\n"
     ]
    },
    {
     "data": {
      "text/plain": [
       "\u001b[36mexitCode\u001b[0m: \u001b[32mInt\u001b[0m = \u001b[32m0\u001b[0m"
      ]
     },
     "metadata": {},
     "output_type": "display_data"
    }
   ],
   "source": [
    "val exitCode = \"ls -al\".!"
   ]
  },
  {
   "cell_type": "code",
   "execution_count": 12,
   "metadata": {
    "collapsed": false
   },
   "outputs": [
    {
     "name": "stdout",
     "output_type": "stream",
     "text": [
      "Golang-pract.ipynb\n",
      "hs_err_pid5990.log\n",
      "jython-pract.ipynb\n",
      "pract1.ipynb\n",
      "scala-pract.ipynb\n"
     ]
    },
    {
     "data": {
      "text/plain": [
       "\u001b[36mres11\u001b[0m: \u001b[32mInt\u001b[0m = \u001b[32m0\u001b[0m"
      ]
     },
     "metadata": {},
     "output_type": "display_data"
    }
   ],
   "source": [
    "\"ls\".!"
   ]
  },
  {
   "cell_type": "code",
   "execution_count": 9,
   "metadata": {
    "collapsed": false
   },
   "outputs": [
    {
     "name": "stdout",
     "output_type": "stream",
     "text": [
      "Golang-pract.ipynb\n",
      "hs_err_pid5990.log\n",
      "jython-pract.ipynb\n",
      "pract1.ipynb\n",
      "scala-pract.ipynb\n"
     ]
    },
    {
     "data": {
      "text/plain": [
       "\u001b[36mres8\u001b[0m: \u001b[32mInt\u001b[0m = \u001b[32m0\u001b[0m"
      ]
     },
     "metadata": {},
     "output_type": "display_data"
    }
   ],
   "source": [
    "Process(\"ls\").!"
   ]
  },
  {
   "cell_type": "code",
   "execution_count": 14,
   "metadata": {
    "collapsed": false
   },
   "outputs": [
    {
     "data": {
      "text/plain": [
       "\u001b[36mfiles\u001b[0m: \u001b[32mStream\u001b[0m[\u001b[32mString\u001b[0m] = \u001b[33mStream\u001b[0m(\n",
       "  \u001b[32m\"total 116\"\u001b[0m,\n",
       "  \u001b[32m\" 4 Golang-pract.ipynb\"\u001b[0m,\n",
       "  \u001b[32m\"44 hs_err_pid5990.log\"\u001b[0m,\n",
       "  \u001b[32m\" 4 jython-pract.ipynb\"\u001b[0m,\n",
       "  \u001b[32m\" 4 pract1.ipynb\"\u001b[0m,\n",
       "  \u001b[32m\"60 scala-pract.ipynb\"\u001b[0m\n",
       ")"
      ]
     },
     "metadata": {},
     "output_type": "display_data"
    }
   ],
   "source": [
    "val files = Process(\"ls -s\").lines"
   ]
  },
  {
   "cell_type": "code",
   "execution_count": 23,
   "metadata": {
    "collapsed": false
   },
   "outputs": [
    {
     "data": {
      "text/plain": [
       "\u001b[36mres22\u001b[0m: \u001b[32mStream\u001b[0m[\u001b[32mArray\u001b[0m[\u001b[32mString\u001b[0m]] = \u001b[33mStream\u001b[0m(\n",
       "  \u001b[33mArray\u001b[0m(\u001b[32m\"\"\u001b[0m, \u001b[32m\"4\"\u001b[0m, \u001b[32m\"Golang-pract.ipynb\"\u001b[0m),\n",
       "  \u001b[33mArray\u001b[0m(\u001b[32m\"44\"\u001b[0m, \u001b[32m\"hs_err_pid5990.log\"\u001b[0m),\n",
       "  \u001b[33mArray\u001b[0m(\u001b[32m\"\"\u001b[0m, \u001b[32m\"4\"\u001b[0m, \u001b[32m\"jython-pract.ipynb\"\u001b[0m),\n",
       "  \u001b[33mArray\u001b[0m(\u001b[32m\"\"\u001b[0m, \u001b[32m\"4\"\u001b[0m, \u001b[32m\"pract1.ipynb\"\u001b[0m),\n",
       "  \u001b[33mArray\u001b[0m(\u001b[32m\"60\"\u001b[0m, \u001b[32m\"scala-pract.ipynb\"\u001b[0m)\n",
       ")"
      ]
     },
     "metadata": {},
     "output_type": "display_data"
    }
   ],
   "source": [
    "files.filter(!_.contains(\"total\")).map(x=> x.split(\" \"))"
   ]
  },
  {
   "cell_type": "code",
   "execution_count": 24,
   "metadata": {
    "collapsed": false
   },
   "outputs": [
    {
     "data": {
      "text/plain": [
       "\u001b[36ms\u001b[0m: \u001b[32mString\u001b[0m = \u001b[32m\"saveChangesInTheEditor\"\u001b[0m"
      ]
     },
     "metadata": {},
     "output_type": "display_data"
    }
   ],
   "source": [
    "val s = \"saveChangesInTheEditor\""
   ]
  },
  {
   "cell_type": "code",
   "execution_count": 27,
   "metadata": {
    "collapsed": false
   },
   "outputs": [
    {
     "data": {
      "text/plain": [
       "\u001b[36mres26\u001b[0m: \u001b[32mInt\u001b[0m = \u001b[32m4\u001b[0m"
      ]
     },
     "metadata": {},
     "output_type": "display_data"
    }
   ],
   "source": [
    "s.filter(_.isUpper).length()"
   ]
  },
  {
   "cell_type": "code",
   "execution_count": null,
   "metadata": {
    "collapsed": false
   },
   "outputs": [],
   "source": []
  },
  {
   "cell_type": "code",
   "execution_count": null,
   "metadata": {
    "collapsed": true
   },
   "outputs": [],
   "source": []
  }
 ],
 "metadata": {
  "kernelspec": {
   "display_name": "Scala 2.11",
   "language": "scala211",
   "name": "scala211"
  },
  "language_info": {
   "codemirror_mode": "text/x-scala",
   "file_extension": ".scala",
   "mimetype": "text/x-scala",
   "name": "scala211",
   "pygments_lexer": "scala",
   "version": "2.11.8"
  }
 },
 "nbformat": 4,
 "nbformat_minor": 1
}
