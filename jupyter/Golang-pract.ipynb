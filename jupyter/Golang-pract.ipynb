{
 "cells": [
  {
   "cell_type": "code",
   "execution_count": null,
   "metadata": {
    "collapsed": true
   },
   "outputs": [],
   "source": []
  }
 ],
 "metadata": {
  "kernelspec": {
   "display_name": "Golang",
   "language": "go",
   "name": "gophernotes"
  },
  "language_info": {
   "name": "go"
  }
 },
 "nbformat": 4,
 "nbformat_minor": 1
}
