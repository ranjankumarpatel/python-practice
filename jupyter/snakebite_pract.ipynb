{
 "cells": [
  {
   "cell_type": "code",
   "execution_count": null,
   "metadata": {
    "collapsed": true
   },
   "outputs": [],
   "source": [
    "from snakebite.client import Client"
   ]
  },
  {
   "cell_type": "code",
   "execution_count": null,
   "metadata": {
    "collapsed": false
   },
   "outputs": [],
   "source": [
    "client = Client(\"10.0.0.2\", 8020, use_trash=False)"
   ]
  },
  {
   "cell_type": "code",
   "execution_count": null,
   "metadata": {
    "collapsed": false
   },
   "outputs": [],
   "source": [
    "list(client.ls(paths=['/']))"
   ]
  },
  {
   "cell_type": "code",
   "execution_count": null,
   "metadata": {
    "collapsed": false
   },
   "outputs": [],
   "source": [
    "Employee_list = list(client.ls(['/user/cloudera/Employee']))"
   ]
  },
  {
   "cell_type": "code",
   "execution_count": null,
   "metadata": {
    "collapsed": false
   },
   "outputs": [],
   "source": [
    "Employee_list"
   ]
  },
  {
   "cell_type": "code",
   "execution_count": null,
   "metadata": {
    "collapsed": true
   },
   "outputs": [],
   "source": [
    "def bytesToMB(bytes):\n",
    "    return round(bytes/(1024*1024),3)\n",
    "def bytesToKB(bytes):\n",
    "    return round(bytes/1024,3)"
   ]
  },
  {
   "cell_type": "code",
   "execution_count": null,
   "metadata": {
    "collapsed": false
   },
   "outputs": [],
   "source": [
    "map(lambda x: {\"path\":x.get(\"path\"),\"sizeMB\":bytesToMB(float(x.get(\"length\"))),\"sizeKB\":bytesToKB(float(x.get(\"length\")))},Employee_list)"
   ]
  },
  {
   "cell_type": "code",
   "execution_count": null,
   "metadata": {
    "collapsed": false
   },
   "outputs": [],
   "source": [
    "str(round(0.000000003,3))"
   ]
  },
  {
   "cell_type": "code",
   "execution_count": 48,
   "metadata": {
    "collapsed": false
   },
   "outputs": [],
   "source": [
    "from pexpect import pxssh"
   ]
  },
  {
   "cell_type": "raw",
   "metadata": {},
   "source": [
    "import getpass\n",
    "     |      try:\n",
    "     |          s = pxssh.pxssh()\n",
    "     |          hostname = raw_input('hostname: ')\n",
    "     |          username = raw_input('username: ')\n",
    "     |          password = getpass.getpass('password: ')\n",
    "     |          s.login(hostname, username, password)\n",
    "     |          s.sendline('uptime')   # run a command\n",
    "     |          s.prompt()             # match the prompt\n",
    "     |          print(s.before)        # print everything before the prompt.\n",
    "     |          s.sendline('ls -l')\n",
    "     |          s.prompt()\n",
    "     |          print(s.before)\n",
    "     |          s.sendline('df')\n",
    "     |          s.prompt()\n",
    "     |          print(s.before)\n",
    "     |          s.logout()\n",
    "     |      except pxssh.ExceptionPxssh as e:\n",
    "     |          print(\"pxssh failed on login.\")\n",
    "     |          print(e)"
   ]
  },
  {
   "cell_type": "code",
   "execution_count": 49,
   "metadata": {
    "collapsed": false
   },
   "outputs": [],
   "source": [
    "s = pxssh.pxssh()"
   ]
  },
  {
   "cell_type": "code",
   "execution_count": 50,
   "metadata": {
    "collapsed": false
   },
   "outputs": [
    {
     "data": {
      "text/plain": [
       "<pexpect.pxssh.pxssh at 0x7ff8b4069c90>"
      ]
     },
     "execution_count": 50,
     "metadata": {},
     "output_type": "execute_result"
    }
   ],
   "source": [
    "s"
   ]
  },
  {
   "cell_type": "code",
   "execution_count": 51,
   "metadata": {
    "collapsed": false
   },
   "outputs": [],
   "source": [
    "s.pid\n",
    "#s.login(\"localhost\",\"ranjan\",\"13972684\")\n",
    "#s.login(\"10.0.0.2\",\"cloudera\",\"cloudera\")"
   ]
  },
  {
   "cell_type": "code",
   "execution_count": 52,
   "metadata": {
    "collapsed": true
   },
   "outputs": [],
   "source": [
    "s.pid = None\n",
    "s.command=None"
   ]
  },
  {
   "cell_type": "code",
   "execution_count": 53,
   "metadata": {
    "collapsed": false
   },
   "outputs": [
    {
     "data": {
      "text/plain": [
       "True"
      ]
     },
     "execution_count": 53,
     "metadata": {},
     "output_type": "execute_result"
    }
   ],
   "source": [
    "s.login(\"172.31.60.179\",\"ranjanbighadoop5481\",\"3DN8I07Q\",auto_prompt_reset=False)"
   ]
  },
  {
   "cell_type": "code",
   "execution_count": 54,
   "metadata": {
    "collapsed": false
   },
   "outputs": [
    {
     "data": {
      "text/plain": [
       "<bound method pxssh.interact of <pexpect.pxssh.pxssh object at 0x7ff8b4069c90>>"
      ]
     },
     "execution_count": 54,
     "metadata": {},
     "output_type": "execute_result"
    }
   ],
   "source": [
    "s.interact"
   ]
  },
  {
   "cell_type": "code",
   "execution_count": 55,
   "metadata": {
    "collapsed": false
   },
   "outputs": [
    {
     "data": {
      "text/plain": [
       "298"
      ]
     },
     "execution_count": 55,
     "metadata": {},
     "output_type": "execute_result"
    }
   ],
   "source": [
    "s.sendline(\"sqoop import --connect jdbc:mysql://69.89.14.187:3306/engage_v1 --username engage --password punya123 --warehouse-dir=/user/ranjanbighadoop5481/ranjan_gmr --table survey_v1_user_response_store --hive-import  --hive-database ranjan_gmr --hive-table survey_v1_user_response_store --create-hive-table\")"
   ]
  },
  {
   "cell_type": "code",
   "execution_count": 56,
   "metadata": {
    "collapsed": false
   },
   "outputs": [
    {
     "data": {
      "text/plain": [
       "False"
      ]
     },
     "execution_count": 56,
     "metadata": {},
     "output_type": "execute_result"
    }
   ],
   "source": [
    "s.prompt()"
   ]
  },
  {
   "cell_type": "code",
   "execution_count": 57,
   "metadata": {
    "collapsed": false
   },
   "outputs": [
    {
     "name": "stdout",
     "output_type": "stream",
     "text": [
      "sqoop import --connect jdbc:mysql://69.89.14.187:3306/engage_v1 --username engage --password punya123 --warehouse-dir=/user/ranjanbighadoop5481/ranjan_gmr --table survey_v1_user_response_store --hive-import  --hive-database ranjan_gmr --hive-table survey_v1_user_response_store --create-hive-table\r\n",
      "\n"
     ]
    }
   ],
   "source": [
    "print s.before"
   ]
  },
  {
   "cell_type": "code",
   "execution_count": null,
   "metadata": {
    "collapsed": false
   },
   "outputs": [],
   "source": [
    "s.sendline(\"ls\")"
   ]
  },
  {
   "cell_type": "code",
   "execution_count": null,
   "metadata": {
    "collapsed": false
   },
   "outputs": [],
   "source": [
    "s.prompt()"
   ]
  },
  {
   "cell_type": "code",
   "execution_count": null,
   "metadata": {
    "collapsed": false
   },
   "outputs": [],
   "source": [
    "print s.before"
   ]
  },
  {
   "cell_type": "code",
   "execution_count": 58,
   "metadata": {
    "collapsed": false
   },
   "outputs": [
    {
     "name": "stderr",
     "output_type": "stream",
     "text": [
      "ERROR: ['ssh: connect to host 172.31.60.179 port 22: Connection timed out\\r\\n']\n"
     ]
    }
   ],
   "source": [
    "import subprocess\n",
    "import sys\n",
    "\n",
    "#s.login(\"172.31.60.179\",\"ranjanbighadoop5481\",\"3DN8I07Q\",auto_prompt_reset=False)\n",
    "\n",
    "HOST=\"172.31.60.179\"\n",
    "# Ports are handled in ~/.ssh/config since we use OpenSSH\n",
    "COMMAND=\"uname -a\"\n",
    "\n",
    "ssh = subprocess.Popen([\"ssh\", \"%s\" % HOST, COMMAND],\n",
    "                       shell=False,\n",
    "                       stdout=subprocess.PIPE,\n",
    "                       stderr=subprocess.PIPE)\n",
    "result = ssh.stdout.readlines()\n",
    "if result == []:\n",
    "    error = ssh.stderr.readlines()\n",
    "    print >>sys.stderr, \"ERROR: %s\" % error\n",
    "else:\n",
    "    print result"
   ]
  },
  {
   "cell_type": "code",
   "execution_count": 59,
   "metadata": {
    "collapsed": false
   },
   "outputs": [
    {
     "data": {
      "text/plain": [
       "<paramiko.client.SSHClient at 0x7ff8a5829ad0>"
      ]
     },
     "execution_count": 59,
     "metadata": {},
     "output_type": "execute_result"
    }
   ],
   "source": [
    "import paramiko\n",
    "ssh = paramiko.SSHClient()\n",
    "#ssh.connect('172.31.60.179', username='ranjanbighadoop5481',     password='3DN8I07Q')\n",
    "#ssh.connect('localhost', username='ranjan', password='13972684')\n",
    "#ssh.invoke_shell\n",
    "ssh"
   ]
  },
  {
   "cell_type": "code",
   "execution_count": null,
   "metadata": {
    "collapsed": true
   },
   "outputs": [],
   "source": [
    "ssh"
   ]
  },
  {
   "cell_type": "code",
   "execution_count": null,
   "metadata": {
    "collapsed": false
   },
   "outputs": [],
   "source": [
    "stdin, stdout, stderr = ssh.exec_command(\"uptime\")\n",
    "stdout.readlines()"
   ]
  },
  {
   "cell_type": "code",
   "execution_count": null,
   "metadata": {
    "collapsed": false
   },
   "outputs": [],
   "source": [
    "import socket\n",
    "import libssh2\n",
    "\n",
    "sock = socket.socket(socket.AF_INET, socket.SOCK_STREAM)\n",
    "sock.connect(('172.31.60.179', 22))\n",
    "\n",
    "session = libssh2.Session()\n",
    "session.startup(sock)\n",
    "session.userauth_password('ranjanbighadoop5481', '3DN8I07Q')\n",
    "\n",
    "channel = session.channel()\n",
    "channel.execute('ls -l')\n",
    "\n",
    "print channel.read(1024)"
   ]
  },
  {
   "cell_type": "code",
   "execution_count": null,
   "metadata": {
    "collapsed": false
   },
   "outputs": [],
   "source": [
    "import spur\n",
    "shell = spur.SshShell(hostname=\"localhost\", username=\"ranjan\", password=\"13972684\")\n",
    "result = shell.run([\"echo\", \"-n\", \"hello\"])\n",
    "print(result.output) # prints hello"
   ]
  },
  {
   "cell_type": "code",
   "execution_count": 45,
   "metadata": {
    "collapsed": false
   },
   "outputs": [
    {
     "ename": "Error",
     "evalue": "Incorrect padding",
     "output_type": "error",
     "traceback": [
      "\u001b[0;31m---------------------------------------------------------------------------\u001b[0m",
      "\u001b[0;31mError\u001b[0m                                     Traceback (most recent call last)",
      "\u001b[0;32m<ipython-input-45-d540321c13fe>\u001b[0m in \u001b[0;36m<module>\u001b[0;34m()\u001b[0m\n\u001b[1;32m      1\u001b[0m \u001b[0;32mimport\u001b[0m \u001b[0mparamiko\u001b[0m\u001b[0;34m,\u001b[0m \u001b[0mbase64\u001b[0m\u001b[0;34m\u001b[0m\u001b[0m\n\u001b[0;32m----> 2\u001b[0;31m \u001b[0mkey\u001b[0m \u001b[0;34m=\u001b[0m \u001b[0mparamiko\u001b[0m\u001b[0;34m.\u001b[0m\u001b[0mRSAKey\u001b[0m\u001b[0;34m(\u001b[0m\u001b[0mdata\u001b[0m\u001b[0;34m=\u001b[0m\u001b[0mbase64\u001b[0m\u001b[0;34m.\u001b[0m\u001b[0mdecodestring\u001b[0m\u001b[0;34m(\u001b[0m\u001b[0;34m'AAA...'\u001b[0m\u001b[0;34m)\u001b[0m\u001b[0;34m)\u001b[0m\u001b[0;34m\u001b[0m\u001b[0m\n\u001b[0m\u001b[1;32m      3\u001b[0m \u001b[0mclient\u001b[0m \u001b[0;34m=\u001b[0m \u001b[0mparamiko\u001b[0m\u001b[0;34m.\u001b[0m\u001b[0mSSHClient\u001b[0m\u001b[0;34m(\u001b[0m\u001b[0;34m)\u001b[0m\u001b[0;34m\u001b[0m\u001b[0m\n\u001b[1;32m      4\u001b[0m \u001b[0mclient\u001b[0m\u001b[0;34m.\u001b[0m\u001b[0mget_host_keys\u001b[0m\u001b[0;34m(\u001b[0m\u001b[0;34m)\u001b[0m\u001b[0;34m.\u001b[0m\u001b[0madd\u001b[0m\u001b[0;34m(\u001b[0m\u001b[0;34m'ssh.example.com'\u001b[0m\u001b[0;34m,\u001b[0m \u001b[0;34m'ssh-rsa'\u001b[0m\u001b[0;34m,\u001b[0m \u001b[0mkey\u001b[0m\u001b[0;34m)\u001b[0m\u001b[0;34m\u001b[0m\u001b[0m\n\u001b[1;32m      5\u001b[0m \u001b[0mclient\u001b[0m\u001b[0;34m.\u001b[0m\u001b[0mconnect\u001b[0m\u001b[0;34m(\u001b[0m\u001b[0;34m'ssh.example.com'\u001b[0m\u001b[0;34m,\u001b[0m \u001b[0musername\u001b[0m\u001b[0;34m=\u001b[0m\u001b[0;34m'strongbad'\u001b[0m\u001b[0;34m,\u001b[0m \u001b[0mpassword\u001b[0m\u001b[0;34m=\u001b[0m\u001b[0;34m'thecheat'\u001b[0m\u001b[0;34m)\u001b[0m\u001b[0;34m\u001b[0m\u001b[0m\n",
      "\u001b[0;32m/usr/lib/python2.7/base64.pyc\u001b[0m in \u001b[0;36mdecodestring\u001b[0;34m(s)\u001b[0m\n\u001b[1;32m    326\u001b[0m \u001b[0;32mdef\u001b[0m \u001b[0mdecodestring\u001b[0m\u001b[0;34m(\u001b[0m\u001b[0ms\u001b[0m\u001b[0;34m)\u001b[0m\u001b[0;34m:\u001b[0m\u001b[0;34m\u001b[0m\u001b[0m\n\u001b[1;32m    327\u001b[0m     \u001b[0;34m\"\"\"Decode a string.\"\"\"\u001b[0m\u001b[0;34m\u001b[0m\u001b[0m\n\u001b[0;32m--> 328\u001b[0;31m     \u001b[0;32mreturn\u001b[0m \u001b[0mbinascii\u001b[0m\u001b[0;34m.\u001b[0m\u001b[0ma2b_base64\u001b[0m\u001b[0;34m(\u001b[0m\u001b[0ms\u001b[0m\u001b[0;34m)\u001b[0m\u001b[0;34m\u001b[0m\u001b[0m\n\u001b[0m\u001b[1;32m    329\u001b[0m \u001b[0;34m\u001b[0m\u001b[0m\n\u001b[1;32m    330\u001b[0m \u001b[0;34m\u001b[0m\u001b[0m\n",
      "\u001b[0;31mError\u001b[0m: Incorrect padding"
     ]
    }
   ],
   "source": [
    "import paramiko, base64\n",
    "key = paramiko.RSAKey(data=base64.decodestring('AAA...'))\n",
    "client = paramiko.SSHClient()\n",
    "client.get_host_keys().add('ssh.example.com', 'ssh-rsa', key)\n",
    "client.connect('ssh.example.com', username='strongbad', password='thecheat')\n",
    "stdin, stdout, stderr = client.exec_command('ls')\n",
    "for line in stdout:\n",
    "    print '... ' + line.strip('\\n')\n",
    "client.close()"
   ]
  },
  {
   "cell_type": "code",
   "execution_count": null,
   "metadata": {
    "collapsed": true
   },
   "outputs": [],
   "source": []
  }
 ],
 "metadata": {
  "kernelspec": {
   "display_name": "Python 2",
   "language": "python",
   "name": "python2"
  },
  "language_info": {
   "codemirror_mode": {
    "name": "ipython",
    "version": 2
   },
   "file_extension": ".py",
   "mimetype": "text/x-python",
   "name": "python",
   "nbconvert_exporter": "python",
   "pygments_lexer": "ipython2",
   "version": "2.7.12"
  }
 },
 "nbformat": 4,
 "nbformat_minor": 1
}
