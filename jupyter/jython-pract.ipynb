{
 "cells": [
  {
   "cell_type": "code",
   "execution_count": null,
   "metadata": {
    "collapsed": true
   },
   "outputs": [],
   "source": [
    "system"
   ]
  }
 ],
 "metadata": {
  "kernelspec": {
   "display_name": "Jython",
   "language": "python",
   "name": "jython_kernel"
  }
 },
 "nbformat": 4,
 "nbformat_minor": 1
}
