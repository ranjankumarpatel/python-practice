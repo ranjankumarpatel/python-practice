{
 "cells": [
  {
   "cell_type": "code",
   "execution_count": 37,
   "metadata": {},
   "outputs": [],
   "source": [
    "import pandas as pd\n",
    "import MySQLdb\n",
    "import nltk\n",
    "from nltk.stem.snowball import SnowballStemmer\n",
    "from nltk.stem import WordNetLemmatizer\n",
    "import numpy as np\n",
    "import jsonify"
   ]
  },
  {
   "cell_type": "code",
   "execution_count": 38,
   "metadata": {
    "collapsed": true
   },
   "outputs": [],
   "source": [
    "db = MySQLdb.connect(\"69.89.14.35\",\"360feedback\",\"360feedback@\",\"ttn_central_v1\" )\n",
    "db.autocommit=False"
   ]
  },
  {
   "cell_type": "code",
   "execution_count": 39,
   "metadata": {},
   "outputs": [],
   "source": [
    "df = pd.read_sql_query(sql=\"\"\"SELECT \n",
    "    360_v1_respondent_feedback.*\n",
    "FROM\n",
    "    ttn_central_v1.360_v1_respondent_feedback\n",
    "        JOIN\n",
    "    360_v1_respondent_fs_rel_mapper ON 360_v1_respondent_fs_rel_mapper.RFRM_ID = 360_v1_respondent_feedback.RFRM_ID\n",
    "WHERE\n",
    "    360_v1_respondent_feedback.SSUBM_ID IS NOT NULL\n",
    "        AND 360_v1_respondent_fs_rel_mapper.PROJ_ID = 525;\"\"\",con=db)"
   ]
  },
  {
   "cell_type": "code",
   "execution_count": 40,
   "metadata": {},
   "outputs": [],
   "source": [
    "df = df[~df.SUBJECTIVE.isin([\"nopes\",\"\",\".\"])]"
   ]
  },
  {
   "cell_type": "code",
   "execution_count": 41,
   "metadata": {},
   "outputs": [],
   "source": [
    "df[\"sub_small\"]=df.SUBJECTIVE.map(lambda x: x.lower())"
   ]
  },
  {
   "cell_type": "code",
   "execution_count": 42,
   "metadata": {},
   "outputs": [
    {
     "data": {
      "text/html": [
       "<div>\n",
       "<table border=\"1\" class=\"dataframe\">\n",
       "  <thead>\n",
       "    <tr style=\"text-align: right;\">\n",
       "      <th></th>\n",
       "      <th>RF_ID</th>\n",
       "      <th>CSM_ID</th>\n",
       "      <th>RATE</th>\n",
       "      <th>SSUBM_ID</th>\n",
       "      <th>SUBJECTIVE</th>\n",
       "      <th>RFRM_ID</th>\n",
       "      <th>sub_small</th>\n",
       "    </tr>\n",
       "  </thead>\n",
       "  <tbody>\n",
       "    <tr>\n",
       "      <th>0</th>\n",
       "      <td>188889</td>\n",
       "      <td>None</td>\n",
       "      <td>0</td>\n",
       "      <td>77</td>\n",
       "      <td>Deliver the promise\\r\\nTeamwork and realtionship</td>\n",
       "      <td>6343</td>\n",
       "      <td>deliver the promise\\r\\nteamwork and realtionship</td>\n",
       "    </tr>\n",
       "    <tr>\n",
       "      <th>1</th>\n",
       "      <td>188890</td>\n",
       "      <td>None</td>\n",
       "      <td>0</td>\n",
       "      <td>78</td>\n",
       "      <td>Entrepreneurship\\r\\nsocial responsibility</td>\n",
       "      <td>6343</td>\n",
       "      <td>entrepreneurship\\r\\nsocial responsibility</td>\n",
       "    </tr>\n",
       "    <tr>\n",
       "      <th>2</th>\n",
       "      <td>167598</td>\n",
       "      <td>None</td>\n",
       "      <td>0</td>\n",
       "      <td>77</td>\n",
       "      <td>Learning &amp; Deliver the promise: \\r\\nMr. Sharma...</td>\n",
       "      <td>6345</td>\n",
       "      <td>learning &amp; deliver the promise: \\r\\nmr. sharma...</td>\n",
       "    </tr>\n",
       "    <tr>\n",
       "      <th>3</th>\n",
       "      <td>167599</td>\n",
       "      <td>None</td>\n",
       "      <td>0</td>\n",
       "      <td>78</td>\n",
       "      <td>Respect for the Individual &amp; Teamwork and Rela...</td>\n",
       "      <td>6345</td>\n",
       "      <td>respect for the individual &amp; teamwork and rela...</td>\n",
       "    </tr>\n",
       "    <tr>\n",
       "      <th>4</th>\n",
       "      <td>172862</td>\n",
       "      <td>None</td>\n",
       "      <td>0</td>\n",
       "      <td>77</td>\n",
       "      <td>1. Learning- Learn from all level irrespective...</td>\n",
       "      <td>6346</td>\n",
       "      <td>1. learning- learn from all level irrespective...</td>\n",
       "    </tr>\n",
       "  </tbody>\n",
       "</table>\n",
       "</div>"
      ],
      "text/plain": [
       "    RF_ID CSM_ID  RATE  SSUBM_ID  \\\n",
       "0  188889   None     0        77   \n",
       "1  188890   None     0        78   \n",
       "2  167598   None     0        77   \n",
       "3  167599   None     0        78   \n",
       "4  172862   None     0        77   \n",
       "\n",
       "                                          SUBJECTIVE  RFRM_ID  \\\n",
       "0   Deliver the promise\\r\\nTeamwork and realtionship     6343   \n",
       "1          Entrepreneurship\\r\\nsocial responsibility     6343   \n",
       "2  Learning & Deliver the promise: \\r\\nMr. Sharma...     6345   \n",
       "3  Respect for the Individual & Teamwork and Rela...     6345   \n",
       "4  1. Learning- Learn from all level irrespective...     6346   \n",
       "\n",
       "                                           sub_small  \n",
       "0   deliver the promise\\r\\nteamwork and realtionship  \n",
       "1          entrepreneurship\\r\\nsocial responsibility  \n",
       "2  learning & deliver the promise: \\r\\nmr. sharma...  \n",
       "3  respect for the individual & teamwork and rela...  \n",
       "4  1. learning- learn from all level irrespective...  "
      ]
     },
     "execution_count": 42,
     "metadata": {},
     "output_type": "execute_result"
    }
   ],
   "source": [
    "df.head()"
   ]
  },
  {
   "cell_type": "code",
   "execution_count": 43,
   "metadata": {},
   "outputs": [
    {
     "data": {
      "text/plain": [
       "0    [Deliver, the, promise, Teamwork, and, realtio...\n",
       "1           [Entrepreneurship, social, responsibility]\n",
       "2    [Learning, &, Deliver, the, promise, :, Mr, .,...\n",
       "3    [Respect, for, the, Individual, &, Teamwork, a...\n",
       "4    [1, ., Learning, -, Learn, from, all, level, i...\n",
       "Name: tokens, dtype: object"
      ]
     },
     "execution_count": 43,
     "metadata": {},
     "output_type": "execute_result"
    }
   ],
   "source": [
    "from sklearn.feature_extraction.text import TfidfVectorizer\n",
    "v = TfidfVectorizer()\n",
    "df['tokens']=df.SUBJECTIVE.apply(lambda x: nltk.wordpunct_tokenize(x))\n",
    "df.tokens.head()"
   ]
  },
  {
   "cell_type": "code",
   "execution_count": 71,
   "metadata": {},
   "outputs": [
    {
     "data": {
      "text/html": [
       "<div>\n",
       "<table border=\"1\" class=\"dataframe\">\n",
       "  <thead>\n",
       "    <tr style=\"text-align: right;\">\n",
       "      <th></th>\n",
       "      <th>RF_ID</th>\n",
       "      <th>CSM_ID</th>\n",
       "      <th>RATE</th>\n",
       "      <th>SSUBM_ID</th>\n",
       "      <th>SUBJECTIVE</th>\n",
       "      <th>RFRM_ID</th>\n",
       "      <th>sub_small</th>\n",
       "      <th>tokens</th>\n",
       "      <th>stemmed</th>\n",
       "      <th>stemmedarr</th>\n",
       "      <th>close</th>\n",
       "      <th>stmt_1_close</th>\n",
       "      <th>stmt_1_close_arr</th>\n",
       "    </tr>\n",
       "  </thead>\n",
       "  <tbody>\n",
       "    <tr>\n",
       "      <th>0</th>\n",
       "      <td>188889</td>\n",
       "      <td>None</td>\n",
       "      <td>0</td>\n",
       "      <td>77</td>\n",
       "      <td>Deliver the promise\\r\\nTeamwork and realtionship</td>\n",
       "      <td>6343</td>\n",
       "      <td>deliver the promise\\r\\nteamwork and realtionship</td>\n",
       "      <td>[Deliver, the, promise, Teamwork, and, realtio...</td>\n",
       "      <td>deliv the promis teamwork and realtionship</td>\n",
       "      <td>{and, realtionship, teamwork, deliv, promis, the}</td>\n",
       "      <td>1</td>\n",
       "      <td>0</td>\n",
       "      <td>[]</td>\n",
       "    </tr>\n",
       "    <tr>\n",
       "      <th>1</th>\n",
       "      <td>188890</td>\n",
       "      <td>None</td>\n",
       "      <td>0</td>\n",
       "      <td>78</td>\n",
       "      <td>Entrepreneurship\\r\\nsocial responsibility</td>\n",
       "      <td>6343</td>\n",
       "      <td>entrepreneurship\\r\\nsocial responsibility</td>\n",
       "      <td>[Entrepreneurship, social, responsibility]</td>\n",
       "      <td>entrepreneurship social respons</td>\n",
       "      <td>{social, respons, entrepreneurship}</td>\n",
       "      <td>0</td>\n",
       "      <td>0</td>\n",
       "      <td>[]</td>\n",
       "    </tr>\n",
       "    <tr>\n",
       "      <th>2</th>\n",
       "      <td>167598</td>\n",
       "      <td>None</td>\n",
       "      <td>0</td>\n",
       "      <td>77</td>\n",
       "      <td>Learning &amp; Deliver the promise: \\r\\nMr. Sharma...</td>\n",
       "      <td>6345</td>\n",
       "      <td>learning &amp; deliver the promise: \\r\\nmr. sharma...</td>\n",
       "      <td>[Learning, &amp;, Deliver, the, promise, :, Mr, .,...</td>\n",
       "      <td>learn deliv the promis mr sharma is a fast lea...</td>\n",
       "      <td>{a, learn, sharma, is, deliv, learner, ani, fa...</td>\n",
       "      <td>2</td>\n",
       "      <td>1</td>\n",
       "      <td>[Learning]</td>\n",
       "    </tr>\n",
       "    <tr>\n",
       "      <th>3</th>\n",
       "      <td>167599</td>\n",
       "      <td>None</td>\n",
       "      <td>0</td>\n",
       "      <td>78</td>\n",
       "      <td>Respect for the Individual &amp; Teamwork and Rela...</td>\n",
       "      <td>6345</td>\n",
       "      <td>respect for the individual &amp; teamwork and rela...</td>\n",
       "      <td>[Respect, for, the, Individual, &amp;, Teamwork, a...</td>\n",
       "      <td>respect for the individu teamwork and relation...</td>\n",
       "      <td>{and, all, individu, maintain, good, respect, ...</td>\n",
       "      <td>1</td>\n",
       "      <td>0</td>\n",
       "      <td>[]</td>\n",
       "    </tr>\n",
       "    <tr>\n",
       "      <th>4</th>\n",
       "      <td>172862</td>\n",
       "      <td>None</td>\n",
       "      <td>0</td>\n",
       "      <td>77</td>\n",
       "      <td>1. Learning- Learn from all level irrespective...</td>\n",
       "      <td>6346</td>\n",
       "      <td>1. learning- learn from all level irrespective...</td>\n",
       "      <td>[1, ., Learning, -, Learn, from, all, level, i...</td>\n",
       "      <td>learn learn from all level irrespect of hierar...</td>\n",
       "      <td>{and, all, from, risk, execut, level, of, age,...</td>\n",
       "      <td>3</td>\n",
       "      <td>1</td>\n",
       "      <td>[Learning]</td>\n",
       "    </tr>\n",
       "  </tbody>\n",
       "</table>\n",
       "</div>"
      ],
      "text/plain": [
       "    RF_ID CSM_ID  RATE  SSUBM_ID  \\\n",
       "0  188889   None     0        77   \n",
       "1  188890   None     0        78   \n",
       "2  167598   None     0        77   \n",
       "3  167599   None     0        78   \n",
       "4  172862   None     0        77   \n",
       "\n",
       "                                          SUBJECTIVE  RFRM_ID  \\\n",
       "0   Deliver the promise\\r\\nTeamwork and realtionship     6343   \n",
       "1          Entrepreneurship\\r\\nsocial responsibility     6343   \n",
       "2  Learning & Deliver the promise: \\r\\nMr. Sharma...     6345   \n",
       "3  Respect for the Individual & Teamwork and Rela...     6345   \n",
       "4  1. Learning- Learn from all level irrespective...     6346   \n",
       "\n",
       "                                           sub_small  \\\n",
       "0   deliver the promise\\r\\nteamwork and realtionship   \n",
       "1          entrepreneurship\\r\\nsocial responsibility   \n",
       "2  learning & deliver the promise: \\r\\nmr. sharma...   \n",
       "3  respect for the individual & teamwork and rela...   \n",
       "4  1. learning- learn from all level irrespective...   \n",
       "\n",
       "                                              tokens  \\\n",
       "0  [Deliver, the, promise, Teamwork, and, realtio...   \n",
       "1         [Entrepreneurship, social, responsibility]   \n",
       "2  [Learning, &, Deliver, the, promise, :, Mr, .,...   \n",
       "3  [Respect, for, the, Individual, &, Teamwork, a...   \n",
       "4  [1, ., Learning, -, Learn, from, all, level, i...   \n",
       "\n",
       "                                             stemmed  \\\n",
       "0         deliv the promis teamwork and realtionship   \n",
       "1                    entrepreneurship social respons   \n",
       "2  learn deliv the promis mr sharma is a fast lea...   \n",
       "3  respect for the individu teamwork and relation...   \n",
       "4  learn learn from all level irrespect of hierar...   \n",
       "\n",
       "                                          stemmedarr  close  stmt_1_close  \\\n",
       "0  {and, realtionship, teamwork, deliv, promis, the}      1             0   \n",
       "1                {social, respons, entrepreneurship}      0             0   \n",
       "2  {a, learn, sharma, is, deliv, learner, ani, fa...      2             1   \n",
       "3  {and, all, individu, maintain, good, respect, ...      1             0   \n",
       "4  {and, all, from, risk, execut, level, of, age,...      3             1   \n",
       "\n",
       "  stmt_1_close_arr  \n",
       "0               []  \n",
       "1               []  \n",
       "2       [Learning]  \n",
       "3               []  \n",
       "4       [Learning]  "
      ]
     },
     "execution_count": 71,
     "metadata": {},
     "output_type": "execute_result"
    }
   ],
   "source": [
    "stemmer = SnowballStemmer(language=\"english\",ignore_stopwords=False)\n",
    "wordnet_lemmatizer = WordNetLemmatizer()\n",
    "df['stemmed'] = df.tokens.map(lambda x: \" \".join([stemmer.stem(y) for y in x if y.isalpha()]))\n",
    "df['stemmedarr'] = df.tokens.map(lambda x: set([stemmer.stem(y) for y in x if y.isalpha()]))\n",
    "df.head()"
   ]
  },
  {
   "cell_type": "code",
   "execution_count": 72,
   "metadata": {},
   "outputs": [
    {
     "data": {
      "text/plain": [
       "CountVectorizer(analyzer=u'word', binary=False, decode_error=u'strict',\n",
       "        dtype=<type 'numpy.int64'>, encoding=u'utf-8', input=u'content',\n",
       "        lowercase=True, max_df=0.5, max_features=None, min_df=1,\n",
       "        ngram_range=(1, 2), preprocessor=None, stop_words='english',\n",
       "        strip_accents=None, token_pattern=u'(?u)\\\\b\\\\w\\\\w+\\\\b',\n",
       "        tokenizer=None, vocabulary=None)"
      ]
     },
     "execution_count": 72,
     "metadata": {},
     "output_type": "execute_result"
    }
   ],
   "source": [
    "# Starting with the CountVectorizer/TfidfTransformer approach...\n",
    "from sklearn.feature_extraction.text import CountVectorizer\n",
    "from sklearn.feature_extraction.text import TfidfTransformer\n",
    " \n",
    "cvec = CountVectorizer(stop_words='english', min_df=1, max_df=.5, ngram_range=(1,2))\n",
    "cvec"
   ]
  },
  {
   "cell_type": "code",
   "execution_count": 73,
   "metadata": {},
   "outputs": [
    {
     "data": {
      "text/plain": [
       "[(u'individu bias', 55),\n",
       " (u'execut', 38),\n",
       " (u'social local', 121),\n",
       " (u'focus', 41),\n",
       " (u'inculc cost', 53),\n",
       " (u'bias maintain', 7),\n",
       " (u'collabor', 10),\n",
       " (u'collabor way', 11),\n",
       " (u'good exampl', 44),\n",
       " (u'hierarchi', 48),\n",
       " (u'high learn', 51),\n",
       " (u'superior', 125),\n",
       " (u'teamwork relationship', 135),\n",
       " (u'fast learner', 40),\n",
       " (u'learn deliv', 63),\n",
       " (u'activ', 0),\n",
       " (u'work execut', 148),\n",
       " (u'local', 71),\n",
       " (u'risk dure', 106),\n",
       " (u'good', 43)]"
      ]
     },
     "execution_count": 73,
     "metadata": {},
     "output_type": "execute_result"
    }
   ],
   "source": [
    "# Calculate all the n-grams found in all documents\n",
    "from itertools import islice\n",
    "cvec.fit(df.stemmed)\n",
    "list(islice(cvec.vocabulary_.items(), 20))"
   ]
  },
  {
   "cell_type": "code",
   "execution_count": 74,
   "metadata": {},
   "outputs": [],
   "source": [
    "# Check how many total n-grams we have\n",
    "ngramrange=len(cvec.vocabulary_)"
   ]
  },
  {
   "cell_type": "code",
   "execution_count": 75,
   "metadata": {},
   "outputs": [
    {
     "data": {
      "text/plain": [
       "149"
      ]
     },
     "execution_count": 75,
     "metadata": {},
     "output_type": "execute_result"
    }
   ],
   "source": [
    "# Check how many total n-grams we have\n",
    "len(cvec.vocabulary_)"
   ]
  },
  {
   "cell_type": "code",
   "execution_count": 76,
   "metadata": {},
   "outputs": [
    {
     "ename": "SyntaxError",
     "evalue": "invalid syntax (<ipython-input-76-55ca98c76fda>, line 2)",
     "output_type": "error",
     "traceback": [
      "\u001b[0;36m  File \u001b[0;32m\"<ipython-input-76-55ca98c76fda>\"\u001b[0;36m, line \u001b[0;32m2\u001b[0m\n\u001b[0;31m    print 'sparse matrix shape:', cvec_counts.shape\u001b[0m\n\u001b[0m                               ^\u001b[0m\n\u001b[0;31mSyntaxError\u001b[0m\u001b[0;31m:\u001b[0m invalid syntax\n"
     ]
    }
   ],
   "source": [
    "cvec_counts = cvec.transform(df.stemmed)\n",
    "print 'sparse matrix shape:', cvec_counts.shape\n",
    "print 'nonzero count:', cvec_counts.nnz\n",
    "print 'sparsity: %.2f%%' % (100.0 * cvec_counts.nnz / (cvec_counts.shape[0] * cvec_counts.shape[1]))"
   ]
  },
  {
   "cell_type": "code",
   "execution_count": 77,
   "metadata": {},
   "outputs": [
    {
     "ename": "NameError",
     "evalue": "name 'cvec_counts' is not defined",
     "output_type": "error",
     "traceback": [
      "\u001b[0;31m---------------------------------------------------------------------------\u001b[0m",
      "\u001b[0;31mNameError\u001b[0m                                 Traceback (most recent call last)",
      "\u001b[0;32m<ipython-input-77-c68ba9c628a3>\u001b[0m in \u001b[0;36m<module>\u001b[0;34m()\u001b[0m\n\u001b[0;32m----> 1\u001b[0;31m \u001b[0mocc\u001b[0m \u001b[0;34m=\u001b[0m \u001b[0mnp\u001b[0m\u001b[0;34m.\u001b[0m\u001b[0masarray\u001b[0m\u001b[0;34m(\u001b[0m\u001b[0mcvec_counts\u001b[0m\u001b[0;34m.\u001b[0m\u001b[0msum\u001b[0m\u001b[0;34m(\u001b[0m\u001b[0maxis\u001b[0m\u001b[0;34m=\u001b[0m\u001b[0;36m0\u001b[0m\u001b[0;34m)\u001b[0m\u001b[0;34m)\u001b[0m\u001b[0;34m.\u001b[0m\u001b[0mravel\u001b[0m\u001b[0;34m(\u001b[0m\u001b[0;34m)\u001b[0m\u001b[0;34m.\u001b[0m\u001b[0mtolist\u001b[0m\u001b[0;34m(\u001b[0m\u001b[0;34m)\u001b[0m\u001b[0;34m\u001b[0m\u001b[0m\n\u001b[0m\u001b[1;32m      2\u001b[0m \u001b[0mcounts_df\u001b[0m \u001b[0;34m=\u001b[0m \u001b[0mpd\u001b[0m\u001b[0;34m.\u001b[0m\u001b[0mDataFrame\u001b[0m\u001b[0;34m(\u001b[0m\u001b[0;34m{\u001b[0m\u001b[0;34m'term'\u001b[0m\u001b[0;34m:\u001b[0m \u001b[0mcvec\u001b[0m\u001b[0;34m.\u001b[0m\u001b[0mget_feature_names\u001b[0m\u001b[0;34m(\u001b[0m\u001b[0;34m)\u001b[0m\u001b[0;34m,\u001b[0m \u001b[0;34m'occurrences'\u001b[0m\u001b[0;34m:\u001b[0m \u001b[0mocc\u001b[0m\u001b[0;34m}\u001b[0m\u001b[0;34m)\u001b[0m\u001b[0;34m\u001b[0m\u001b[0m\n\u001b[1;32m      3\u001b[0m \u001b[0mcounts_df\u001b[0m\u001b[0;34m.\u001b[0m\u001b[0msort_values\u001b[0m\u001b[0;34m(\u001b[0m\u001b[0mby\u001b[0m\u001b[0;34m=\u001b[0m\u001b[0;34m'occurrences'\u001b[0m\u001b[0;34m,\u001b[0m \u001b[0mascending\u001b[0m\u001b[0;34m=\u001b[0m\u001b[0mFalse\u001b[0m\u001b[0;34m)\u001b[0m\u001b[0;34m.\u001b[0m\u001b[0mhead\u001b[0m\u001b[0;34m(\u001b[0m\u001b[0;36m20\u001b[0m\u001b[0;34m)\u001b[0m\u001b[0;34m\u001b[0m\u001b[0m\n",
      "\u001b[0;31mNameError\u001b[0m: name 'cvec_counts' is not defined"
     ]
    }
   ],
   "source": [
    "occ = np.asarray(cvec_counts.sum(axis=0)).ravel().tolist()\n",
    "counts_df = pd.DataFrame({'term': cvec.get_feature_names(), 'occurrences': occ})\n",
    "counts_df.sort_values(by='occurrences', ascending=False).head(20)"
   ]
  },
  {
   "cell_type": "code",
   "execution_count": 78,
   "metadata": {},
   "outputs": [
    {
     "ename": "NameError",
     "evalue": "name 'cvec_counts' is not defined",
     "output_type": "error",
     "traceback": [
      "\u001b[0;31m---------------------------------------------------------------------------\u001b[0m",
      "\u001b[0;31mNameError\u001b[0m                                 Traceback (most recent call last)",
      "\u001b[0;32m<ipython-input-78-38c3d1ef78a3>\u001b[0m in \u001b[0;36m<module>\u001b[0;34m()\u001b[0m\n\u001b[1;32m      1\u001b[0m \u001b[0mtransformer\u001b[0m \u001b[0;34m=\u001b[0m \u001b[0mTfidfTransformer\u001b[0m\u001b[0;34m(\u001b[0m\u001b[0;34m)\u001b[0m\u001b[0;34m\u001b[0m\u001b[0m\n\u001b[0;32m----> 2\u001b[0;31m \u001b[0mtransformed_weights\u001b[0m \u001b[0;34m=\u001b[0m \u001b[0mtransformer\u001b[0m\u001b[0;34m.\u001b[0m\u001b[0mfit_transform\u001b[0m\u001b[0;34m(\u001b[0m\u001b[0mcvec_counts\u001b[0m\u001b[0;34m)\u001b[0m\u001b[0;34m\u001b[0m\u001b[0m\n\u001b[0m\u001b[1;32m      3\u001b[0m \u001b[0mtransformed_weights\u001b[0m\u001b[0;34m\u001b[0m\u001b[0m\n",
      "\u001b[0;31mNameError\u001b[0m: name 'cvec_counts' is not defined"
     ]
    }
   ],
   "source": [
    "transformer = TfidfTransformer()\n",
    "transformed_weights = transformer.fit_transform(cvec_counts)\n",
    "transformed_weights"
   ]
  },
  {
   "cell_type": "code",
   "execution_count": 79,
   "metadata": {},
   "outputs": [
    {
     "ename": "NameError",
     "evalue": "name 'transformed_weights' is not defined",
     "output_type": "error",
     "traceback": [
      "\u001b[0;31m---------------------------------------------------------------------------\u001b[0m",
      "\u001b[0;31mNameError\u001b[0m                                 Traceback (most recent call last)",
      "\u001b[0;32m<ipython-input-79-2ba692a01027>\u001b[0m in \u001b[0;36m<module>\u001b[0;34m()\u001b[0m\n\u001b[0;32m----> 1\u001b[0;31m \u001b[0mweights\u001b[0m \u001b[0;34m=\u001b[0m \u001b[0mnp\u001b[0m\u001b[0;34m.\u001b[0m\u001b[0masarray\u001b[0m\u001b[0;34m(\u001b[0m\u001b[0mtransformed_weights\u001b[0m\u001b[0;34m.\u001b[0m\u001b[0mmean\u001b[0m\u001b[0;34m(\u001b[0m\u001b[0maxis\u001b[0m\u001b[0;34m=\u001b[0m\u001b[0;36m0\u001b[0m\u001b[0;34m)\u001b[0m\u001b[0;34m)\u001b[0m\u001b[0;34m.\u001b[0m\u001b[0mravel\u001b[0m\u001b[0;34m(\u001b[0m\u001b[0;34m)\u001b[0m\u001b[0;34m.\u001b[0m\u001b[0mtolist\u001b[0m\u001b[0;34m(\u001b[0m\u001b[0;34m)\u001b[0m\u001b[0;34m\u001b[0m\u001b[0m\n\u001b[0m\u001b[1;32m      2\u001b[0m \u001b[0mweights_df\u001b[0m \u001b[0;34m=\u001b[0m \u001b[0mpd\u001b[0m\u001b[0;34m.\u001b[0m\u001b[0mDataFrame\u001b[0m\u001b[0;34m(\u001b[0m\u001b[0;34m{\u001b[0m\u001b[0;34m'term'\u001b[0m\u001b[0;34m:\u001b[0m \u001b[0mcvec\u001b[0m\u001b[0;34m.\u001b[0m\u001b[0mget_feature_names\u001b[0m\u001b[0;34m(\u001b[0m\u001b[0;34m)\u001b[0m\u001b[0;34m,\u001b[0m \u001b[0;34m'weight'\u001b[0m\u001b[0;34m:\u001b[0m \u001b[0mweights\u001b[0m\u001b[0;34m}\u001b[0m\u001b[0;34m)\u001b[0m\u001b[0;34m\u001b[0m\u001b[0m\n\u001b[1;32m      3\u001b[0m \u001b[0mweights_df\u001b[0m\u001b[0;34m.\u001b[0m\u001b[0msort_values\u001b[0m\u001b[0;34m(\u001b[0m\u001b[0mby\u001b[0m\u001b[0;34m=\u001b[0m\u001b[0;34m'weight'\u001b[0m\u001b[0;34m,\u001b[0m \u001b[0mascending\u001b[0m\u001b[0;34m=\u001b[0m\u001b[0mFalse\u001b[0m\u001b[0;34m)\u001b[0m\u001b[0;34m.\u001b[0m\u001b[0mhead\u001b[0m\u001b[0;34m(\u001b[0m\u001b[0;36m20\u001b[0m\u001b[0;34m)\u001b[0m\u001b[0;34m\u001b[0m\u001b[0m\n",
      "\u001b[0;31mNameError\u001b[0m: name 'transformed_weights' is not defined"
     ]
    }
   ],
   "source": [
    "weights = np.asarray(transformed_weights.mean(axis=0)).ravel().tolist()\n",
    "weights_df = pd.DataFrame({'term': cvec.get_feature_names(), 'weight': weights})\n",
    "weights_df.sort_values(by='weight', ascending=False).head(20)"
   ]
  },
  {
   "cell_type": "code",
   "execution_count": 80,
   "metadata": {},
   "outputs": [
    {
     "data": {
      "text/html": [
       "<div>\n",
       "<table border=\"1\" class=\"dataframe\">\n",
       "  <thead>\n",
       "    <tr style=\"text-align: right;\">\n",
       "      <th></th>\n",
       "      <th>term</th>\n",
       "      <th>weight</th>\n",
       "    </tr>\n",
       "  </thead>\n",
       "  <tbody>\n",
       "    <tr>\n",
       "      <th>35</th>\n",
       "      <td>realtionship</td>\n",
       "      <td>0.100000</td>\n",
       "    </tr>\n",
       "    <tr>\n",
       "      <th>12</th>\n",
       "      <td>deliveri</td>\n",
       "      <td>0.100000</td>\n",
       "    </tr>\n",
       "    <tr>\n",
       "      <th>31</th>\n",
       "      <td>need</td>\n",
       "      <td>0.060302</td>\n",
       "    </tr>\n",
       "    <tr>\n",
       "      <th>44</th>\n",
       "      <td>support</td>\n",
       "      <td>0.050000</td>\n",
       "    </tr>\n",
       "    <tr>\n",
       "      <th>30</th>\n",
       "      <td>manag</td>\n",
       "      <td>0.050000</td>\n",
       "    </tr>\n",
       "    <tr>\n",
       "      <th>29</th>\n",
       "      <td>maintain</td>\n",
       "      <td>0.050000</td>\n",
       "    </tr>\n",
       "    <tr>\n",
       "      <th>27</th>\n",
       "      <td>local</td>\n",
       "      <td>0.050000</td>\n",
       "    </tr>\n",
       "    <tr>\n",
       "      <th>17</th>\n",
       "      <td>fast</td>\n",
       "      <td>0.050000</td>\n",
       "    </tr>\n",
       "    <tr>\n",
       "      <th>42</th>\n",
       "      <td>stakehold</td>\n",
       "      <td>0.050000</td>\n",
       "    </tr>\n",
       "    <tr>\n",
       "      <th>43</th>\n",
       "      <td>superior</td>\n",
       "      <td>0.050000</td>\n",
       "    </tr>\n",
       "  </tbody>\n",
       "</table>\n",
       "</div>"
      ],
      "text/plain": [
       "            term    weight\n",
       "35  realtionship  0.100000\n",
       "12      deliveri  0.100000\n",
       "31          need  0.060302\n",
       "44       support  0.050000\n",
       "30         manag  0.050000\n",
       "29      maintain  0.050000\n",
       "27         local  0.050000\n",
       "17          fast  0.050000\n",
       "42     stakehold  0.050000\n",
       "43      superior  0.050000"
      ]
     },
     "execution_count": 80,
     "metadata": {},
     "output_type": "execute_result"
    }
   ],
   "source": [
    "from sklearn.feature_extraction.text import TfidfVectorizer\n",
    "tvec = TfidfVectorizer(min_df=.0025, max_df=.1, stop_words='english')\n",
    "tvec_weights = tvec.fit_transform(df.stemmed.dropna())\n",
    "weights = np.asarray(tvec_weights.mean(axis=0)).ravel().tolist()\n",
    "weights_df = pd.DataFrame({'term': tvec.get_feature_names(), 'weight': weights})\n",
    "weights_df.sort_values(by='weight', ascending=False).head(10)"
   ]
  },
  {
   "cell_type": "code",
   "execution_count": 81,
   "metadata": {},
   "outputs": [
    {
     "data": {
      "text/plain": [
       "100"
      ]
     },
     "execution_count": 81,
     "metadata": {},
     "output_type": "execute_result"
    }
   ],
   "source": [
    "weights_df.size"
   ]
  },
  {
   "cell_type": "code",
   "execution_count": 82,
   "metadata": {},
   "outputs": [
    {
     "data": {
      "text/html": [
       "<div>\n",
       "<table border=\"1\" class=\"dataframe\">\n",
       "  <thead>\n",
       "    <tr style=\"text-align: right;\">\n",
       "      <th></th>\n",
       "      <th>term</th>\n",
       "      <th>weight</th>\n",
       "    </tr>\n",
       "  </thead>\n",
       "  <tbody>\n",
       "    <tr>\n",
       "      <th>35</th>\n",
       "      <td>realtionship</td>\n",
       "      <td>0.100000</td>\n",
       "    </tr>\n",
       "    <tr>\n",
       "      <th>12</th>\n",
       "      <td>deliveri</td>\n",
       "      <td>0.100000</td>\n",
       "    </tr>\n",
       "    <tr>\n",
       "      <th>31</th>\n",
       "      <td>need</td>\n",
       "      <td>0.060302</td>\n",
       "    </tr>\n",
       "    <tr>\n",
       "      <th>44</th>\n",
       "      <td>support</td>\n",
       "      <td>0.050000</td>\n",
       "    </tr>\n",
       "    <tr>\n",
       "      <th>30</th>\n",
       "      <td>manag</td>\n",
       "      <td>0.050000</td>\n",
       "    </tr>\n",
       "  </tbody>\n",
       "</table>\n",
       "</div>"
      ],
      "text/plain": [
       "            term    weight\n",
       "35  realtionship  0.100000\n",
       "12      deliveri  0.100000\n",
       "31          need  0.060302\n",
       "44       support  0.050000\n",
       "30         manag  0.050000"
      ]
     },
     "execution_count": 82,
     "metadata": {},
     "output_type": "execute_result"
    }
   ],
   "source": [
    "top_weight=weights_df.sort_values(by='weight', ascending=False).head(50)\n",
    "top_weight.head(5)"
   ]
  },
  {
   "cell_type": "code",
   "execution_count": 83,
   "metadata": {},
   "outputs": [],
   "source": [
    "df[\"close\"]=df.stemmedarr.map(lambda x: len([y for y in x if y in top_weight.term.values]))"
   ]
  },
  {
   "cell_type": "code",
   "execution_count": 84,
   "metadata": {},
   "outputs": [
    {
     "data": {
      "text/html": [
       "<div>\n",
       "<table border=\"1\" class=\"dataframe\">\n",
       "  <thead>\n",
       "    <tr style=\"text-align: right;\">\n",
       "      <th></th>\n",
       "      <th>RF_ID</th>\n",
       "      <th>CSM_ID</th>\n",
       "      <th>RATE</th>\n",
       "      <th>SSUBM_ID</th>\n",
       "      <th>SUBJECTIVE</th>\n",
       "      <th>RFRM_ID</th>\n",
       "      <th>sub_small</th>\n",
       "      <th>tokens</th>\n",
       "      <th>stemmed</th>\n",
       "      <th>stemmedarr</th>\n",
       "      <th>close</th>\n",
       "      <th>stmt_1_close</th>\n",
       "      <th>stmt_1_close_arr</th>\n",
       "    </tr>\n",
       "  </thead>\n",
       "  <tbody>\n",
       "    <tr>\n",
       "      <th>6</th>\n",
       "      <td>168679</td>\n",
       "      <td>None</td>\n",
       "      <td>0</td>\n",
       "      <td>77</td>\n",
       "      <td>He has very high learning grasp and seen in va...</td>\n",
       "      <td>6347</td>\n",
       "      <td>he has very high learning grasp and seen in va...</td>\n",
       "      <td>[He, has, very, high, learning, grasp, and, se...</td>\n",
       "      <td>he has veri high learn grasp and seen in vario...</td>\n",
       "      <td>{and, high, in, seen, shown, teamwork, way, va...</td>\n",
       "      <td>10</td>\n",
       "      <td>0</td>\n",
       "      <td>[]</td>\n",
       "    </tr>\n",
       "    <tr>\n",
       "      <th>8</th>\n",
       "      <td>202921</td>\n",
       "      <td>None</td>\n",
       "      <td>0</td>\n",
       "      <td>77</td>\n",
       "      <td>Teamwork and Relationships - Excellent rapport...</td>\n",
       "      <td>6349</td>\n",
       "      <td>teamwork and relationships - excellent rapport...</td>\n",
       "      <td>[Teamwork, and, Relationships, -, Excellent, r...</td>\n",
       "      <td>teamwork and relationship excel rapport with u...</td>\n",
       "      <td>{and, all, love, individu, attitud, respect, r...</td>\n",
       "      <td>10</td>\n",
       "      <td>0</td>\n",
       "      <td>[]</td>\n",
       "    </tr>\n",
       "    <tr>\n",
       "      <th>4</th>\n",
       "      <td>172862</td>\n",
       "      <td>None</td>\n",
       "      <td>0</td>\n",
       "      <td>77</td>\n",
       "      <td>1. Learning- Learn from all level irrespective...</td>\n",
       "      <td>6346</td>\n",
       "      <td>1. learning- learn from all level irrespective...</td>\n",
       "      <td>[1, ., Learning, -, Learn, from, all, level, i...</td>\n",
       "      <td>learn learn from all level irrespect of hierar...</td>\n",
       "      <td>{and, all, from, risk, execut, level, of, age,...</td>\n",
       "      <td>8</td>\n",
       "      <td>1</td>\n",
       "      <td>[Learning]</td>\n",
       "    </tr>\n",
       "    <tr>\n",
       "      <th>9</th>\n",
       "      <td>202922</td>\n",
       "      <td>None</td>\n",
       "      <td>0</td>\n",
       "      <td>78</td>\n",
       "      <td>Entrepreneurship - Needs to inculcate cost con...</td>\n",
       "      <td>6349</td>\n",
       "      <td>entrepreneurship - needs to inculcate cost con...</td>\n",
       "      <td>[Entrepreneurship, -, Needs, to, inculcate, co...</td>\n",
       "      <td>entrepreneurship need to inculc cost conscious...</td>\n",
       "      <td>{and, on, conscious, inculc, self, social, act...</td>\n",
       "      <td>8</td>\n",
       "      <td>0</td>\n",
       "      <td>[]</td>\n",
       "    </tr>\n",
       "    <tr>\n",
       "      <th>2</th>\n",
       "      <td>167598</td>\n",
       "      <td>None</td>\n",
       "      <td>0</td>\n",
       "      <td>77</td>\n",
       "      <td>Learning &amp; Deliver the promise: \\r\\nMr. Sharma...</td>\n",
       "      <td>6345</td>\n",
       "      <td>learning &amp; deliver the promise: \\r\\nmr. sharma...</td>\n",
       "      <td>[Learning, &amp;, Deliver, the, promise, :, Mr, .,...</td>\n",
       "      <td>learn deliv the promis mr sharma is a fast lea...</td>\n",
       "      <td>{a, learn, sharma, is, deliv, learner, ani, fa...</td>\n",
       "      <td>4</td>\n",
       "      <td>1</td>\n",
       "      <td>[Learning]</td>\n",
       "    </tr>\n",
       "  </tbody>\n",
       "</table>\n",
       "</div>"
      ],
      "text/plain": [
       "    RF_ID CSM_ID  RATE  SSUBM_ID  \\\n",
       "6  168679   None     0        77   \n",
       "8  202921   None     0        77   \n",
       "4  172862   None     0        77   \n",
       "9  202922   None     0        78   \n",
       "2  167598   None     0        77   \n",
       "\n",
       "                                          SUBJECTIVE  RFRM_ID  \\\n",
       "6  He has very high learning grasp and seen in va...     6347   \n",
       "8  Teamwork and Relationships - Excellent rapport...     6349   \n",
       "4  1. Learning- Learn from all level irrespective...     6346   \n",
       "9  Entrepreneurship - Needs to inculcate cost con...     6349   \n",
       "2  Learning & Deliver the promise: \\r\\nMr. Sharma...     6345   \n",
       "\n",
       "                                           sub_small  \\\n",
       "6  he has very high learning grasp and seen in va...   \n",
       "8  teamwork and relationships - excellent rapport...   \n",
       "4  1. learning- learn from all level irrespective...   \n",
       "9  entrepreneurship - needs to inculcate cost con...   \n",
       "2  learning & deliver the promise: \\r\\nmr. sharma...   \n",
       "\n",
       "                                              tokens  \\\n",
       "6  [He, has, very, high, learning, grasp, and, se...   \n",
       "8  [Teamwork, and, Relationships, -, Excellent, r...   \n",
       "4  [1, ., Learning, -, Learn, from, all, level, i...   \n",
       "9  [Entrepreneurship, -, Needs, to, inculcate, co...   \n",
       "2  [Learning, &, Deliver, the, promise, :, Mr, .,...   \n",
       "\n",
       "                                             stemmed  \\\n",
       "6  he has veri high learn grasp and seen in vario...   \n",
       "8  teamwork and relationship excel rapport with u...   \n",
       "4  learn learn from all level irrespect of hierar...   \n",
       "9  entrepreneurship need to inculc cost conscious...   \n",
       "2  learn deliv the promis mr sharma is a fast lea...   \n",
       "\n",
       "                                          stemmedarr  close  stmt_1_close  \\\n",
       "6  {and, high, in, seen, shown, teamwork, way, va...     10             0   \n",
       "8  {and, all, love, individu, attitud, respect, r...     10             0   \n",
       "4  {and, all, from, risk, execut, level, of, age,...      8             1   \n",
       "9  {and, on, conscious, inculc, self, social, act...      8             0   \n",
       "2  {a, learn, sharma, is, deliv, learner, ani, fa...      4             1   \n",
       "\n",
       "  stmt_1_close_arr  \n",
       "6               []  \n",
       "8               []  \n",
       "4       [Learning]  \n",
       "9               []  \n",
       "2       [Learning]  "
      ]
     },
     "execution_count": 84,
     "metadata": {},
     "output_type": "execute_result"
    }
   ],
   "source": [
    "df.sort_values(by=\"close\",ascending=False).head()"
   ]
  },
  {
   "cell_type": "code",
   "execution_count": 85,
   "metadata": {},
   "outputs": [
    {
     "data": {
      "text/plain": [
       "['Deliver the promise\\r\\nTeamwork and realtionship',\n",
       " 'Entrepreneurship\\r\\nsocial responsibility',\n",
       " 'Learning & Deliver the promise: \\r\\nMr. Sharma is a fast learner manager, he can also deliver the promise if any.',\n",
       " 'Respect for the Individual & Teamwork and Relationship: \\r\\nMr. Sharma can demonstrate these values to respect to the individual without biasness and he should maintain good relationship with his all colleagues.',\n",
       " '1. Learning- Learn from all level irrespective of hierarchy and age etc. 2. Entrepreneurship- take calculated risk during work execution.',\n",
       " '1. Delivery of Promise 2. Respect for individual',\n",
       " 'He has very high learning grasp and seen in various situations. \\r\\nHe has worked in a collaborative way with team and shown good example of teamwork.',\n",
       " 'He should be more social to local stakeholders and take entrepreneurship with the support of superiors.',\n",
       " 'Teamwork and Relationships - Excellent rapport with UK team and also Delhi team\\r\\nRespect for Individual - is loved and respected by peers, juniors and seniors for overall attitude demonstrated towards all.',\n",
       " 'Entrepreneurship - Needs to inculcate cost consciousness amongst self and team\\r\\nSocial Responsibility - Needs to focus more on CSR activities']"
      ]
     },
     "execution_count": 85,
     "metadata": {},
     "output_type": "execute_result"
    }
   ],
   "source": [
    "[y for y in df.SUBJECTIVE.values]"
   ]
  },
  {
   "cell_type": "code",
   "execution_count": 86,
   "metadata": {
    "collapsed": true
   },
   "outputs": [],
   "source": [
    "stmts = pd.read_csv(\"/home/ranjan/git/python-practice/jupyter/searcg_stmt.csv\")"
   ]
  },
  {
   "cell_type": "code",
   "execution_count": 87,
   "metadata": {},
   "outputs": [
    {
     "data": {
      "text/html": [
       "<div>\n",
       "<table border=\"1\" class=\"dataframe\">\n",
       "  <thead>\n",
       "    <tr style=\"text-align: right;\">\n",
       "      <th></th>\n",
       "      <th>STATEMENT</th>\n",
       "    </tr>\n",
       "  </thead>\n",
       "  <tbody>\n",
       "    <tr>\n",
       "      <th>0</th>\n",
       "      <td>Learning &amp; Inner Excellence</td>\n",
       "    </tr>\n",
       "    <tr>\n",
       "      <th>1</th>\n",
       "      <td>Respect for Individual</td>\n",
       "    </tr>\n",
       "    <tr>\n",
       "      <th>2</th>\n",
       "      <td>Teamwork &amp; Relationships</td>\n",
       "    </tr>\n",
       "    <tr>\n",
       "      <th>3</th>\n",
       "      <td>Deliver the Promise</td>\n",
       "    </tr>\n",
       "  </tbody>\n",
       "</table>\n",
       "</div>"
      ],
      "text/plain": [
       "                     STATEMENT\n",
       "0  Learning & Inner Excellence\n",
       "1       Respect for Individual\n",
       "2     Teamwork & Relationships\n",
       "3          Deliver the Promise"
      ]
     },
     "execution_count": 87,
     "metadata": {},
     "output_type": "execute_result"
    }
   ],
   "source": [
    "stmts"
   ]
  },
  {
   "cell_type": "code",
   "execution_count": 88,
   "metadata": {},
   "outputs": [
    {
     "data": {
      "text/html": [
       "<div>\n",
       "<table border=\"1\" class=\"dataframe\">\n",
       "  <thead>\n",
       "    <tr style=\"text-align: right;\">\n",
       "      <th></th>\n",
       "      <th>STATEMENT</th>\n",
       "      <th>tokens</th>\n",
       "      <th>stemmedarr</th>\n",
       "    </tr>\n",
       "  </thead>\n",
       "  <tbody>\n",
       "    <tr>\n",
       "      <th>0</th>\n",
       "      <td>Learning &amp; Inner Excellence</td>\n",
       "      <td>[Learning, &amp;, Inner, Excellence]</td>\n",
       "      <td>{excel, inner, learn}</td>\n",
       "    </tr>\n",
       "    <tr>\n",
       "      <th>1</th>\n",
       "      <td>Respect for Individual</td>\n",
       "      <td>[Respect, for, Individual]</td>\n",
       "      <td>{respect, individu, for}</td>\n",
       "    </tr>\n",
       "    <tr>\n",
       "      <th>2</th>\n",
       "      <td>Teamwork &amp; Relationships</td>\n",
       "      <td>[Teamwork, &amp;, Relationships]</td>\n",
       "      <td>{teamwork, relationship}</td>\n",
       "    </tr>\n",
       "    <tr>\n",
       "      <th>3</th>\n",
       "      <td>Deliver the Promise</td>\n",
       "      <td>[Deliver, the, Promise]</td>\n",
       "      <td>{the, promis, deliv}</td>\n",
       "    </tr>\n",
       "  </tbody>\n",
       "</table>\n",
       "</div>"
      ],
      "text/plain": [
       "                     STATEMENT                            tokens  \\\n",
       "0  Learning & Inner Excellence  [Learning, &, Inner, Excellence]   \n",
       "1       Respect for Individual        [Respect, for, Individual]   \n",
       "2     Teamwork & Relationships      [Teamwork, &, Relationships]   \n",
       "3          Deliver the Promise           [Deliver, the, Promise]   \n",
       "\n",
       "                 stemmedarr  \n",
       "0     {excel, inner, learn}  \n",
       "1  {respect, individu, for}  \n",
       "2  {teamwork, relationship}  \n",
       "3      {the, promis, deliv}  "
      ]
     },
     "execution_count": 88,
     "metadata": {},
     "output_type": "execute_result"
    }
   ],
   "source": [
    "stmts['tokens']=stmts.STATEMENT.apply(lambda x: nltk.wordpunct_tokenize(x))\n",
    "stmts['stemmedarr'] = stmts.tokens.map(lambda x: set([stemmer.stem(y) for y in x if y.isalpha()]))\n",
    "stmts.head()"
   ]
  },
  {
   "cell_type": "code",
   "execution_count": 89,
   "metadata": {},
   "outputs": [
    {
     "data": {
      "text/html": [
       "<div>\n",
       "<table border=\"1\" class=\"dataframe\">\n",
       "  <thead>\n",
       "    <tr style=\"text-align: right;\">\n",
       "      <th></th>\n",
       "      <th>STATEMENT</th>\n",
       "      <th>tokens</th>\n",
       "      <th>stemmedarr</th>\n",
       "    </tr>\n",
       "  </thead>\n",
       "  <tbody>\n",
       "    <tr>\n",
       "      <th>2</th>\n",
       "      <td>Teamwork &amp; Relationships</td>\n",
       "      <td>[Teamwork, &amp;, Relationships]</td>\n",
       "      <td>{teamwork, relationship}</td>\n",
       "    </tr>\n",
       "  </tbody>\n",
       "</table>\n",
       "</div>"
      ],
      "text/plain": [
       "                  STATEMENT                        tokens  \\\n",
       "2  Teamwork & Relationships  [Teamwork, &, Relationships]   \n",
       "\n",
       "                 stemmedarr  \n",
       "2  {teamwork, relationship}  "
      ]
     },
     "execution_count": 89,
     "metadata": {},
     "output_type": "execute_result"
    }
   ],
   "source": [
    "stmts.loc[[2]]"
   ]
  },
  {
   "cell_type": "code",
   "execution_count": 90,
   "metadata": {},
   "outputs": [
    {
     "data": {
      "text/plain": [
       "{u'for', u'individu', u'respect'}"
      ]
     },
     "execution_count": 90,
     "metadata": {},
     "output_type": "execute_result"
    }
   ],
   "source": [
    "stmts.loc[[1]].stemmedarr.values[0]"
   ]
  },
  {
   "cell_type": "code",
   "execution_count": 91,
   "metadata": {
    "collapsed": true
   },
   "outputs": [],
   "source": [
    "df[\"stmt_1_close\"]=df.stemmedarr.map(lambda x: len([y for y in x if y in stmts.loc[[0]].stemmedarr.values[0]]))\n",
    "df[\"stmt_1_close_arr\"]=df.stemmedarr.map(lambda x: [y for y in x if y in stmts.loc[[0]].stemmedarr.values[0]])"
   ]
  },
  {
   "cell_type": "code",
   "execution_count": 92,
   "metadata": {},
   "outputs": [
    {
     "data": {
      "text/html": [
       "<div>\n",
       "<table border=\"1\" class=\"dataframe\">\n",
       "  <thead>\n",
       "    <tr style=\"text-align: right;\">\n",
       "      <th></th>\n",
       "      <th>RF_ID</th>\n",
       "      <th>CSM_ID</th>\n",
       "      <th>RATE</th>\n",
       "      <th>SSUBM_ID</th>\n",
       "      <th>SUBJECTIVE</th>\n",
       "      <th>RFRM_ID</th>\n",
       "      <th>sub_small</th>\n",
       "      <th>tokens</th>\n",
       "      <th>stemmed</th>\n",
       "      <th>stemmedarr</th>\n",
       "      <th>close</th>\n",
       "      <th>stmt_1_close</th>\n",
       "      <th>stmt_1_close_arr</th>\n",
       "    </tr>\n",
       "  </thead>\n",
       "  <tbody>\n",
       "    <tr>\n",
       "      <th>0</th>\n",
       "      <td>188889</td>\n",
       "      <td>None</td>\n",
       "      <td>0</td>\n",
       "      <td>77</td>\n",
       "      <td>Deliver the promise\\r\\nTeamwork and realtionship</td>\n",
       "      <td>6343</td>\n",
       "      <td>deliver the promise\\r\\nteamwork and realtionship</td>\n",
       "      <td>[Deliver, the, promise, Teamwork, and, realtio...</td>\n",
       "      <td>deliv the promis teamwork and realtionship</td>\n",
       "      <td>{and, realtionship, teamwork, deliv, promis, the}</td>\n",
       "      <td>1</td>\n",
       "      <td>0</td>\n",
       "      <td>[]</td>\n",
       "    </tr>\n",
       "    <tr>\n",
       "      <th>1</th>\n",
       "      <td>188890</td>\n",
       "      <td>None</td>\n",
       "      <td>0</td>\n",
       "      <td>78</td>\n",
       "      <td>Entrepreneurship\\r\\nsocial responsibility</td>\n",
       "      <td>6343</td>\n",
       "      <td>entrepreneurship\\r\\nsocial responsibility</td>\n",
       "      <td>[Entrepreneurship, social, responsibility]</td>\n",
       "      <td>entrepreneurship social respons</td>\n",
       "      <td>{social, respons, entrepreneurship}</td>\n",
       "      <td>0</td>\n",
       "      <td>0</td>\n",
       "      <td>[]</td>\n",
       "    </tr>\n",
       "    <tr>\n",
       "      <th>2</th>\n",
       "      <td>167598</td>\n",
       "      <td>None</td>\n",
       "      <td>0</td>\n",
       "      <td>77</td>\n",
       "      <td>Learning &amp; Deliver the promise: \\r\\nMr. Sharma...</td>\n",
       "      <td>6345</td>\n",
       "      <td>learning &amp; deliver the promise: \\r\\nmr. sharma...</td>\n",
       "      <td>[Learning, &amp;, Deliver, the, promise, :, Mr, .,...</td>\n",
       "      <td>learn deliv the promis mr sharma is a fast lea...</td>\n",
       "      <td>{a, learn, sharma, is, deliv, learner, ani, fa...</td>\n",
       "      <td>4</td>\n",
       "      <td>1</td>\n",
       "      <td>[learn]</td>\n",
       "    </tr>\n",
       "    <tr>\n",
       "      <th>3</th>\n",
       "      <td>167599</td>\n",
       "      <td>None</td>\n",
       "      <td>0</td>\n",
       "      <td>78</td>\n",
       "      <td>Respect for the Individual &amp; Teamwork and Rela...</td>\n",
       "      <td>6345</td>\n",
       "      <td>respect for the individual &amp; teamwork and rela...</td>\n",
       "      <td>[Respect, for, the, Individual, &amp;, Teamwork, a...</td>\n",
       "      <td>respect for the individu teamwork and relation...</td>\n",
       "      <td>{and, all, individu, maintain, good, respect, ...</td>\n",
       "      <td>4</td>\n",
       "      <td>0</td>\n",
       "      <td>[]</td>\n",
       "    </tr>\n",
       "    <tr>\n",
       "      <th>4</th>\n",
       "      <td>172862</td>\n",
       "      <td>None</td>\n",
       "      <td>0</td>\n",
       "      <td>77</td>\n",
       "      <td>1. Learning- Learn from all level irrespective...</td>\n",
       "      <td>6346</td>\n",
       "      <td>1. learning- learn from all level irrespective...</td>\n",
       "      <td>[1, ., Learning, -, Learn, from, all, level, i...</td>\n",
       "      <td>learn learn from all level irrespect of hierar...</td>\n",
       "      <td>{and, all, from, risk, execut, level, of, age,...</td>\n",
       "      <td>8</td>\n",
       "      <td>1</td>\n",
       "      <td>[learn]</td>\n",
       "    </tr>\n",
       "  </tbody>\n",
       "</table>\n",
       "</div>"
      ],
      "text/plain": [
       "    RF_ID CSM_ID  RATE  SSUBM_ID  \\\n",
       "0  188889   None     0        77   \n",
       "1  188890   None     0        78   \n",
       "2  167598   None     0        77   \n",
       "3  167599   None     0        78   \n",
       "4  172862   None     0        77   \n",
       "\n",
       "                                          SUBJECTIVE  RFRM_ID  \\\n",
       "0   Deliver the promise\\r\\nTeamwork and realtionship     6343   \n",
       "1          Entrepreneurship\\r\\nsocial responsibility     6343   \n",
       "2  Learning & Deliver the promise: \\r\\nMr. Sharma...     6345   \n",
       "3  Respect for the Individual & Teamwork and Rela...     6345   \n",
       "4  1. Learning- Learn from all level irrespective...     6346   \n",
       "\n",
       "                                           sub_small  \\\n",
       "0   deliver the promise\\r\\nteamwork and realtionship   \n",
       "1          entrepreneurship\\r\\nsocial responsibility   \n",
       "2  learning & deliver the promise: \\r\\nmr. sharma...   \n",
       "3  respect for the individual & teamwork and rela...   \n",
       "4  1. learning- learn from all level irrespective...   \n",
       "\n",
       "                                              tokens  \\\n",
       "0  [Deliver, the, promise, Teamwork, and, realtio...   \n",
       "1         [Entrepreneurship, social, responsibility]   \n",
       "2  [Learning, &, Deliver, the, promise, :, Mr, .,...   \n",
       "3  [Respect, for, the, Individual, &, Teamwork, a...   \n",
       "4  [1, ., Learning, -, Learn, from, all, level, i...   \n",
       "\n",
       "                                             stemmed  \\\n",
       "0         deliv the promis teamwork and realtionship   \n",
       "1                    entrepreneurship social respons   \n",
       "2  learn deliv the promis mr sharma is a fast lea...   \n",
       "3  respect for the individu teamwork and relation...   \n",
       "4  learn learn from all level irrespect of hierar...   \n",
       "\n",
       "                                          stemmedarr  close  stmt_1_close  \\\n",
       "0  {and, realtionship, teamwork, deliv, promis, the}      1             0   \n",
       "1                {social, respons, entrepreneurship}      0             0   \n",
       "2  {a, learn, sharma, is, deliv, learner, ani, fa...      4             1   \n",
       "3  {and, all, individu, maintain, good, respect, ...      4             0   \n",
       "4  {and, all, from, risk, execut, level, of, age,...      8             1   \n",
       "\n",
       "  stmt_1_close_arr  \n",
       "0               []  \n",
       "1               []  \n",
       "2          [learn]  \n",
       "3               []  \n",
       "4          [learn]  "
      ]
     },
     "execution_count": 92,
     "metadata": {},
     "output_type": "execute_result"
    }
   ],
   "source": [
    "df.head()"
   ]
  },
  {
   "cell_type": "code",
   "execution_count": 93,
   "metadata": {},
   "outputs": [
    {
     "data": {
      "text/plain": [
       "0         []\n",
       "1         []\n",
       "2    [learn]\n",
       "3         []\n",
       "4    [learn]\n",
       "5         []\n",
       "6    [learn]\n",
       "7         []\n",
       "8    [excel]\n",
       "9         []\n",
       "Name: stemmedarr, dtype: object"
      ]
     },
     "execution_count": 93,
     "metadata": {},
     "output_type": "execute_result"
    }
   ],
   "source": [
    "df.stemmedarr.map(lambda x: [y for y in x if y in stmts.loc[[0]].stemmedarr.values[0]])"
   ]
  },
  {
   "cell_type": "code",
   "execution_count": 94,
   "metadata": {},
   "outputs": [
    {
     "data": {
      "text/plain": [
       "['ISRIStemmer',\n",
       " 'LancasterStemmer',\n",
       " 'PorterStemmer',\n",
       " 'RSLPStemmer',\n",
       " 'RegexpStemmer',\n",
       " 'SnowballStemmer',\n",
       " 'StemmerI',\n",
       " 'WordNetLemmatizer',\n",
       " '__builtins__',\n",
       " '__doc__',\n",
       " '__file__',\n",
       " '__name__',\n",
       " '__package__',\n",
       " '__path__',\n",
       " 'api',\n",
       " 'isri',\n",
       " 'lancaster',\n",
       " 'porter',\n",
       " 'regexp',\n",
       " 'rslp',\n",
       " 'snowball',\n",
       " 'util',\n",
       " 'wordnet']"
      ]
     },
     "execution_count": 94,
     "metadata": {},
     "output_type": "execute_result"
    }
   ],
   "source": [
    "dir(nltk.stem)"
   ]
  },
  {
   "cell_type": "code",
   "execution_count": null,
   "metadata": {
    "collapsed": true
   },
   "outputs": [],
   "source": []
  },
  {
   "cell_type": "code",
   "execution_count": null,
   "metadata": {
    "collapsed": true
   },
   "outputs": [],
   "source": []
  }
 ],
 "metadata": {
  "kernelspec": {
   "display_name": "Python 2",
   "language": "python",
   "name": "python2"
  },
  "language_info": {
   "codemirror_mode": {
    "name": "ipython",
    "version": 2
   },
   "file_extension": ".py",
   "mimetype": "text/x-python",
   "name": "python",
   "nbconvert_exporter": "python",
   "pygments_lexer": "ipython2",
   "version": "2.7.12"
  },
  "varInspector": {
   "cols": {
    "lenName": 16,
    "lenType": 16,
    "lenVar": 40
   },
   "kernels_config": {
    "python": {
     "delete_cmd_postfix": "",
     "delete_cmd_prefix": "del ",
     "library": "var_list.py",
     "varRefreshCmd": "print(var_dic_list())"
    },
    "r": {
     "delete_cmd_postfix": ") ",
     "delete_cmd_prefix": "rm(",
     "library": "var_list.r",
     "varRefreshCmd": "cat(var_dic_list()) "
    }
   },
   "types_to_exclude": [
    "module",
    "function",
    "builtin_function_or_method",
    "instance",
    "_Feature"
   ],
   "window_display": false
  }
 },
 "nbformat": 4,
 "nbformat_minor": 1
}
