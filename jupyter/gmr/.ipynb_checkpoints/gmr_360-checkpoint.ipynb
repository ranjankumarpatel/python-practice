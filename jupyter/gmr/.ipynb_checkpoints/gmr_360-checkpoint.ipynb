{
 "cells": [
  {
   "cell_type": "code",
   "execution_count": 28,
   "metadata": {
    "collapsed": false
   },
   "outputs": [],
   "source": [
    "import pandas as pd\n",
    "import MySQLdb\n",
    "import nltk\n",
    "from nltk.stem.snowball import SnowballStemmer\n",
    "import numpy as np\n",
    "import jsonify"
   ]
  },
  {
   "cell_type": "code",
   "execution_count": 27,
   "metadata": {
    "collapsed": true
   },
   "outputs": [],
   "source": [
    "db = MySQLdb.connect(\"69.89.14.35\",\"360feedback\",\"360feedback@\",\"ttn_central_v1\" )\n",
    "db.autocommit=False"
   ]
  },
  {
   "cell_type": "code",
   "execution_count": 3,
   "metadata": {
    "collapsed": false
   },
   "outputs": [],
   "source": [
    "df = pd.read_sql_query(sql=\"\"\"SELECT \n",
    "    360_v1_respondent_feedback.*\n",
    "FROM\n",
    "    ttn_central_v1.360_v1_respondent_feedback\n",
    "        JOIN\n",
    "    360_v1_respondent_fs_rel_mapper ON 360_v1_respondent_fs_rel_mapper.RFRM_ID = 360_v1_respondent_feedback.RFRM_ID\n",
    "WHERE\n",
    "    360_v1_respondent_feedback.SSUBM_ID IS NOT NULL\n",
    "        AND 360_v1_respondent_fs_rel_mapper.PROJ_ID = 525;\"\"\",con=db)"
   ]
  },
  {
   "cell_type": "code",
   "execution_count": 4,
   "metadata": {
    "collapsed": false
   },
   "outputs": [
    {
     "data": {
      "text/html": [
       "<div>\n",
       "<table border=\"1\" class=\"dataframe\">\n",
       "  <thead>\n",
       "    <tr style=\"text-align: right;\">\n",
       "      <th></th>\n",
       "      <th>RF_ID</th>\n",
       "      <th>CSM_ID</th>\n",
       "      <th>RATE</th>\n",
       "      <th>SSUBM_ID</th>\n",
       "      <th>SUBJECTIVE</th>\n",
       "      <th>RFRM_ID</th>\n",
       "    </tr>\n",
       "  </thead>\n",
       "  <tbody>\n",
       "    <tr>\n",
       "      <th>0</th>\n",
       "      <td>188889</td>\n",
       "      <td>None</td>\n",
       "      <td>0</td>\n",
       "      <td>77</td>\n",
       "      <td>Deliver the promise\\r\\nTeamwork and realtionship</td>\n",
       "      <td>6343</td>\n",
       "    </tr>\n",
       "    <tr>\n",
       "      <th>1</th>\n",
       "      <td>188890</td>\n",
       "      <td>None</td>\n",
       "      <td>0</td>\n",
       "      <td>78</td>\n",
       "      <td>Entrepreneurship\\r\\nsocial responsibility</td>\n",
       "      <td>6343</td>\n",
       "    </tr>\n",
       "    <tr>\n",
       "      <th>2</th>\n",
       "      <td>167598</td>\n",
       "      <td>None</td>\n",
       "      <td>0</td>\n",
       "      <td>77</td>\n",
       "      <td>Learning &amp; Deliver the promise: \\r\\nMr. Sharma...</td>\n",
       "      <td>6345</td>\n",
       "    </tr>\n",
       "    <tr>\n",
       "      <th>3</th>\n",
       "      <td>167599</td>\n",
       "      <td>None</td>\n",
       "      <td>0</td>\n",
       "      <td>78</td>\n",
       "      <td>Respect for the Individual &amp; Teamwork and Rela...</td>\n",
       "      <td>6345</td>\n",
       "    </tr>\n",
       "    <tr>\n",
       "      <th>4</th>\n",
       "      <td>172862</td>\n",
       "      <td>None</td>\n",
       "      <td>0</td>\n",
       "      <td>77</td>\n",
       "      <td>1. Learning- Learn from all level irrespective...</td>\n",
       "      <td>6346</td>\n",
       "    </tr>\n",
       "  </tbody>\n",
       "</table>\n",
       "</div>"
      ],
      "text/plain": [
       "    RF_ID CSM_ID  RATE  SSUBM_ID  \\\n",
       "0  188889   None     0        77   \n",
       "1  188890   None     0        78   \n",
       "2  167598   None     0        77   \n",
       "3  167599   None     0        78   \n",
       "4  172862   None     0        77   \n",
       "\n",
       "                                          SUBJECTIVE  RFRM_ID  \n",
       "0   Deliver the promise\\r\\nTeamwork and realtionship     6343  \n",
       "1          Entrepreneurship\\r\\nsocial responsibility     6343  \n",
       "2  Learning & Deliver the promise: \\r\\nMr. Sharma...     6345  \n",
       "3  Respect for the Individual & Teamwork and Rela...     6345  \n",
       "4  1. Learning- Learn from all level irrespective...     6346  "
      ]
     },
     "execution_count": 4,
     "metadata": {},
     "output_type": "execute_result"
    }
   ],
   "source": [
    "df.head()"
   ]
  },
  {
   "cell_type": "code",
   "execution_count": 5,
   "metadata": {
    "collapsed": true
   },
   "outputs": [],
   "source": [
    "df = df[df.SUBJECTIVE not in [\"\"]]"
   ]
  },
  {
   "cell_type": "code",
   "execution_count": 6,
   "metadata": {
    "collapsed": false
   },
   "outputs": [
    {
     "data": {
      "text/html": [
       "<div>\n",
       "<table border=\"1\" class=\"dataframe\">\n",
       "  <thead>\n",
       "    <tr style=\"text-align: right;\">\n",
       "      <th></th>\n",
       "      <th>RF_ID</th>\n",
       "      <th>CSM_ID</th>\n",
       "      <th>RATE</th>\n",
       "      <th>SSUBM_ID</th>\n",
       "      <th>SUBJECTIVE</th>\n",
       "      <th>RFRM_ID</th>\n",
       "    </tr>\n",
       "  </thead>\n",
       "  <tbody>\n",
       "    <tr>\n",
       "      <th>0</th>\n",
       "      <td>188889</td>\n",
       "      <td>None</td>\n",
       "      <td>0</td>\n",
       "      <td>77</td>\n",
       "      <td>Deliver the promise\\r\\nTeamwork and realtionship</td>\n",
       "      <td>6343</td>\n",
       "    </tr>\n",
       "    <tr>\n",
       "      <th>1</th>\n",
       "      <td>188890</td>\n",
       "      <td>None</td>\n",
       "      <td>0</td>\n",
       "      <td>78</td>\n",
       "      <td>Entrepreneurship\\r\\nsocial responsibility</td>\n",
       "      <td>6343</td>\n",
       "    </tr>\n",
       "    <tr>\n",
       "      <th>2</th>\n",
       "      <td>167598</td>\n",
       "      <td>None</td>\n",
       "      <td>0</td>\n",
       "      <td>77</td>\n",
       "      <td>Learning &amp; Deliver the promise: \\r\\nMr. Sharma...</td>\n",
       "      <td>6345</td>\n",
       "    </tr>\n",
       "    <tr>\n",
       "      <th>3</th>\n",
       "      <td>167599</td>\n",
       "      <td>None</td>\n",
       "      <td>0</td>\n",
       "      <td>78</td>\n",
       "      <td>Respect for the Individual &amp; Teamwork and Rela...</td>\n",
       "      <td>6345</td>\n",
       "    </tr>\n",
       "    <tr>\n",
       "      <th>4</th>\n",
       "      <td>172862</td>\n",
       "      <td>None</td>\n",
       "      <td>0</td>\n",
       "      <td>77</td>\n",
       "      <td>1. Learning- Learn from all level irrespective...</td>\n",
       "      <td>6346</td>\n",
       "    </tr>\n",
       "  </tbody>\n",
       "</table>\n",
       "</div>"
      ],
      "text/plain": [
       "    RF_ID CSM_ID  RATE  SSUBM_ID  \\\n",
       "0  188889   None     0        77   \n",
       "1  188890   None     0        78   \n",
       "2  167598   None     0        77   \n",
       "3  167599   None     0        78   \n",
       "4  172862   None     0        77   \n",
       "\n",
       "                                          SUBJECTIVE  RFRM_ID  \n",
       "0   Deliver the promise\\r\\nTeamwork and realtionship     6343  \n",
       "1          Entrepreneurship\\r\\nsocial responsibility     6343  \n",
       "2  Learning & Deliver the promise: \\r\\nMr. Sharma...     6345  \n",
       "3  Respect for the Individual & Teamwork and Rela...     6345  \n",
       "4  1. Learning- Learn from all level irrespective...     6346  "
      ]
     },
     "execution_count": 6,
     "metadata": {},
     "output_type": "execute_result"
    }
   ],
   "source": [
    "df.head()"
   ]
  },
  {
   "cell_type": "code",
   "execution_count": 7,
   "metadata": {
    "collapsed": false
   },
   "outputs": [
    {
     "data": {
      "text/plain": [
       "0    [Deliver, the, promise, Teamwork, and, realtio...\n",
       "1           [Entrepreneurship, social, responsibility]\n",
       "2    [Learning, &, Deliver, the, promise, :, Mr, .,...\n",
       "3    [Respect, for, the, Individual, &, Teamwork, a...\n",
       "4    [1, ., Learning, -, Learn, from, all, level, i...\n",
       "Name: tokens, dtype: object"
      ]
     },
     "execution_count": 7,
     "metadata": {},
     "output_type": "execute_result"
    }
   ],
   "source": [
    "from sklearn.feature_extraction.text import TfidfVectorizer\n",
    "v = TfidfVectorizer()\n",
    "df['tokens']=df.SUBJECTIVE.apply(lambda x: nltk.wordpunct_tokenize(x))\n",
    "df.tokens.head()"
   ]
  },
  {
   "cell_type": "code",
   "execution_count": 8,
   "metadata": {
    "collapsed": false
   },
   "outputs": [
    {
     "data": {
      "text/html": [
       "<div>\n",
       "<table border=\"1\" class=\"dataframe\">\n",
       "  <thead>\n",
       "    <tr style=\"text-align: right;\">\n",
       "      <th></th>\n",
       "      <th>RF_ID</th>\n",
       "      <th>CSM_ID</th>\n",
       "      <th>RATE</th>\n",
       "      <th>SSUBM_ID</th>\n",
       "      <th>SUBJECTIVE</th>\n",
       "      <th>RFRM_ID</th>\n",
       "      <th>tokens</th>\n",
       "      <th>stemmed</th>\n",
       "      <th>stemmedarr</th>\n",
       "    </tr>\n",
       "  </thead>\n",
       "  <tbody>\n",
       "    <tr>\n",
       "      <th>0</th>\n",
       "      <td>188889</td>\n",
       "      <td>None</td>\n",
       "      <td>0</td>\n",
       "      <td>77</td>\n",
       "      <td>Deliver the promise\\r\\nTeamwork and realtionship</td>\n",
       "      <td>6343</td>\n",
       "      <td>[Deliver, the, promise, Teamwork, and, realtio...</td>\n",
       "      <td>deliv the promis teamwork and realtionship</td>\n",
       "      <td>[deliv, the, promis, teamwork, and, realtionship]</td>\n",
       "    </tr>\n",
       "    <tr>\n",
       "      <th>1</th>\n",
       "      <td>188890</td>\n",
       "      <td>None</td>\n",
       "      <td>0</td>\n",
       "      <td>78</td>\n",
       "      <td>Entrepreneurship\\r\\nsocial responsibility</td>\n",
       "      <td>6343</td>\n",
       "      <td>[Entrepreneurship, social, responsibility]</td>\n",
       "      <td>entrepreneurship social respons</td>\n",
       "      <td>[entrepreneurship, social, respons]</td>\n",
       "    </tr>\n",
       "    <tr>\n",
       "      <th>2</th>\n",
       "      <td>167598</td>\n",
       "      <td>None</td>\n",
       "      <td>0</td>\n",
       "      <td>77</td>\n",
       "      <td>Learning &amp; Deliver the promise: \\r\\nMr. Sharma...</td>\n",
       "      <td>6345</td>\n",
       "      <td>[Learning, &amp;, Deliver, the, promise, :, Mr, .,...</td>\n",
       "      <td>learn deliv the promis mr sharma is a fast lea...</td>\n",
       "      <td>[learn, deliv, the, promis, mr, sharma, is, a,...</td>\n",
       "    </tr>\n",
       "    <tr>\n",
       "      <th>3</th>\n",
       "      <td>167599</td>\n",
       "      <td>None</td>\n",
       "      <td>0</td>\n",
       "      <td>78</td>\n",
       "      <td>Respect for the Individual &amp; Teamwork and Rela...</td>\n",
       "      <td>6345</td>\n",
       "      <td>[Respect, for, the, Individual, &amp;, Teamwork, a...</td>\n",
       "      <td>respect for the individu teamwork and relation...</td>\n",
       "      <td>[respect, for, the, individu, teamwork, and, r...</td>\n",
       "    </tr>\n",
       "    <tr>\n",
       "      <th>4</th>\n",
       "      <td>172862</td>\n",
       "      <td>None</td>\n",
       "      <td>0</td>\n",
       "      <td>77</td>\n",
       "      <td>1. Learning- Learn from all level irrespective...</td>\n",
       "      <td>6346</td>\n",
       "      <td>[1, ., Learning, -, Learn, from, all, level, i...</td>\n",
       "      <td>learn learn from all level irrespect of hierar...</td>\n",
       "      <td>[learn, learn, from, all, level, irrespect, of...</td>\n",
       "    </tr>\n",
       "  </tbody>\n",
       "</table>\n",
       "</div>"
      ],
      "text/plain": [
       "    RF_ID CSM_ID  RATE  SSUBM_ID  \\\n",
       "0  188889   None     0        77   \n",
       "1  188890   None     0        78   \n",
       "2  167598   None     0        77   \n",
       "3  167599   None     0        78   \n",
       "4  172862   None     0        77   \n",
       "\n",
       "                                          SUBJECTIVE  RFRM_ID  \\\n",
       "0   Deliver the promise\\r\\nTeamwork and realtionship     6343   \n",
       "1          Entrepreneurship\\r\\nsocial responsibility     6343   \n",
       "2  Learning & Deliver the promise: \\r\\nMr. Sharma...     6345   \n",
       "3  Respect for the Individual & Teamwork and Rela...     6345   \n",
       "4  1. Learning- Learn from all level irrespective...     6346   \n",
       "\n",
       "                                              tokens  \\\n",
       "0  [Deliver, the, promise, Teamwork, and, realtio...   \n",
       "1         [Entrepreneurship, social, responsibility]   \n",
       "2  [Learning, &, Deliver, the, promise, :, Mr, .,...   \n",
       "3  [Respect, for, the, Individual, &, Teamwork, a...   \n",
       "4  [1, ., Learning, -, Learn, from, all, level, i...   \n",
       "\n",
       "                                             stemmed  \\\n",
       "0         deliv the promis teamwork and realtionship   \n",
       "1                    entrepreneurship social respons   \n",
       "2  learn deliv the promis mr sharma is a fast lea...   \n",
       "3  respect for the individu teamwork and relation...   \n",
       "4  learn learn from all level irrespect of hierar...   \n",
       "\n",
       "                                          stemmedarr  \n",
       "0  [deliv, the, promis, teamwork, and, realtionship]  \n",
       "1                [entrepreneurship, social, respons]  \n",
       "2  [learn, deliv, the, promis, mr, sharma, is, a,...  \n",
       "3  [respect, for, the, individu, teamwork, and, r...  \n",
       "4  [learn, learn, from, all, level, irrespect, of...  "
      ]
     },
     "execution_count": 8,
     "metadata": {},
     "output_type": "execute_result"
    }
   ],
   "source": [
    "stemmer = SnowballStemmer(\"english\")\n",
    "df['stemmed'] = df.tokens.map(lambda x: \" \".join([stemmer.stem(y) for y in x if y.isalpha()]))\n",
    "df['stemmedarr'] = df.tokens.map(lambda x: [stemmer.stem(y) for y in x if y.isalpha()])\n",
    "df.head()"
   ]
  },
  {
   "cell_type": "code",
   "execution_count": 9,
   "metadata": {
    "collapsed": false
   },
   "outputs": [
    {
     "data": {
      "text/plain": [
       "CountVectorizer(analyzer=u'word', binary=False, decode_error=u'strict',\n",
       "        dtype=<type 'numpy.int64'>, encoding=u'utf-8', input=u'content',\n",
       "        lowercase=True, max_df=0.5, max_features=None, min_df=1,\n",
       "        ngram_range=(1, 2), preprocessor=None, stop_words='english',\n",
       "        strip_accents=None, token_pattern=u'(?u)\\\\b\\\\w\\\\w+\\\\b',\n",
       "        tokenizer=None, vocabulary=None)"
      ]
     },
     "execution_count": 9,
     "metadata": {},
     "output_type": "execute_result"
    }
   ],
   "source": [
    "# Starting with the CountVectorizer/TfidfTransformer approach...\n",
    "from sklearn.feature_extraction.text import CountVectorizer\n",
    "from sklearn.feature_extraction.text import TfidfTransformer\n",
    " \n",
    "cvec = CountVectorizer(stop_words='english', min_df=1, max_df=.5, ngram_range=(1,2))\n",
    "cvec"
   ]
  },
  {
   "cell_type": "code",
   "execution_count": 10,
   "metadata": {
    "collapsed": false
   },
   "outputs": [
    {
     "data": {
      "text/plain": [
       "[(u'individu bias', 55),\n",
       " (u'execut', 38),\n",
       " (u'social local', 121),\n",
       " (u'focus', 41),\n",
       " (u'inculc cost', 53),\n",
       " (u'bias maintain', 7),\n",
       " (u'collabor', 10),\n",
       " (u'collabor way', 11),\n",
       " (u'good exampl', 44),\n",
       " (u'hierarchi', 48),\n",
       " (u'high learn', 51),\n",
       " (u'superior', 125),\n",
       " (u'teamwork relationship', 135),\n",
       " (u'fast learner', 40),\n",
       " (u'learn deliv', 63),\n",
       " (u'activ', 0),\n",
       " (u'work execut', 148),\n",
       " (u'local', 71),\n",
       " (u'risk dure', 106),\n",
       " (u'good', 43)]"
      ]
     },
     "execution_count": 10,
     "metadata": {},
     "output_type": "execute_result"
    }
   ],
   "source": [
    "# Calculate all the n-grams found in all documents\n",
    "from itertools import islice\n",
    "cvec.fit(df.stemmed)\n",
    "list(islice(cvec.vocabulary_.items(), 20))"
   ]
  },
  {
   "cell_type": "code",
   "execution_count": 11,
   "metadata": {
    "collapsed": false
   },
   "outputs": [],
   "source": [
    "# Check how many total n-grams we have\n",
    "ngramrange=len(cvec.vocabulary_)"
   ]
  },
  {
   "cell_type": "code",
   "execution_count": 12,
   "metadata": {
    "collapsed": false
   },
   "outputs": [
    {
     "data": {
      "text/plain": [
       "149"
      ]
     },
     "execution_count": 12,
     "metadata": {},
     "output_type": "execute_result"
    }
   ],
   "source": [
    "# Check how many total n-grams we have\n",
    "len(cvec.vocabulary_)"
   ]
  },
  {
   "cell_type": "code",
   "execution_count": 13,
   "metadata": {
    "collapsed": false
   },
   "outputs": [
    {
     "name": "stdout",
     "output_type": "stream",
     "text": [
      "sparse matrix shape: (10, 149)\n",
      "nonzero count: 181\n",
      "sparsity: 12.15%\n"
     ]
    }
   ],
   "source": [
    "cvec_counts = cvec.transform(df.stemmed)\n",
    "print 'sparse matrix shape:', cvec_counts.shape\n",
    "print 'nonzero count:', cvec_counts.nnz\n",
    "print 'sparsity: %.2f%%' % (100.0 * cvec_counts.nnz / (cvec_counts.shape[0] * cvec_counts.shape[1]))"
   ]
  },
  {
   "cell_type": "code",
   "execution_count": 14,
   "metadata": {
    "collapsed": false
   },
   "outputs": [
    {
     "data": {
      "text/html": [
       "<div>\n",
       "<table border=\"1\" class=\"dataframe\">\n",
       "  <thead>\n",
       "    <tr style=\"text-align: right;\">\n",
       "      <th></th>\n",
       "      <th>occurrences</th>\n",
       "      <th>term</th>\n",
       "    </tr>\n",
       "  </thead>\n",
       "  <tbody>\n",
       "    <tr>\n",
       "      <th>100</th>\n",
       "      <td>5</td>\n",
       "      <td>respect</td>\n",
       "    </tr>\n",
       "    <tr>\n",
       "      <th>54</th>\n",
       "      <td>4</td>\n",
       "      <td>individu</td>\n",
       "    </tr>\n",
       "    <tr>\n",
       "      <th>128</th>\n",
       "      <td>4</td>\n",
       "      <td>team</td>\n",
       "    </tr>\n",
       "    <tr>\n",
       "      <th>88</th>\n",
       "      <td>4</td>\n",
       "      <td>promis</td>\n",
       "    </tr>\n",
       "    <tr>\n",
       "      <th>29</th>\n",
       "      <td>4</td>\n",
       "      <td>entrepreneurship</td>\n",
       "    </tr>\n",
       "    <tr>\n",
       "      <th>62</th>\n",
       "      <td>4</td>\n",
       "      <td>learn</td>\n",
       "    </tr>\n",
       "    <tr>\n",
       "      <th>133</th>\n",
       "      <td>4</td>\n",
       "      <td>teamwork</td>\n",
       "    </tr>\n",
       "    <tr>\n",
       "      <th>101</th>\n",
       "      <td>4</td>\n",
       "      <td>respect individu</td>\n",
       "    </tr>\n",
       "    <tr>\n",
       "      <th>120</th>\n",
       "      <td>3</td>\n",
       "      <td>social</td>\n",
       "    </tr>\n",
       "    <tr>\n",
       "      <th>96</th>\n",
       "      <td>3</td>\n",
       "      <td>relationship</td>\n",
       "    </tr>\n",
       "    <tr>\n",
       "      <th>21</th>\n",
       "      <td>3</td>\n",
       "      <td>deliv</td>\n",
       "    </tr>\n",
       "    <tr>\n",
       "      <th>22</th>\n",
       "      <td>3</td>\n",
       "      <td>deliv promis</td>\n",
       "    </tr>\n",
       "    <tr>\n",
       "      <th>122</th>\n",
       "      <td>2</td>\n",
       "      <td>social respons</td>\n",
       "    </tr>\n",
       "    <tr>\n",
       "      <th>103</th>\n",
       "      <td>2</td>\n",
       "      <td>respons</td>\n",
       "    </tr>\n",
       "    <tr>\n",
       "      <th>113</th>\n",
       "      <td>2</td>\n",
       "      <td>sharma</td>\n",
       "    </tr>\n",
       "    <tr>\n",
       "      <th>25</th>\n",
       "      <td>2</td>\n",
       "      <td>demonstr</td>\n",
       "    </tr>\n",
       "    <tr>\n",
       "      <th>43</th>\n",
       "      <td>2</td>\n",
       "      <td>good</td>\n",
       "    </tr>\n",
       "    <tr>\n",
       "      <th>79</th>\n",
       "      <td>2</td>\n",
       "      <td>mr</td>\n",
       "    </tr>\n",
       "    <tr>\n",
       "      <th>80</th>\n",
       "      <td>2</td>\n",
       "      <td>mr sharma</td>\n",
       "    </tr>\n",
       "    <tr>\n",
       "      <th>135</th>\n",
       "      <td>2</td>\n",
       "      <td>teamwork relationship</td>\n",
       "    </tr>\n",
       "  </tbody>\n",
       "</table>\n",
       "</div>"
      ],
      "text/plain": [
       "     occurrences                   term\n",
       "100            5                respect\n",
       "54             4               individu\n",
       "128            4                   team\n",
       "88             4                 promis\n",
       "29             4       entrepreneurship\n",
       "62             4                  learn\n",
       "133            4               teamwork\n",
       "101            4       respect individu\n",
       "120            3                 social\n",
       "96             3           relationship\n",
       "21             3                  deliv\n",
       "22             3           deliv promis\n",
       "122            2         social respons\n",
       "103            2                respons\n",
       "113            2                 sharma\n",
       "25             2               demonstr\n",
       "43             2                   good\n",
       "79             2                     mr\n",
       "80             2              mr sharma\n",
       "135            2  teamwork relationship"
      ]
     },
     "execution_count": 14,
     "metadata": {},
     "output_type": "execute_result"
    }
   ],
   "source": [
    "occ = np.asarray(cvec_counts.sum(axis=0)).ravel().tolist()\n",
    "counts_df = pd.DataFrame({'term': cvec.get_feature_names(), 'occurrences': occ})\n",
    "counts_df.sort_values(by='occurrences', ascending=False).head(20)"
   ]
  },
  {
   "cell_type": "code",
   "execution_count": 15,
   "metadata": {
    "collapsed": false
   },
   "outputs": [
    {
     "data": {
      "text/plain": [
       "<10x149 sparse matrix of type '<type 'numpy.float64'>'\n",
       "\twith 181 stored elements in Compressed Sparse Row format>"
      ]
     },
     "execution_count": 15,
     "metadata": {},
     "output_type": "execute_result"
    }
   ],
   "source": [
    "transformer = TfidfTransformer()\n",
    "transformed_weights = transformer.fit_transform(cvec_counts)\n",
    "transformed_weights"
   ]
  },
  {
   "cell_type": "code",
   "execution_count": 16,
   "metadata": {
    "collapsed": false
   },
   "outputs": [
    {
     "data": {
      "text/html": [
       "<div>\n",
       "<table border=\"1\" class=\"dataframe\">\n",
       "  <thead>\n",
       "    <tr style=\"text-align: right;\">\n",
       "      <th></th>\n",
       "      <th>term</th>\n",
       "      <th>weight</th>\n",
       "    </tr>\n",
       "  </thead>\n",
       "  <tbody>\n",
       "    <tr>\n",
       "      <th>88</th>\n",
       "      <td>promis</td>\n",
       "      <td>0.096396</td>\n",
       "    </tr>\n",
       "    <tr>\n",
       "      <th>100</th>\n",
       "      <td>respect</td>\n",
       "      <td>0.086376</td>\n",
       "    </tr>\n",
       "    <tr>\n",
       "      <th>29</th>\n",
       "      <td>entrepreneurship</td>\n",
       "      <td>0.083801</td>\n",
       "    </tr>\n",
       "    <tr>\n",
       "      <th>120</th>\n",
       "      <td>social</td>\n",
       "      <td>0.078533</td>\n",
       "    </tr>\n",
       "    <tr>\n",
       "      <th>54</th>\n",
       "      <td>individu</td>\n",
       "      <td>0.073456</td>\n",
       "    </tr>\n",
       "    <tr>\n",
       "      <th>101</th>\n",
       "      <td>respect individu</td>\n",
       "      <td>0.073456</td>\n",
       "    </tr>\n",
       "    <tr>\n",
       "      <th>22</th>\n",
       "      <td>deliv promis</td>\n",
       "      <td>0.072947</td>\n",
       "    </tr>\n",
       "    <tr>\n",
       "      <th>21</th>\n",
       "      <td>deliv</td>\n",
       "      <td>0.072947</td>\n",
       "    </tr>\n",
       "    <tr>\n",
       "      <th>133</th>\n",
       "      <td>teamwork</td>\n",
       "      <td>0.065005</td>\n",
       "    </tr>\n",
       "    <tr>\n",
       "      <th>122</th>\n",
       "      <td>social respons</td>\n",
       "      <td>0.062868</td>\n",
       "    </tr>\n",
       "    <tr>\n",
       "      <th>103</th>\n",
       "      <td>respons</td>\n",
       "      <td>0.062868</td>\n",
       "    </tr>\n",
       "    <tr>\n",
       "      <th>62</th>\n",
       "      <td>learn</td>\n",
       "      <td>0.061724</td>\n",
       "    </tr>\n",
       "    <tr>\n",
       "      <th>128</th>\n",
       "      <td>team</td>\n",
       "      <td>0.055034</td>\n",
       "    </tr>\n",
       "    <tr>\n",
       "      <th>32</th>\n",
       "      <td>entrepreneurship social</td>\n",
       "      <td>0.053950</td>\n",
       "    </tr>\n",
       "    <tr>\n",
       "      <th>96</th>\n",
       "      <td>relationship</td>\n",
       "      <td>0.046727</td>\n",
       "    </tr>\n",
       "    <tr>\n",
       "      <th>23</th>\n",
       "      <td>deliveri</td>\n",
       "      <td>0.043800</td>\n",
       "    </tr>\n",
       "    <tr>\n",
       "      <th>24</th>\n",
       "      <td>deliveri promis</td>\n",
       "      <td>0.043800</td>\n",
       "    </tr>\n",
       "    <tr>\n",
       "      <th>91</th>\n",
       "      <td>promis respect</td>\n",
       "      <td>0.043800</td>\n",
       "    </tr>\n",
       "    <tr>\n",
       "      <th>134</th>\n",
       "      <td>teamwork realtionship</td>\n",
       "      <td>0.042892</td>\n",
       "    </tr>\n",
       "    <tr>\n",
       "      <th>95</th>\n",
       "      <td>realtionship</td>\n",
       "      <td>0.042892</td>\n",
       "    </tr>\n",
       "  </tbody>\n",
       "</table>\n",
       "</div>"
      ],
      "text/plain": [
       "                        term    weight\n",
       "88                    promis  0.096396\n",
       "100                  respect  0.086376\n",
       "29          entrepreneurship  0.083801\n",
       "120                   social  0.078533\n",
       "54                  individu  0.073456\n",
       "101         respect individu  0.073456\n",
       "22              deliv promis  0.072947\n",
       "21                     deliv  0.072947\n",
       "133                 teamwork  0.065005\n",
       "122           social respons  0.062868\n",
       "103                  respons  0.062868\n",
       "62                     learn  0.061724\n",
       "128                     team  0.055034\n",
       "32   entrepreneurship social  0.053950\n",
       "96              relationship  0.046727\n",
       "23                  deliveri  0.043800\n",
       "24           deliveri promis  0.043800\n",
       "91            promis respect  0.043800\n",
       "134    teamwork realtionship  0.042892\n",
       "95              realtionship  0.042892"
      ]
     },
     "execution_count": 16,
     "metadata": {},
     "output_type": "execute_result"
    }
   ],
   "source": [
    "weights = np.asarray(transformed_weights.mean(axis=0)).ravel().tolist()\n",
    "weights_df = pd.DataFrame({'term': cvec.get_feature_names(), 'weight': weights})\n",
    "weights_df.sort_values(by='weight', ascending=False).head(20)"
   ]
  },
  {
   "cell_type": "code",
   "execution_count": 17,
   "metadata": {
    "collapsed": false
   },
   "outputs": [
    {
     "data": {
      "text/html": [
       "<div>\n",
       "<table border=\"1\" class=\"dataframe\">\n",
       "  <thead>\n",
       "    <tr style=\"text-align: right;\">\n",
       "      <th></th>\n",
       "      <th>term</th>\n",
       "      <th>weight</th>\n",
       "    </tr>\n",
       "  </thead>\n",
       "  <tbody>\n",
       "    <tr>\n",
       "      <th>35</th>\n",
       "      <td>realtionship</td>\n",
       "      <td>0.100000</td>\n",
       "    </tr>\n",
       "    <tr>\n",
       "      <th>12</th>\n",
       "      <td>deliveri</td>\n",
       "      <td>0.100000</td>\n",
       "    </tr>\n",
       "    <tr>\n",
       "      <th>31</th>\n",
       "      <td>need</td>\n",
       "      <td>0.060302</td>\n",
       "    </tr>\n",
       "    <tr>\n",
       "      <th>44</th>\n",
       "      <td>support</td>\n",
       "      <td>0.050000</td>\n",
       "    </tr>\n",
       "    <tr>\n",
       "      <th>30</th>\n",
       "      <td>manag</td>\n",
       "      <td>0.050000</td>\n",
       "    </tr>\n",
       "    <tr>\n",
       "      <th>29</th>\n",
       "      <td>maintain</td>\n",
       "      <td>0.050000</td>\n",
       "    </tr>\n",
       "    <tr>\n",
       "      <th>27</th>\n",
       "      <td>local</td>\n",
       "      <td>0.050000</td>\n",
       "    </tr>\n",
       "    <tr>\n",
       "      <th>17</th>\n",
       "      <td>fast</td>\n",
       "      <td>0.050000</td>\n",
       "    </tr>\n",
       "    <tr>\n",
       "      <th>42</th>\n",
       "      <td>stakehold</td>\n",
       "      <td>0.050000</td>\n",
       "    </tr>\n",
       "    <tr>\n",
       "      <th>43</th>\n",
       "      <td>superior</td>\n",
       "      <td>0.050000</td>\n",
       "    </tr>\n",
       "  </tbody>\n",
       "</table>\n",
       "</div>"
      ],
      "text/plain": [
       "            term    weight\n",
       "35  realtionship  0.100000\n",
       "12      deliveri  0.100000\n",
       "31          need  0.060302\n",
       "44       support  0.050000\n",
       "30         manag  0.050000\n",
       "29      maintain  0.050000\n",
       "27         local  0.050000\n",
       "17          fast  0.050000\n",
       "42     stakehold  0.050000\n",
       "43      superior  0.050000"
      ]
     },
     "execution_count": 17,
     "metadata": {},
     "output_type": "execute_result"
    }
   ],
   "source": [
    "from sklearn.feature_extraction.text import TfidfVectorizer\n",
    "tvec = TfidfVectorizer(min_df=.0025, max_df=.1, stop_words='english')\n",
    "tvec_weights = tvec.fit_transform(df.stemmed.dropna())\n",
    "weights = np.asarray(tvec_weights.mean(axis=0)).ravel().tolist()\n",
    "weights_df = pd.DataFrame({'term': tvec.get_feature_names(), 'weight': weights})\n",
    "weights_df.sort_values(by='weight', ascending=False).head(10)"
   ]
  },
  {
   "cell_type": "code",
   "execution_count": 18,
   "metadata": {
    "collapsed": false
   },
   "outputs": [
    {
     "data": {
      "text/plain": [
       "100"
      ]
     },
     "execution_count": 18,
     "metadata": {},
     "output_type": "execute_result"
    }
   ],
   "source": [
    "weights_df.size"
   ]
  },
  {
   "cell_type": "code",
   "execution_count": 19,
   "metadata": {
    "collapsed": false
   },
   "outputs": [
    {
     "data": {
      "text/html": [
       "<div>\n",
       "<table border=\"1\" class=\"dataframe\">\n",
       "  <thead>\n",
       "    <tr style=\"text-align: right;\">\n",
       "      <th></th>\n",
       "      <th>term</th>\n",
       "      <th>weight</th>\n",
       "    </tr>\n",
       "  </thead>\n",
       "  <tbody>\n",
       "    <tr>\n",
       "      <th>35</th>\n",
       "      <td>realtionship</td>\n",
       "      <td>0.100000</td>\n",
       "    </tr>\n",
       "    <tr>\n",
       "      <th>12</th>\n",
       "      <td>deliveri</td>\n",
       "      <td>0.100000</td>\n",
       "    </tr>\n",
       "    <tr>\n",
       "      <th>31</th>\n",
       "      <td>need</td>\n",
       "      <td>0.060302</td>\n",
       "    </tr>\n",
       "    <tr>\n",
       "      <th>44</th>\n",
       "      <td>support</td>\n",
       "      <td>0.050000</td>\n",
       "    </tr>\n",
       "    <tr>\n",
       "      <th>30</th>\n",
       "      <td>manag</td>\n",
       "      <td>0.050000</td>\n",
       "    </tr>\n",
       "  </tbody>\n",
       "</table>\n",
       "</div>"
      ],
      "text/plain": [
       "            term    weight\n",
       "35  realtionship  0.100000\n",
       "12      deliveri  0.100000\n",
       "31          need  0.060302\n",
       "44       support  0.050000\n",
       "30         manag  0.050000"
      ]
     },
     "execution_count": 19,
     "metadata": {},
     "output_type": "execute_result"
    }
   ],
   "source": [
    "top_weight=weights_df.sort_values(by='weight', ascending=False).head(50)\n",
    "top_weight.head(5)"
   ]
  },
  {
   "cell_type": "code",
   "execution_count": 20,
   "metadata": {
    "collapsed": false
   },
   "outputs": [],
   "source": [
    "df[\"close\"]=df.stemmedarr.map(lambda x: len([y for y in x if y in top_weight.term.values]))"
   ]
  },
  {
   "cell_type": "code",
   "execution_count": 21,
   "metadata": {
    "collapsed": false
   },
   "outputs": [
    {
     "data": {
      "text/html": [
       "<div>\n",
       "<table border=\"1\" class=\"dataframe\">\n",
       "  <thead>\n",
       "    <tr style=\"text-align: right;\">\n",
       "      <th></th>\n",
       "      <th>RF_ID</th>\n",
       "      <th>CSM_ID</th>\n",
       "      <th>RATE</th>\n",
       "      <th>SSUBM_ID</th>\n",
       "      <th>SUBJECTIVE</th>\n",
       "      <th>RFRM_ID</th>\n",
       "      <th>tokens</th>\n",
       "      <th>stemmed</th>\n",
       "      <th>stemmedarr</th>\n",
       "      <th>close</th>\n",
       "    </tr>\n",
       "  </thead>\n",
       "  <tbody>\n",
       "    <tr>\n",
       "      <th>6</th>\n",
       "      <td>168679</td>\n",
       "      <td>None</td>\n",
       "      <td>0</td>\n",
       "      <td>77</td>\n",
       "      <td>He has very high learning grasp and seen in va...</td>\n",
       "      <td>6347</td>\n",
       "      <td>[He, has, very, high, learning, grasp, and, se...</td>\n",
       "      <td>he has veri high learn grasp and seen in vario...</td>\n",
       "      <td>[he, has, veri, high, learn, grasp, and, seen,...</td>\n",
       "      <td>10</td>\n",
       "    </tr>\n",
       "    <tr>\n",
       "      <th>8</th>\n",
       "      <td>202921</td>\n",
       "      <td>None</td>\n",
       "      <td>0</td>\n",
       "      <td>77</td>\n",
       "      <td>Teamwork and Relationships - Excellent rapport...</td>\n",
       "      <td>6349</td>\n",
       "      <td>[Teamwork, and, Relationships, -, Excellent, r...</td>\n",
       "      <td>teamwork and relationship excel rapport with u...</td>\n",
       "      <td>[teamwork, and, relationship, excel, rapport, ...</td>\n",
       "      <td>10</td>\n",
       "    </tr>\n",
       "    <tr>\n",
       "      <th>9</th>\n",
       "      <td>202922</td>\n",
       "      <td>None</td>\n",
       "      <td>0</td>\n",
       "      <td>78</td>\n",
       "      <td>Entrepreneurship - Needs to inculcate cost con...</td>\n",
       "      <td>6349</td>\n",
       "      <td>[Entrepreneurship, -, Needs, to, inculcate, co...</td>\n",
       "      <td>entrepreneurship need to inculc cost conscious...</td>\n",
       "      <td>[entrepreneurship, need, to, inculc, cost, con...</td>\n",
       "      <td>9</td>\n",
       "    </tr>\n",
       "    <tr>\n",
       "      <th>4</th>\n",
       "      <td>172862</td>\n",
       "      <td>None</td>\n",
       "      <td>0</td>\n",
       "      <td>77</td>\n",
       "      <td>1. Learning- Learn from all level irrespective...</td>\n",
       "      <td>6346</td>\n",
       "      <td>[1, ., Learning, -, Learn, from, all, level, i...</td>\n",
       "      <td>learn learn from all level irrespect of hierar...</td>\n",
       "      <td>[learn, learn, from, all, level, irrespect, of...</td>\n",
       "      <td>8</td>\n",
       "    </tr>\n",
       "    <tr>\n",
       "      <th>2</th>\n",
       "      <td>167598</td>\n",
       "      <td>None</td>\n",
       "      <td>0</td>\n",
       "      <td>77</td>\n",
       "      <td>Learning &amp; Deliver the promise: \\r\\nMr. Sharma...</td>\n",
       "      <td>6345</td>\n",
       "      <td>[Learning, &amp;, Deliver, the, promise, :, Mr, .,...</td>\n",
       "      <td>learn deliv the promis mr sharma is a fast lea...</td>\n",
       "      <td>[learn, deliv, the, promis, mr, sharma, is, a,...</td>\n",
       "      <td>4</td>\n",
       "    </tr>\n",
       "  </tbody>\n",
       "</table>\n",
       "</div>"
      ],
      "text/plain": [
       "    RF_ID CSM_ID  RATE  SSUBM_ID  \\\n",
       "6  168679   None     0        77   \n",
       "8  202921   None     0        77   \n",
       "9  202922   None     0        78   \n",
       "4  172862   None     0        77   \n",
       "2  167598   None     0        77   \n",
       "\n",
       "                                          SUBJECTIVE  RFRM_ID  \\\n",
       "6  He has very high learning grasp and seen in va...     6347   \n",
       "8  Teamwork and Relationships - Excellent rapport...     6349   \n",
       "9  Entrepreneurship - Needs to inculcate cost con...     6349   \n",
       "4  1. Learning- Learn from all level irrespective...     6346   \n",
       "2  Learning & Deliver the promise: \\r\\nMr. Sharma...     6345   \n",
       "\n",
       "                                              tokens  \\\n",
       "6  [He, has, very, high, learning, grasp, and, se...   \n",
       "8  [Teamwork, and, Relationships, -, Excellent, r...   \n",
       "9  [Entrepreneurship, -, Needs, to, inculcate, co...   \n",
       "4  [1, ., Learning, -, Learn, from, all, level, i...   \n",
       "2  [Learning, &, Deliver, the, promise, :, Mr, .,...   \n",
       "\n",
       "                                             stemmed  \\\n",
       "6  he has veri high learn grasp and seen in vario...   \n",
       "8  teamwork and relationship excel rapport with u...   \n",
       "9  entrepreneurship need to inculc cost conscious...   \n",
       "4  learn learn from all level irrespect of hierar...   \n",
       "2  learn deliv the promis mr sharma is a fast lea...   \n",
       "\n",
       "                                          stemmedarr  close  \n",
       "6  [he, has, veri, high, learn, grasp, and, seen,...     10  \n",
       "8  [teamwork, and, relationship, excel, rapport, ...     10  \n",
       "9  [entrepreneurship, need, to, inculc, cost, con...      9  \n",
       "4  [learn, learn, from, all, level, irrespect, of...      8  \n",
       "2  [learn, deliv, the, promis, mr, sharma, is, a,...      4  "
      ]
     },
     "execution_count": 21,
     "metadata": {},
     "output_type": "execute_result"
    }
   ],
   "source": [
    "df.sort_values(by=\"close\",ascending=False).head()"
   ]
  },
  {
   "cell_type": "code",
   "execution_count": 30,
   "metadata": {
    "collapsed": false
   },
   "outputs": [
    {
     "data": {
      "text/plain": [
       "['Deliver the promise\\r\\nTeamwork and realtionship',\n",
       " 'Entrepreneurship\\r\\nsocial responsibility',\n",
       " 'Learning & Deliver the promise: \\r\\nMr. Sharma is a fast learner manager, he can also deliver the promise if any.',\n",
       " 'Respect for the Individual & Teamwork and Relationship: \\r\\nMr. Sharma can demonstrate these values to respect to the individual without biasness and he should maintain good relationship with his all colleagues.',\n",
       " '1. Learning- Learn from all level irrespective of hierarchy and age etc. 2. Entrepreneurship- take calculated risk during work execution.',\n",
       " '1. Delivery of Promise 2. Respect for individual',\n",
       " 'He has very high learning grasp and seen in various situations. \\r\\nHe has worked in a collaborative way with team and shown good example of teamwork.',\n",
       " 'He should be more social to local stakeholders and take entrepreneurship with the support of superiors.',\n",
       " 'Teamwork and Relationships - Excellent rapport with UK team and also Delhi team\\r\\nRespect for Individual - is loved and respected by peers, juniors and seniors for overall attitude demonstrated towards all.',\n",
       " 'Entrepreneurship - Needs to inculcate cost consciousness amongst self and team\\r\\nSocial Responsibility - Needs to focus more on CSR activities']"
      ]
     },
     "execution_count": 30,
     "metadata": {},
     "output_type": "execute_result"
    }
   ],
   "source": [
    "[y for y in df.SUBJECTIVE.values]"
   ]
  },
  {
   "cell_type": "code",
   "execution_count": null,
   "metadata": {
    "collapsed": true
   },
   "outputs": [],
   "source": []
  }
 ],
 "metadata": {
  "kernelspec": {
   "display_name": "Python 2",
   "language": "python",
   "name": "python2"
  },
  "language_info": {
   "codemirror_mode": {
    "name": "ipython",
    "version": 2
   },
   "file_extension": ".py",
   "mimetype": "text/x-python",
   "name": "python",
   "nbconvert_exporter": "python",
   "pygments_lexer": "ipython2",
   "version": "2.7.12"
  }
 },
 "nbformat": 4,
 "nbformat_minor": 1
}
