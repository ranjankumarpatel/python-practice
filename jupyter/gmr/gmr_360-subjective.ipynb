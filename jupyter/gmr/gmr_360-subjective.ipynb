{
 "cells": [
  {
   "cell_type": "code",
   "execution_count": 58,
   "metadata": {
    "collapsed": true
   },
   "outputs": [],
   "source": [
    "import pandas as pd\n",
    "import MySQLdb\n",
    "import nltk\n",
    "from nltk.stem.snowball import SnowballStemmer\n",
    "from nltk.stem import WordNetLemmatizer\n",
    "import numpy as np\n",
    "import jsonify"
   ]
  },
  {
   "cell_type": "code",
   "execution_count": 59,
   "metadata": {
    "collapsed": true
   },
   "outputs": [],
   "source": [
    "db = MySQLdb.connect(\"69.89.14.35\",\"360feedback\",\"360feedback@\",\"ttn_central_v1\" )\n",
    "db.autocommit=False"
   ]
  },
  {
   "cell_type": "code",
   "execution_count": 60,
   "metadata": {
    "collapsed": true
   },
   "outputs": [],
   "source": [
    "df = pd.read_sql_query(sql=\"\"\"SELECT \n",
    "    360_v1_respondent_feedback.*\n",
    "FROM\n",
    "    ttn_central_v1.360_v1_respondent_feedback\n",
    "        JOIN\n",
    "    360_v1_respondent_fs_rel_mapper ON 360_v1_respondent_fs_rel_mapper.RFRM_ID = 360_v1_respondent_feedback.RFRM_ID\n",
    "WHERE\n",
    "    360_v1_respondent_feedback.SSUBM_ID IS NOT NULL\n",
    "        -- AND 360_v1_respondent_fs_rel_mapper.PROJ_ID = 525 \n",
    "        and SSUBM_ID in (77,78)\n",
    "        ;\"\"\",con=db)"
   ]
  },
  {
   "cell_type": "code",
   "execution_count": 61,
   "metadata": {
    "collapsed": true
   },
   "outputs": [],
   "source": [
    "df = df[~df.SUBJECTIVE.isin([\"nopes\",\"\",\".\"])]\n",
    "df[\"sub_small\"]=df.SUBJECTIVE.map(lambda x: x.lower())"
   ]
  },
  {
   "cell_type": "code",
   "execution_count": 62,
   "metadata": {},
   "outputs": [
    {
     "data": {
      "text/html": [
       "<div>\n",
       "<table border=\"1\" class=\"dataframe\">\n",
       "  <thead>\n",
       "    <tr style=\"text-align: right;\">\n",
       "      <th></th>\n",
       "      <th>RF_ID</th>\n",
       "      <th>CSM_ID</th>\n",
       "      <th>RATE</th>\n",
       "      <th>SSUBM_ID</th>\n",
       "      <th>SUBJECTIVE</th>\n",
       "      <th>RFRM_ID</th>\n",
       "      <th>sub_small</th>\n",
       "    </tr>\n",
       "  </thead>\n",
       "  <tbody>\n",
       "    <tr>\n",
       "      <th>2</th>\n",
       "      <td>160992</td>\n",
       "      <td>None</td>\n",
       "      <td>0</td>\n",
       "      <td>77</td>\n",
       "      <td>Respect for individual - Treats team members w...</td>\n",
       "      <td>5942</td>\n",
       "      <td>respect for individual - treats team members w...</td>\n",
       "    </tr>\n",
       "    <tr>\n",
       "      <th>3</th>\n",
       "      <td>160993</td>\n",
       "      <td>None</td>\n",
       "      <td>0</td>\n",
       "      <td>78</td>\n",
       "      <td>Deliver the Promise- Focus on goals and commit...</td>\n",
       "      <td>5942</td>\n",
       "      <td>deliver the promise- focus on goals and commit...</td>\n",
       "    </tr>\n",
       "    <tr>\n",
       "      <th>4</th>\n",
       "      <td>161133</td>\n",
       "      <td>None</td>\n",
       "      <td>0</td>\n",
       "      <td>77</td>\n",
       "      <td>1. Humility: He is humble. He demonstrate this...</td>\n",
       "      <td>5940</td>\n",
       "      <td>1. humility: he is humble. he demonstrate this...</td>\n",
       "    </tr>\n",
       "    <tr>\n",
       "      <th>5</th>\n",
       "      <td>161134</td>\n",
       "      <td>None</td>\n",
       "      <td>0</td>\n",
       "      <td>78</td>\n",
       "      <td>1. Entrepreneurship: Though he demonstrate the...</td>\n",
       "      <td>5940</td>\n",
       "      <td>1. entrepreneurship: though he demonstrate the...</td>\n",
       "    </tr>\n",
       "    <tr>\n",
       "      <th>7</th>\n",
       "      <td>166236</td>\n",
       "      <td>None</td>\n",
       "      <td>0</td>\n",
       "      <td>78</td>\n",
       "      <td>I feel he should demonstrate more of \"Team wor...</td>\n",
       "      <td>6509</td>\n",
       "      <td>i feel he should demonstrate more of \"team wor...</td>\n",
       "    </tr>\n",
       "  </tbody>\n",
       "</table>\n",
       "</div>"
      ],
      "text/plain": [
       "    RF_ID CSM_ID  RATE  SSUBM_ID  \\\n",
       "2  160992   None     0        77   \n",
       "3  160993   None     0        78   \n",
       "4  161133   None     0        77   \n",
       "5  161134   None     0        78   \n",
       "7  166236   None     0        78   \n",
       "\n",
       "                                          SUBJECTIVE  RFRM_ID  \\\n",
       "2  Respect for individual - Treats team members w...     5942   \n",
       "3  Deliver the Promise- Focus on goals and commit...     5942   \n",
       "4  1. Humility: He is humble. He demonstrate this...     5940   \n",
       "5  1. Entrepreneurship: Though he demonstrate the...     5940   \n",
       "7  I feel he should demonstrate more of \"Team wor...     6509   \n",
       "\n",
       "                                           sub_small  \n",
       "2  respect for individual - treats team members w...  \n",
       "3  deliver the promise- focus on goals and commit...  \n",
       "4  1. humility: he is humble. he demonstrate this...  \n",
       "5  1. entrepreneurship: though he demonstrate the...  \n",
       "7  i feel he should demonstrate more of \"team wor...  "
      ]
     },
     "execution_count": 62,
     "metadata": {},
     "output_type": "execute_result"
    }
   ],
   "source": [
    "df.head()"
   ]
  },
  {
   "cell_type": "code",
   "execution_count": 63,
   "metadata": {},
   "outputs": [
    {
     "data": {
      "text/plain": [
       "2    [Respect, for, individual, -, Treats, team, me...\n",
       "3    [Deliver, the, Promise, -, Focus, on, goals, a...\n",
       "4    [1, ., Humility, :, He, is, humble, ., He, dem...\n",
       "5    [1, ., Entrepreneurship, :, Though, he, demons...\n",
       "7    [I, feel, he, should, demonstrate, more, of, \"...\n",
       "Name: tokens, dtype: object"
      ]
     },
     "execution_count": 63,
     "metadata": {},
     "output_type": "execute_result"
    }
   ],
   "source": [
    "from sklearn.feature_extraction.text import TfidfVectorizer\n",
    "v = TfidfVectorizer()\n",
    "df['tokens']=df.SUBJECTIVE.apply(lambda x: nltk.wordpunct_tokenize(x))\n",
    "df.tokens.head()"
   ]
  },
  {
   "cell_type": "code",
   "execution_count": 64,
   "metadata": {},
   "outputs": [
    {
     "data": {
      "text/html": [
       "<div>\n",
       "<table border=\"1\" class=\"dataframe\">\n",
       "  <thead>\n",
       "    <tr style=\"text-align: right;\">\n",
       "      <th></th>\n",
       "      <th>RF_ID</th>\n",
       "      <th>CSM_ID</th>\n",
       "      <th>RATE</th>\n",
       "      <th>SSUBM_ID</th>\n",
       "      <th>SUBJECTIVE</th>\n",
       "      <th>RFRM_ID</th>\n",
       "      <th>sub_small</th>\n",
       "      <th>tokens</th>\n",
       "      <th>stemmed</th>\n",
       "      <th>stemmedarr</th>\n",
       "    </tr>\n",
       "  </thead>\n",
       "  <tbody>\n",
       "    <tr>\n",
       "      <th>2</th>\n",
       "      <td>160992</td>\n",
       "      <td>None</td>\n",
       "      <td>0</td>\n",
       "      <td>77</td>\n",
       "      <td>Respect for individual - Treats team members w...</td>\n",
       "      <td>5942</td>\n",
       "      <td>respect for individual - treats team members w...</td>\n",
       "      <td>[Respect, for, individual, -, Treats, team, me...</td>\n",
       "      <td>respect for individu treat team member with di...</td>\n",
       "      <td>{and, give, process, individu, share, an, in, ...</td>\n",
       "    </tr>\n",
       "    <tr>\n",
       "      <th>3</th>\n",
       "      <td>160993</td>\n",
       "      <td>None</td>\n",
       "      <td>0</td>\n",
       "      <td>78</td>\n",
       "      <td>Deliver the Promise- Focus on goals and commit...</td>\n",
       "      <td>5942</td>\n",
       "      <td>deliver the promise- focus on goals and commit...</td>\n",
       "      <td>[Deliver, the, Promise, -, Focus, on, goals, a...</td>\n",
       "      <td>deliv the promis focus on goal and commit entr...</td>\n",
       "      <td>{and, on, goal, for, challeng, focus, proactiv...</td>\n",
       "    </tr>\n",
       "    <tr>\n",
       "      <th>4</th>\n",
       "      <td>161133</td>\n",
       "      <td>None</td>\n",
       "      <td>0</td>\n",
       "      <td>77</td>\n",
       "      <td>1. Humility: He is humble. He demonstrate this...</td>\n",
       "      <td>5940</td>\n",
       "      <td>1. humility: he is humble. he demonstrate this...</td>\n",
       "      <td>[1, ., Humility, :, He, is, humble, ., He, dem...</td>\n",
       "      <td>humil he is humbl he demonstr this valu over a...</td>\n",
       "      <td>{and, all, over, humil, idea, him, pressur, im...</td>\n",
       "    </tr>\n",
       "    <tr>\n",
       "      <th>5</th>\n",
       "      <td>161134</td>\n",
       "      <td>None</td>\n",
       "      <td>0</td>\n",
       "      <td>78</td>\n",
       "      <td>1. Entrepreneurship: Though he demonstrate the...</td>\n",
       "      <td>5940</td>\n",
       "      <td>1. entrepreneurship: though he demonstrate the...</td>\n",
       "      <td>[1, ., Entrepreneurship, :, Though, he, demons...</td>\n",
       "      <td>entrepreneurship though he demonstr the hr ama...</td>\n",
       "      <td>{and, control, process, had, challeng, rest, a...</td>\n",
       "    </tr>\n",
       "    <tr>\n",
       "      <th>7</th>\n",
       "      <td>166236</td>\n",
       "      <td>None</td>\n",
       "      <td>0</td>\n",
       "      <td>78</td>\n",
       "      <td>I feel he should demonstrate more of \"Team wor...</td>\n",
       "      <td>6509</td>\n",
       "      <td>i feel he should demonstrate more of \"team wor...</td>\n",
       "      <td>[I, feel, he, should, demonstrate, more, of, \"...</td>\n",
       "      <td>i feel he should demonstr more of team work re...</td>\n",
       "      <td>{and, this, own, help, give, feel, the, is, wi...</td>\n",
       "    </tr>\n",
       "  </tbody>\n",
       "</table>\n",
       "</div>"
      ],
      "text/plain": [
       "    RF_ID CSM_ID  RATE  SSUBM_ID  \\\n",
       "2  160992   None     0        77   \n",
       "3  160993   None     0        78   \n",
       "4  161133   None     0        77   \n",
       "5  161134   None     0        78   \n",
       "7  166236   None     0        78   \n",
       "\n",
       "                                          SUBJECTIVE  RFRM_ID  \\\n",
       "2  Respect for individual - Treats team members w...     5942   \n",
       "3  Deliver the Promise- Focus on goals and commit...     5942   \n",
       "4  1. Humility: He is humble. He demonstrate this...     5940   \n",
       "5  1. Entrepreneurship: Though he demonstrate the...     5940   \n",
       "7  I feel he should demonstrate more of \"Team wor...     6509   \n",
       "\n",
       "                                           sub_small  \\\n",
       "2  respect for individual - treats team members w...   \n",
       "3  deliver the promise- focus on goals and commit...   \n",
       "4  1. humility: he is humble. he demonstrate this...   \n",
       "5  1. entrepreneurship: though he demonstrate the...   \n",
       "7  i feel he should demonstrate more of \"team wor...   \n",
       "\n",
       "                                              tokens  \\\n",
       "2  [Respect, for, individual, -, Treats, team, me...   \n",
       "3  [Deliver, the, Promise, -, Focus, on, goals, a...   \n",
       "4  [1, ., Humility, :, He, is, humble, ., He, dem...   \n",
       "5  [1, ., Entrepreneurship, :, Though, he, demons...   \n",
       "7  [I, feel, he, should, demonstrate, more, of, \"...   \n",
       "\n",
       "                                             stemmed  \\\n",
       "2  respect for individu treat team member with di...   \n",
       "3  deliv the promis focus on goal and commit entr...   \n",
       "4  humil he is humbl he demonstr this valu over a...   \n",
       "5  entrepreneurship though he demonstr the hr ama...   \n",
       "7  i feel he should demonstr more of team work re...   \n",
       "\n",
       "                                          stemmedarr  \n",
       "2  {and, give, process, individu, share, an, in, ...  \n",
       "3  {and, on, goal, for, challeng, focus, proactiv...  \n",
       "4  {and, all, over, humil, idea, him, pressur, im...  \n",
       "5  {and, control, process, had, challeng, rest, a...  \n",
       "7  {and, this, own, help, give, feel, the, is, wi...  "
      ]
     },
     "execution_count": 64,
     "metadata": {},
     "output_type": "execute_result"
    }
   ],
   "source": [
    "stemmer = SnowballStemmer(language=\"english\",ignore_stopwords=False)\n",
    "wordnet_lemmatizer = WordNetLemmatizer()\n",
    "df['stemmed'] = df.tokens.map(lambda x: \" \".join([stemmer.stem(y) for y in x if y.isalpha()]))\n",
    "df['stemmedarr'] = df.tokens.map(lambda x: set([stemmer.stem(y) for y in x if y.isalpha()]))\n",
    "df.head()"
   ]
  },
  {
   "cell_type": "code",
   "execution_count": 65,
   "metadata": {},
   "outputs": [],
   "source": [
    "excel = df[[\"tokens\",\"stemmedarr\"]]\n",
    "excel.to_excel(\"/home/ranjan/Documents/test_gmr.xlsx\")"
   ]
  },
  {
   "cell_type": "code",
   "execution_count": 25,
   "metadata": {},
   "outputs": [
    {
     "ename": "ValueError",
     "evalue": "After pruning, no terms remain. Try a lower min_df or a higher max_df.",
     "output_type": "error",
     "traceback": [
      "\u001b[0;31m---------------------------------------------------------------------------\u001b[0m",
      "\u001b[0;31mValueError\u001b[0m                                Traceback (most recent call last)",
      "\u001b[0;32m<ipython-input-25-b142a64191ee>\u001b[0m in \u001b[0;36m<module>\u001b[0;34m()\u001b[0m\n\u001b[1;32m      1\u001b[0m \u001b[0;32mfrom\u001b[0m \u001b[0msklearn\u001b[0m\u001b[0;34m.\u001b[0m\u001b[0mfeature_extraction\u001b[0m\u001b[0;34m.\u001b[0m\u001b[0mtext\u001b[0m \u001b[0;32mimport\u001b[0m \u001b[0mTfidfVectorizer\u001b[0m\u001b[0;34m\u001b[0m\u001b[0m\n\u001b[1;32m      2\u001b[0m \u001b[0mtvec\u001b[0m \u001b[0;34m=\u001b[0m \u001b[0mTfidfVectorizer\u001b[0m\u001b[0;34m(\u001b[0m\u001b[0mmin_df\u001b[0m\u001b[0;34m=\u001b[0m\u001b[0;36m.0025\u001b[0m\u001b[0;34m,\u001b[0m \u001b[0mmax_df\u001b[0m\u001b[0;34m=\u001b[0m\u001b[0;36m.1\u001b[0m\u001b[0;34m,\u001b[0m \u001b[0mstop_words\u001b[0m\u001b[0;34m=\u001b[0m\u001b[0;34m'english'\u001b[0m\u001b[0;34m)\u001b[0m\u001b[0;34m\u001b[0m\u001b[0m\n\u001b[0;32m----> 3\u001b[0;31m \u001b[0mtvec_weights\u001b[0m \u001b[0;34m=\u001b[0m \u001b[0mtvec\u001b[0m\u001b[0;34m.\u001b[0m\u001b[0mfit_transform\u001b[0m\u001b[0;34m(\u001b[0m\u001b[0mdf\u001b[0m\u001b[0;34m.\u001b[0m\u001b[0mstemmed\u001b[0m\u001b[0;34m.\u001b[0m\u001b[0mdropna\u001b[0m\u001b[0;34m(\u001b[0m\u001b[0;34m)\u001b[0m\u001b[0;34m)\u001b[0m\u001b[0;34m\u001b[0m\u001b[0m\n\u001b[0m\u001b[1;32m      4\u001b[0m \u001b[0mweights\u001b[0m \u001b[0;34m=\u001b[0m \u001b[0mnp\u001b[0m\u001b[0;34m.\u001b[0m\u001b[0masarray\u001b[0m\u001b[0;34m(\u001b[0m\u001b[0mtvec_weights\u001b[0m\u001b[0;34m.\u001b[0m\u001b[0mmean\u001b[0m\u001b[0;34m(\u001b[0m\u001b[0maxis\u001b[0m\u001b[0;34m=\u001b[0m\u001b[0;36m0\u001b[0m\u001b[0;34m)\u001b[0m\u001b[0;34m)\u001b[0m\u001b[0;34m.\u001b[0m\u001b[0mravel\u001b[0m\u001b[0;34m(\u001b[0m\u001b[0;34m)\u001b[0m\u001b[0;34m.\u001b[0m\u001b[0mtolist\u001b[0m\u001b[0;34m(\u001b[0m\u001b[0;34m)\u001b[0m\u001b[0;34m\u001b[0m\u001b[0m\n\u001b[1;32m      5\u001b[0m \u001b[0mweights_df\u001b[0m \u001b[0;34m=\u001b[0m \u001b[0mpd\u001b[0m\u001b[0;34m.\u001b[0m\u001b[0mDataFrame\u001b[0m\u001b[0;34m(\u001b[0m\u001b[0;34m{\u001b[0m\u001b[0;34m'term'\u001b[0m\u001b[0;34m:\u001b[0m \u001b[0mtvec\u001b[0m\u001b[0;34m.\u001b[0m\u001b[0mget_feature_names\u001b[0m\u001b[0;34m(\u001b[0m\u001b[0;34m)\u001b[0m\u001b[0;34m,\u001b[0m \u001b[0;34m'weight'\u001b[0m\u001b[0;34m:\u001b[0m \u001b[0mweights\u001b[0m\u001b[0;34m}\u001b[0m\u001b[0;34m)\u001b[0m\u001b[0;34m\u001b[0m\u001b[0m\n",
      "\u001b[0;32m/usr/local/lib/python2.7/dist-packages/sklearn/feature_extraction/text.pyc\u001b[0m in \u001b[0;36mfit_transform\u001b[0;34m(self, raw_documents, y)\u001b[0m\n\u001b[1;32m   1350\u001b[0m             \u001b[0mTf\u001b[0m\u001b[0;34m-\u001b[0m\u001b[0midf\u001b[0m\u001b[0;34m-\u001b[0m\u001b[0mweighted\u001b[0m \u001b[0mdocument\u001b[0m\u001b[0;34m-\u001b[0m\u001b[0mterm\u001b[0m \u001b[0mmatrix\u001b[0m\u001b[0;34m.\u001b[0m\u001b[0;34m\u001b[0m\u001b[0m\n\u001b[1;32m   1351\u001b[0m         \"\"\"\n\u001b[0;32m-> 1352\u001b[0;31m         \u001b[0mX\u001b[0m \u001b[0;34m=\u001b[0m \u001b[0msuper\u001b[0m\u001b[0;34m(\u001b[0m\u001b[0mTfidfVectorizer\u001b[0m\u001b[0;34m,\u001b[0m \u001b[0mself\u001b[0m\u001b[0;34m)\u001b[0m\u001b[0;34m.\u001b[0m\u001b[0mfit_transform\u001b[0m\u001b[0;34m(\u001b[0m\u001b[0mraw_documents\u001b[0m\u001b[0;34m)\u001b[0m\u001b[0;34m\u001b[0m\u001b[0m\n\u001b[0m\u001b[1;32m   1353\u001b[0m         \u001b[0mself\u001b[0m\u001b[0;34m.\u001b[0m\u001b[0m_tfidf\u001b[0m\u001b[0;34m.\u001b[0m\u001b[0mfit\u001b[0m\u001b[0;34m(\u001b[0m\u001b[0mX\u001b[0m\u001b[0;34m)\u001b[0m\u001b[0;34m\u001b[0m\u001b[0m\n\u001b[1;32m   1354\u001b[0m         \u001b[0;31m# X is already a transformed view of raw_documents so\u001b[0m\u001b[0;34m\u001b[0m\u001b[0;34m\u001b[0m\u001b[0m\n",
      "\u001b[0;32m/usr/local/lib/python2.7/dist-packages/sklearn/feature_extraction/text.pyc\u001b[0m in \u001b[0;36mfit_transform\u001b[0;34m(self, raw_documents, y)\u001b[0m\n\u001b[1;32m    858\u001b[0m                                                        \u001b[0mmax_doc_count\u001b[0m\u001b[0;34m,\u001b[0m\u001b[0;34m\u001b[0m\u001b[0m\n\u001b[1;32m    859\u001b[0m                                                        \u001b[0mmin_doc_count\u001b[0m\u001b[0;34m,\u001b[0m\u001b[0;34m\u001b[0m\u001b[0m\n\u001b[0;32m--> 860\u001b[0;31m                                                        max_features)\n\u001b[0m\u001b[1;32m    861\u001b[0m \u001b[0;34m\u001b[0m\u001b[0m\n\u001b[1;32m    862\u001b[0m             \u001b[0mself\u001b[0m\u001b[0;34m.\u001b[0m\u001b[0mvocabulary_\u001b[0m \u001b[0;34m=\u001b[0m \u001b[0mvocabulary\u001b[0m\u001b[0;34m\u001b[0m\u001b[0m\n",
      "\u001b[0;32m/usr/local/lib/python2.7/dist-packages/sklearn/feature_extraction/text.pyc\u001b[0m in \u001b[0;36m_limit_features\u001b[0;34m(self, X, vocabulary, high, low, limit)\u001b[0m\n\u001b[1;32m    739\u001b[0m         \u001b[0mkept_indices\u001b[0m \u001b[0;34m=\u001b[0m \u001b[0mnp\u001b[0m\u001b[0;34m.\u001b[0m\u001b[0mwhere\u001b[0m\u001b[0;34m(\u001b[0m\u001b[0mmask\u001b[0m\u001b[0;34m)\u001b[0m\u001b[0;34m[\u001b[0m\u001b[0;36m0\u001b[0m\u001b[0;34m]\u001b[0m\u001b[0;34m\u001b[0m\u001b[0m\n\u001b[1;32m    740\u001b[0m         \u001b[0;32mif\u001b[0m \u001b[0mlen\u001b[0m\u001b[0;34m(\u001b[0m\u001b[0mkept_indices\u001b[0m\u001b[0;34m)\u001b[0m \u001b[0;34m==\u001b[0m \u001b[0;36m0\u001b[0m\u001b[0;34m:\u001b[0m\u001b[0;34m\u001b[0m\u001b[0m\n\u001b[0;32m--> 741\u001b[0;31m             raise ValueError(\"After pruning, no terms remain. Try a lower\"\n\u001b[0m\u001b[1;32m    742\u001b[0m                              \" min_df or a higher max_df.\")\n\u001b[1;32m    743\u001b[0m         \u001b[0;32mreturn\u001b[0m \u001b[0mX\u001b[0m\u001b[0;34m[\u001b[0m\u001b[0;34m:\u001b[0m\u001b[0;34m,\u001b[0m \u001b[0mkept_indices\u001b[0m\u001b[0;34m]\u001b[0m\u001b[0;34m,\u001b[0m \u001b[0mremoved_terms\u001b[0m\u001b[0;34m\u001b[0m\u001b[0m\n",
      "\u001b[0;31mValueError\u001b[0m: After pruning, no terms remain. Try a lower min_df or a higher max_df."
     ]
    }
   ],
   "source": [
    "from sklearn.feature_extraction.text import TfidfVectorizer\n",
    "tvec = TfidfVectorizer(min_df=.0025, max_df=.1, stop_words='english')\n",
    "tvec_weights = tvec.fit_transform(df.stemmed.dropna())\n",
    "weights = np.asarray(tvec_weights.mean(axis=0)).ravel().tolist()\n",
    "weights_df = pd.DataFrame({'term': tvec.get_feature_names(), 'weight': weights})\n",
    "weights_df.sort_values(by='weight', ascending=False).head(10)"
   ]
  },
  {
   "cell_type": "code",
   "execution_count": 26,
   "metadata": {},
   "outputs": [
    {
     "ename": "NameError",
     "evalue": "name 'weights_df' is not defined",
     "output_type": "error",
     "traceback": [
      "\u001b[0;31m---------------------------------------------------------------------------\u001b[0m",
      "\u001b[0;31mNameError\u001b[0m                                 Traceback (most recent call last)",
      "\u001b[0;32m<ipython-input-26-f808441754a9>\u001b[0m in \u001b[0;36m<module>\u001b[0;34m()\u001b[0m\n\u001b[0;32m----> 1\u001b[0;31m \u001b[0mtop_weight\u001b[0m\u001b[0;34m=\u001b[0m\u001b[0mweights_df\u001b[0m\u001b[0;34m.\u001b[0m\u001b[0msort_values\u001b[0m\u001b[0;34m(\u001b[0m\u001b[0mby\u001b[0m\u001b[0;34m=\u001b[0m\u001b[0;34m'weight'\u001b[0m\u001b[0;34m,\u001b[0m \u001b[0mascending\u001b[0m\u001b[0;34m=\u001b[0m\u001b[0mFalse\u001b[0m\u001b[0;34m)\u001b[0m\u001b[0;34m.\u001b[0m\u001b[0mhead\u001b[0m\u001b[0;34m(\u001b[0m\u001b[0;36m50\u001b[0m\u001b[0;34m)\u001b[0m\u001b[0;34m\u001b[0m\u001b[0m\n\u001b[0m\u001b[1;32m      2\u001b[0m \u001b[0mtop_weight\u001b[0m\u001b[0;34m.\u001b[0m\u001b[0mhead\u001b[0m\u001b[0;34m(\u001b[0m\u001b[0;36m5\u001b[0m\u001b[0;34m)\u001b[0m\u001b[0;34m\u001b[0m\u001b[0m\n",
      "\u001b[0;31mNameError\u001b[0m: name 'weights_df' is not defined"
     ]
    }
   ],
   "source": [
    "top_weight=weights_df.sort_values(by='weight', ascending=False).head(50)\n",
    "top_weight.head(5)"
   ]
  },
  {
   "cell_type": "code",
   "execution_count": 27,
   "metadata": {},
   "outputs": [
    {
     "ename": "NameError",
     "evalue": "global name 'top_weight' is not defined",
     "output_type": "error",
     "traceback": [
      "\u001b[0;31m---------------------------------------------------------------------------\u001b[0m",
      "\u001b[0;31mNameError\u001b[0m                                 Traceback (most recent call last)",
      "\u001b[0;32m<ipython-input-27-df4e84afe33a>\u001b[0m in \u001b[0;36m<module>\u001b[0;34m()\u001b[0m\n\u001b[0;32m----> 1\u001b[0;31m \u001b[0mdf\u001b[0m\u001b[0;34m[\u001b[0m\u001b[0;34m\"close\"\u001b[0m\u001b[0;34m]\u001b[0m\u001b[0;34m=\u001b[0m\u001b[0mdf\u001b[0m\u001b[0;34m.\u001b[0m\u001b[0mstemmedarr\u001b[0m\u001b[0;34m.\u001b[0m\u001b[0mmap\u001b[0m\u001b[0;34m(\u001b[0m\u001b[0;32mlambda\u001b[0m \u001b[0mx\u001b[0m\u001b[0;34m:\u001b[0m \u001b[0mlen\u001b[0m\u001b[0;34m(\u001b[0m\u001b[0;34m[\u001b[0m\u001b[0my\u001b[0m \u001b[0;32mfor\u001b[0m \u001b[0my\u001b[0m \u001b[0;32min\u001b[0m \u001b[0mx\u001b[0m \u001b[0;32mif\u001b[0m \u001b[0my\u001b[0m \u001b[0;32min\u001b[0m \u001b[0mtop_weight\u001b[0m\u001b[0;34m.\u001b[0m\u001b[0mterm\u001b[0m\u001b[0;34m.\u001b[0m\u001b[0mvalues\u001b[0m\u001b[0;34m]\u001b[0m\u001b[0;34m)\u001b[0m\u001b[0;34m)\u001b[0m\u001b[0;34m\u001b[0m\u001b[0m\n\u001b[0m",
      "\u001b[0;32m/usr/local/lib/python2.7/dist-packages/pandas/core/series.pyc\u001b[0m in \u001b[0;36mmap\u001b[0;34m(self, arg, na_action)\u001b[0m\n\u001b[1;32m   2175\u001b[0m             \u001b[0mnew_values\u001b[0m \u001b[0;34m=\u001b[0m \u001b[0malgos\u001b[0m\u001b[0;34m.\u001b[0m\u001b[0mtake_1d\u001b[0m\u001b[0;34m(\u001b[0m\u001b[0marg\u001b[0m\u001b[0;34m.\u001b[0m\u001b[0m_values\u001b[0m\u001b[0;34m,\u001b[0m \u001b[0mindexer\u001b[0m\u001b[0;34m)\u001b[0m\u001b[0;34m\u001b[0m\u001b[0m\n\u001b[1;32m   2176\u001b[0m         \u001b[0;32melse\u001b[0m\u001b[0;34m:\u001b[0m\u001b[0;34m\u001b[0m\u001b[0m\n\u001b[0;32m-> 2177\u001b[0;31m             \u001b[0mnew_values\u001b[0m \u001b[0;34m=\u001b[0m \u001b[0mmap_f\u001b[0m\u001b[0;34m(\u001b[0m\u001b[0mvalues\u001b[0m\u001b[0;34m,\u001b[0m \u001b[0marg\u001b[0m\u001b[0;34m)\u001b[0m\u001b[0;34m\u001b[0m\u001b[0m\n\u001b[0m\u001b[1;32m   2178\u001b[0m \u001b[0;34m\u001b[0m\u001b[0m\n\u001b[1;32m   2179\u001b[0m         return self._constructor(new_values,\n",
      "\u001b[0;32mpandas/src/inference.pyx\u001b[0m in \u001b[0;36mpandas.lib.map_infer (pandas/lib.c:66124)\u001b[0;34m()\u001b[0m\n",
      "\u001b[0;32m<ipython-input-27-df4e84afe33a>\u001b[0m in \u001b[0;36m<lambda>\u001b[0;34m(x)\u001b[0m\n\u001b[0;32m----> 1\u001b[0;31m \u001b[0mdf\u001b[0m\u001b[0;34m[\u001b[0m\u001b[0;34m\"close\"\u001b[0m\u001b[0;34m]\u001b[0m\u001b[0;34m=\u001b[0m\u001b[0mdf\u001b[0m\u001b[0;34m.\u001b[0m\u001b[0mstemmedarr\u001b[0m\u001b[0;34m.\u001b[0m\u001b[0mmap\u001b[0m\u001b[0;34m(\u001b[0m\u001b[0;32mlambda\u001b[0m \u001b[0mx\u001b[0m\u001b[0;34m:\u001b[0m \u001b[0mlen\u001b[0m\u001b[0;34m(\u001b[0m\u001b[0;34m[\u001b[0m\u001b[0my\u001b[0m \u001b[0;32mfor\u001b[0m \u001b[0my\u001b[0m \u001b[0;32min\u001b[0m \u001b[0mx\u001b[0m \u001b[0;32mif\u001b[0m \u001b[0my\u001b[0m \u001b[0;32min\u001b[0m \u001b[0mtop_weight\u001b[0m\u001b[0;34m.\u001b[0m\u001b[0mterm\u001b[0m\u001b[0;34m.\u001b[0m\u001b[0mvalues\u001b[0m\u001b[0;34m]\u001b[0m\u001b[0;34m)\u001b[0m\u001b[0;34m)\u001b[0m\u001b[0;34m\u001b[0m\u001b[0m\n\u001b[0m",
      "\u001b[0;31mNameError\u001b[0m: global name 'top_weight' is not defined"
     ]
    }
   ],
   "source": [
    "df[\"close\"]=df.stemmedarr.map(lambda x: len([y for y in x if y in top_weight.term.values]))"
   ]
  },
  {
   "cell_type": "code",
   "execution_count": 28,
   "metadata": {},
   "outputs": [
    {
     "ename": "KeyError",
     "evalue": "'close'",
     "output_type": "error",
     "traceback": [
      "\u001b[0;31m---------------------------------------------------------------------------\u001b[0m",
      "\u001b[0;31mKeyError\u001b[0m                                  Traceback (most recent call last)",
      "\u001b[0;32m<ipython-input-28-c693bb4bf627>\u001b[0m in \u001b[0;36m<module>\u001b[0;34m()\u001b[0m\n\u001b[0;32m----> 1\u001b[0;31m \u001b[0mdf\u001b[0m\u001b[0;34m.\u001b[0m\u001b[0msort_values\u001b[0m\u001b[0;34m(\u001b[0m\u001b[0mby\u001b[0m\u001b[0;34m=\u001b[0m\u001b[0;34m\"close\"\u001b[0m\u001b[0;34m,\u001b[0m\u001b[0mascending\u001b[0m\u001b[0;34m=\u001b[0m\u001b[0mFalse\u001b[0m\u001b[0;34m)\u001b[0m\u001b[0;34m.\u001b[0m\u001b[0mhead\u001b[0m\u001b[0;34m(\u001b[0m\u001b[0;34m)\u001b[0m\u001b[0;34m\u001b[0m\u001b[0m\n\u001b[0m",
      "\u001b[0;32m/usr/local/lib/python2.7/dist-packages/pandas/core/frame.pyc\u001b[0m in \u001b[0;36msort_values\u001b[0;34m(self, by, axis, ascending, inplace, kind, na_position)\u001b[0m\n\u001b[1;32m   3228\u001b[0m \u001b[0;34m\u001b[0m\u001b[0m\n\u001b[1;32m   3229\u001b[0m             \u001b[0mby\u001b[0m \u001b[0;34m=\u001b[0m \u001b[0mby\u001b[0m\u001b[0;34m[\u001b[0m\u001b[0;36m0\u001b[0m\u001b[0;34m]\u001b[0m\u001b[0;34m\u001b[0m\u001b[0m\n\u001b[0;32m-> 3230\u001b[0;31m             \u001b[0mk\u001b[0m \u001b[0;34m=\u001b[0m \u001b[0mself\u001b[0m\u001b[0;34m.\u001b[0m\u001b[0mxs\u001b[0m\u001b[0;34m(\u001b[0m\u001b[0mby\u001b[0m\u001b[0;34m,\u001b[0m \u001b[0maxis\u001b[0m\u001b[0;34m=\u001b[0m\u001b[0mother_axis\u001b[0m\u001b[0;34m)\u001b[0m\u001b[0;34m.\u001b[0m\u001b[0mvalues\u001b[0m\u001b[0;34m\u001b[0m\u001b[0m\n\u001b[0m\u001b[1;32m   3231\u001b[0m             \u001b[0;32mif\u001b[0m \u001b[0mk\u001b[0m\u001b[0;34m.\u001b[0m\u001b[0mndim\u001b[0m \u001b[0;34m==\u001b[0m \u001b[0;36m2\u001b[0m\u001b[0;34m:\u001b[0m\u001b[0;34m\u001b[0m\u001b[0m\n\u001b[1;32m   3232\u001b[0m \u001b[0;34m\u001b[0m\u001b[0m\n",
      "\u001b[0;32m/usr/local/lib/python2.7/dist-packages/pandas/core/generic.pyc\u001b[0m in \u001b[0;36mxs\u001b[0;34m(self, key, axis, level, drop_level)\u001b[0m\n\u001b[1;32m   1768\u001b[0m \u001b[0;34m\u001b[0m\u001b[0m\n\u001b[1;32m   1769\u001b[0m         \u001b[0;32mif\u001b[0m \u001b[0maxis\u001b[0m \u001b[0;34m==\u001b[0m \u001b[0;36m1\u001b[0m\u001b[0;34m:\u001b[0m\u001b[0;34m\u001b[0m\u001b[0m\n\u001b[0;32m-> 1770\u001b[0;31m             \u001b[0;32mreturn\u001b[0m \u001b[0mself\u001b[0m\u001b[0;34m[\u001b[0m\u001b[0mkey\u001b[0m\u001b[0;34m]\u001b[0m\u001b[0;34m\u001b[0m\u001b[0m\n\u001b[0m\u001b[1;32m   1771\u001b[0m \u001b[0;34m\u001b[0m\u001b[0m\n\u001b[1;32m   1772\u001b[0m         \u001b[0mself\u001b[0m\u001b[0;34m.\u001b[0m\u001b[0m_consolidate_inplace\u001b[0m\u001b[0;34m(\u001b[0m\u001b[0;34m)\u001b[0m\u001b[0;34m\u001b[0m\u001b[0m\n",
      "\u001b[0;32m/usr/local/lib/python2.7/dist-packages/pandas/core/frame.pyc\u001b[0m in \u001b[0;36m__getitem__\u001b[0;34m(self, key)\u001b[0m\n\u001b[1;32m   2057\u001b[0m             \u001b[0;32mreturn\u001b[0m \u001b[0mself\u001b[0m\u001b[0;34m.\u001b[0m\u001b[0m_getitem_multilevel\u001b[0m\u001b[0;34m(\u001b[0m\u001b[0mkey\u001b[0m\u001b[0;34m)\u001b[0m\u001b[0;34m\u001b[0m\u001b[0m\n\u001b[1;32m   2058\u001b[0m         \u001b[0;32melse\u001b[0m\u001b[0;34m:\u001b[0m\u001b[0;34m\u001b[0m\u001b[0m\n\u001b[0;32m-> 2059\u001b[0;31m             \u001b[0;32mreturn\u001b[0m \u001b[0mself\u001b[0m\u001b[0;34m.\u001b[0m\u001b[0m_getitem_column\u001b[0m\u001b[0;34m(\u001b[0m\u001b[0mkey\u001b[0m\u001b[0;34m)\u001b[0m\u001b[0;34m\u001b[0m\u001b[0m\n\u001b[0m\u001b[1;32m   2060\u001b[0m \u001b[0;34m\u001b[0m\u001b[0m\n\u001b[1;32m   2061\u001b[0m     \u001b[0;32mdef\u001b[0m \u001b[0m_getitem_column\u001b[0m\u001b[0;34m(\u001b[0m\u001b[0mself\u001b[0m\u001b[0;34m,\u001b[0m \u001b[0mkey\u001b[0m\u001b[0;34m)\u001b[0m\u001b[0;34m:\u001b[0m\u001b[0;34m\u001b[0m\u001b[0m\n",
      "\u001b[0;32m/usr/local/lib/python2.7/dist-packages/pandas/core/frame.pyc\u001b[0m in \u001b[0;36m_getitem_column\u001b[0;34m(self, key)\u001b[0m\n\u001b[1;32m   2064\u001b[0m         \u001b[0;31m# get column\u001b[0m\u001b[0;34m\u001b[0m\u001b[0;34m\u001b[0m\u001b[0m\n\u001b[1;32m   2065\u001b[0m         \u001b[0;32mif\u001b[0m \u001b[0mself\u001b[0m\u001b[0;34m.\u001b[0m\u001b[0mcolumns\u001b[0m\u001b[0;34m.\u001b[0m\u001b[0mis_unique\u001b[0m\u001b[0;34m:\u001b[0m\u001b[0;34m\u001b[0m\u001b[0m\n\u001b[0;32m-> 2066\u001b[0;31m             \u001b[0;32mreturn\u001b[0m \u001b[0mself\u001b[0m\u001b[0;34m.\u001b[0m\u001b[0m_get_item_cache\u001b[0m\u001b[0;34m(\u001b[0m\u001b[0mkey\u001b[0m\u001b[0;34m)\u001b[0m\u001b[0;34m\u001b[0m\u001b[0m\n\u001b[0m\u001b[1;32m   2067\u001b[0m \u001b[0;34m\u001b[0m\u001b[0m\n\u001b[1;32m   2068\u001b[0m         \u001b[0;31m# duplicate columns & possible reduce dimensionality\u001b[0m\u001b[0;34m\u001b[0m\u001b[0;34m\u001b[0m\u001b[0m\n",
      "\u001b[0;32m/usr/local/lib/python2.7/dist-packages/pandas/core/generic.pyc\u001b[0m in \u001b[0;36m_get_item_cache\u001b[0;34m(self, item)\u001b[0m\n\u001b[1;32m   1384\u001b[0m         \u001b[0mres\u001b[0m \u001b[0;34m=\u001b[0m \u001b[0mcache\u001b[0m\u001b[0;34m.\u001b[0m\u001b[0mget\u001b[0m\u001b[0;34m(\u001b[0m\u001b[0mitem\u001b[0m\u001b[0;34m)\u001b[0m\u001b[0;34m\u001b[0m\u001b[0m\n\u001b[1;32m   1385\u001b[0m         \u001b[0;32mif\u001b[0m \u001b[0mres\u001b[0m \u001b[0;32mis\u001b[0m \u001b[0mNone\u001b[0m\u001b[0;34m:\u001b[0m\u001b[0;34m\u001b[0m\u001b[0m\n\u001b[0;32m-> 1386\u001b[0;31m             \u001b[0mvalues\u001b[0m \u001b[0;34m=\u001b[0m \u001b[0mself\u001b[0m\u001b[0;34m.\u001b[0m\u001b[0m_data\u001b[0m\u001b[0;34m.\u001b[0m\u001b[0mget\u001b[0m\u001b[0;34m(\u001b[0m\u001b[0mitem\u001b[0m\u001b[0;34m)\u001b[0m\u001b[0;34m\u001b[0m\u001b[0m\n\u001b[0m\u001b[1;32m   1387\u001b[0m             \u001b[0mres\u001b[0m \u001b[0;34m=\u001b[0m \u001b[0mself\u001b[0m\u001b[0;34m.\u001b[0m\u001b[0m_box_item_values\u001b[0m\u001b[0;34m(\u001b[0m\u001b[0mitem\u001b[0m\u001b[0;34m,\u001b[0m \u001b[0mvalues\u001b[0m\u001b[0;34m)\u001b[0m\u001b[0;34m\u001b[0m\u001b[0m\n\u001b[1;32m   1388\u001b[0m             \u001b[0mcache\u001b[0m\u001b[0;34m[\u001b[0m\u001b[0mitem\u001b[0m\u001b[0;34m]\u001b[0m \u001b[0;34m=\u001b[0m \u001b[0mres\u001b[0m\u001b[0;34m\u001b[0m\u001b[0m\n",
      "\u001b[0;32m/usr/local/lib/python2.7/dist-packages/pandas/core/internals.pyc\u001b[0m in \u001b[0;36mget\u001b[0;34m(self, item, fastpath)\u001b[0m\n\u001b[1;32m   3541\u001b[0m \u001b[0;34m\u001b[0m\u001b[0m\n\u001b[1;32m   3542\u001b[0m             \u001b[0;32mif\u001b[0m \u001b[0;32mnot\u001b[0m \u001b[0misnull\u001b[0m\u001b[0;34m(\u001b[0m\u001b[0mitem\u001b[0m\u001b[0;34m)\u001b[0m\u001b[0;34m:\u001b[0m\u001b[0;34m\u001b[0m\u001b[0m\n\u001b[0;32m-> 3543\u001b[0;31m                 \u001b[0mloc\u001b[0m \u001b[0;34m=\u001b[0m \u001b[0mself\u001b[0m\u001b[0;34m.\u001b[0m\u001b[0mitems\u001b[0m\u001b[0;34m.\u001b[0m\u001b[0mget_loc\u001b[0m\u001b[0;34m(\u001b[0m\u001b[0mitem\u001b[0m\u001b[0;34m)\u001b[0m\u001b[0;34m\u001b[0m\u001b[0m\n\u001b[0m\u001b[1;32m   3544\u001b[0m             \u001b[0;32melse\u001b[0m\u001b[0;34m:\u001b[0m\u001b[0;34m\u001b[0m\u001b[0m\n\u001b[1;32m   3545\u001b[0m                 \u001b[0mindexer\u001b[0m \u001b[0;34m=\u001b[0m \u001b[0mnp\u001b[0m\u001b[0;34m.\u001b[0m\u001b[0marange\u001b[0m\u001b[0;34m(\u001b[0m\u001b[0mlen\u001b[0m\u001b[0;34m(\u001b[0m\u001b[0mself\u001b[0m\u001b[0;34m.\u001b[0m\u001b[0mitems\u001b[0m\u001b[0;34m)\u001b[0m\u001b[0;34m)\u001b[0m\u001b[0;34m[\u001b[0m\u001b[0misnull\u001b[0m\u001b[0;34m(\u001b[0m\u001b[0mself\u001b[0m\u001b[0;34m.\u001b[0m\u001b[0mitems\u001b[0m\u001b[0;34m)\u001b[0m\u001b[0;34m]\u001b[0m\u001b[0;34m\u001b[0m\u001b[0m\n",
      "\u001b[0;32m/usr/local/lib/python2.7/dist-packages/pandas/indexes/base.pyc\u001b[0m in \u001b[0;36mget_loc\u001b[0;34m(self, key, method, tolerance)\u001b[0m\n\u001b[1;32m   2134\u001b[0m                 \u001b[0;32mreturn\u001b[0m \u001b[0mself\u001b[0m\u001b[0;34m.\u001b[0m\u001b[0m_engine\u001b[0m\u001b[0;34m.\u001b[0m\u001b[0mget_loc\u001b[0m\u001b[0;34m(\u001b[0m\u001b[0mkey\u001b[0m\u001b[0;34m)\u001b[0m\u001b[0;34m\u001b[0m\u001b[0m\n\u001b[1;32m   2135\u001b[0m             \u001b[0;32mexcept\u001b[0m \u001b[0mKeyError\u001b[0m\u001b[0;34m:\u001b[0m\u001b[0;34m\u001b[0m\u001b[0m\n\u001b[0;32m-> 2136\u001b[0;31m                 \u001b[0;32mreturn\u001b[0m \u001b[0mself\u001b[0m\u001b[0;34m.\u001b[0m\u001b[0m_engine\u001b[0m\u001b[0;34m.\u001b[0m\u001b[0mget_loc\u001b[0m\u001b[0;34m(\u001b[0m\u001b[0mself\u001b[0m\u001b[0;34m.\u001b[0m\u001b[0m_maybe_cast_indexer\u001b[0m\u001b[0;34m(\u001b[0m\u001b[0mkey\u001b[0m\u001b[0;34m)\u001b[0m\u001b[0;34m)\u001b[0m\u001b[0;34m\u001b[0m\u001b[0m\n\u001b[0m\u001b[1;32m   2137\u001b[0m \u001b[0;34m\u001b[0m\u001b[0m\n\u001b[1;32m   2138\u001b[0m         \u001b[0mindexer\u001b[0m \u001b[0;34m=\u001b[0m \u001b[0mself\u001b[0m\u001b[0;34m.\u001b[0m\u001b[0mget_indexer\u001b[0m\u001b[0;34m(\u001b[0m\u001b[0;34m[\u001b[0m\u001b[0mkey\u001b[0m\u001b[0;34m]\u001b[0m\u001b[0;34m,\u001b[0m \u001b[0mmethod\u001b[0m\u001b[0;34m=\u001b[0m\u001b[0mmethod\u001b[0m\u001b[0;34m,\u001b[0m \u001b[0mtolerance\u001b[0m\u001b[0;34m=\u001b[0m\u001b[0mtolerance\u001b[0m\u001b[0;34m)\u001b[0m\u001b[0;34m\u001b[0m\u001b[0m\n",
      "\u001b[0;32mpandas/index.pyx\u001b[0m in \u001b[0;36mpandas.index.IndexEngine.get_loc (pandas/index.c:4433)\u001b[0;34m()\u001b[0m\n",
      "\u001b[0;32mpandas/index.pyx\u001b[0m in \u001b[0;36mpandas.index.IndexEngine.get_loc (pandas/index.c:4279)\u001b[0;34m()\u001b[0m\n",
      "\u001b[0;32mpandas/src/hashtable_class_helper.pxi\u001b[0m in \u001b[0;36mpandas.hashtable.PyObjectHashTable.get_item (pandas/hashtable.c:13742)\u001b[0;34m()\u001b[0m\n",
      "\u001b[0;32mpandas/src/hashtable_class_helper.pxi\u001b[0m in \u001b[0;36mpandas.hashtable.PyObjectHashTable.get_item (pandas/hashtable.c:13696)\u001b[0;34m()\u001b[0m\n",
      "\u001b[0;31mKeyError\u001b[0m: 'close'"
     ]
    }
   ],
   "source": [
    "df.sort_values(by=\"close\",ascending=False).head()"
   ]
  },
  {
   "cell_type": "code",
   "execution_count": 29,
   "metadata": {
    "collapsed": true
   },
   "outputs": [],
   "source": [
    "stmts = pd.read_csv(\"/home/ranjan/git/python-practice/jupyter/searcg_stmt.csv\")"
   ]
  },
  {
   "cell_type": "code",
   "execution_count": 30,
   "metadata": {},
   "outputs": [
    {
     "data": {
      "text/html": [
       "<div>\n",
       "<table border=\"1\" class=\"dataframe\">\n",
       "  <thead>\n",
       "    <tr style=\"text-align: right;\">\n",
       "      <th></th>\n",
       "      <th>STATEMENT</th>\n",
       "    </tr>\n",
       "  </thead>\n",
       "  <tbody>\n",
       "    <tr>\n",
       "      <th>0</th>\n",
       "      <td>Learning &amp; Inner Excellence</td>\n",
       "    </tr>\n",
       "    <tr>\n",
       "      <th>1</th>\n",
       "      <td>Respect for Individual</td>\n",
       "    </tr>\n",
       "    <tr>\n",
       "      <th>2</th>\n",
       "      <td>Team work &amp; Relationships</td>\n",
       "    </tr>\n",
       "    <tr>\n",
       "      <th>3</th>\n",
       "      <td>Deliver the Promise</td>\n",
       "    </tr>\n",
       "    <tr>\n",
       "      <th>4</th>\n",
       "      <td>Humility</td>\n",
       "    </tr>\n",
       "    <tr>\n",
       "      <th>5</th>\n",
       "      <td>Social Responsibility</td>\n",
       "    </tr>\n",
       "    <tr>\n",
       "      <th>6</th>\n",
       "      <td>Entrepreneurship</td>\n",
       "    </tr>\n",
       "  </tbody>\n",
       "</table>\n",
       "</div>"
      ],
      "text/plain": [
       "                     STATEMENT\n",
       "0  Learning & Inner Excellence\n",
       "1       Respect for Individual\n",
       "2    Team work & Relationships\n",
       "3          Deliver the Promise\n",
       "4                     Humility\n",
       "5        Social Responsibility\n",
       "6             Entrepreneurship"
      ]
     },
     "execution_count": 30,
     "metadata": {},
     "output_type": "execute_result"
    }
   ],
   "source": [
    "stmts"
   ]
  },
  {
   "cell_type": "code",
   "execution_count": 31,
   "metadata": {},
   "outputs": [
    {
     "data": {
      "text/html": [
       "<div>\n",
       "<table border=\"1\" class=\"dataframe\">\n",
       "  <thead>\n",
       "    <tr style=\"text-align: right;\">\n",
       "      <th></th>\n",
       "      <th>STATEMENT</th>\n",
       "      <th>tokens</th>\n",
       "      <th>stemmedarr</th>\n",
       "    </tr>\n",
       "  </thead>\n",
       "  <tbody>\n",
       "    <tr>\n",
       "      <th>0</th>\n",
       "      <td>Learning &amp; Inner Excellence</td>\n",
       "      <td>[Learning, &amp;, Inner, Excellence]</td>\n",
       "      <td>{excel, inner, learn}</td>\n",
       "    </tr>\n",
       "    <tr>\n",
       "      <th>1</th>\n",
       "      <td>Respect for Individual</td>\n",
       "      <td>[Respect, for, Individual]</td>\n",
       "      <td>{respect, individu, for}</td>\n",
       "    </tr>\n",
       "    <tr>\n",
       "      <th>2</th>\n",
       "      <td>Team work &amp; Relationships</td>\n",
       "      <td>[Team, work, &amp;, Relationships]</td>\n",
       "      <td>{work, relationship, team}</td>\n",
       "    </tr>\n",
       "    <tr>\n",
       "      <th>3</th>\n",
       "      <td>Deliver the Promise</td>\n",
       "      <td>[Deliver, the, Promise]</td>\n",
       "      <td>{the, promis, deliv}</td>\n",
       "    </tr>\n",
       "    <tr>\n",
       "      <th>4</th>\n",
       "      <td>Humility</td>\n",
       "      <td>[Humility]</td>\n",
       "      <td>{humil}</td>\n",
       "    </tr>\n",
       "    <tr>\n",
       "      <th>5</th>\n",
       "      <td>Social Responsibility</td>\n",
       "      <td>[Social, Responsibility]</td>\n",
       "      <td>{respons, social}</td>\n",
       "    </tr>\n",
       "    <tr>\n",
       "      <th>6</th>\n",
       "      <td>Entrepreneurship</td>\n",
       "      <td>[Entrepreneurship]</td>\n",
       "      <td>{entrepreneurship}</td>\n",
       "    </tr>\n",
       "  </tbody>\n",
       "</table>\n",
       "</div>"
      ],
      "text/plain": [
       "                     STATEMENT                            tokens  \\\n",
       "0  Learning & Inner Excellence  [Learning, &, Inner, Excellence]   \n",
       "1       Respect for Individual        [Respect, for, Individual]   \n",
       "2    Team work & Relationships    [Team, work, &, Relationships]   \n",
       "3          Deliver the Promise           [Deliver, the, Promise]   \n",
       "4                     Humility                        [Humility]   \n",
       "5        Social Responsibility          [Social, Responsibility]   \n",
       "6             Entrepreneurship                [Entrepreneurship]   \n",
       "\n",
       "                   stemmedarr  \n",
       "0       {excel, inner, learn}  \n",
       "1    {respect, individu, for}  \n",
       "2  {work, relationship, team}  \n",
       "3        {the, promis, deliv}  \n",
       "4                     {humil}  \n",
       "5           {respons, social}  \n",
       "6          {entrepreneurship}  "
      ]
     },
     "execution_count": 31,
     "metadata": {},
     "output_type": "execute_result"
    }
   ],
   "source": [
    "stmts['tokens']=stmts.STATEMENT.apply(lambda x: nltk.wordpunct_tokenize(x))\n",
    "stmts['stemmedarr'] = stmts.tokens.map(lambda x: set([stemmer.stem(y) for y in x if y.isalpha()]))\n",
    "stmts"
   ]
  },
  {
   "cell_type": "code",
   "execution_count": 32,
   "metadata": {},
   "outputs": [
    {
     "data": {
      "text/plain": [
       "2    Team work & Relationships\n",
       "Name: STATEMENT, dtype: object"
      ]
     },
     "execution_count": 32,
     "metadata": {},
     "output_type": "execute_result"
    }
   ],
   "source": [
    "stmts.loc[[2]].STATEMENT"
   ]
  },
  {
   "cell_type": "code",
   "execution_count": 33,
   "metadata": {},
   "outputs": [
    {
     "name": "stdout",
     "output_type": "stream",
     "text": [
      "0\n",
      "set([u'excel', u'inner', u'learn'])\n",
      "1\n",
      "set([u'respect', u'individu', u'for'])\n",
      "2\n",
      "set([u'work', u'relationship', u'team'])\n",
      "3\n",
      "set([u'the', u'promis', u'deliv'])\n",
      "4\n",
      "set([u'humil'])\n",
      "5\n",
      "set([u'respons', u'social'])\n",
      "6\n",
      "set([u'entrepreneurship'])\n"
     ]
    }
   ],
   "source": [
    "for i in range(stmts.shape[0]):\n",
    "    print(i)\n",
    "    cur_stmt = stmts.loc[[i]].stemmedarr.values[0]\n",
    "    print(cur_stmt)\n",
    "    df[\"stmt_{0}_close\".format(i+1)]=df.stemmedarr.map(lambda x: len([y for y in x if y in cur_stmt]))\n",
    "    df[\"stmt_{0}_close_arr\".format(i+1)]=df.stemmedarr.map(lambda x: [y for y in x if y in cur_stmt])\n",
    "    df[\"stmt_{0}_close_stat\".format(i+1)] = df[\"stmt_{0}_close\".format(i+1)].map(lambda x:x==len(cur_stmt))"
   ]
  },
  {
   "cell_type": "code",
   "execution_count": 34,
   "metadata": {},
   "outputs": [
    {
     "data": {
      "text/html": [
       "<div>\n",
       "<table border=\"1\" class=\"dataframe\">\n",
       "  <thead>\n",
       "    <tr style=\"text-align: right;\">\n",
       "      <th></th>\n",
       "      <th>RF_ID</th>\n",
       "      <th>CSM_ID</th>\n",
       "      <th>RATE</th>\n",
       "      <th>SSUBM_ID</th>\n",
       "      <th>SUBJECTIVE</th>\n",
       "      <th>RFRM_ID</th>\n",
       "      <th>sub_small</th>\n",
       "      <th>tokens</th>\n",
       "      <th>stemmed</th>\n",
       "      <th>stemmedarr</th>\n",
       "      <th>...</th>\n",
       "      <th>stmt_4_close_stat</th>\n",
       "      <th>stmt_5_close</th>\n",
       "      <th>stmt_5_close_arr</th>\n",
       "      <th>stmt_5_close_stat</th>\n",
       "      <th>stmt_6_close</th>\n",
       "      <th>stmt_6_close_arr</th>\n",
       "      <th>stmt_6_close_stat</th>\n",
       "      <th>stmt_7_close</th>\n",
       "      <th>stmt_7_close_arr</th>\n",
       "      <th>stmt_7_close_stat</th>\n",
       "    </tr>\n",
       "  </thead>\n",
       "  <tbody>\n",
       "    <tr>\n",
       "      <th>0</th>\n",
       "      <td>188889</td>\n",
       "      <td>None</td>\n",
       "      <td>0</td>\n",
       "      <td>77</td>\n",
       "      <td>Deliver the promise\\r\\nTeamwork and realtionship</td>\n",
       "      <td>6343</td>\n",
       "      <td>deliver the promise\\r\\nteamwork and realtionship</td>\n",
       "      <td>[Deliver, the, promise, Teamwork, and, realtio...</td>\n",
       "      <td>deliv the promis teamwork and realtionship</td>\n",
       "      <td>{and, realtionship, teamwork, deliv, promis, the}</td>\n",
       "      <td>...</td>\n",
       "      <td>True</td>\n",
       "      <td>0</td>\n",
       "      <td>[]</td>\n",
       "      <td>False</td>\n",
       "      <td>0</td>\n",
       "      <td>[]</td>\n",
       "      <td>False</td>\n",
       "      <td>0</td>\n",
       "      <td>[]</td>\n",
       "      <td>False</td>\n",
       "    </tr>\n",
       "    <tr>\n",
       "      <th>1</th>\n",
       "      <td>167598</td>\n",
       "      <td>None</td>\n",
       "      <td>0</td>\n",
       "      <td>77</td>\n",
       "      <td>Learning &amp; Deliver the promise: \\r\\nMr. Sharma...</td>\n",
       "      <td>6345</td>\n",
       "      <td>learning &amp; deliver the promise: \\r\\nmr. sharma...</td>\n",
       "      <td>[Learning, &amp;, Deliver, the, promise, :, Mr, .,...</td>\n",
       "      <td>learn deliv the promis mr sharma is a fast lea...</td>\n",
       "      <td>{a, learn, sharma, is, deliv, learner, ani, fa...</td>\n",
       "      <td>...</td>\n",
       "      <td>True</td>\n",
       "      <td>0</td>\n",
       "      <td>[]</td>\n",
       "      <td>False</td>\n",
       "      <td>0</td>\n",
       "      <td>[]</td>\n",
       "      <td>False</td>\n",
       "      <td>0</td>\n",
       "      <td>[]</td>\n",
       "      <td>False</td>\n",
       "    </tr>\n",
       "    <tr>\n",
       "      <th>2</th>\n",
       "      <td>172862</td>\n",
       "      <td>None</td>\n",
       "      <td>0</td>\n",
       "      <td>77</td>\n",
       "      <td>1. Learning- Learn from all level irrespective...</td>\n",
       "      <td>6346</td>\n",
       "      <td>1. learning- learn from all level irrespective...</td>\n",
       "      <td>[1, ., Learning, -, Learn, from, all, level, i...</td>\n",
       "      <td>learn learn from all level irrespect of hierar...</td>\n",
       "      <td>{and, all, from, risk, execut, level, of, age,...</td>\n",
       "      <td>...</td>\n",
       "      <td>False</td>\n",
       "      <td>0</td>\n",
       "      <td>[]</td>\n",
       "      <td>False</td>\n",
       "      <td>0</td>\n",
       "      <td>[]</td>\n",
       "      <td>False</td>\n",
       "      <td>1</td>\n",
       "      <td>[entrepreneurship]</td>\n",
       "      <td>True</td>\n",
       "    </tr>\n",
       "    <tr>\n",
       "      <th>3</th>\n",
       "      <td>168679</td>\n",
       "      <td>None</td>\n",
       "      <td>0</td>\n",
       "      <td>77</td>\n",
       "      <td>He has very high learning grasp and seen in va...</td>\n",
       "      <td>6347</td>\n",
       "      <td>he has very high learning grasp and seen in va...</td>\n",
       "      <td>[He, has, very, high, learning, grasp, and, se...</td>\n",
       "      <td>he has veri high learn grasp and seen in vario...</td>\n",
       "      <td>{and, high, in, seen, shown, teamwork, way, va...</td>\n",
       "      <td>...</td>\n",
       "      <td>False</td>\n",
       "      <td>0</td>\n",
       "      <td>[]</td>\n",
       "      <td>False</td>\n",
       "      <td>0</td>\n",
       "      <td>[]</td>\n",
       "      <td>False</td>\n",
       "      <td>0</td>\n",
       "      <td>[]</td>\n",
       "      <td>False</td>\n",
       "    </tr>\n",
       "    <tr>\n",
       "      <th>4</th>\n",
       "      <td>202921</td>\n",
       "      <td>None</td>\n",
       "      <td>0</td>\n",
       "      <td>77</td>\n",
       "      <td>Teamwork and Relationships - Excellent rapport...</td>\n",
       "      <td>6349</td>\n",
       "      <td>teamwork and relationships - excellent rapport...</td>\n",
       "      <td>[Teamwork, and, Relationships, -, Excellent, r...</td>\n",
       "      <td>teamwork and relationship excel rapport with u...</td>\n",
       "      <td>{and, all, love, individu, attitud, respect, r...</td>\n",
       "      <td>...</td>\n",
       "      <td>False</td>\n",
       "      <td>0</td>\n",
       "      <td>[]</td>\n",
       "      <td>False</td>\n",
       "      <td>0</td>\n",
       "      <td>[]</td>\n",
       "      <td>False</td>\n",
       "      <td>0</td>\n",
       "      <td>[]</td>\n",
       "      <td>False</td>\n",
       "    </tr>\n",
       "  </tbody>\n",
       "</table>\n",
       "<p>5 rows × 31 columns</p>\n",
       "</div>"
      ],
      "text/plain": [
       "    RF_ID CSM_ID  RATE  SSUBM_ID  \\\n",
       "0  188889   None     0        77   \n",
       "1  167598   None     0        77   \n",
       "2  172862   None     0        77   \n",
       "3  168679   None     0        77   \n",
       "4  202921   None     0        77   \n",
       "\n",
       "                                          SUBJECTIVE  RFRM_ID  \\\n",
       "0   Deliver the promise\\r\\nTeamwork and realtionship     6343   \n",
       "1  Learning & Deliver the promise: \\r\\nMr. Sharma...     6345   \n",
       "2  1. Learning- Learn from all level irrespective...     6346   \n",
       "3  He has very high learning grasp and seen in va...     6347   \n",
       "4  Teamwork and Relationships - Excellent rapport...     6349   \n",
       "\n",
       "                                           sub_small  \\\n",
       "0   deliver the promise\\r\\nteamwork and realtionship   \n",
       "1  learning & deliver the promise: \\r\\nmr. sharma...   \n",
       "2  1. learning- learn from all level irrespective...   \n",
       "3  he has very high learning grasp and seen in va...   \n",
       "4  teamwork and relationships - excellent rapport...   \n",
       "\n",
       "                                              tokens  \\\n",
       "0  [Deliver, the, promise, Teamwork, and, realtio...   \n",
       "1  [Learning, &, Deliver, the, promise, :, Mr, .,...   \n",
       "2  [1, ., Learning, -, Learn, from, all, level, i...   \n",
       "3  [He, has, very, high, learning, grasp, and, se...   \n",
       "4  [Teamwork, and, Relationships, -, Excellent, r...   \n",
       "\n",
       "                                             stemmed  \\\n",
       "0         deliv the promis teamwork and realtionship   \n",
       "1  learn deliv the promis mr sharma is a fast lea...   \n",
       "2  learn learn from all level irrespect of hierar...   \n",
       "3  he has veri high learn grasp and seen in vario...   \n",
       "4  teamwork and relationship excel rapport with u...   \n",
       "\n",
       "                                          stemmedarr        ...          \\\n",
       "0  {and, realtionship, teamwork, deliv, promis, the}        ...           \n",
       "1  {a, learn, sharma, is, deliv, learner, ani, fa...        ...           \n",
       "2  {and, all, from, risk, execut, level, of, age,...        ...           \n",
       "3  {and, high, in, seen, shown, teamwork, way, va...        ...           \n",
       "4  {and, all, love, individu, attitud, respect, r...        ...           \n",
       "\n",
       "   stmt_4_close_stat stmt_5_close stmt_5_close_arr  stmt_5_close_stat  \\\n",
       "0               True            0               []              False   \n",
       "1               True            0               []              False   \n",
       "2              False            0               []              False   \n",
       "3              False            0               []              False   \n",
       "4              False            0               []              False   \n",
       "\n",
       "  stmt_6_close stmt_6_close_arr  stmt_6_close_stat stmt_7_close  \\\n",
       "0            0               []              False            0   \n",
       "1            0               []              False            0   \n",
       "2            0               []              False            1   \n",
       "3            0               []              False            0   \n",
       "4            0               []              False            0   \n",
       "\n",
       "     stmt_7_close_arr  stmt_7_close_stat  \n",
       "0                  []              False  \n",
       "1                  []              False  \n",
       "2  [entrepreneurship]               True  \n",
       "3                  []              False  \n",
       "4                  []              False  \n",
       "\n",
       "[5 rows x 31 columns]"
      ]
     },
     "execution_count": 34,
     "metadata": {},
     "output_type": "execute_result"
    }
   ],
   "source": [
    "df"
   ]
  },
  {
   "cell_type": "code",
   "execution_count": 39,
   "metadata": {
    "collapsed": true
   },
   "outputs": [],
   "source": [
    "df.to_excel(\"/home/ranjan/Documents/gmr_excel.xlsx\",sheet_name=\"report\")"
   ]
  },
  {
   "cell_type": "code",
   "execution_count": 35,
   "metadata": {},
   "outputs": [
    {
     "name": "stdout",
     "output_type": "stream",
     "text": [
      "[{'status': {False: 5}, 'statement': 'Learning & Inner Excellence', 'stmt': 1}, {'status': {False: 4, True: 1}, 'statement': 'Respect for Individual', 'stmt': 2}, {'status': {False: 5}, 'statement': 'Team work & Relationships', 'stmt': 3}, {'status': {False: 3, True: 2}, 'statement': 'Deliver the Promise', 'stmt': 4}, {'status': {False: 5}, 'statement': 'Humility', 'stmt': 5}, {'status': {False: 5}, 'statement': 'Social Responsibility', 'stmt': 6}, {'status': {False: 4, True: 1}, 'statement': 'Entrepreneurship', 'stmt': 7}]\n"
     ]
    }
   ],
   "source": [
    "stats = list()\n",
    "for i in range(stmts.shape[0]):\n",
    "    num = i+1\n",
    "    obj = {\"stmt\":num,\n",
    "           \"statement\":stmts.loc[[i]].STATEMENT.values[0],\n",
    "           \"status\":df.groupby('stmt_{0}_close_stat'.format(num))['stmt_{0}_close_stat'.format(num)].count().to_dict()}\n",
    "    stats.append(obj)\n",
    "print(stats)"
   ]
  },
  {
   "cell_type": "code",
   "execution_count": 36,
   "metadata": {},
   "outputs": [
    {
     "data": {
      "text/html": [
       "<div>\n",
       "<table border=\"1\" class=\"dataframe\">\n",
       "  <thead>\n",
       "    <tr style=\"text-align: right;\">\n",
       "      <th></th>\n",
       "      <th>statement</th>\n",
       "      <th>status</th>\n",
       "      <th>stmt</th>\n",
       "    </tr>\n",
       "  </thead>\n",
       "  <tbody>\n",
       "    <tr>\n",
       "      <th>0</th>\n",
       "      <td>Learning &amp; Inner Excellence</td>\n",
       "      <td>{False: 5}</td>\n",
       "      <td>1</td>\n",
       "    </tr>\n",
       "    <tr>\n",
       "      <th>1</th>\n",
       "      <td>Respect for Individual</td>\n",
       "      <td>{False: 4, True: 1}</td>\n",
       "      <td>2</td>\n",
       "    </tr>\n",
       "    <tr>\n",
       "      <th>2</th>\n",
       "      <td>Team work &amp; Relationships</td>\n",
       "      <td>{False: 5}</td>\n",
       "      <td>3</td>\n",
       "    </tr>\n",
       "    <tr>\n",
       "      <th>3</th>\n",
       "      <td>Deliver the Promise</td>\n",
       "      <td>{False: 3, True: 2}</td>\n",
       "      <td>4</td>\n",
       "    </tr>\n",
       "    <tr>\n",
       "      <th>4</th>\n",
       "      <td>Humility</td>\n",
       "      <td>{False: 5}</td>\n",
       "      <td>5</td>\n",
       "    </tr>\n",
       "    <tr>\n",
       "      <th>5</th>\n",
       "      <td>Social Responsibility</td>\n",
       "      <td>{False: 5}</td>\n",
       "      <td>6</td>\n",
       "    </tr>\n",
       "    <tr>\n",
       "      <th>6</th>\n",
       "      <td>Entrepreneurship</td>\n",
       "      <td>{False: 4, True: 1}</td>\n",
       "      <td>7</td>\n",
       "    </tr>\n",
       "  </tbody>\n",
       "</table>\n",
       "</div>"
      ],
      "text/plain": [
       "                     statement               status  stmt\n",
       "0  Learning & Inner Excellence           {False: 5}     1\n",
       "1       Respect for Individual  {False: 4, True: 1}     2\n",
       "2    Team work & Relationships           {False: 5}     3\n",
       "3          Deliver the Promise  {False: 3, True: 2}     4\n",
       "4                     Humility           {False: 5}     5\n",
       "5        Social Responsibility           {False: 5}     6\n",
       "6             Entrepreneurship  {False: 4, True: 1}     7"
      ]
     },
     "execution_count": 36,
     "metadata": {},
     "output_type": "execute_result"
    }
   ],
   "source": [
    "stat_df = pd.DataFrame.from_dict(stats)\n",
    "stat_df"
   ]
  },
  {
   "cell_type": "code",
   "execution_count": 37,
   "metadata": {
    "collapsed": true
   },
   "outputs": [],
   "source": [
    "stat_df[\"status_F\"]=stat_df.status.map(lambda x: x[False])\n",
    "stat_df[\"status_T\"]=stat_df.status.map(lambda x: x[True] if x.has_key(True) else 0)"
   ]
  },
  {
   "cell_type": "code",
   "execution_count": 38,
   "metadata": {},
   "outputs": [
    {
     "data": {
      "text/html": [
       "<div>\n",
       "<table border=\"1\" class=\"dataframe\">\n",
       "  <thead>\n",
       "    <tr style=\"text-align: right;\">\n",
       "      <th></th>\n",
       "      <th>statement</th>\n",
       "      <th>status</th>\n",
       "      <th>stmt</th>\n",
       "      <th>status_F</th>\n",
       "      <th>status_T</th>\n",
       "    </tr>\n",
       "  </thead>\n",
       "  <tbody>\n",
       "    <tr>\n",
       "      <th>0</th>\n",
       "      <td>Learning &amp; Inner Excellence</td>\n",
       "      <td>{False: 5}</td>\n",
       "      <td>1</td>\n",
       "      <td>5</td>\n",
       "      <td>0</td>\n",
       "    </tr>\n",
       "    <tr>\n",
       "      <th>1</th>\n",
       "      <td>Respect for Individual</td>\n",
       "      <td>{False: 4, True: 1}</td>\n",
       "      <td>2</td>\n",
       "      <td>4</td>\n",
       "      <td>1</td>\n",
       "    </tr>\n",
       "    <tr>\n",
       "      <th>2</th>\n",
       "      <td>Team work &amp; Relationships</td>\n",
       "      <td>{False: 5}</td>\n",
       "      <td>3</td>\n",
       "      <td>5</td>\n",
       "      <td>0</td>\n",
       "    </tr>\n",
       "    <tr>\n",
       "      <th>3</th>\n",
       "      <td>Deliver the Promise</td>\n",
       "      <td>{False: 3, True: 2}</td>\n",
       "      <td>4</td>\n",
       "      <td>3</td>\n",
       "      <td>2</td>\n",
       "    </tr>\n",
       "    <tr>\n",
       "      <th>4</th>\n",
       "      <td>Humility</td>\n",
       "      <td>{False: 5}</td>\n",
       "      <td>5</td>\n",
       "      <td>5</td>\n",
       "      <td>0</td>\n",
       "    </tr>\n",
       "    <tr>\n",
       "      <th>5</th>\n",
       "      <td>Social Responsibility</td>\n",
       "      <td>{False: 5}</td>\n",
       "      <td>6</td>\n",
       "      <td>5</td>\n",
       "      <td>0</td>\n",
       "    </tr>\n",
       "    <tr>\n",
       "      <th>6</th>\n",
       "      <td>Entrepreneurship</td>\n",
       "      <td>{False: 4, True: 1}</td>\n",
       "      <td>7</td>\n",
       "      <td>4</td>\n",
       "      <td>1</td>\n",
       "    </tr>\n",
       "  </tbody>\n",
       "</table>\n",
       "</div>"
      ],
      "text/plain": [
       "                     statement               status  stmt  status_F  status_T\n",
       "0  Learning & Inner Excellence           {False: 5}     1         5         0\n",
       "1       Respect for Individual  {False: 4, True: 1}     2         4         1\n",
       "2    Team work & Relationships           {False: 5}     3         5         0\n",
       "3          Deliver the Promise  {False: 3, True: 2}     4         3         2\n",
       "4                     Humility           {False: 5}     5         5         0\n",
       "5        Social Responsibility           {False: 5}     6         5         0\n",
       "6             Entrepreneurship  {False: 4, True: 1}     7         4         1"
      ]
     },
     "execution_count": 38,
     "metadata": {},
     "output_type": "execute_result"
    }
   ],
   "source": [
    "stat_df"
   ]
  },
  {
   "cell_type": "code",
   "execution_count": null,
   "metadata": {
    "collapsed": true
   },
   "outputs": [],
   "source": []
  },
  {
   "cell_type": "code",
   "execution_count": null,
   "metadata": {
    "collapsed": true
   },
   "outputs": [],
   "source": []
  }
 ],
 "metadata": {
  "kernelspec": {
   "display_name": "Python 2",
   "language": "python",
   "name": "python2"
  },
  "language_info": {
   "codemirror_mode": {
    "name": "ipython",
    "version": 2
   },
   "file_extension": ".py",
   "mimetype": "text/x-python",
   "name": "python",
   "nbconvert_exporter": "python",
   "pygments_lexer": "ipython2",
   "version": "2.7.12"
  },
  "varInspector": {
   "cols": {
    "lenName": 16,
    "lenType": 16,
    "lenVar": 40
   },
   "kernels_config": {
    "python": {
     "delete_cmd_postfix": "",
     "delete_cmd_prefix": "del ",
     "library": "var_list.py",
     "varRefreshCmd": "print(var_dic_list())"
    },
    "r": {
     "delete_cmd_postfix": ") ",
     "delete_cmd_prefix": "rm(",
     "library": "var_list.r",
     "varRefreshCmd": "cat(var_dic_list()) "
    }
   },
   "types_to_exclude": [
    "module",
    "function",
    "builtin_function_or_method",
    "instance",
    "_Feature"
   ],
   "window_display": false
  }
 },
 "nbformat": 4,
 "nbformat_minor": 1
}
