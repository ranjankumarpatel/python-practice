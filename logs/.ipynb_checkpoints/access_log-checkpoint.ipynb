{
 "cells": [
  {
   "cell_type": "code",
   "execution_count": 16,
   "metadata": {
    "collapsed": true
   },
   "outputs": [],
   "source": [
    "import re\n",
    "import pandas as pd\n",
    "import httpagentparser\n",
    "from pprint import pprint\n",
    "from datetime import datetime\n",
    "import pytz\n",
    "from pprint import pprint\n",
    "from udger import Udger\n",
    "import ipaddress\n",
    "from geoip import geolite2\n",
    "import urllib\n",
    "import json,glob,os\n",
    "udger = Udger()"
   ]
  },
  {
   "cell_type": "code",
   "execution_count": 17,
   "metadata": {
    "collapsed": true
   },
   "outputs": [],
   "source": [
    "def parse_str(x):\n",
    "    \"\"\"\n",
    "    Returns the string delimited by two characters.\n",
    "\n",
    "    Example:\n",
    "        `>>> parse_str('[my string]')`\n",
    "        `'my string'`\n",
    "    \"\"\"\n",
    "    return x[1:-1]\n",
    "\n",
    "def parse_datetime(x):\n",
    "    '''\n",
    "    Parses datetime with timezone formatted as:\n",
    "        `[day/month/year:hour:minute:second zone]`\n",
    "\n",
    "    Example:\n",
    "        `>>> parse_datetime('13/Nov/2015:11:45:42 +0000')`\n",
    "        `datetime.datetime(2015, 11, 3, 11, 45, 4, tzinfo=<UTC>)`\n",
    "\n",
    "    Due to problems parsing the timezone (`%z`) with `datetime.strptime`, the \n",
    "    timezone will be obtained using the `pytz` library.\n",
    "    '''    \n",
    "    dt = datetime.strptime(x[1:-7], '%d/%b/%Y:%H:%M:%S')\n",
    "    dt_tz = int(x[-6:-3])*60+int(x[-3:-1])    \n",
    "    return dt.replace(tzinfo=pytz.FixedOffset(dt_tz))\n",
    "\n",
    "def get_ip_info(ip):\n",
    "    url = 'http://ip-api.com/json/{0}'.format(ip)\n",
    "    ip_info = json.loads(urllib.urlopen(url).read())\n",
    "    if ip_info != None:\n",
    "        return ip_info\n",
    "    else:\n",
    "        return {}"
   ]
  },
  {
   "cell_type": "code",
   "execution_count": 18,
   "metadata": {
    "collapsed": true
   },
   "outputs": [],
   "source": [
    "httpd_access_log_dir = \"/home/ranjan/git/python-practice/logs/log/000000/\"\n",
    "logpath = \"access_log-20140810\""
   ]
  },
  {
   "cell_type": "code",
   "execution_count": 19,
   "metadata": {
    "collapsed": true
   },
   "outputs": [],
   "source": [
    "log_files = glob.glob(os.path.join(httpd_access_log_dir,\"access*\"))"
   ]
  },
  {
   "cell_type": "code",
   "execution_count": 20,
   "metadata": {},
   "outputs": [
    {
     "name": "stdout",
     "output_type": "stream",
     "text": [
      "/home/ranjan/git/python-practice/logs/log/httpd/access_log\n",
      "DataFrame is empty!\n",
      "/home/ranjan/git/python-practice/logs/log/httpd/access_log-20150706\n",
      "/home/ranjan/git/python-practice/logs/log/httpd/access_log-20140810\n"
     ]
    }
   ],
   "source": [
    "logs = pd.DataFrame()\n",
    "list_df = []\n",
    "for log_file in log_files:\n",
    "    print(log_file)\n",
    "    df = pd.read_csv(\n",
    "    log_file, \n",
    "    sep=r'\\s(?=(?:[^\"]*\"[^\"]*\")*[^\"]*$)(?![^\\[]*\\])', \n",
    "    engine='python', \n",
    "    na_values='-', \n",
    "    header=None,\n",
    "    usecols=[0, 3, 4, 5, 6, 7, 8],\n",
    "    names=['ip', 'time', 'request', 'status', 'size', 'referer', 'user_agent'],\n",
    "    converters={'time': parse_datetime,\n",
    "                'request': parse_str,\n",
    "                'status': int,\n",
    "                'size': int,\n",
    "                'referer': parse_str,\n",
    "                'user_agent': parse_str})    \n",
    "    if df.empty:\n",
    "        print('DataFrame is empty!')\n",
    "    else:\n",
    "        list_df.append(df)\n",
    "logs = pd.concat(list_df)"
   ]
  },
  {
   "cell_type": "code",
   "execution_count": 21,
   "metadata": {},
   "outputs": [
    {
     "data": {
      "text/html": [
       "<div>\n",
       "<table border=\"1\" class=\"dataframe\">\n",
       "  <thead>\n",
       "    <tr style=\"text-align: right;\">\n",
       "      <th></th>\n",
       "      <th>ip</th>\n",
       "      <th>time</th>\n",
       "      <th>request</th>\n",
       "      <th>status</th>\n",
       "      <th>size</th>\n",
       "      <th>referer</th>\n",
       "      <th>user_agent</th>\n",
       "    </tr>\n",
       "  </thead>\n",
       "  <tbody>\n",
       "    <tr>\n",
       "      <th>0</th>\n",
       "      <td>127.0.0.1</td>\n",
       "      <td>2015-07-05 15:31:25+05:30</td>\n",
       "      <td>TRACE / HTTP/1.</td>\n",
       "      <td>400</td>\n",
       "      <td>401</td>\n",
       "      <td>NaN</td>\n",
       "      <td>NaN</td>\n",
       "    </tr>\n",
       "    <tr>\n",
       "      <th>1</th>\n",
       "      <td>127.0.0.1</td>\n",
       "      <td>2015-07-05 15:31:49+05:30</td>\n",
       "      <td>TRACE / HTTP/1.0</td>\n",
       "      <td>400</td>\n",
       "      <td>392</td>\n",
       "      <td>NaN</td>\n",
       "      <td>NaN</td>\n",
       "    </tr>\n",
       "    <tr>\n",
       "      <th>2</th>\n",
       "      <td>127.0.0.1</td>\n",
       "      <td>2015-07-05 15:32:53+05:30</td>\n",
       "      <td>TRACE / HTTP/1.0</td>\n",
       "      <td>400</td>\n",
       "      <td>389</td>\n",
       "      <td>NaN</td>\n",
       "      <td>NaN</td>\n",
       "    </tr>\n",
       "    <tr>\n",
       "      <th>0</th>\n",
       "      <td>93.174.93.218</td>\n",
       "      <td>2014-08-09 03:18:05+00:00</td>\n",
       "      <td>GET http://httpheader.net HTTP/1.1</td>\n",
       "      <td>200</td>\n",
       "      <td>1575</td>\n",
       "      <td>NaN</td>\n",
       "      <td>Mozilla/5.0 (Windows; U; Windows NT 6.1; en-US...</td>\n",
       "    </tr>\n",
       "    <tr>\n",
       "      <th>1</th>\n",
       "      <td>10.0.7.87</td>\n",
       "      <td>2014-08-09 05:30:43+00:00</td>\n",
       "      <td>GET /manager/ispmgr HTTP/1.1</td>\n",
       "      <td>200</td>\n",
       "      <td>86</td>\n",
       "      <td>NaN</td>\n",
       "      <td>Mozilla/5.0 (Windows NT 6.2; WOW64) AppleWebKi...</td>\n",
       "    </tr>\n",
       "  </tbody>\n",
       "</table>\n",
       "</div>"
      ],
      "text/plain": [
       "              ip                       time  \\\n",
       "0      127.0.0.1  2015-07-05 15:31:25+05:30   \n",
       "1      127.0.0.1  2015-07-05 15:31:49+05:30   \n",
       "2      127.0.0.1  2015-07-05 15:32:53+05:30   \n",
       "0  93.174.93.218  2014-08-09 03:18:05+00:00   \n",
       "1      10.0.7.87  2014-08-09 05:30:43+00:00   \n",
       "\n",
       "                              request  status  size referer  \\\n",
       "0                     TRACE / HTTP/1.     400   401     NaN   \n",
       "1                    TRACE / HTTP/1.0     400   392     NaN   \n",
       "2                    TRACE / HTTP/1.0     400   389     NaN   \n",
       "0  GET http://httpheader.net HTTP/1.1     200  1575     NaN   \n",
       "1        GET /manager/ispmgr HTTP/1.1     200    86     NaN   \n",
       "\n",
       "                                          user_agent  \n",
       "0                                                NaN  \n",
       "1                                                NaN  \n",
       "2                                                NaN  \n",
       "0  Mozilla/5.0 (Windows; U; Windows NT 6.1; en-US...  \n",
       "1  Mozilla/5.0 (Windows NT 6.2; WOW64) AppleWebKi...  "
      ]
     },
     "execution_count": 21,
     "metadata": {},
     "output_type": "execute_result"
    }
   ],
   "source": [
    "logs.head()"
   ]
  },
  {
   "cell_type": "code",
   "execution_count": 22,
   "metadata": {
    "collapsed": true
   },
   "outputs": [],
   "source": [
    "%matplotlib inline"
   ]
  },
  {
   "cell_type": "code",
   "execution_count": 10,
   "metadata": {
    "collapsed": true
   },
   "outputs": [],
   "source": [
    "request = logs.request.str.split()\n",
    "logs['resource'] = request.str[1]\n",
    "logs = logs[~logs.ip.isin([\"127.0.0.1\"])]"
   ]
  },
  {
   "cell_type": "code",
   "execution_count": 11,
   "metadata": {
    "collapsed": true
   },
   "outputs": [],
   "source": [
    "logs = logs[~logs['resource'].str.match(r'^/media|^/static|^/admin|^/robots.txt$|^/favicon.ico|^/myadmin|^/manager/ispmgr|^/webmail/$')]\n",
    "logs = logs[~logs['user_agent'].str.match(r'.*?bot|.*?spider|.*?crawler|.*?slurp', flags=re.I).fillna(False)]"
   ]
  },
  {
   "cell_type": "code",
   "execution_count": 12,
   "metadata": {
    "collapsed": true
   },
   "outputs": [],
   "source": [
    "logs[\"browser\"]=logs.user_agent.map(lambda x : httpagentparser.detect(x))\n",
    "logs[\"ip_info\"]=logs.ip.map(lambda x : get_ip_info(x))"
   ]
  },
  {
   "cell_type": "code",
   "execution_count": 15,
   "metadata": {},
   "outputs": [
    {
     "data": {
      "text/html": [
       "<div>\n",
       "<table border=\"1\" class=\"dataframe\">\n",
       "  <thead>\n",
       "    <tr style=\"text-align: right;\">\n",
       "      <th></th>\n",
       "      <th>ip</th>\n",
       "      <th>time</th>\n",
       "      <th>request</th>\n",
       "      <th>status</th>\n",
       "      <th>size</th>\n",
       "      <th>referer</th>\n",
       "      <th>user_agent</th>\n",
       "      <th>resource</th>\n",
       "      <th>browser</th>\n",
       "      <th>ip_info</th>\n",
       "      <th>platform_name</th>\n",
       "      <th>platform_version</th>\n",
       "      <th>browser_name</th>\n",
       "      <th>browser_version</th>\n",
       "      <th>country</th>\n",
       "      <th>regionName</th>\n",
       "    </tr>\n",
       "  </thead>\n",
       "  <tbody>\n",
       "    <tr>\n",
       "      <th>0</th>\n",
       "      <td>93.174.93.218</td>\n",
       "      <td>2014-08-09 03:18:05+00:00</td>\n",
       "      <td>GET http://httpheader.net HTTP/1.1</td>\n",
       "      <td>200</td>\n",
       "      <td>1575</td>\n",
       "      <td>NaN</td>\n",
       "      <td>Mozilla/5.0 (Windows; U; Windows NT 6.1; en-US...</td>\n",
       "      <td>http://httpheader.net</td>\n",
       "      <td>{u'platform': {u'version': u'7', u'name': u'Wi...</td>\n",
       "      <td>{u'status': u'success', u'city': u'Amsterdam',...</td>\n",
       "      <td>Windows</td>\n",
       "      <td>7</td>\n",
       "      <td>Firefox</td>\n",
       "      <td>3.6.28</td>\n",
       "      <td>Netherlands</td>\n",
       "      <td>North Holland</td>\n",
       "    </tr>\n",
       "  </tbody>\n",
       "</table>\n",
       "</div>"
      ],
      "text/plain": [
       "              ip                       time  \\\n",
       "0  93.174.93.218  2014-08-09 03:18:05+00:00   \n",
       "\n",
       "                              request  status  size referer  \\\n",
       "0  GET http://httpheader.net HTTP/1.1     200  1575     NaN   \n",
       "\n",
       "                                          user_agent               resource  \\\n",
       "0  Mozilla/5.0 (Windows; U; Windows NT 6.1; en-US...  http://httpheader.net   \n",
       "\n",
       "                                             browser  \\\n",
       "0  {u'platform': {u'version': u'7', u'name': u'Wi...   \n",
       "\n",
       "                                             ip_info platform_name  \\\n",
       "0  {u'status': u'success', u'city': u'Amsterdam',...       Windows   \n",
       "\n",
       "  platform_version browser_name browser_version      country     regionName  \n",
       "0                7      Firefox          3.6.28  Netherlands  North Holland  "
      ]
     },
     "execution_count": 15,
     "metadata": {},
     "output_type": "execute_result"
    }
   ],
   "source": [
    "logs.head(1)"
   ]
  },
  {
   "cell_type": "code",
   "execution_count": 14,
   "metadata": {
    "collapsed": true
   },
   "outputs": [],
   "source": [
    "logs[\"platform_name\"]=logs.browser.map(lambda x : x.get(\"platform\").get(\"name\"))\n",
    "logs[\"platform_version\"]=logs.browser.map(lambda x : x.get(\"platform\").get(\"version\"))\n",
    "logs[\"browser_name\"]=logs.browser.map(lambda x : x.get(\"browser\").get(\"name\"))\n",
    "logs[\"browser_version\"]=logs.browser.map(lambda x : x.get(\"browser\").get(\"version\"))\n",
    "logs[\"country\"]=logs.ip_info.map(lambda x : x.get(\"country\"))\n",
    "logs[\"regionName\"]=logs.ip_info.map(lambda x : x.get(\"regionName\"))"
   ]
  },
  {
   "cell_type": "code",
   "execution_count": 24,
   "metadata": {
    "collapsed": true
   },
   "outputs": [],
   "source": [
    "logs.to_excel(\"/home/ranjan/git/python-practice/logs/access_log_sheet.xlsx\")"
   ]
  },
  {
   "cell_type": "code",
   "execution_count": null,
   "metadata": {
    "collapsed": true
   },
   "outputs": [],
   "source": []
  }
 ],
 "metadata": {
  "kernelspec": {
   "display_name": "Python 2",
   "language": "python",
   "name": "python2"
  },
  "language_info": {
   "codemirror_mode": {
    "name": "ipython",
    "version": 2
   },
   "file_extension": ".py",
   "mimetype": "text/x-python",
   "name": "python",
   "nbconvert_exporter": "python",
   "pygments_lexer": "ipython2",
   "version": "2.7.12"
  },
  "varInspector": {
   "cols": {
    "lenName": 16,
    "lenType": 16,
    "lenVar": 40
   },
   "kernels_config": {
    "python": {
     "delete_cmd_postfix": "",
     "delete_cmd_prefix": "del ",
     "library": "var_list.py",
     "varRefreshCmd": "print(var_dic_list())"
    },
    "r": {
     "delete_cmd_postfix": ") ",
     "delete_cmd_prefix": "rm(",
     "library": "var_list.r",
     "varRefreshCmd": "cat(var_dic_list()) "
    }
   },
   "types_to_exclude": [
    "module",
    "function",
    "builtin_function_or_method",
    "instance",
    "_Feature"
   ],
   "window_display": false
  }
 },
 "nbformat": 4,
 "nbformat_minor": 1
}
