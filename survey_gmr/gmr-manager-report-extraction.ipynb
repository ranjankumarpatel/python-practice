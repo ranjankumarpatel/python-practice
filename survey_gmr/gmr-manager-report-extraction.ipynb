{
 "cells": [
  {
   "cell_type": "code",
   "execution_count": 132,
   "metadata": {
    "collapsed": true
   },
   "outputs": [],
   "source": [
    "import pandas as pd"
   ]
  },
  {
   "cell_type": "code",
   "execution_count": 133,
   "metadata": {
    "collapsed": true
   },
   "outputs": [],
   "source": [
    "import MySQLdb as db\n",
    "from pandas import DataFrame\n",
    "#from pandas.io.sql import frame_query\n",
    "\n",
    "database = db.connect('localhost','root','','engage_v1')\n",
    "#data     = frame_query(\"SELECT * FROM ass_v1_360_invite_response\", database)"
   ]
  },
  {
   "cell_type": "code",
   "execution_count": 134,
   "metadata": {
    "collapsed": true
   },
   "outputs": [],
   "source": [
    "database.autocommit=False"
   ]
  },
  {
   "cell_type": "code",
   "execution_count": 135,
   "metadata": {
    "collapsed": false
   },
   "outputs": [
    {
     "data": {
      "text/plain": [
       "False"
      ]
     },
     "execution_count": 135,
     "metadata": {},
     "output_type": "execute_result"
    }
   ],
   "source": [
    "database.autocommit"
   ]
  },
  {
   "cell_type": "code",
   "execution_count": 136,
   "metadata": {
    "collapsed": false
   },
   "outputs": [],
   "source": [
    "mgr = pd.read_sql_query(sql=\"\"\"SELECT MANAGER_ID, MANAGER_EMP_ID, NAME, EMAIL_ID, GEN_DATE, PASSWORD, LEVEL \n",
    "FROM engage_v1.survey_manager;\n",
    "\"\"\",con=database)\n"
   ]
  },
  {
   "cell_type": "code",
   "execution_count": 137,
   "metadata": {
    "collapsed": false
   },
   "outputs": [
    {
     "data": {
      "text/plain": [
       "(790, 7)"
      ]
     },
     "execution_count": 137,
     "metadata": {},
     "output_type": "execute_result"
    }
   ],
   "source": [
    "mgr.shape"
   ]
  },
  {
   "cell_type": "code",
   "execution_count": 14,
   "metadata": {
    "collapsed": true
   },
   "outputs": [],
   "source": [
    "filterMgr = ['Ajay Kharbanda','Ajay Kharbanda','PP Singh','Tariq Kamal','Dharmendar Yadav','Rohin Pathak','C S Waila','Jeewan Khulbe','Sushil Joshi','Anil Dhawan','Dinesh Bhrushundi','IPR','KNR','C R Sridhar','Subir Hazra','Yuvraj Mehta','Subir Hazra']\n",
    "filterMgr = list(set(filterMgr))"
   ]
  },
  {
   "cell_type": "code",
   "execution_count": 15,
   "metadata": {
    "collapsed": false
   },
   "outputs": [
    {
     "data": {
      "text/plain": [
       "['Yuvraj Mehta',\n",
       " 'Subir Hazra',\n",
       " 'C R Sridhar',\n",
       " 'Dinesh Bhrushundi',\n",
       " 'Jeewan Khulbe',\n",
       " 'Rohin Pathak',\n",
       " 'KNR',\n",
       " 'Dharmendar Yadav',\n",
       " 'IPR',\n",
       " 'Tariq Kamal',\n",
       " 'PP Singh',\n",
       " 'C S Waila',\n",
       " 'Sushil Joshi',\n",
       " 'Ajay Kharbanda',\n",
       " 'Anil Dhawan']"
      ]
     },
     "execution_count": 15,
     "metadata": {},
     "output_type": "execute_result"
    }
   ],
   "source": [
    "filterMgr"
   ]
  },
  {
   "cell_type": "code",
   "execution_count": 16,
   "metadata": {
    "collapsed": false
   },
   "outputs": [
    {
     "data": {
      "text/html": [
       "<div>\n",
       "<table border=\"1\" class=\"dataframe\">\n",
       "  <thead>\n",
       "    <tr style=\"text-align: right;\">\n",
       "      <th></th>\n",
       "      <th>MANAGER_ID</th>\n",
       "      <th>MANAGER_EMP_ID</th>\n",
       "      <th>NAME</th>\n",
       "      <th>EMAIL_ID</th>\n",
       "      <th>GEN_DATE</th>\n",
       "      <th>PASSWORD</th>\n",
       "      <th>LEVEL</th>\n",
       "    </tr>\n",
       "  </thead>\n",
       "  <tbody>\n",
       "    <tr>\n",
       "      <th>31</th>\n",
       "      <td>159114</td>\n",
       "      <td>2967</td>\n",
       "      <td>Anil Dhawan</td>\n",
       "      <td>Anil Dhawan</td>\n",
       "      <td>2016-09-01 12:34:36</td>\n",
       "      <td>297814</td>\n",
       "      <td>M3</td>\n",
       "    </tr>\n",
       "    <tr>\n",
       "      <th>69</th>\n",
       "      <td>159152</td>\n",
       "      <td>16235</td>\n",
       "      <td>Ajay Kharbanda</td>\n",
       "      <td>Ajay Kharbanda</td>\n",
       "      <td>2016-09-01 12:34:36</td>\n",
       "      <td>567375</td>\n",
       "      <td>M5-S9</td>\n",
       "    </tr>\n",
       "    <tr>\n",
       "      <th>80</th>\n",
       "      <td>159163</td>\n",
       "      <td>5115</td>\n",
       "      <td>Subir Hazra</td>\n",
       "      <td>Subir Hazra</td>\n",
       "      <td>2016-09-01 12:34:36</td>\n",
       "      <td>149321</td>\n",
       "      <td>M4</td>\n",
       "    </tr>\n",
       "    <tr>\n",
       "      <th>224</th>\n",
       "      <td>159307</td>\n",
       "      <td>4891</td>\n",
       "      <td>Jeewan Khulbe</td>\n",
       "      <td>Jeewan Khulbe</td>\n",
       "      <td>2016-09-01 12:34:36</td>\n",
       "      <td>322392</td>\n",
       "      <td>M4</td>\n",
       "    </tr>\n",
       "    <tr>\n",
       "      <th>292</th>\n",
       "      <td>159375</td>\n",
       "      <td>23154</td>\n",
       "      <td>Yuvraj Mehta</td>\n",
       "      <td>Yuvraj Mehta</td>\n",
       "      <td>2016-09-01 12:34:36</td>\n",
       "      <td>123353</td>\n",
       "      <td>M3</td>\n",
       "    </tr>\n",
       "    <tr>\n",
       "      <th>426</th>\n",
       "      <td>159509</td>\n",
       "      <td>1717</td>\n",
       "      <td>Tariq Kamal</td>\n",
       "      <td>Tariq Kamal</td>\n",
       "      <td>2016-09-01 12:34:36</td>\n",
       "      <td>396238</td>\n",
       "      <td>M5-S9</td>\n",
       "    </tr>\n",
       "    <tr>\n",
       "      <th>475</th>\n",
       "      <td>159558</td>\n",
       "      <td>20530</td>\n",
       "      <td>Sushil Joshi</td>\n",
       "      <td>Sushil Joshi</td>\n",
       "      <td>2016-09-01 12:34:36</td>\n",
       "      <td>618479</td>\n",
       "      <td>M3</td>\n",
       "    </tr>\n",
       "    <tr>\n",
       "      <th>527</th>\n",
       "      <td>159610</td>\n",
       "      <td>6958</td>\n",
       "      <td>Dinesh Bhrushundi</td>\n",
       "      <td>Dinesh Bhrushundi</td>\n",
       "      <td>2016-09-01 12:34:36</td>\n",
       "      <td>579423</td>\n",
       "      <td>M3</td>\n",
       "    </tr>\n",
       "  </tbody>\n",
       "</table>\n",
       "</div>"
      ],
      "text/plain": [
       "     MANAGER_ID MANAGER_EMP_ID               NAME           EMAIL_ID  \\\n",
       "31       159114           2967        Anil Dhawan        Anil Dhawan   \n",
       "69       159152          16235     Ajay Kharbanda     Ajay Kharbanda   \n",
       "80       159163           5115        Subir Hazra        Subir Hazra   \n",
       "224      159307           4891      Jeewan Khulbe      Jeewan Khulbe   \n",
       "292      159375          23154       Yuvraj Mehta       Yuvraj Mehta   \n",
       "426      159509           1717        Tariq Kamal        Tariq Kamal   \n",
       "475      159558          20530       Sushil Joshi       Sushil Joshi   \n",
       "527      159610           6958  Dinesh Bhrushundi  Dinesh Bhrushundi   \n",
       "\n",
       "               GEN_DATE PASSWORD  LEVEL  \n",
       "31  2016-09-01 12:34:36   297814     M3  \n",
       "69  2016-09-01 12:34:36   567375  M5-S9  \n",
       "80  2016-09-01 12:34:36   149321     M4  \n",
       "224 2016-09-01 12:34:36   322392     M4  \n",
       "292 2016-09-01 12:34:36   123353     M3  \n",
       "426 2016-09-01 12:34:36   396238  M5-S9  \n",
       "475 2016-09-01 12:34:36   618479     M3  \n",
       "527 2016-09-01 12:34:36   579423     M3  "
      ]
     },
     "execution_count": 16,
     "metadata": {},
     "output_type": "execute_result"
    }
   ],
   "source": [
    "mgr[mgr.NAME.isin(filterMgr)]"
   ]
  },
  {
   "cell_type": "code",
   "execution_count": 138,
   "metadata": {
    "collapsed": true
   },
   "outputs": [],
   "source": [
    "filterMgr = mgr[mgr.NAME.isin(filterMgr)]\n",
    "sourceDir = 'C:\\\\Users/BNSPL-2\\\\Google Drive\\\\PROJECT REPORTS\\\\gmr manager report'\n",
    "destDir = 'F:\\\\GMR Manager New Report'"
   ]
  },
  {
   "cell_type": "code",
   "execution_count": 88,
   "metadata": {
    "collapsed": true
   },
   "outputs": [],
   "source": [
    "filterMgr.to_excel(destDir+'\\\\'+'Report-Sheet.xlsx',sheet_name=\"Report Sheet\")"
   ]
  },
  {
   "cell_type": "code",
   "execution_count": 63,
   "metadata": {
    "collapsed": true
   },
   "outputs": [],
   "source": [
    "mgrIds = mgr[mgr.NAME.isin(filterMgr)].MANAGER_EMP_ID.values"
   ]
  },
  {
   "cell_type": "code",
   "execution_count": 71,
   "metadata": {
    "collapsed": false
   },
   "outputs": [],
   "source": [
    "mgrIds = mgrIds.sort()"
   ]
  },
  {
   "cell_type": "code",
   "execution_count": 85,
   "metadata": {
    "collapsed": false
   },
   "outputs": [
    {
     "data": {
      "text/plain": [
       "8"
      ]
     },
     "execution_count": 85,
     "metadata": {},
     "output_type": "execute_result"
    }
   ],
   "source": [
    "mgrIds.size"
   ]
  },
  {
   "cell_type": "code",
   "execution_count": 65,
   "metadata": {
    "collapsed": true
   },
   "outputs": [],
   "source": [
    "sourceDir = 'C:\\\\Users/BNSPL-2\\\\Google Drive\\\\PROJECT REPORTS\\\\gmr manager report'\n",
    "destDir = 'F:\\\\GMR Manager New Report'"
   ]
  },
  {
   "cell_type": "code",
   "execution_count": 75,
   "metadata": {
    "collapsed": true
   },
   "outputs": [],
   "source": [
    "import shutil\n",
    "def copyFile(src, dest):\n",
    "    try:\n",
    "        shutil.copy2(src, dest)\n",
    "    # eg. src and dest are the same file\n",
    "    except shutil.Error as e:\n",
    "        print('shutil Error: %s' % e)\n",
    "    # eg. source or destination doesn't exist\n",
    "    except IOError as e:\n",
    "        print('IOError: %s' % e.strerror)"
   ]
  },
  {
   "cell_type": "code",
   "execution_count": 78,
   "metadata": {
    "collapsed": false
   },
   "outputs": [
    {
     "name": "stdout",
     "output_type": "stream",
     "text": [
      "Report-16235.pdf\n",
      "C:\\Users/BNSPL-2\\Google Drive\\PROJECT REPORTS\\gmr manager report\\Report-16235.pdf\n",
      "Report-1717.pdf\n",
      "C:\\Users/BNSPL-2\\Google Drive\\PROJECT REPORTS\\gmr manager report\\Report-1717.pdf\n",
      "Report-20530.pdf\n",
      "C:\\Users/BNSPL-2\\Google Drive\\PROJECT REPORTS\\gmr manager report\\Report-20530.pdf\n",
      "Report-23154.pdf\n",
      "C:\\Users/BNSPL-2\\Google Drive\\PROJECT REPORTS\\gmr manager report\\Report-23154.pdf\n",
      "Report-2967.pdf\n",
      "C:\\Users/BNSPL-2\\Google Drive\\PROJECT REPORTS\\gmr manager report\\Report-2967.pdf\n",
      "Report-4891.pdf\n",
      "C:\\Users/BNSPL-2\\Google Drive\\PROJECT REPORTS\\gmr manager report\\Report-4891.pdf\n",
      "Report-5115.pdf\n",
      "C:\\Users/BNSPL-2\\Google Drive\\PROJECT REPORTS\\gmr manager report\\Report-5115.pdf\n",
      "Report-6958.pdf\n",
      "C:\\Users/BNSPL-2\\Google Drive\\PROJECT REPORTS\\gmr manager report\\Report-6958.pdf\n"
     ]
    }
   ],
   "source": [
    "for mgrId in mgrIds:\n",
    "    fileName = \"Report-\"+mgrId+\".pdf\"\n",
    "    print fileName\n",
    "    print sourceDir+'\\\\'+fileName\n",
    "    copyFile(sourceDir+'\\\\'+fileName,destDir+'\\\\'+fileName)"
   ]
  },
  {
   "cell_type": "code",
   "execution_count": 139,
   "metadata": {
    "collapsed": false
   },
   "outputs": [],
   "source": [
    "import os\n",
    "files = os.listdir(sourceDir)"
   ]
  },
  {
   "cell_type": "code",
   "execution_count": 140,
   "metadata": {
    "collapsed": false
   },
   "outputs": [],
   "source": [
    "files = [int(elem[elem.find('-')+1:elem.find('.')]) for elem in files if (\".pdf\" in elem)]"
   ]
  },
  {
   "cell_type": "code",
   "execution_count": 141,
   "metadata": {
    "collapsed": false,
    "scrolled": false
   },
   "outputs": [],
   "source": [
    "mgr['MANAGER_EMP_ID'] =  mgr.MANAGER_EMP_ID.astype('int64')"
   ]
  },
  {
   "cell_type": "code",
   "execution_count": 142,
   "metadata": {
    "collapsed": false
   },
   "outputs": [
    {
     "data": {
      "text/plain": [
       "array([ 1405,  1403,  1402, 10981,  1406, 14267,  2941,  2943, 19337,\n",
       "       20624, 10090,  8202, 20221,  8017,  3282, 14277, 25779, 15138,\n",
       "       15135, 20631, 25771,  6868, 10714, 20253,  8233, 11593,  6073,\n",
       "       24140,  3293,     6,  1833,  2967,     8,     7, 10070,     2,\n",
       "           1,  2963, 11599, 20057, 20058,     9, 20246,  6066, 20249,\n",
       "       10068,  8745, 10066, 10067,  2956, 13712, 25750, 10060, 13716,\n",
       "        7585,  8457,  4957, 16228, 12889,  4956, 13740,  5121,  8450,\n",
       "       13744,  5125,  5107, 19100, 14232, 20267, 16235, 12893, 12894,\n",
       "       12898,  4968, 12899,  3238,  5303, 19109, 23670, 10043,  5115,\n",
       "        5114,  3256, 23664,  4977,  7363,  7366,  9311,  8470, 23661,\n",
       "        3248,  3266, 23653, 10028, 13121,  2130,  3261,  7555, 20415,\n",
       "        4988,  2129, 26174,  8462,  9325, 23650,  2996,  1893,  2738,\n",
       "        2732,  8918,  2731,  8498,  2735,  8912,  4919,  3669, 22597,\n",
       "        4912, 13148,  1887,  8927,  2742,  3676,  6005,  2151,  6000,\n",
       "       14208,  3202,  9758,  3694, 13563,  9351, 19390, 13569,  3894,\n",
       "        3893, 23410,  3689,  1637,  1636,  2161,  2162,  9367,  4950,\n",
       "        6805, 14216,  9360,  9554,  2768,  3005,  3006,  2765,  3007,\n",
       "        9750,  2772, 23423,  8954, 14416,  4946, 11111,  1857, 21718,\n",
       "       12805, 19376,  1851,  9377, 24692, 21995, 23602,  8251,  3428,\n",
       "        6055, 24494, 18567,  3621, 23607, 12607, 19383,  6828, 12816,\n",
       "       11176,  9805,  6823, 19571,  3639, 24482,  6045,  6044,  2502,\n",
       "        3650,  8977, 19809, 21081,  1683,  6837, 20219, 14449,  8274,\n",
       "        1673, 19155, 20210,  3069, 18558, 18559, 19554, 24660,  4702,\n",
       "       14452,  1670,  4704,  2726, 24467, 19367, 24666,  4908,  9505,\n",
       "        4907,  4906,  3079, 12102, 24769,  4895,  3918,  1573,  4891,\n",
       "        7734,  3910,  4607, 18723, 19099,  4204,  5734,  3081, 11462,\n",
       "       10329,  3907,  3908,  3903, 25429, 25428, 23392,  3097,  3099,\n",
       "       25006, 18901,  4088, 11432,  4622,  4626, 18711,  3930,  5754,\n",
       "       13604,  1198, 18704,  3728,  9882, 11443,  3926,  3927,  4098,\n",
       "        4616, 23372, 23375,  7990,  4232,  3922,  7993, 24722,  4650,\n",
       "       21139, 23162, 23367, 25452, 21924, 15759, 23166, 26580, 21926,\n",
       "        2467, 15757, 50537,  4243,  4060,  4435, 12563, 24523, 18041,\n",
       "       12571, 11810, 23153,  4451, 23154,  4071, 23157,  2657,  7975,\n",
       "       15762, 17648, 11616,  4076, 22283, 21942, 22487,  9086, 13633,\n",
       "       25431, 21943, 26563,  7957,  4465,  4464, 13636,  2693,  2692,\n",
       "       25436, 24507,  2491,  7758, 10558, 21128, 21930, 12590, 24710,\n",
       "       24714, 10342,  4470,  2476, 24717, 13642,  2478,  7755, 21934,\n",
       "        7750, 21129,  7751,  7746, 25448,  3968, 10546,  3969, 11403,\n",
       "       17176, 24515,  5154, 23594,  1385,  1384,  5523,  8532, 20987,\n",
       "       26347,  1374, 26752,  1375,  1371, 22060, 10906, 16856,  2499,\n",
       "       10133, 24968,  5130, 15197, 15198,  7506, 22983,  1399, 25473,\n",
       "       10936,  4422, 10102, 10105,  8558, 26327,  5146, 10509,  5147,\n",
       "        1392, 25489,  1394, 22046, 22710, 23175,  4432,  1110, 15173,\n",
       "       26397, 26118,  6650, 26793, 26792,  8775,  5584,  1156,  1363,\n",
       "       11689,  1362,  1361, 15156,  5176,  5175,  5174, 15151, 24994,\n",
       "        1354, 15575, 16824,  6427,  1359, 16830,  1351,  7003,  1352,\n",
       "       15164, 15163,  8792, 24396,  8872, 15007,  6762,  8877, 10889,\n",
       "       20174, 11479,  1719,  1717, 20371,  6345,  6758,  2844,  7202,\n",
       "       15001,  5215, 24068, 24386,  1314,  6351,  6355, 21611, 10611,\n",
       "       21613, 21616, 14345, 14346,  3395, 24287, 24281, 24284, 24283,\n",
       "       20548, 19908,  6363, 26718, 24083,  3596, 24299, 24298, 15211,\n",
       "        5231,  7209,  8840, 24292, 20149, 13818,  6372, 15219, 24096,\n",
       "       13813, 24095, 14352,  3377, 14125, 10641,  2235, 20530,  3386,\n",
       "       10851,  8814,  7429,  7233,  9204,  6391, 10652,  9477, 17347,\n",
       "        7469,  6782,  2862,  2212,  8808,  2865, 21649, 21646, 10622,\n",
       "       20516,  3361, 23554,  3363,  2223, 14394,  9452,  7255, 21636,\n",
       "       25695,  2858, 20381, 10635,  8324,  9455, 25192,  2635, 23703,\n",
       "        3530, 24318,  3531, 12908, 10687, 24313,  6961, 23702,  3323,\n",
       "        2086,  2285,  2287,  3526, 21169,  6958,  2282,  8197, 11001,\n",
       "       11004,  6959,  2284,  2280, 19408,  1516, 24308,  4187,  6970,\n",
       "        9247,  1789, 24306,  2097, 12783,  2289,  1793,  3537,  3344,\n",
       "        1790,  3533, 21498, 19421,  3984,  9421,  3793,  3988,  2062,\n",
       "       23723,  3304, 23721, 22479,  2059, 22475,  3310,  9209,  3103,\n",
       "        2620,  6163,  3104, 19415, 23717, 23716,  2075,  2627, 24011,\n",
       "       23710, 23712,  3316,  9224,  6164,  3520,  2271,  4800,  3322,\n",
       "        2275,  4804,  3796, 19417,  4808, 19238,  1560, 12756, 24229,\n",
       "        1752, 13206,  3771, 10385, 10383, 10189, 12557,  6109, 12553,\n",
       "        3586, 14333, 24236,  1741, 19437, 10193, 19433,  3177, 13476,\n",
       "        1549,  3174,  1547, 19910, 11035,  3552,  1737,  1736, 12921,\n",
       "        1538, 12315,  1533, 12537,  6127,  6702, 24259,  3762,  1528,\n",
       "        2028,  7879,  7877,  1088,  4508,  4379, 12006,  5631,  1967,\n",
       "        4791,  7152,  4504,  1475, 18343,  5639, 21206,  7875,  1069,\n",
       "        5640,  2320, 23928,  4780, 23924,  9970,  4765,  4366, 19613,\n",
       "       23289, 25535, 21013, 24655,  4374,  1996,  7189,  1995,  1992,\n",
       "        1993, 22157, 22369, 22163, 22160, 26415,  4544,  7195, 26417,\n",
       "        4752, 17733, 25166,  3608,  4354, 25563,  7825, 25159, 22176,\n",
       "        4734, 22174,  4736,  4542,  2362, 23246,  2347,  1692, 21255,\n",
       "       22184,  4720,  4529, 11500,  2339,  1094, 22195, 24415, 24416,\n",
       "        4512,  8090,  2340, 23942, 23944,  1287, 15075, 23453,  5294,\n",
       "        5292, 26068, 26069,  5826,  1269,  5444,  1264,  7821, 15096,\n",
       "        2778, 15097,  7405,  7406, 15880,  7409,  5029, 24857,  2389,\n",
       "        2386,  5040,  5048, 11537, 11538,  1914, 10405,  2785, 25701,\n",
       "       15875,  4560, 25709, 25707,  5672,  1037,  1036,  5468,  5051,\n",
       "        5668,  5473, 25716,  5475,  5476,  1043, 25713,  1935, 22830,\n",
       "        5680,  5677,  5679, 25729, 15052, 26092, 15059,  1945,  6331,\n",
       "        1018, 26099,  1014,  1023,  8880,  8882,  8881,  8884, 25731,\n",
       "        8697, 15068,  1958, 15445,  6316, 24888,  5467, 20074, 25749,\n",
       "       12071, 12073, 17964, 25748, 12070,  8897, 11489], dtype=int64)"
      ]
     },
     "execution_count": 142,
     "metadata": {},
     "output_type": "execute_result"
    }
   ],
   "source": [
    "mgr.MANAGER_EMP_ID.values"
   ]
  },
  {
   "cell_type": "code",
   "execution_count": 143,
   "metadata": {
    "collapsed": false
   },
   "outputs": [],
   "source": [
    "nonExists = mgr[~mgr.MANAGER_EMP_ID.isin(files)]"
   ]
  },
  {
   "cell_type": "code",
   "execution_count": 144,
   "metadata": {
    "collapsed": false
   },
   "outputs": [],
   "source": [
    "nonExists = nonExists.sort_values('MANAGER_EMP_ID')"
   ]
  },
  {
   "cell_type": "code",
   "execution_count": 145,
   "metadata": {
    "collapsed": false
   },
   "outputs": [
    {
     "data": {
      "text/plain": [
       "dtype('O')"
      ]
     },
     "execution_count": 145,
     "metadata": {},
     "output_type": "execute_result"
    }
   ],
   "source": [
    "nonExists['MANAGER_EMP_ID'] =  nonExists.MANAGER_EMP_ID.asobject\n",
    "nonExists.MANAGER_EMP_ID.dtype"
   ]
  },
  {
   "cell_type": "code",
   "execution_count": 121,
   "metadata": {
    "collapsed": false
   },
   "outputs": [],
   "source": [
    "nonExists.to_csv(\"D:\\\\Non-reported-managers.csv\")"
   ]
  },
  {
   "cell_type": "code",
   "execution_count": 146,
   "metadata": {
    "collapsed": false
   },
   "outputs": [
    {
     "data": {
      "text/plain": [
       "(45, 7)"
      ]
     },
     "execution_count": 146,
     "metadata": {},
     "output_type": "execute_result"
    }
   ],
   "source": [
    "nonExists.shape"
   ]
  },
  {
   "cell_type": "code",
   "execution_count": null,
   "metadata": {
    "collapsed": true
   },
   "outputs": [],
   "source": []
  }
 ],
 "metadata": {
  "kernelspec": {
   "display_name": "Python 2",
   "language": "python",
   "name": "python2"
  },
  "language_info": {
   "codemirror_mode": {
    "name": "ipython",
    "version": 2
   },
   "file_extension": ".py",
   "mimetype": "text/x-python",
   "name": "python",
   "nbconvert_exporter": "python",
   "pygments_lexer": "ipython2",
   "version": "2.7.12"
  }
 },
 "nbformat": 4,
 "nbformat_minor": 1
}
