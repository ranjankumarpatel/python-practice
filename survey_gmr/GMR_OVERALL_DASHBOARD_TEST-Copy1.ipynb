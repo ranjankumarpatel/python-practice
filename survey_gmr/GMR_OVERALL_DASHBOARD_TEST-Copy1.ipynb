{
 "cells": [
  {
   "cell_type": "code",
   "execution_count": 6,
   "metadata": {
    "collapsed": true
   },
   "outputs": [],
   "source": [
    "import pandas as pd\n",
    "import json\n",
    "from pandas.io.json import json_normalize"
   ]
  },
  {
   "cell_type": "code",
   "execution_count": 7,
   "metadata": {
    "collapsed": true
   },
   "outputs": [],
   "source": [
    "import MySQLdb as db\n",
    "from pandas import DataFrame\n",
    "#from pandas.io.sql import frame_query\n",
    "\n",
    "database = db.connect('69.89.14.187','engage','punya123','engage_v1')\n",
    "#data     = frame_query(\"SELECT * FROM ass_v1_360_invite_response\", database)"
   ]
  },
  {
   "cell_type": "code",
   "execution_count": 8,
   "metadata": {
    "collapsed": true
   },
   "outputs": [],
   "source": [
    "database.autocommit=False"
   ]
  },
  {
   "cell_type": "code",
   "execution_count": 9,
   "metadata": {
    "collapsed": true
   },
   "outputs": [],
   "source": [
    "sql_all_mgr = \"\"\"select\n",
    "            surveyrepo9_.INDEX_TYPE as col_0_0_,\n",
    "            avg(surveyopti2_.OPT_VALUE) as col_1_0_ \n",
    "        from\n",
    "            survey_v1_user_response_store surveyuser0_ \n",
    "        inner join\n",
    "            survey_v1_user_servey_def surveyuser1_ \n",
    "                on surveyuser0_.USER_SURVEY_DEF_ID=surveyuser1_.USD_ID \n",
    "        inner join\n",
    "            survey_v1_defination surveydefi6_ \n",
    "                on surveyuser1_.SURVEY_DEF_ID=surveydefi6_.SD_ID \n",
    "        inner join\n",
    "            manager_survey_user_def_mapping managersur7_ \n",
    "                on surveyuser1_.USD_ID=managersur7_.SUSD_ID \n",
    "        inner join\n",
    "            survey_manager surveymana8_ \n",
    "                on managersur7_.MANAGER_ID=surveymana8_.MANAGER_ID \n",
    "        inner join\n",
    "            survey_v1_option surveyopti2_ \n",
    "                on surveyuser0_.OPTION_ID=surveyopti2_.OPT_ID \n",
    "        inner join\n",
    "            survey_v1_question surveyques3_ \n",
    "                on surveyuser0_.QUESTION_ID=surveyques3_.QUESTION_ID \n",
    "        inner join\n",
    "            survey_v1_report_index_question_mapper surveyrepo4_ \n",
    "                on surveyques3_.QUESTION_ID=surveyrepo4_.QUESTION_ID \n",
    "        inner join\n",
    "            survey_v1_report_index surveyrepo5_ \n",
    "                on surveyrepo4_.REPORT_INDEX_ID=surveyrepo5_.REPORT_INDEX_ID,\n",
    "            survey_v1_report_index surveyrepo9_ \n",
    "        where\n",
    "            surveyrepo4_.REPORT_INDEX_ID=surveyrepo9_.REPORT_INDEX_ID \n",
    "            and (\n",
    "                surveyopti2_.OPT_ID is not null\n",
    "            ) \n",
    "            and surveyques3_.QUESTION_TYPE='QUESTION_SCALE' \n",
    "            and surveydefi6_.SD_ID=12 \n",
    "            and surveymana8_.MANAGER_EMP_ID=7746 \n",
    "        group by\n",
    "            surveyrepo5_.INDEX_TYPE\"\"\""
   ]
  },
  {
   "cell_type": "code",
   "execution_count": 10,
   "metadata": {
    "collapsed": false
   },
   "outputs": [],
   "source": [
    "mgr_all = pd.read_sql_query(sql=sql_all_mgr,con=database)"
   ]
  },
  {
   "cell_type": "code",
   "execution_count": 11,
   "metadata": {
    "collapsed": false
   },
   "outputs": [
    {
     "data": {
      "text/html": [
       "<div>\n",
       "<table border=\"1\" class=\"dataframe\">\n",
       "  <thead>\n",
       "    <tr style=\"text-align: right;\">\n",
       "      <th></th>\n",
       "      <th>col_0_0_</th>\n",
       "      <th>col_1_0_</th>\n",
       "    </tr>\n",
       "  </thead>\n",
       "  <tbody>\n",
       "    <tr>\n",
       "      <th>0</th>\n",
       "      <td>C</td>\n",
       "      <td>4.201871</td>\n",
       "    </tr>\n",
       "    <tr>\n",
       "      <th>1</th>\n",
       "      <td>I</td>\n",
       "      <td>3.986634</td>\n",
       "    </tr>\n",
       "  </tbody>\n",
       "</table>\n",
       "</div>"
      ],
      "text/plain": [
       "  col_0_0_  col_1_0_\n",
       "0        C  4.201871\n",
       "1        I  3.986634"
      ]
     },
     "execution_count": 11,
     "metadata": {},
     "output_type": "execute_result"
    }
   ],
   "source": [
    "mgr_all"
   ]
  },
  {
   "cell_type": "code",
   "execution_count": 12,
   "metadata": {
    "collapsed": false
   },
   "outputs": [],
   "source": [
    "sql_old = \"\"\"SELECT surveymana8_.MANAGER_EMP_ID,\n",
    "       surveyrepo9_.INDEX_TYPE AS col_0_0_,\n",
    "       avg(surveyopti2_.OPT_VALUE) AS col_1_0_\n",
    "  FROM survey_v1_user_response_store surveyuser0_\n",
    "       INNER JOIN survey_v1_user_servey_def surveyuser1_\n",
    "          ON surveyuser0_.USER_SURVEY_DEF_ID = surveyuser1_.USD_ID\n",
    "       INNER JOIN survey_v1_defination surveydefi6_\n",
    "          ON surveyuser1_.SURVEY_DEF_ID = surveydefi6_.SD_ID\n",
    "       INNER JOIN manager_survey_user_def_mapping managersur7_\n",
    "          ON surveyuser1_.USD_ID = managersur7_.SUSD_ID\n",
    "       INNER JOIN survey_manager surveymana8_\n",
    "          ON managersur7_.MANAGER_ID = surveymana8_.MANAGER_ID\n",
    "       INNER JOIN survey_v1_option surveyopti2_\n",
    "          ON surveyuser0_.OPTION_ID = surveyopti2_.OPT_ID\n",
    "       INNER JOIN survey_v1_question surveyques3_\n",
    "          ON surveyuser0_.QUESTION_ID = surveyques3_.QUESTION_ID\n",
    "       INNER JOIN survey_v1_report_index_question_mapper surveyrepo4_\n",
    "          ON surveyques3_.QUESTION_ID = surveyrepo4_.QUESTION_ID\n",
    "       INNER JOIN survey_v1_report_index surveyrepo5_\n",
    "          ON surveyrepo4_.REPORT_INDEX_ID = surveyrepo5_.REPORT_INDEX_ID,\n",
    "       survey_v1_report_index surveyrepo9_\n",
    " WHERE     surveyrepo4_.REPORT_INDEX_ID = surveyrepo9_.REPORT_INDEX_ID\n",
    "       AND (surveyopti2_.OPT_ID IS NOT NULL)\n",
    "       AND surveyques3_.QUESTION_TYPE = 'QUESTION_SCALE'\n",
    "       AND surveydefi6_.SD_ID = 12      \n",
    "GROUP BY surveymana8_.MANAGER_EMP_ID,surveyrepo5_.INDEX_TYPE\"\"\"\n",
    "old_data = pd.read_sql_query(sql=sql_old,con=database)\n",
    "old_data.head()\n",
    "old_data = old_data.rename(columns={\"col_0_0_\":\"INDEX_TYPE_OLD\",\"col_1_0_\":\"VALUE_OLD\"})"
   ]
  },
  {
   "cell_type": "code",
   "execution_count": 13,
   "metadata": {
    "collapsed": false
   },
   "outputs": [
    {
     "data": {
      "text/html": [
       "<div>\n",
       "<table border=\"1\" class=\"dataframe\">\n",
       "  <thead>\n",
       "    <tr style=\"text-align: right;\">\n",
       "      <th></th>\n",
       "      <th>MANAGER_EMP_ID</th>\n",
       "      <th>INDEX_TYPE_OLD</th>\n",
       "      <th>VALUE_OLD</th>\n",
       "    </tr>\n",
       "  </thead>\n",
       "  <tbody>\n",
       "    <tr>\n",
       "      <th>0</th>\n",
       "      <td>1</td>\n",
       "      <td>C</td>\n",
       "      <td>4.118326</td>\n",
       "    </tr>\n",
       "    <tr>\n",
       "      <th>1</th>\n",
       "      <td>1</td>\n",
       "      <td>I</td>\n",
       "      <td>3.976470</td>\n",
       "    </tr>\n",
       "    <tr>\n",
       "      <th>2</th>\n",
       "      <td>10028</td>\n",
       "      <td>C</td>\n",
       "      <td>4.519651</td>\n",
       "    </tr>\n",
       "    <tr>\n",
       "      <th>3</th>\n",
       "      <td>10028</td>\n",
       "      <td>I</td>\n",
       "      <td>4.316206</td>\n",
       "    </tr>\n",
       "    <tr>\n",
       "      <th>4</th>\n",
       "      <td>10043</td>\n",
       "      <td>C</td>\n",
       "      <td>3.550000</td>\n",
       "    </tr>\n",
       "  </tbody>\n",
       "</table>\n",
       "</div>"
      ],
      "text/plain": [
       "  MANAGER_EMP_ID INDEX_TYPE_OLD  VALUE_OLD\n",
       "0              1              C   4.118326\n",
       "1              1              I   3.976470\n",
       "2          10028              C   4.519651\n",
       "3          10028              I   4.316206\n",
       "4          10043              C   3.550000"
      ]
     },
     "execution_count": 13,
     "metadata": {},
     "output_type": "execute_result"
    }
   ],
   "source": [
    "old_data.head()"
   ]
  },
  {
   "cell_type": "code",
   "execution_count": 14,
   "metadata": {
    "collapsed": false
   },
   "outputs": [
    {
     "data": {
      "text/html": [
       "<div>\n",
       "<table border=\"1\" class=\"dataframe\">\n",
       "  <thead>\n",
       "    <tr style=\"text-align: right;\">\n",
       "      <th></th>\n",
       "      <th>EMP_ID</th>\n",
       "      <th>INDEX_TYPE_NEW</th>\n",
       "      <th>VALUE_NEW</th>\n",
       "    </tr>\n",
       "  </thead>\n",
       "  <tbody>\n",
       "    <tr>\n",
       "      <th>0</th>\n",
       "      <td>10027</td>\n",
       "      <td>C</td>\n",
       "      <td>4.421053</td>\n",
       "    </tr>\n",
       "    <tr>\n",
       "      <th>1</th>\n",
       "      <td>10027</td>\n",
       "      <td>I</td>\n",
       "      <td>4.272727</td>\n",
       "    </tr>\n",
       "    <tr>\n",
       "      <th>2</th>\n",
       "      <td>10028</td>\n",
       "      <td>C</td>\n",
       "      <td>4.400000</td>\n",
       "    </tr>\n",
       "    <tr>\n",
       "      <th>3</th>\n",
       "      <td>10028</td>\n",
       "      <td>I</td>\n",
       "      <td>4.318182</td>\n",
       "    </tr>\n",
       "    <tr>\n",
       "      <th>4</th>\n",
       "      <td>10030</td>\n",
       "      <td>C</td>\n",
       "      <td>4.900000</td>\n",
       "    </tr>\n",
       "  </tbody>\n",
       "</table>\n",
       "</div>"
      ],
      "text/plain": [
       "  EMP_ID INDEX_TYPE_NEW  VALUE_NEW\n",
       "0  10027              C   4.421053\n",
       "1  10027              I   4.272727\n",
       "2  10028              C   4.400000\n",
       "3  10028              I   4.318182\n",
       "4  10030              C   4.900000"
      ]
     },
     "execution_count": 14,
     "metadata": {},
     "output_type": "execute_result"
    }
   ],
   "source": [
    "sql_new = \"\"\"SELECT user_info.EMP_ID,surveyrepo9_.INDEX_TYPE AS col_0_0_,\n",
    "       avg(surveyopti2_.OPT_VALUE) AS col_1_0_\n",
    "  FROM survey_v1_user_response_store surveyuser0_\n",
    "       INNER JOIN survey_v1_user_servey_def surveyuser1_\n",
    "          ON surveyuser0_.USER_SURVEY_DEF_ID = surveyuser1_.USD_ID\n",
    "       JOIN all_survey_v1_user_client_mapper_view\n",
    "          ON all_survey_v1_user_client_mapper_view.UCM_ID =\n",
    "                surveyuser1_.UCM_ID\n",
    "       JOIN user_info\n",
    "          ON user_info.USER_ID =\n",
    "                all_survey_v1_user_client_mapper_view.USER_ID\n",
    "       INNER JOIN survey_v1_defination surveydefi6_\n",
    "          ON surveyuser1_.SURVEY_DEF_ID = surveydefi6_.SD_ID\n",
    "       INNER JOIN survey_v1_option surveyopti2_\n",
    "          ON surveyuser0_.OPTION_ID = surveyopti2_.OPT_ID\n",
    "       INNER JOIN survey_v1_question surveyques3_\n",
    "          ON surveyuser0_.QUESTION_ID = surveyques3_.QUESTION_ID\n",
    "       INNER JOIN survey_v1_report_index_question_mapper surveyrepo4_\n",
    "          ON surveyques3_.QUESTION_ID = surveyrepo4_.QUESTION_ID\n",
    "       INNER JOIN survey_v1_report_index surveyrepo5_\n",
    "          ON surveyrepo4_.REPORT_INDEX_ID = surveyrepo5_.REPORT_INDEX_ID,\n",
    "       survey_v1_report_index surveyrepo9_\n",
    " WHERE     surveyrepo4_.REPORT_INDEX_ID = surveyrepo9_.REPORT_INDEX_ID\n",
    "       AND (surveyopti2_.OPT_ID IS NOT NULL)\n",
    "       AND surveyques3_.QUESTION_TYPE = 'QUESTION_SCALE'\n",
    "       AND surveydefi6_.SD_ID = 12    \n",
    "GROUP BY user_info.EMP_ID,surveyrepo5_.INDEX_TYPE\"\"\"\n",
    "new_data = pd.read_sql_query(sql=sql_new,con=database)\n",
    "new_data.head()\n",
    "new_data = new_data.rename(columns={\"col_0_0_\":\"INDEX_TYPE_NEW\",\"col_1_0_\":\"VALUE_NEW\"})\n",
    "new_data.head()"
   ]
  },
  {
   "cell_type": "code",
   "execution_count": 15,
   "metadata": {
    "collapsed": false
   },
   "outputs": [
    {
     "data": {
      "text/html": [
       "<div>\n",
       "<table border=\"1\" class=\"dataframe\">\n",
       "  <thead>\n",
       "    <tr style=\"text-align: right;\">\n",
       "      <th></th>\n",
       "      <th>EMP_ID</th>\n",
       "      <th>INDEX_TYPE_NEW</th>\n",
       "      <th>VALUE_NEW</th>\n",
       "    </tr>\n",
       "  </thead>\n",
       "  <tbody>\n",
       "    <tr>\n",
       "      <th>0</th>\n",
       "      <td>10027</td>\n",
       "      <td>C</td>\n",
       "      <td>4.421053</td>\n",
       "    </tr>\n",
       "    <tr>\n",
       "      <th>1</th>\n",
       "      <td>10027</td>\n",
       "      <td>I</td>\n",
       "      <td>4.272727</td>\n",
       "    </tr>\n",
       "    <tr>\n",
       "      <th>2</th>\n",
       "      <td>10028</td>\n",
       "      <td>C</td>\n",
       "      <td>4.400000</td>\n",
       "    </tr>\n",
       "    <tr>\n",
       "      <th>3</th>\n",
       "      <td>10028</td>\n",
       "      <td>I</td>\n",
       "      <td>4.318182</td>\n",
       "    </tr>\n",
       "    <tr>\n",
       "      <th>4</th>\n",
       "      <td>10030</td>\n",
       "      <td>C</td>\n",
       "      <td>4.900000</td>\n",
       "    </tr>\n",
       "  </tbody>\n",
       "</table>\n",
       "</div>"
      ],
      "text/plain": [
       "  EMP_ID INDEX_TYPE_NEW  VALUE_NEW\n",
       "0  10027              C   4.421053\n",
       "1  10027              I   4.272727\n",
       "2  10028              C   4.400000\n",
       "3  10028              I   4.318182\n",
       "4  10030              C   4.900000"
      ]
     },
     "execution_count": 15,
     "metadata": {},
     "output_type": "execute_result"
    }
   ],
   "source": [
    "new_data.sort_values(\"EMP_ID\").head()"
   ]
  },
  {
   "cell_type": "code",
   "execution_count": 16,
   "metadata": {
    "collapsed": false
   },
   "outputs": [],
   "source": [
    "join_data = pd.merge(old_data,new_data,left_on=[\"MANAGER_EMP_ID\",\"INDEX_TYPE_OLD\"],right_on=[\"EMP_ID\",\"INDEX_TYPE_NEW\"])"
   ]
  },
  {
   "cell_type": "code",
   "execution_count": 17,
   "metadata": {
    "collapsed": false
   },
   "outputs": [],
   "source": [
    "join_data  = join_data.sort_values(\"MANAGER_EMP_ID\")"
   ]
  },
  {
   "cell_type": "code",
   "execution_count": 18,
   "metadata": {
    "collapsed": false
   },
   "outputs": [],
   "source": [
    "join_data[\"DIFF\"]=join_data.VALUE_NEW-join_data.VALUE_OLD"
   ]
  },
  {
   "cell_type": "code",
   "execution_count": 19,
   "metadata": {
    "collapsed": false
   },
   "outputs": [
    {
     "data": {
      "text/html": [
       "<div>\n",
       "<table border=\"1\" class=\"dataframe\">\n",
       "  <thead>\n",
       "    <tr style=\"text-align: right;\">\n",
       "      <th></th>\n",
       "      <th>MANAGER_EMP_ID</th>\n",
       "      <th>INDEX_TYPE_OLD</th>\n",
       "      <th>VALUE_OLD</th>\n",
       "      <th>EMP_ID</th>\n",
       "      <th>INDEX_TYPE_NEW</th>\n",
       "      <th>VALUE_NEW</th>\n",
       "      <th>DIFF</th>\n",
       "    </tr>\n",
       "  </thead>\n",
       "  <tbody>\n",
       "    <tr>\n",
       "      <th>0</th>\n",
       "      <td>10028</td>\n",
       "      <td>C</td>\n",
       "      <td>4.519651</td>\n",
       "      <td>10028</td>\n",
       "      <td>C</td>\n",
       "      <td>4.400000</td>\n",
       "      <td>-0.119651</td>\n",
       "    </tr>\n",
       "    <tr>\n",
       "      <th>1</th>\n",
       "      <td>10028</td>\n",
       "      <td>I</td>\n",
       "      <td>4.316206</td>\n",
       "      <td>10028</td>\n",
       "      <td>I</td>\n",
       "      <td>4.318182</td>\n",
       "      <td>0.001976</td>\n",
       "    </tr>\n",
       "    <tr>\n",
       "      <th>2</th>\n",
       "      <td>10043</td>\n",
       "      <td>C</td>\n",
       "      <td>3.550000</td>\n",
       "      <td>10043</td>\n",
       "      <td>C</td>\n",
       "      <td>4.450000</td>\n",
       "      <td>0.900000</td>\n",
       "    </tr>\n",
       "    <tr>\n",
       "      <th>3</th>\n",
       "      <td>10043</td>\n",
       "      <td>I</td>\n",
       "      <td>3.295455</td>\n",
       "      <td>10043</td>\n",
       "      <td>I</td>\n",
       "      <td>4.136364</td>\n",
       "      <td>0.840909</td>\n",
       "    </tr>\n",
       "    <tr>\n",
       "      <th>4</th>\n",
       "      <td>10060</td>\n",
       "      <td>C</td>\n",
       "      <td>4.246493</td>\n",
       "      <td>10060</td>\n",
       "      <td>C</td>\n",
       "      <td>4.250000</td>\n",
       "      <td>0.003507</td>\n",
       "    </tr>\n",
       "  </tbody>\n",
       "</table>\n",
       "</div>"
      ],
      "text/plain": [
       "  MANAGER_EMP_ID INDEX_TYPE_OLD  VALUE_OLD EMP_ID INDEX_TYPE_NEW  VALUE_NEW  \\\n",
       "0          10028              C   4.519651  10028              C   4.400000   \n",
       "1          10028              I   4.316206  10028              I   4.318182   \n",
       "2          10043              C   3.550000  10043              C   4.450000   \n",
       "3          10043              I   3.295455  10043              I   4.136364   \n",
       "4          10060              C   4.246493  10060              C   4.250000   \n",
       "\n",
       "       DIFF  \n",
       "0 -0.119651  \n",
       "1  0.001976  \n",
       "2  0.900000  \n",
       "3  0.840909  \n",
       "4  0.003507  "
      ]
     },
     "execution_count": 19,
     "metadata": {},
     "output_type": "execute_result"
    }
   ],
   "source": [
    "join_data.head()"
   ]
  },
  {
   "cell_type": "code",
   "execution_count": 20,
   "metadata": {
    "collapsed": false
   },
   "outputs": [
    {
     "data": {
      "text/html": [
       "<div>\n",
       "<table border=\"1\" class=\"dataframe\">\n",
       "  <thead>\n",
       "    <tr style=\"text-align: right;\">\n",
       "      <th></th>\n",
       "      <th>MANAGER_EMP_ID</th>\n",
       "      <th>VALUE_OLD</th>\n",
       "      <th>INDEX_TYPE_NEW</th>\n",
       "      <th>VALUE_NEW</th>\n",
       "      <th>DIFF</th>\n",
       "    </tr>\n",
       "  </thead>\n",
       "  <tbody>\n",
       "    <tr>\n",
       "      <th>0</th>\n",
       "      <td>10028</td>\n",
       "      <td>4.519651</td>\n",
       "      <td>C</td>\n",
       "      <td>4.400000</td>\n",
       "      <td>-0.119651</td>\n",
       "    </tr>\n",
       "    <tr>\n",
       "      <th>1</th>\n",
       "      <td>10028</td>\n",
       "      <td>4.316206</td>\n",
       "      <td>I</td>\n",
       "      <td>4.318182</td>\n",
       "      <td>0.001976</td>\n",
       "    </tr>\n",
       "    <tr>\n",
       "      <th>2</th>\n",
       "      <td>10043</td>\n",
       "      <td>3.550000</td>\n",
       "      <td>C</td>\n",
       "      <td>4.450000</td>\n",
       "      <td>0.900000</td>\n",
       "    </tr>\n",
       "    <tr>\n",
       "      <th>3</th>\n",
       "      <td>10043</td>\n",
       "      <td>3.295455</td>\n",
       "      <td>I</td>\n",
       "      <td>4.136364</td>\n",
       "      <td>0.840909</td>\n",
       "    </tr>\n",
       "    <tr>\n",
       "      <th>4</th>\n",
       "      <td>10060</td>\n",
       "      <td>4.246493</td>\n",
       "      <td>C</td>\n",
       "      <td>4.250000</td>\n",
       "      <td>0.003507</td>\n",
       "    </tr>\n",
       "  </tbody>\n",
       "</table>\n",
       "</div>"
      ],
      "text/plain": [
       "  MANAGER_EMP_ID  VALUE_OLD INDEX_TYPE_NEW  VALUE_NEW      DIFF\n",
       "0          10028   4.519651              C   4.400000 -0.119651\n",
       "1          10028   4.316206              I   4.318182  0.001976\n",
       "2          10043   3.550000              C   4.450000  0.900000\n",
       "3          10043   3.295455              I   4.136364  0.840909\n",
       "4          10060   4.246493              C   4.250000  0.003507"
      ]
     },
     "execution_count": 20,
     "metadata": {},
     "output_type": "execute_result"
    }
   ],
   "source": [
    "join_data.drop(['EMP_ID','INDEX_TYPE_OLD'],axis=1,inplace=True)\n",
    "join_data.head()"
   ]
  },
  {
   "cell_type": "code",
   "execution_count": 21,
   "metadata": {
    "collapsed": false
   },
   "outputs": [
    {
     "data": {
      "text/html": [
       "<div>\n",
       "<table border=\"1\" class=\"dataframe\">\n",
       "  <thead>\n",
       "    <tr style=\"text-align: right;\">\n",
       "      <th></th>\n",
       "      <th>MANAGER_EMP_ID</th>\n",
       "      <th>VALUE_OLD</th>\n",
       "      <th>INDEX_TYPE_NEW</th>\n",
       "      <th>VALUE_NEW</th>\n",
       "      <th>DIFF</th>\n",
       "    </tr>\n",
       "  </thead>\n",
       "  <tbody>\n",
       "    <tr>\n",
       "      <th>399</th>\n",
       "      <td>20530</td>\n",
       "      <td>3.543933</td>\n",
       "      <td>C</td>\n",
       "      <td>4.800000</td>\n",
       "      <td>1.256067</td>\n",
       "    </tr>\n",
       "    <tr>\n",
       "      <th>400</th>\n",
       "      <td>20530</td>\n",
       "      <td>3.604563</td>\n",
       "      <td>I</td>\n",
       "      <td>4.636364</td>\n",
       "      <td>1.031801</td>\n",
       "    </tr>\n",
       "    <tr>\n",
       "      <th>657</th>\n",
       "      <td>2772</td>\n",
       "      <td>3.782828</td>\n",
       "      <td>C</td>\n",
       "      <td>0.000000</td>\n",
       "      <td>-3.782828</td>\n",
       "    </tr>\n",
       "    <tr>\n",
       "      <th>658</th>\n",
       "      <td>2772</td>\n",
       "      <td>3.802752</td>\n",
       "      <td>I</td>\n",
       "      <td>0.000000</td>\n",
       "      <td>-3.802752</td>\n",
       "    </tr>\n",
       "    <tr>\n",
       "      <th>670</th>\n",
       "      <td>2967</td>\n",
       "      <td>4.267409</td>\n",
       "      <td>C</td>\n",
       "      <td>0.000000</td>\n",
       "      <td>-4.267409</td>\n",
       "    </tr>\n",
       "    <tr>\n",
       "      <th>671</th>\n",
       "      <td>2967</td>\n",
       "      <td>4.197468</td>\n",
       "      <td>I</td>\n",
       "      <td>0.000000</td>\n",
       "      <td>-4.197468</td>\n",
       "    </tr>\n",
       "  </tbody>\n",
       "</table>\n",
       "</div>"
      ],
      "text/plain": [
       "    MANAGER_EMP_ID  VALUE_OLD INDEX_TYPE_NEW  VALUE_NEW      DIFF\n",
       "399          20530   3.543933              C   4.800000  1.256067\n",
       "400          20530   3.604563              I   4.636364  1.031801\n",
       "657           2772   3.782828              C   0.000000 -3.782828\n",
       "658           2772   3.802752              I   0.000000 -3.802752\n",
       "670           2967   4.267409              C   0.000000 -4.267409\n",
       "671           2967   4.197468              I   0.000000 -4.197468"
      ]
     },
     "execution_count": 21,
     "metadata": {},
     "output_type": "execute_result"
    }
   ],
   "source": [
    "join_data[join_data.MANAGER_EMP_ID.isin(['2772','20530','2967','26580'])]"
   ]
  },
  {
   "cell_type": "code",
   "execution_count": 22,
   "metadata": {
    "collapsed": false
   },
   "outputs": [],
   "source": [
    "#join_data.to_excel(\"F:\\GMR_MANAGER_COMPARE_REPORT.xlsx\",sheet_name=\"comparision\")"
   ]
  },
  {
   "cell_type": "code",
   "execution_count": 23,
   "metadata": {
    "collapsed": false
   },
   "outputs": [
    {
     "data": {
      "text/html": [
       "<div>\n",
       "<table border=\"1\" class=\"dataframe\">\n",
       "  <thead>\n",
       "    <tr style=\"text-align: right;\">\n",
       "      <th></th>\n",
       "      <th>MANAGER_EMP_ID</th>\n",
       "      <th>Survey_Type</th>\n",
       "      <th>Avg_Score</th>\n",
       "    </tr>\n",
       "  </thead>\n",
       "  <tbody>\n",
       "    <tr>\n",
       "      <th>0</th>\n",
       "      <td>1</td>\n",
       "      <td>C</td>\n",
       "      <td>4.118326</td>\n",
       "    </tr>\n",
       "    <tr>\n",
       "      <th>1</th>\n",
       "      <td>1</td>\n",
       "      <td>I</td>\n",
       "      <td>3.976470</td>\n",
       "    </tr>\n",
       "    <tr>\n",
       "      <th>2</th>\n",
       "      <td>10028</td>\n",
       "      <td>C</td>\n",
       "      <td>4.519651</td>\n",
       "    </tr>\n",
       "    <tr>\n",
       "      <th>3</th>\n",
       "      <td>10028</td>\n",
       "      <td>I</td>\n",
       "      <td>4.316206</td>\n",
       "    </tr>\n",
       "    <tr>\n",
       "      <th>4</th>\n",
       "      <td>10043</td>\n",
       "      <td>C</td>\n",
       "      <td>3.550000</td>\n",
       "    </tr>\n",
       "  </tbody>\n",
       "</table>\n",
       "</div>"
      ],
      "text/plain": [
       "  MANAGER_EMP_ID Survey_Type  Avg_Score\n",
       "0              1           C   4.118326\n",
       "1              1           I   3.976470\n",
       "2          10028           C   4.519651\n",
       "3          10028           I   4.316206\n",
       "4          10043           C   3.550000"
      ]
     },
     "execution_count": 23,
     "metadata": {},
     "output_type": "execute_result"
    }
   ],
   "source": [
    "sql_emp = \"\"\"SELECT survey_manager.MANAGER_EMP_ID,\n",
    "       survey_v1_report_index.INDEX_TYPE AS 'Survey_Type',\n",
    "       AVG(`survey_v1_option`.OPT_VALUE) AS 'Avg_Score'\n",
    "  FROM engage_v1.survey_v1_user_response_store\n",
    "       JOIN survey_v1_user_servey_def\n",
    "          ON survey_v1_user_servey_def.USD_ID =\n",
    "                survey_v1_user_response_store.USER_SURVEY_DEF_ID\n",
    "       JOIN survey_v1_question\n",
    "          ON survey_v1_question.QUESTION_ID =\n",
    "                survey_v1_user_response_store.QUESTION_ID\n",
    "       JOIN survey_v1_option\n",
    "          ON survey_v1_option.OPT_ID =\n",
    "                survey_v1_user_response_store.OPTION_ID\n",
    "       JOIN survey_v1_report_index_question_mapper\n",
    "          ON survey_v1_report_index_question_mapper.QUESTION_ID =\n",
    "                survey_v1_question.QUESTION_ID\n",
    "       JOIN survey_v1_report_index\n",
    "          ON survey_v1_report_index.REPORT_INDEX_ID =\n",
    "                survey_v1_report_index_question_mapper.REPORT_INDEX_ID\n",
    "       JOIN survey_v1_defination\n",
    "          ON survey_v1_defination.SD_ID =\n",
    "                survey_v1_user_servey_def.SURVEY_DEF_ID\n",
    "       JOIN manager_survey_user_def_mapping\n",
    "          ON manager_survey_user_def_mapping.SUSD_ID =\n",
    "                survey_v1_user_servey_def.USD_ID\n",
    "       JOIN survey_manager\n",
    "          ON survey_manager.MANAGER_ID =\n",
    "                manager_survey_user_def_mapping.MANAGER_ID\n",
    " WHERE     survey_v1_option.OPT_VALUE IS NOT NULL\n",
    "       AND survey_v1_question.QUESTION_TYPE = 'QUESTION_SCALE'\n",
    "       AND survey_v1_defination.SD_ID = 12\n",
    "       AND survey_v1_user_servey_def.USD_ID IN (SELECT survey_v1_user_servey_def.USD_ID\n",
    "                                                  FROM engage_v1.survey_manager AS in_manager\n",
    "                                                       JOIN\n",
    "                                                       manager_survey_user_def_mapping\n",
    "                                                          ON manager_survey_user_def_mapping.MANAGER_ID =\n",
    "                                                                in_manager.MANAGER_ID\n",
    "                                                       JOIN\n",
    "                                                       survey_v1_user_servey_def\n",
    "                                                          ON survey_v1_user_servey_def.USD_ID =\n",
    "                                                                manager_survey_user_def_mapping.SUSD_ID\n",
    "                                                 WHERE in_manager.MANAGER_EMP_ID =\n",
    "                                                          survey_manager.MANAGER_EMP_ID)\n",
    "GROUP BY survey_manager.MANAGER_EMP_ID, survey_v1_report_index.INDEX_TYPE;\"\"\"\n",
    "emp_data = pd.read_sql_query(sql=sql_emp,con=database)\n",
    "emp_data.head()"
   ]
  },
  {
   "cell_type": "code",
   "execution_count": 24,
   "metadata": {
    "collapsed": false
   },
   "outputs": [
    {
     "data": {
      "text/html": [
       "<div>\n",
       "<table border=\"1\" class=\"dataframe\">\n",
       "  <thead>\n",
       "    <tr style=\"text-align: right;\">\n",
       "      <th></th>\n",
       "      <th>MANAGER_EMP_ID</th>\n",
       "      <th>Survey_Type</th>\n",
       "      <th>Avg_Score</th>\n",
       "    </tr>\n",
       "  </thead>\n",
       "  <tbody>\n",
       "    <tr>\n",
       "      <th>844</th>\n",
       "      <td>26580</td>\n",
       "      <td>C</td>\n",
       "      <td>4.163106</td>\n",
       "    </tr>\n",
       "    <tr>\n",
       "      <th>845</th>\n",
       "      <td>26580</td>\n",
       "      <td>I</td>\n",
       "      <td>4.023252</td>\n",
       "    </tr>\n",
       "  </tbody>\n",
       "</table>\n",
       "</div>"
      ],
      "text/plain": [
       "    MANAGER_EMP_ID Survey_Type  Avg_Score\n",
       "844          26580           C   4.163106\n",
       "845          26580           I   4.023252"
      ]
     },
     "execution_count": 24,
     "metadata": {},
     "output_type": "execute_result"
    }
   ],
   "source": [
    "emp_data[emp_data.MANAGER_EMP_ID.isin(['26580'])]"
   ]
  },
  {
   "cell_type": "code",
   "execution_count": 25,
   "metadata": {
    "collapsed": false
   },
   "outputs": [],
   "source": [
    "join_emp_data = pd.merge(join_data,emp_data,left_on=[\"MANAGER_EMP_ID\",\"INDEX_TYPE_NEW\"],right_on=[\"MANAGER_EMP_ID\",\"Survey_Type\"])"
   ]
  },
  {
   "cell_type": "code",
   "execution_count": 26,
   "metadata": {
    "collapsed": false
   },
   "outputs": [
    {
     "data": {
      "text/html": [
       "<div>\n",
       "<table border=\"1\" class=\"dataframe\">\n",
       "  <thead>\n",
       "    <tr style=\"text-align: right;\">\n",
       "      <th></th>\n",
       "      <th>MANAGER_EMP_ID</th>\n",
       "      <th>VALUE_OLD</th>\n",
       "      <th>INDEX_TYPE_NEW</th>\n",
       "      <th>VALUE_NEW</th>\n",
       "      <th>DIFF</th>\n",
       "      <th>Survey_Type</th>\n",
       "      <th>Avg_Score</th>\n",
       "    </tr>\n",
       "  </thead>\n",
       "  <tbody>\n",
       "    <tr>\n",
       "      <th>0</th>\n",
       "      <td>10028</td>\n",
       "      <td>4.519651</td>\n",
       "      <td>C</td>\n",
       "      <td>4.400000</td>\n",
       "      <td>-0.119651</td>\n",
       "      <td>C</td>\n",
       "      <td>4.519651</td>\n",
       "    </tr>\n",
       "    <tr>\n",
       "      <th>1</th>\n",
       "      <td>10028</td>\n",
       "      <td>4.316206</td>\n",
       "      <td>I</td>\n",
       "      <td>4.318182</td>\n",
       "      <td>0.001976</td>\n",
       "      <td>I</td>\n",
       "      <td>4.316206</td>\n",
       "    </tr>\n",
       "    <tr>\n",
       "      <th>2</th>\n",
       "      <td>10043</td>\n",
       "      <td>3.550000</td>\n",
       "      <td>C</td>\n",
       "      <td>4.450000</td>\n",
       "      <td>0.900000</td>\n",
       "      <td>C</td>\n",
       "      <td>3.550000</td>\n",
       "    </tr>\n",
       "    <tr>\n",
       "      <th>3</th>\n",
       "      <td>10043</td>\n",
       "      <td>3.295455</td>\n",
       "      <td>I</td>\n",
       "      <td>4.136364</td>\n",
       "      <td>0.840909</td>\n",
       "      <td>I</td>\n",
       "      <td>3.295455</td>\n",
       "    </tr>\n",
       "    <tr>\n",
       "      <th>4</th>\n",
       "      <td>10060</td>\n",
       "      <td>4.246493</td>\n",
       "      <td>C</td>\n",
       "      <td>4.250000</td>\n",
       "      <td>0.003507</td>\n",
       "      <td>C</td>\n",
       "      <td>4.246493</td>\n",
       "    </tr>\n",
       "  </tbody>\n",
       "</table>\n",
       "</div>"
      ],
      "text/plain": [
       "  MANAGER_EMP_ID  VALUE_OLD INDEX_TYPE_NEW  VALUE_NEW      DIFF Survey_Type  \\\n",
       "0          10028   4.519651              C   4.400000 -0.119651           C   \n",
       "1          10028   4.316206              I   4.318182  0.001976           I   \n",
       "2          10043   3.550000              C   4.450000  0.900000           C   \n",
       "3          10043   3.295455              I   4.136364  0.840909           I   \n",
       "4          10060   4.246493              C   4.250000  0.003507           C   \n",
       "\n",
       "   Avg_Score  \n",
       "0   4.519651  \n",
       "1   4.316206  \n",
       "2   3.550000  \n",
       "3   3.295455  \n",
       "4   4.246493  "
      ]
     },
     "execution_count": 26,
     "metadata": {},
     "output_type": "execute_result"
    }
   ],
   "source": [
    "join_emp_data.head()"
   ]
  },
  {
   "cell_type": "code",
   "execution_count": 27,
   "metadata": {
    "collapsed": true
   },
   "outputs": [],
   "source": [
    "join_emp_data.drop(['DIFF'],axis=1,inplace=True)"
   ]
  },
  {
   "cell_type": "code",
   "execution_count": 28,
   "metadata": {
    "collapsed": false
   },
   "outputs": [
    {
     "data": {
      "text/html": [
       "<div>\n",
       "<table border=\"1\" class=\"dataframe\">\n",
       "  <thead>\n",
       "    <tr style=\"text-align: right;\">\n",
       "      <th></th>\n",
       "      <th>MANAGER_EMP_ID</th>\n",
       "      <th>VALUE_OLD</th>\n",
       "      <th>INDEX_TYPE_NEW</th>\n",
       "      <th>VALUE_NEW</th>\n",
       "      <th>Survey_Type</th>\n",
       "      <th>Avg_Score</th>\n",
       "    </tr>\n",
       "  </thead>\n",
       "  <tbody>\n",
       "    <tr>\n",
       "      <th>0</th>\n",
       "      <td>10028</td>\n",
       "      <td>4.519651</td>\n",
       "      <td>C</td>\n",
       "      <td>4.400000</td>\n",
       "      <td>C</td>\n",
       "      <td>4.519651</td>\n",
       "    </tr>\n",
       "    <tr>\n",
       "      <th>1</th>\n",
       "      <td>10028</td>\n",
       "      <td>4.316206</td>\n",
       "      <td>I</td>\n",
       "      <td>4.318182</td>\n",
       "      <td>I</td>\n",
       "      <td>4.316206</td>\n",
       "    </tr>\n",
       "    <tr>\n",
       "      <th>2</th>\n",
       "      <td>10043</td>\n",
       "      <td>3.550000</td>\n",
       "      <td>C</td>\n",
       "      <td>4.450000</td>\n",
       "      <td>C</td>\n",
       "      <td>3.550000</td>\n",
       "    </tr>\n",
       "    <tr>\n",
       "      <th>3</th>\n",
       "      <td>10043</td>\n",
       "      <td>3.295455</td>\n",
       "      <td>I</td>\n",
       "      <td>4.136364</td>\n",
       "      <td>I</td>\n",
       "      <td>3.295455</td>\n",
       "    </tr>\n",
       "    <tr>\n",
       "      <th>4</th>\n",
       "      <td>10060</td>\n",
       "      <td>4.246493</td>\n",
       "      <td>C</td>\n",
       "      <td>4.250000</td>\n",
       "      <td>C</td>\n",
       "      <td>4.246493</td>\n",
       "    </tr>\n",
       "  </tbody>\n",
       "</table>\n",
       "</div>"
      ],
      "text/plain": [
       "  MANAGER_EMP_ID  VALUE_OLD INDEX_TYPE_NEW  VALUE_NEW Survey_Type  Avg_Score\n",
       "0          10028   4.519651              C   4.400000           C   4.519651\n",
       "1          10028   4.316206              I   4.318182           I   4.316206\n",
       "2          10043   3.550000              C   4.450000           C   3.550000\n",
       "3          10043   3.295455              I   4.136364           I   3.295455\n",
       "4          10060   4.246493              C   4.250000           C   4.246493"
      ]
     },
     "execution_count": 28,
     "metadata": {},
     "output_type": "execute_result"
    }
   ],
   "source": [
    "join_emp_data.head()"
   ]
  },
  {
   "cell_type": "code",
   "execution_count": 29,
   "metadata": {
    "collapsed": false
   },
   "outputs": [
    {
     "data": {
      "text/html": [
       "<div>\n",
       "<table border=\"1\" class=\"dataframe\">\n",
       "  <thead>\n",
       "    <tr style=\"text-align: right;\">\n",
       "      <th></th>\n",
       "      <th>MANAGER_EMP_ID</th>\n",
       "      <th>VALUE_OLD</th>\n",
       "      <th>INDEX_TYPE_NEW</th>\n",
       "      <th>VALUE_NEW</th>\n",
       "      <th>Survey_Type</th>\n",
       "      <th>Avg_Score</th>\n",
       "      <th>OLD_DASH</th>\n",
       "      <th>NEW_DASH</th>\n",
       "    </tr>\n",
       "  </thead>\n",
       "  <tbody>\n",
       "    <tr>\n",
       "      <th>0</th>\n",
       "      <td>10028</td>\n",
       "      <td>4.519651</td>\n",
       "      <td>C</td>\n",
       "      <td>4.400000</td>\n",
       "      <td>C</td>\n",
       "      <td>4.519651</td>\n",
       "      <td>4.519651</td>\n",
       "      <td>4.459825</td>\n",
       "    </tr>\n",
       "    <tr>\n",
       "      <th>1</th>\n",
       "      <td>10028</td>\n",
       "      <td>4.316206</td>\n",
       "      <td>I</td>\n",
       "      <td>4.318182</td>\n",
       "      <td>I</td>\n",
       "      <td>4.316206</td>\n",
       "      <td>4.316206</td>\n",
       "      <td>4.317194</td>\n",
       "    </tr>\n",
       "    <tr>\n",
       "      <th>2</th>\n",
       "      <td>10043</td>\n",
       "      <td>3.550000</td>\n",
       "      <td>C</td>\n",
       "      <td>4.450000</td>\n",
       "      <td>C</td>\n",
       "      <td>3.550000</td>\n",
       "      <td>3.550000</td>\n",
       "      <td>4.000000</td>\n",
       "    </tr>\n",
       "    <tr>\n",
       "      <th>3</th>\n",
       "      <td>10043</td>\n",
       "      <td>3.295455</td>\n",
       "      <td>I</td>\n",
       "      <td>4.136364</td>\n",
       "      <td>I</td>\n",
       "      <td>3.295455</td>\n",
       "      <td>3.295455</td>\n",
       "      <td>3.715909</td>\n",
       "    </tr>\n",
       "    <tr>\n",
       "      <th>4</th>\n",
       "      <td>10060</td>\n",
       "      <td>4.246493</td>\n",
       "      <td>C</td>\n",
       "      <td>4.250000</td>\n",
       "      <td>C</td>\n",
       "      <td>4.246493</td>\n",
       "      <td>4.246493</td>\n",
       "      <td>4.248246</td>\n",
       "    </tr>\n",
       "  </tbody>\n",
       "</table>\n",
       "</div>"
      ],
      "text/plain": [
       "  MANAGER_EMP_ID  VALUE_OLD INDEX_TYPE_NEW  VALUE_NEW Survey_Type  Avg_Score  \\\n",
       "0          10028   4.519651              C   4.400000           C   4.519651   \n",
       "1          10028   4.316206              I   4.318182           I   4.316206   \n",
       "2          10043   3.550000              C   4.450000           C   3.550000   \n",
       "3          10043   3.295455              I   4.136364           I   3.295455   \n",
       "4          10060   4.246493              C   4.250000           C   4.246493   \n",
       "\n",
       "   OLD_DASH  NEW_DASH  \n",
       "0  4.519651  4.459825  \n",
       "1  4.316206  4.317194  \n",
       "2  3.550000  4.000000  \n",
       "3  3.295455  3.715909  \n",
       "4  4.246493  4.248246  "
      ]
     },
     "execution_count": 29,
     "metadata": {},
     "output_type": "execute_result"
    }
   ],
   "source": [
    "join_emp_data[\"OLD_DASH\"]=(join_emp_data.VALUE_OLD+join_emp_data.Avg_Score)/2\n",
    "join_emp_data[\"NEW_DASH\"]=(join_emp_data.VALUE_NEW+join_emp_data.Avg_Score)/2\n",
    "join_emp_data.head()"
   ]
  },
  {
   "cell_type": "code",
   "execution_count": 30,
   "metadata": {
    "collapsed": true
   },
   "outputs": [],
   "source": [
    "join_emp_data[\"DIFF\"]=join_emp_data.NEW_DASH-join_emp_data.OLD_DASH"
   ]
  },
  {
   "cell_type": "code",
   "execution_count": 31,
   "metadata": {
    "collapsed": false,
    "scrolled": true
   },
   "outputs": [
    {
     "data": {
      "text/html": [
       "<div>\n",
       "<table border=\"1\" class=\"dataframe\">\n",
       "  <thead>\n",
       "    <tr style=\"text-align: right;\">\n",
       "      <th></th>\n",
       "      <th>MANAGER_EMP_ID</th>\n",
       "      <th>VALUE_OLD</th>\n",
       "      <th>VALUE_NEW</th>\n",
       "      <th>Survey_Type</th>\n",
       "      <th>Avg_Score</th>\n",
       "      <th>OLD_DASH</th>\n",
       "      <th>NEW_DASH</th>\n",
       "      <th>DIFF</th>\n",
       "    </tr>\n",
       "  </thead>\n",
       "  <tbody>\n",
       "    <tr>\n",
       "      <th>0</th>\n",
       "      <td>10028</td>\n",
       "      <td>4.519651</td>\n",
       "      <td>4.400000</td>\n",
       "      <td>C</td>\n",
       "      <td>4.519651</td>\n",
       "      <td>4.519651</td>\n",
       "      <td>4.459825</td>\n",
       "      <td>-0.059825</td>\n",
       "    </tr>\n",
       "    <tr>\n",
       "      <th>1</th>\n",
       "      <td>10028</td>\n",
       "      <td>4.316206</td>\n",
       "      <td>4.318182</td>\n",
       "      <td>I</td>\n",
       "      <td>4.316206</td>\n",
       "      <td>4.316206</td>\n",
       "      <td>4.317194</td>\n",
       "      <td>0.000988</td>\n",
       "    </tr>\n",
       "    <tr>\n",
       "      <th>2</th>\n",
       "      <td>10043</td>\n",
       "      <td>3.550000</td>\n",
       "      <td>4.450000</td>\n",
       "      <td>C</td>\n",
       "      <td>3.550000</td>\n",
       "      <td>3.550000</td>\n",
       "      <td>4.000000</td>\n",
       "      <td>0.450000</td>\n",
       "    </tr>\n",
       "    <tr>\n",
       "      <th>3</th>\n",
       "      <td>10043</td>\n",
       "      <td>3.295455</td>\n",
       "      <td>4.136364</td>\n",
       "      <td>I</td>\n",
       "      <td>3.295455</td>\n",
       "      <td>3.295455</td>\n",
       "      <td>3.715909</td>\n",
       "      <td>0.420455</td>\n",
       "    </tr>\n",
       "    <tr>\n",
       "      <th>4</th>\n",
       "      <td>10060</td>\n",
       "      <td>4.246493</td>\n",
       "      <td>4.250000</td>\n",
       "      <td>C</td>\n",
       "      <td>4.246493</td>\n",
       "      <td>4.246493</td>\n",
       "      <td>4.248246</td>\n",
       "      <td>0.001754</td>\n",
       "    </tr>\n",
       "  </tbody>\n",
       "</table>\n",
       "</div>"
      ],
      "text/plain": [
       "  MANAGER_EMP_ID  VALUE_OLD  VALUE_NEW Survey_Type  Avg_Score  OLD_DASH  \\\n",
       "0          10028   4.519651   4.400000           C   4.519651  4.519651   \n",
       "1          10028   4.316206   4.318182           I   4.316206  4.316206   \n",
       "2          10043   3.550000   4.450000           C   3.550000  3.550000   \n",
       "3          10043   3.295455   4.136364           I   3.295455  3.295455   \n",
       "4          10060   4.246493   4.250000           C   4.246493  4.246493   \n",
       "\n",
       "   NEW_DASH      DIFF  \n",
       "0  4.459825 -0.059825  \n",
       "1  4.317194  0.000988  \n",
       "2  4.000000  0.450000  \n",
       "3  3.715909  0.420455  \n",
       "4  4.248246  0.001754  "
      ]
     },
     "execution_count": 31,
     "metadata": {},
     "output_type": "execute_result"
    }
   ],
   "source": [
    "join_emp_data.drop(['INDEX_TYPE_NEW'],axis=1,inplace=True)\n",
    "join_emp_data.head()"
   ]
  },
  {
   "cell_type": "code",
   "execution_count": 32,
   "metadata": {
    "collapsed": false
   },
   "outputs": [],
   "source": [
    "#join_emp_data.to_excel(\"F:\\GMR_MANAGER_COMPARE_REPORT.xlsx\",sheet_name=\"comparision\")"
   ]
  },
  {
   "cell_type": "code",
   "execution_count": 33,
   "metadata": {
    "collapsed": false
   },
   "outputs": [
    {
     "data": {
      "text/html": [
       "<div>\n",
       "<table border=\"1\" class=\"dataframe\">\n",
       "  <thead>\n",
       "    <tr style=\"text-align: right;\">\n",
       "      <th></th>\n",
       "      <th>MANAGER_EMP_ID</th>\n",
       "      <th>VALUE_OLD</th>\n",
       "      <th>VALUE_NEW</th>\n",
       "      <th>Survey_Type</th>\n",
       "      <th>Avg_Score</th>\n",
       "      <th>OLD_DASH</th>\n",
       "      <th>NEW_DASH</th>\n",
       "      <th>DIFF</th>\n",
       "    </tr>\n",
       "  </thead>\n",
       "  <tbody>\n",
       "    <tr>\n",
       "      <th>670</th>\n",
       "      <td>2967</td>\n",
       "      <td>4.267409</td>\n",
       "      <td>0.000000</td>\n",
       "      <td>C</td>\n",
       "      <td>4.267409</td>\n",
       "      <td>4.267409</td>\n",
       "      <td>2.133705</td>\n",
       "      <td>-2.133705</td>\n",
       "    </tr>\n",
       "    <tr>\n",
       "      <th>671</th>\n",
       "      <td>2967</td>\n",
       "      <td>4.197468</td>\n",
       "      <td>0.000000</td>\n",
       "      <td>I</td>\n",
       "      <td>4.197468</td>\n",
       "      <td>4.197468</td>\n",
       "      <td>2.098734</td>\n",
       "      <td>-2.098734</td>\n",
       "    </tr>\n",
       "    <tr>\n",
       "      <th>658</th>\n",
       "      <td>2772</td>\n",
       "      <td>3.802752</td>\n",
       "      <td>0.000000</td>\n",
       "      <td>I</td>\n",
       "      <td>3.802752</td>\n",
       "      <td>3.802752</td>\n",
       "      <td>1.901376</td>\n",
       "      <td>-1.901376</td>\n",
       "    </tr>\n",
       "    <tr>\n",
       "      <th>657</th>\n",
       "      <td>2772</td>\n",
       "      <td>3.782828</td>\n",
       "      <td>0.000000</td>\n",
       "      <td>C</td>\n",
       "      <td>3.782828</td>\n",
       "      <td>3.782828</td>\n",
       "      <td>1.891414</td>\n",
       "      <td>-1.891414</td>\n",
       "    </tr>\n",
       "    <tr>\n",
       "      <th>1015</th>\n",
       "      <td>7209</td>\n",
       "      <td>4.500000</td>\n",
       "      <td>1.611111</td>\n",
       "      <td>C</td>\n",
       "      <td>4.500000</td>\n",
       "      <td>4.500000</td>\n",
       "      <td>3.055556</td>\n",
       "      <td>-1.444444</td>\n",
       "    </tr>\n",
       "  </tbody>\n",
       "</table>\n",
       "</div>"
      ],
      "text/plain": [
       "     MANAGER_EMP_ID  VALUE_OLD  VALUE_NEW Survey_Type  Avg_Score  OLD_DASH  \\\n",
       "670            2967   4.267409   0.000000           C   4.267409  4.267409   \n",
       "671            2967   4.197468   0.000000           I   4.197468  4.197468   \n",
       "658            2772   3.802752   0.000000           I   3.802752  3.802752   \n",
       "657            2772   3.782828   0.000000           C   3.782828  3.782828   \n",
       "1015           7209   4.500000   1.611111           C   4.500000  4.500000   \n",
       "\n",
       "      NEW_DASH      DIFF  \n",
       "670   2.133705 -2.133705  \n",
       "671   2.098734 -2.098734  \n",
       "658   1.901376 -1.901376  \n",
       "657   1.891414 -1.891414  \n",
       "1015  3.055556 -1.444444  "
      ]
     },
     "execution_count": 33,
     "metadata": {},
     "output_type": "execute_result"
    }
   ],
   "source": [
    "join_emp_data.sort_values(\"DIFF\").head()"
   ]
  },
  {
   "cell_type": "code",
   "execution_count": 34,
   "metadata": {
    "collapsed": false
   },
   "outputs": [
    {
     "data": {
      "text/plain": [
       "count    1140.000000\n",
       "mean        0.043238\n",
       "std         0.315114\n",
       "min        -2.133705\n",
       "25%        -0.125000\n",
       "50%         0.043290\n",
       "75%         0.247328\n",
       "max         1.059091\n",
       "Name: DIFF, dtype: float64"
      ]
     },
     "execution_count": 34,
     "metadata": {},
     "output_type": "execute_result"
    }
   ],
   "source": [
    "join_emp_data.DIFF.describe()"
   ]
  },
  {
   "cell_type": "code",
   "execution_count": 35,
   "metadata": {
    "collapsed": false
   },
   "outputs": [
    {
     "data": {
      "text/plain": [
       "dtype('O')"
      ]
     },
     "execution_count": 35,
     "metadata": {},
     "output_type": "execute_result"
    }
   ],
   "source": [
    "join_emp_data.MANAGER_EMP_ID.dtype"
   ]
  },
  {
   "cell_type": "code",
   "execution_count": 36,
   "metadata": {
    "collapsed": false
   },
   "outputs": [
    {
     "data": {
      "text/html": [
       "<div>\n",
       "<table border=\"1\" class=\"dataframe\">\n",
       "  <thead>\n",
       "    <tr style=\"text-align: right;\">\n",
       "      <th></th>\n",
       "      <th>MANAGER_EMP_ID</th>\n",
       "      <th>VALUE_OLD</th>\n",
       "      <th>VALUE_NEW</th>\n",
       "      <th>Survey_Type</th>\n",
       "      <th>Avg_Score</th>\n",
       "      <th>OLD_DASH</th>\n",
       "      <th>NEW_DASH</th>\n",
       "      <th>DIFF</th>\n",
       "    </tr>\n",
       "  </thead>\n",
       "  <tbody>\n",
       "    <tr>\n",
       "      <th>28</th>\n",
       "      <td>1036</td>\n",
       "      <td>4.184071</td>\n",
       "      <td>4.600000</td>\n",
       "      <td>C</td>\n",
       "      <td>4.184071</td>\n",
       "      <td>4.184071</td>\n",
       "      <td>4.392035</td>\n",
       "      <td>0.207965</td>\n",
       "    </tr>\n",
       "    <tr>\n",
       "      <th>29</th>\n",
       "      <td>1036</td>\n",
       "      <td>4.040078</td>\n",
       "      <td>4.227273</td>\n",
       "      <td>I</td>\n",
       "      <td>4.040078</td>\n",
       "      <td>4.040078</td>\n",
       "      <td>4.133675</td>\n",
       "      <td>0.093597</td>\n",
       "    </tr>\n",
       "    <tr>\n",
       "      <th>399</th>\n",
       "      <td>20530</td>\n",
       "      <td>3.543933</td>\n",
       "      <td>4.800000</td>\n",
       "      <td>C</td>\n",
       "      <td>3.543933</td>\n",
       "      <td>3.543933</td>\n",
       "      <td>4.171967</td>\n",
       "      <td>0.628033</td>\n",
       "    </tr>\n",
       "    <tr>\n",
       "      <th>400</th>\n",
       "      <td>20530</td>\n",
       "      <td>3.604563</td>\n",
       "      <td>4.636364</td>\n",
       "      <td>I</td>\n",
       "      <td>3.604563</td>\n",
       "      <td>3.604563</td>\n",
       "      <td>4.120463</td>\n",
       "      <td>0.515900</td>\n",
       "    </tr>\n",
       "    <tr>\n",
       "      <th>657</th>\n",
       "      <td>2772</td>\n",
       "      <td>3.782828</td>\n",
       "      <td>0.000000</td>\n",
       "      <td>C</td>\n",
       "      <td>3.782828</td>\n",
       "      <td>3.782828</td>\n",
       "      <td>1.891414</td>\n",
       "      <td>-1.891414</td>\n",
       "    </tr>\n",
       "    <tr>\n",
       "      <th>658</th>\n",
       "      <td>2772</td>\n",
       "      <td>3.802752</td>\n",
       "      <td>0.000000</td>\n",
       "      <td>I</td>\n",
       "      <td>3.802752</td>\n",
       "      <td>3.802752</td>\n",
       "      <td>1.901376</td>\n",
       "      <td>-1.901376</td>\n",
       "    </tr>\n",
       "    <tr>\n",
       "      <th>670</th>\n",
       "      <td>2967</td>\n",
       "      <td>4.267409</td>\n",
       "      <td>0.000000</td>\n",
       "      <td>C</td>\n",
       "      <td>4.267409</td>\n",
       "      <td>4.267409</td>\n",
       "      <td>2.133705</td>\n",
       "      <td>-2.133705</td>\n",
       "    </tr>\n",
       "    <tr>\n",
       "      <th>671</th>\n",
       "      <td>2967</td>\n",
       "      <td>4.197468</td>\n",
       "      <td>0.000000</td>\n",
       "      <td>I</td>\n",
       "      <td>4.197468</td>\n",
       "      <td>4.197468</td>\n",
       "      <td>2.098734</td>\n",
       "      <td>-2.098734</td>\n",
       "    </tr>\n",
       "  </tbody>\n",
       "</table>\n",
       "</div>"
      ],
      "text/plain": [
       "    MANAGER_EMP_ID  VALUE_OLD  VALUE_NEW Survey_Type  Avg_Score  OLD_DASH  \\\n",
       "28            1036   4.184071   4.600000           C   4.184071  4.184071   \n",
       "29            1036   4.040078   4.227273           I   4.040078  4.040078   \n",
       "399          20530   3.543933   4.800000           C   3.543933  3.543933   \n",
       "400          20530   3.604563   4.636364           I   3.604563  3.604563   \n",
       "657           2772   3.782828   0.000000           C   3.782828  3.782828   \n",
       "658           2772   3.802752   0.000000           I   3.802752  3.802752   \n",
       "670           2967   4.267409   0.000000           C   4.267409  4.267409   \n",
       "671           2967   4.197468   0.000000           I   4.197468  4.197468   \n",
       "\n",
       "     NEW_DASH      DIFF  \n",
       "28   4.392035  0.207965  \n",
       "29   4.133675  0.093597  \n",
       "399  4.171967  0.628033  \n",
       "400  4.120463  0.515900  \n",
       "657  1.891414 -1.891414  \n",
       "658  1.901376 -1.901376  \n",
       "670  2.133705 -2.133705  \n",
       "671  2.098734 -2.098734  "
      ]
     },
     "execution_count": 36,
     "metadata": {},
     "output_type": "execute_result"
    }
   ],
   "source": [
    "join_emp_data[join_emp_data.MANAGER_EMP_ID.isin(['2772','20530','2967','26580','1036'])]"
   ]
  },
  {
   "cell_type": "code",
   "execution_count": 37,
   "metadata": {
    "collapsed": true
   },
   "outputs": [],
   "source": [
    "old_req = pd.read_excel(\"C:\\Users\\BNSPL-2\\Documents\\Received Files\\manager dashboard.xlsx\",sheetname=\"Sheet1\")"
   ]
  },
  {
   "cell_type": "code",
   "execution_count": 38,
   "metadata": {
    "collapsed": false
   },
   "outputs": [],
   "source": [
    "old_req = old_req[old_req[\"Unnamed: 4\"]=='n'].MANAGER_EMP_ID.values"
   ]
  },
  {
   "cell_type": "code",
   "execution_count": 39,
   "metadata": {
    "collapsed": false
   },
   "outputs": [],
   "source": [
    "old_req=old_req.astype(str)"
   ]
  },
  {
   "cell_type": "code",
   "execution_count": 47,
   "metadata": {
    "collapsed": false
   },
   "outputs": [
    {
     "data": {
      "text/plain": [
       "(31,)"
      ]
     },
     "execution_count": 47,
     "metadata": {},
     "output_type": "execute_result"
    }
   ],
   "source": [
    "old_req.shape"
   ]
  },
  {
   "cell_type": "code",
   "execution_count": 50,
   "metadata": {
    "collapsed": false
   },
   "outputs": [
    {
     "data": {
      "text/plain": [
       "26"
      ]
     },
     "execution_count": 50,
     "metadata": {},
     "output_type": "execute_result"
    }
   ],
   "source": [
    "adjust_old_req = [item for item in old_req if item not in [\"17733\",\"19809\",\"2212\",\"2862\",\"7746\"]]\n",
    "len(adjust_old_req)"
   ]
  },
  {
   "cell_type": "code",
   "execution_count": 63,
   "metadata": {
    "collapsed": false
   },
   "outputs": [
    {
     "name": "stdout",
     "output_type": "stream",
     "text": [
      "((52, 8), (1405, 3), (1088, 8))\n"
     ]
    }
   ],
   "source": [
    "new_gmr_data=join_emp_data[join_emp_data.MANAGER_EMP_ID.isin(adjust_old_req)]\n",
    "old_gmr_data1=join_emp_data[~join_emp_data.MANAGER_EMP_ID.isin(adjust_old_req)]\n",
    "old_gmr_data=emp_data[~emp_data.MANAGER_EMP_ID.isin(adjust_old_req)]\n",
    "print(new_gmr_data.shape,old_gmr_data.shape,old_gmr_data1.shape)"
   ]
  },
  {
   "cell_type": "code",
   "execution_count": 64,
   "metadata": {
    "collapsed": false
   },
   "outputs": [
    {
     "data": {
      "text/html": [
       "<div>\n",
       "<table border=\"1\" class=\"dataframe\">\n",
       "  <thead>\n",
       "    <tr style=\"text-align: right;\">\n",
       "      <th></th>\n",
       "      <th>MANAGER_EMP_ID</th>\n",
       "      <th>Survey_Type</th>\n",
       "      <th>Avg_Score</th>\n",
       "    </tr>\n",
       "  </thead>\n",
       "  <tbody>\n",
       "    <tr>\n",
       "      <th>0</th>\n",
       "      <td>1</td>\n",
       "      <td>C</td>\n",
       "      <td>4.118326</td>\n",
       "    </tr>\n",
       "    <tr>\n",
       "      <th>1</th>\n",
       "      <td>1</td>\n",
       "      <td>I</td>\n",
       "      <td>3.976470</td>\n",
       "    </tr>\n",
       "  </tbody>\n",
       "</table>\n",
       "</div>"
      ],
      "text/plain": [
       "  MANAGER_EMP_ID Survey_Type  Avg_Score\n",
       "0              1           C   4.118326\n",
       "1              1           I   3.976470"
      ]
     },
     "execution_count": 64,
     "metadata": {},
     "output_type": "execute_result"
    }
   ],
   "source": [
    "old_gmr_data.head(2)"
   ]
  },
  {
   "cell_type": "code",
   "execution_count": 65,
   "metadata": {
    "collapsed": false
   },
   "outputs": [
    {
     "data": {
      "text/html": [
       "<div>\n",
       "<table border=\"1\" class=\"dataframe\">\n",
       "  <thead>\n",
       "    <tr style=\"text-align: right;\">\n",
       "      <th></th>\n",
       "      <th>MANAGER_EMP_ID</th>\n",
       "      <th>VALUE_OLD</th>\n",
       "      <th>VALUE_NEW</th>\n",
       "      <th>Survey_Type</th>\n",
       "      <th>Avg_Score</th>\n",
       "      <th>OLD_DASH</th>\n",
       "      <th>NEW_DASH</th>\n",
       "      <th>DIFF</th>\n",
       "    </tr>\n",
       "  </thead>\n",
       "  <tbody>\n",
       "    <tr>\n",
       "      <th>8</th>\n",
       "      <td>10067</td>\n",
       "      <td>3.719818</td>\n",
       "      <td>4.250000</td>\n",
       "      <td>C</td>\n",
       "      <td>3.719818</td>\n",
       "      <td>3.719818</td>\n",
       "      <td>3.984909</td>\n",
       "      <td>0.265091</td>\n",
       "    </tr>\n",
       "    <tr>\n",
       "      <th>9</th>\n",
       "      <td>10067</td>\n",
       "      <td>3.747863</td>\n",
       "      <td>4.136364</td>\n",
       "      <td>I</td>\n",
       "      <td>3.747863</td>\n",
       "      <td>3.747863</td>\n",
       "      <td>3.942113</td>\n",
       "      <td>0.194250</td>\n",
       "    </tr>\n",
       "  </tbody>\n",
       "</table>\n",
       "</div>"
      ],
      "text/plain": [
       "  MANAGER_EMP_ID  VALUE_OLD  VALUE_NEW Survey_Type  Avg_Score  OLD_DASH  \\\n",
       "8          10067   3.719818   4.250000           C   3.719818  3.719818   \n",
       "9          10067   3.747863   4.136364           I   3.747863  3.747863   \n",
       "\n",
       "   NEW_DASH      DIFF  \n",
       "8  3.984909  0.265091  \n",
       "9  3.942113  0.194250  "
      ]
     },
     "execution_count": 65,
     "metadata": {},
     "output_type": "execute_result"
    }
   ],
   "source": [
    "new_gmr_data.head(2)"
   ]
  },
  {
   "cell_type": "code",
   "execution_count": 66,
   "metadata": {
    "collapsed": false,
    "scrolled": true
   },
   "outputs": [
    {
     "name": "stderr",
     "output_type": "stream",
     "text": [
      "c:\\python27\\lib\\site-packages\\ipykernel\\__main__.py:2: SettingWithCopyWarning: \n",
      "A value is trying to be set on a copy of a slice from a DataFrame\n",
      "\n",
      "See the caveats in the documentation: http://pandas.pydata.org/pandas-docs/stable/indexing.html#indexing-view-versus-copy\n",
      "  from ipykernel import kernelapp as app\n"
     ]
    }
   ],
   "source": [
    "#old_gmr_data.drop([\"VALUE_OLD\",\"VALUE_NEW\",\"Avg_Score\",\"DIFF\"],axis=1,inplace=True)\n",
    "new_gmr_data.drop([\"VALUE_OLD\",\"VALUE_NEW\",\"Avg_Score\",\"DIFF\"],axis=1,inplace=True)"
   ]
  },
  {
   "cell_type": "code",
   "execution_count": 67,
   "metadata": {
    "collapsed": false
   },
   "outputs": [
    {
     "data": {
      "text/html": [
       "<div>\n",
       "<table border=\"1\" class=\"dataframe\">\n",
       "  <thead>\n",
       "    <tr style=\"text-align: right;\">\n",
       "      <th></th>\n",
       "      <th>MANAGER_EMP_ID</th>\n",
       "      <th>Survey_Type</th>\n",
       "      <th>Avg_Score</th>\n",
       "    </tr>\n",
       "  </thead>\n",
       "  <tbody>\n",
       "    <tr>\n",
       "      <th>844</th>\n",
       "      <td>26580</td>\n",
       "      <td>C</td>\n",
       "      <td>4.163106</td>\n",
       "    </tr>\n",
       "    <tr>\n",
       "      <th>845</th>\n",
       "      <td>26580</td>\n",
       "      <td>I</td>\n",
       "      <td>4.023252</td>\n",
       "    </tr>\n",
       "  </tbody>\n",
       "</table>\n",
       "</div>"
      ],
      "text/plain": [
       "    MANAGER_EMP_ID Survey_Type  Avg_Score\n",
       "844          26580           C   4.163106\n",
       "845          26580           I   4.023252"
      ]
     },
     "execution_count": 67,
     "metadata": {},
     "output_type": "execute_result"
    }
   ],
   "source": [
    "old_gmr_data[old_gmr_data.MANAGER_EMP_ID=='26580']"
   ]
  },
  {
   "cell_type": "code",
   "execution_count": 68,
   "metadata": {
    "collapsed": false
   },
   "outputs": [
    {
     "name": "stdout",
     "output_type": "stream",
     "text": [
      "(dtype('float64'), dtype('float64'))\n",
      "((1405,), (52,))\n"
     ]
    }
   ],
   "source": [
    "print(old_gmr_data.Avg_Score.dtype,new_gmr_data.OLD_DASH.dtype)\n",
    "print(old_gmr_data.Avg_Score.shape,new_gmr_data.OLD_DASH.shape)"
   ]
  },
  {
   "cell_type": "code",
   "execution_count": 69,
   "metadata": {
    "collapsed": false
   },
   "outputs": [
    {
     "name": "stdout",
     "output_type": "stream",
     "text": [
      "26\n"
     ]
    }
   ],
   "source": [
    "jsonMap = {}\n",
    "\n",
    "for row in new_gmr_data.itertuples():\n",
    "        if(jsonMap.get(row[1])!=None):\n",
    "            data = jsonMap.get(row[1])\n",
    "            data.update({row[2]:round(row[3],2)})\n",
    "        else:\n",
    "            jsonMap.update({row[1]:{row[2]:round(row[4],2)}})\n",
    "\n",
    "\n",
    "print(len(jsonMap.keys()))"
   ]
  },
  {
   "cell_type": "code",
   "execution_count": 70,
   "metadata": {
    "collapsed": false
   },
   "outputs": [
    {
     "name": "stdout",
     "output_type": "stream",
     "text": [
      "729\n"
     ]
    }
   ],
   "source": [
    "for row in old_gmr_data.itertuples():\n",
    "        if(jsonMap.get(row[1])!=None):\n",
    "            data = jsonMap.get(row[1])\n",
    "            data.update({row[2]:round(row[3],2)})\n",
    "        else:\n",
    "            jsonMap.update({row[1]:{row[2]:round(row[3],2)}})\n",
    "\n",
    "            \n",
    "print(len(jsonMap.keys()))"
   ]
  },
  {
   "cell_type": "code",
   "execution_count": 71,
   "metadata": {
    "collapsed": false
   },
   "outputs": [
    {
     "data": {
      "text/plain": [
       "'{\"3922\": {\"I\": 4.27, \"C\": 4.32}, \"3926\": {\"I\": 4.13, \"C\": 4.19}, \"3927\": {\"I\": 4.2, \"C\": 4.39}, \"18558\": {\"I\": 4.0, \"C\": 4.23}, \"18559\": {\"I\": 4.31, \"C\": 4.31}, \"23367\": {\"I\": 3.91, \"C\": 4.14}, \"10105\": {\"I\": 4.04, \"C\": 4.17}, \"8090\": {\"I\": 4.39, \"C\": 4.62}, \"8884\": {\"I\": 3.89, \"C\": 4.0}, \"10102\": {\"I\": 4.0, \"C\": 4.0}, \"3552\": {\"I\": 4.3, \"C\": 4.54}, \"5826\": {\"I\": 3.64, \"C\": 3.8}, \"3256\": {\"I\": 3.77, \"C\": 4.01}, \"1945\": {\"I\": 4.19, \"C\": 4.25}, \"24710\": {\"I\": 3.56, \"C\": 3.65}, \"24717\": {\"I\": 3.5, \"C\": 3.9}, \"19408\": {\"I\": 2.77, \"C\": 3.05}, \"19155\": {\"I\": 3.9, \"C\": 4.13}, \"22184\": {\"I\": 3.83, \"C\": 4.08}, \"2858\": {\"I\": 3.8, \"C\": 3.87}, \"14352\": {\"I\": 4.0, \"C\": 4.0}, \"19376\": {\"I\": 3.98, \"C\": 4.15}, \"1793\": {\"I\": 4.0, \"C\": 4.05}, \"1790\": {\"I\": 3.72, \"C\": 3.9}, \"6758\": {\"I\": 3.09, \"C\": 3.35}, \"9477\": {\"I\": 3.91, \"C\": 3.9}, \"24308\": {\"I\": 4.0, \"C\": 3.95}, \"15759\": {\"I\": 3.9, \"C\": 4.1}, \"11538\": {\"I\": 3.55, \"C\": 3.65}, \"22163\": {\"I\": 3.82, \"C\": 4.2}, \"22160\": {\"I\": 3.6, \"C\": 3.75}, \"5468\": {\"I\": 4.34, \"C\": 4.35}, \"15757\": {\"I\": 3.82, \"C\": 4.07}, \"24306\": {\"I\": 4.1, \"C\": 4.29}, \"14216\": {\"I\": 3.86, \"C\": 3.94}, \"1069\": {\"I\": 3.91, \"C\": 3.79}, \"1394\": {\"I\": 4.39, \"C\": 4.28}, \"4736\": {\"I\": 4.27, \"C\": 4.35}, \"10193\": {\"I\": 3.93, \"C\": 4.19}, \"4734\": {\"I\": 3.91, \"C\": 4.13}, \"5303\": {\"I\": 4.07, \"C\": 4.39}, \"21169\": {\"I\": 2.79, \"C\": 3.03}, \"6650\": {\"I\": 3.82, \"C\": 4.0}, \"25749\": {\"I\": 3.82, \"C\": 4.0}, \"3771\": {\"I\": 3.89, \"C\": 3.99}, \"2289\": {\"I\": 3.76, \"C\": 3.57}, \"11537\": {\"I\": 3.85, \"C\": 4.05}, \"1088\": {\"I\": 4.13, \"C\": 4.23}, \"25448\": {\"I\": 3.91, \"C\": 4.21}, \"14452\": {\"I\": 3.66, \"C\": 3.83}, \"3676\": {\"I\": 4.04, \"C\": 3.98}, \"3386\": {\"I\": 4.66, \"C\": 4.8}, \"22487\": {\"I\": 3.94, \"C\": 3.83}, \"11689\": {\"I\": 4.23, \"C\": 4.45}, \"20210\": {\"I\": 3.6, \"C\": 3.66}, \"21995\": {\"I\": 3.69, \"C\": 3.8}, \"10090\": {\"I\": 3.78, \"C\": 3.68}, \"26092\": {\"I\": 3.73, \"C\": 3.87}, \"20219\": {\"I\": 4.16, \"C\": 4.07}, \"11443\": {\"I\": 4.18, \"C\": 4.35}, \"26397\": {\"I\": 3.98, \"C\": 4.11}, \"1018\": {\"I\": 4.29, \"C\": 4.18}, \"19571\": {\"I\": 3.61, \"C\": 4.03}, \"1403\": {\"I\": 3.94, \"C\": 4.24}, \"1402\": {\"I\": 3.58, \"C\": 3.85}, \"4780\": {\"I\": 4.02, \"C\": 4.04}, \"1406\": {\"I\": 3.98, \"C\": 4.19}, \"1405\": {\"I\": 3.83, \"C\": 3.92}, \"2768\": {\"I\": 4.41, \"C\": 4.9}, \"12590\": {\"I\": 3.94, \"C\": 4.26}, \"3586\": {\"I\": 4.01, \"C\": 4.04}, \"24396\": {\"I\": 4.05, \"C\": 4.23}, \"2284\": {\"I\": 3.9, \"C\": 3.95}, \"20624\": {\"I\": 4.0, \"C\": 4.14}, \"2765\": {\"I\": 4.02, \"C\": 4.3}, \"5672\": {\"I\": 3.92, \"C\": 4.01}, \"9421\": {\"I\": 3.09, \"C\": 3.15}, \"5677\": {\"I\": 4.32, \"C\": 4.64}, \"4354\": {\"I\": 3.96, \"C\": 4.06}, \"5679\": {\"I\": 4.04, \"C\": 4.21}, \"21616\": {\"I\": 3.71, \"C\": 3.93}, \"21206\": {\"I\": 4.15, \"C\": 4.48}, \"21613\": {\"I\": 4.07, \"C\": 3.99}, \"19809\": {\"I\": 4.07, \"C\": 4.23}, \"17733\": {\"I\": 4.13, \"C\": 4.33}, \"11001\": {\"I\": 5.0, \"C\": 5.0}, \"11004\": {\"I\": 3.77, \"C\": 3.98}, \"4422\": {\"I\": 3.76, \"C\": 4.08}, \"24259\": {\"I\": 4.09, \"C\": 3.7}, \"11616\": {\"I\": 3.36, \"C\": 3.7}, \"21926\": {\"I\": 4.27, \"C\": 4.45}, \"21924\": {\"I\": 3.86, \"C\": 4.03}, \"1533\": {\"I\": 4.15, \"C\": 4.25}, \"3097\": {\"I\": 4.06, \"C\": 4.13}, \"24281\": {\"I\": 3.92, \"C\": 4.06}, \"4950\": {\"I\": 3.5, \"C\": 2.8}, \"3099\": {\"I\": 3.79, \"C\": 3.9}, \"2161\": {\"I\": 4.28, \"C\": 4.35}, \"4957\": {\"I\": 4.06, \"C\": 4.18}, \"24287\": {\"I\": 3.18, \"C\": 3.2}, \"1538\": {\"I\": 3.89, \"C\": 4.09}, \"2735\": {\"I\": 3.86, \"C\": 4.55}, \"8450\": {\"I\": 4.27, \"C\": 4.17}, \"8462\": {\"I\": 4.73, \"C\": 4.05}, \"10385\": {\"I\": 4.45, \"C\": 4.8}, \"10383\": {\"I\": 3.36, \"C\": 3.65}, \"10028\": {\"I\": 4.32, \"C\": 4.52}, \"23716\": {\"I\": 3.97, \"C\": 3.63}, \"23717\": {\"I\": 3.88, \"C\": 3.92}, \"23246\": {\"I\": 3.98, \"C\": 4.05}, \"1549\": {\"I\": 2.73, \"C\": 2.9}, \"23712\": {\"I\": 3.36, \"C\": 3.15}, \"23710\": {\"I\": 3.95, \"C\": 3.9}, \"3293\": {\"I\": 3.64, \"C\": 3.8}, \"13206\": {\"I\": 3.86, \"C\": 4.02}, \"8197\": {\"I\": 3.96, \"C\": 4.15}, \"12563\": {\"I\": 3.95, \"C\": 4.15}, \"18704\": {\"I\": 4.12, \"C\": 4.32}, \"24692\": {\"I\": 4.18, \"C\": 4.43}, \"23392\": {\"I\": 3.76, \"C\": 3.65}, \"2635\": {\"I\": 4.32, \"C\": 4.57}, \"3104\": {\"I\": 3.92, \"C\": 3.9}, \"9311\": {\"I\": 3.17, \"C\": 3.68}, \"6\": {\"I\": 4.05, \"C\": 4.17}, \"3893\": {\"I\": 4.0, \"C\": 4.13}, \"3894\": {\"I\": 4.18, \"C\": 4.39}, \"5292\": {\"I\": 3.91, \"C\": 3.8}, \"6805\": {\"I\": 3.82, \"C\": 4.0}, \"19337\": {\"I\": 4.07, \"C\": 4.06}, \"22283\": {\"I\": 4.09, \"C\": 4.4}, \"26327\": {\"I\": 3.86, \"C\": 4.05}, \"20415\": {\"I\": 3.77, \"C\": 3.98}, \"7003\": {\"I\": 4.0, \"C\": 4.45}, \"21255\": {\"I\": 3.98, \"C\": 3.79}, \"1993\": {\"I\": 3.76, \"C\": 4.14}, \"1992\": {\"I\": 4.02, \"C\": 4.28}, \"1995\": {\"I\": 4.09, \"C\": 4.14}, \"3202\": {\"I\": 3.27, \"C\": 2.95}, \"1996\": {\"I\": 3.16, \"C\": 3.02}, \"4076\": {\"I\": 3.59, \"C\": 3.65}, \"4071\": {\"I\": 4.27, \"C\": 4.03}, \"24011\": {\"I\": 3.73, \"C\": 3.4}, \"21498\": {\"I\": 4.29, \"C\": 4.43}, \"3969\": {\"I\": 4.25, \"C\": 4.5}, \"2862\": {\"I\": 4.34, \"C\": 4.48}, \"2865\": {\"I\": 4.05, \"C\": 4.25}, \"3639\": {\"I\": 4.2, \"C\": 4.2}, \"17347\": {\"I\": 3.97, \"C\": 4.13}, \"25159\": {\"I\": 3.95, \"C\": 4.1}, \"1717\": {\"I\": 4.11, \"C\": 3.91}, \"23607\": {\"I\": 4.3, \"C\": 4.36}, \"3069\": {\"I\": 3.64, \"C\": 3.98}, \"2943\": {\"I\": 3.89, \"C\": 4.25}, \"24236\": {\"I\": 4.05, \"C\": 4.24}, \"4616\": {\"I\": 3.42, \"C\": 3.55}, \"1198\": {\"I\": 3.95, \"C\": 4.1}, \"2347\": {\"I\": 3.79, \"C\": 4.16}, \"11403\": {\"I\": 4.0, \"C\": 4.25}, \"2340\": {\"I\": 3.84, \"C\": 4.04}, \"12756\": {\"I\": 4.0, \"C\": 4.0}, \"20253\": {\"I\": 3.82, \"C\": 3.77}, \"15211\": {\"I\": 4.0, \"C\": 4.1}, \"2223\": {\"I\": 3.95, \"C\": 3.45}, \"3344\": {\"I\": 4.59, \"C\": 4.75}, \"5051\": {\"I\": 4.12, \"C\": 4.26}, \"14394\": {\"I\": 3.95, \"C\": 4.16}, \"25716\": {\"I\": 3.34, \"C\": 3.35}, \"1692\": {\"I\": 3.93, \"C\": 4.13}, \"2941\": {\"I\": 4.36, \"C\": 4.3}, \"25713\": {\"I\": 2.73, \"C\": 3.05}, \"19238\": {\"I\": 4.16, \"C\": 4.4}, \"1752\": {\"I\": 3.89, \"C\": 3.98}, \"6970\": {\"I\": 4.34, \"C\": 4.78}, \"12889\": {\"I\": 3.0, \"C\": 3.05}, \"4504\": {\"I\": 4.03, \"C\": 4.22}, \"13476\": {\"I\": 3.82, \"C\": 4.0}, \"25473\": {\"I\": 4.05, \"C\": 4.35}, \"24523\": {\"I\": 4.06, \"C\": 4.18}, \"1887\": {\"I\": 4.15, \"C\": 4.53}, \"7821\": {\"I\": 3.77, \"C\": 4.05}, \"4465\": {\"I\": 4.13, \"C\": 4.29}, \"4508\": {\"I\": 3.49, \"C\": 4.05}, \"7825\": {\"I\": 3.84, \"C\": 4.2}, \"26718\": {\"I\": 3.75, \"C\": 3.93}, \"21129\": {\"I\": 3.2, \"C\": 3.58}, \"4919\": {\"I\": 4.11, \"C\": 4.4}, \"2129\": {\"I\": 3.92, \"C\": 4.09}, \"4912\": {\"I\": 3.76, \"C\": 4.08}, \"26069\": {\"I\": 3.56, \"C\": 3.78}, \"7189\": {\"I\": 4.04, \"C\": 4.13}, \"8872\": {\"I\": 3.82, \"C\": 4.05}, \"1475\": {\"I\": 4.59, \"C\": 4.9}, \"1573\": {\"I\": 4.14, \"C\": 4.17}, \"10060\": {\"I\": 4.07, \"C\": 4.25}, \"10066\": {\"I\": 4.14, \"C\": 4.1}, \"5176\": {\"I\": 3.95, \"C\": 3.81}, \"5175\": {\"I\": 3.74, \"C\": 3.86}, \"5174\": {\"I\": 3.77, \"C\": 3.77}, \"9367\": {\"I\": 3.98, \"C\": 4.2}, \"10068\": {\"I\": 3.86, \"C\": 3.4}, \"20174\": {\"I\": 3.63, \"C\": 3.75}, \"2657\": {\"I\": 4.03, \"C\": 4.25}, \"9360\": {\"I\": 4.09, \"C\": 4.03}, \"7957\": {\"I\": 3.52, \"C\": 3.77}, \"23594\": {\"I\": 3.86, \"C\": 4.0}, \"8017\": {\"I\": 4.19, \"C\": 4.42}, \"10342\": {\"I\": 3.95, \"C\": 3.56}, \"1\": {\"I\": 3.98, \"C\": 4.12}, \"5584\": {\"I\": 4.15, \"C\": 4.3}, \"24415\": {\"I\": 3.93, \"C\": 4.32}, \"24416\": {\"I\": 3.59, \"C\": 3.72}, \"25695\": {\"I\": 3.52, \"C\": 4.0}, \"3796\": {\"I\": 4.14, \"C\": 4.4}, \"3793\": {\"I\": 4.16, \"C\": 4.3}, \"1371\": {\"I\": 3.18, \"C\": 3.95}, \"1375\": {\"I\": 3.95, \"C\": 4.17}, \"7758\": {\"I\": 3.89, \"C\": 4.24}, \"7755\": {\"I\": 4.36, \"C\": 4.46}, \"4988\": {\"I\": 3.79, \"C\": 3.73}, \"8498\": {\"I\": 3.8, \"C\": 4.03}, \"7751\": {\"I\": 4.5, \"C\": 4.4}, \"7750\": {\"I\": 3.11, \"C\": 3.26}, \"22479\": {\"I\": 3.73, \"C\": 4.05}, \"18567\": {\"I\": 4.05, \"C\": 3.9}, \"22475\": {\"I\": 3.5, \"C\": 4.25}, \"9247\": {\"I\": 3.94, \"C\": 4.15}, \"6372\": {\"I\": 3.67, \"C\": 3.65}, \"10652\": {\"I\": 4.82, \"C\": 4.75}, \"1958\": {\"I\": 4.0, \"C\": 4.11}, \"23372\": {\"I\": 4.06, \"C\": 4.15}, \"20516\": {\"I\": 3.7, \"C\": 3.81}, \"24666\": {\"I\": 4.16, \"C\": 4.05}, \"3248\": {\"I\": 4.05, \"C\": 4.22}, \"12805\": {\"I\": 3.61, \"C\": 4.05}, \"24660\": {\"I\": 3.86, \"C\": 4.1}, \"19383\": {\"I\": 4.0, \"C\": 3.97}, \"26563\": {\"I\": 4.14, \"C\": 4.25}, \"24467\": {\"I\": 3.73, \"C\": 3.65}, \"19415\": {\"I\": 4.16, \"C\": 4.31}, \"19417\": {\"I\": 3.86, \"C\": 3.99}, \"19367\": {\"I\": 4.14, \"C\": 4.45}, \"25729\": {\"I\": 3.45, \"C\": 4.2}, \"12908\": {\"I\": 3.63, \"C\": 3.79}, \"14208\": {\"I\": 4.11, \"C\": 4.33}, \"22157\": {\"I\": 4.59, \"C\": 4.83}, \"3304\": {\"I\": 4.32, \"C\": 4.45}, \"19099\": {\"I\": 4.59, \"C\": 4.73}, \"6782\": {\"I\": 3.86, \"C\": 4.05}, \"20058\": {\"I\": 3.9, \"C\": 3.77}, \"1719\": {\"I\": 3.55, \"C\": 3.84}, \"20057\": {\"I\": 3.75, \"C\": 3.32}, \"4720\": {\"I\": 3.83, \"C\": 4.36}, \"7\": {\"I\": 3.92, \"C\": 4.03}, \"8808\": {\"I\": 3.94, \"C\": 4.51}, \"13633\": {\"I\": 3.89, \"C\": 4.16}, \"25535\": {\"I\": 3.78, \"C\": 3.72}, \"2282\": {\"I\": 4.76, \"C\": 4.95}, \"3669\": {\"I\": 3.86, \"C\": 4.13}, \"2285\": {\"I\": 4.3, \"C\": 4.22}, \"2287\": {\"I\": 4.15, \"C\": 4.3}, \"18343\": {\"I\": 4.18, \"C\": 3.98}, \"4622\": {\"I\": 3.95, \"C\": 3.75}, \"15138\": {\"I\": 3.86, \"C\": 4.16}, \"14333\": {\"I\": 4.14, \"C\": 4.25}, \"25431\": {\"I\": 3.77, \"C\": 4.22}, \"14449\": {\"I\": 3.27, \"C\": 3.38}, \"4542\": {\"I\": 3.68, \"C\": 3.8}, \"15135\": {\"I\": 3.77, \"C\": 3.95}, \"25436\": {\"I\": 3.79, \"C\": 4.06}, \"2275\": {\"I\": 4.24, \"C\": 4.38}, \"20221\": {\"I\": 4.37, \"C\": 4.38}, \"3395\": {\"I\": 3.75, \"C\": 3.8}, \"1636\": {\"I\": 3.98, \"C\": 3.84}, \"12006\": {\"I\": 4.05, \"C\": 3.8}, \"10906\": {\"I\": 3.87, \"C\": 4.0}, \"11593\": {\"I\": 4.39, \"C\": 4.36}, \"23554\": {\"I\": 3.55, \"C\": 4.35}, \"3596\": {\"I\": 4.09, \"C\": 4.11}, \"21943\": {\"I\": 3.81, \"C\": 3.92}, \"20631\": {\"I\": 3.75, \"C\": 3.88}, \"23653\": {\"I\": 4.0, \"C\": 4.35}, \"4187\": {\"I\": 3.84, \"C\": 3.98}, \"23650\": {\"I\": 3.79, \"C\": 3.8}, \"4435\": {\"I\": 4.17, \"C\": 4.24}, \"1737\": {\"I\": 3.43, \"C\": 3.53}, \"15001\": {\"I\": 3.64, \"C\": 3.65}, \"4432\": {\"I\": 3.64, \"C\": 3.85}, \"5668\": {\"I\": 3.86, \"C\": 4.03}, \"4464\": {\"I\": 4.44, \"C\": 4.66}, \"4946\": {\"I\": 3.6, \"C\": 3.8}, \"24515\": {\"I\": 4.0, \"C\": 4.0}, \"3694\": {\"I\": 3.82, \"C\": 3.9}, \"4791\": {\"I\": 4.49, \"C\": 4.66}, \"21930\": {\"I\": 4.14, \"C\": 4.2}, \"24298\": {\"I\": 3.19, \"C\": 3.48}, \"24299\": {\"I\": 4.23, \"C\": 4.5}, \"21934\": {\"I\": 4.07, \"C\": 4.15}, \"6044\": {\"I\": 4.34, \"C\": 4.3}, \"6045\": {\"I\": 4.16, \"C\": 4.19}, \"24292\": {\"I\": 3.74, \"C\": 4.05}, \"10622\": {\"I\": 4.07, \"C\": 4.4}, \"23153\": {\"I\": 3.77, \"C\": 3.98}, \"23154\": {\"I\": 3.77, \"C\": 3.82}, \"23157\": {\"I\": 3.89, \"C\": 4.13}, \"24095\": {\"I\": 3.7, \"C\": 3.63}, \"24096\": {\"I\": 3.91, \"C\": 3.4}, \"2627\": {\"I\": 4.59, \"C\": 4.55}, \"9970\": {\"I\": 3.97, \"C\": 4.05}, \"1287\": {\"I\": 3.05, \"C\": 3.0}, \"20530\": {\"I\": 3.6, \"C\": 3.54}, \"3526\": {\"I\": 4.01, \"C\": 4.16}, \"6363\": {\"I\": 4.0, \"C\": 4.2}, \"3520\": {\"I\": 4.0, \"C\": 4.02}, \"23723\": {\"I\": 3.89, \"C\": 4.2}, \"23721\": {\"I\": 3.64, \"C\": 3.63}, \"5107\": {\"I\": 4.18, \"C\": 4.13}, \"19100\": {\"I\": 3.97, \"C\": 3.99}, \"3081\": {\"I\": 4.22, \"C\": 4.33}, \"12571\": {\"I\": 3.86, \"C\": 3.92}, \"10714\": {\"I\": 3.82, \"C\": 4.0}, \"7409\": {\"I\": 4.1, \"C\": 4.23}, \"4704\": {\"I\": 3.94, \"C\": 4.06}, \"7406\": {\"I\": 3.84, \"C\": 3.98}, \"2693\": {\"I\": 4.59, \"C\": 4.45}, \"4650\": {\"I\": 3.97, \"C\": 4.13}, \"3907\": {\"I\": 4.06, \"C\": 4.11}, \"3903\": {\"I\": 4.05, \"C\": 4.14}, \"2086\": {\"I\": 4.36, \"C\": 4.6}, \"15875\": {\"I\": 3.92, \"C\": 4.16}, \"3908\": {\"I\": 4.06, \"C\": 4.27}, \"2620\": {\"I\": 4.44, \"C\": 4.53}, \"5215\": {\"I\": 4.23, \"C\": 4.45}, \"4765\": {\"I\": 4.45, \"C\": 4.28}, \"11489\": {\"I\": 3.68, \"C\": 4.05}, \"9750\": {\"I\": 3.8, \"C\": 3.81}, \"20548\": {\"I\": 3.71, \"C\": 4.02}, \"23423\": {\"I\": 3.5, \"C\": 3.9}, \"24068\": {\"I\": 4.08, \"C\": 4.26}, \"24140\": {\"I\": 4.0, \"C\": 4.0}, \"3238\": {\"I\": 3.64, \"C\": 4.45}, \"13712\": {\"I\": 4.12, \"C\": 4.21}, \"13716\": {\"I\": 4.77, \"C\": 4.4}, \"19421\": {\"I\": 3.95, \"C\": 4.13}, \"8840\": {\"I\": 4.82, \"C\": 5.0}, \"3988\": {\"I\": 3.8, \"C\": 4.38}, \"12073\": {\"I\": 2.41, \"C\": 2.42}, \"9882\": {\"I\": 4.27, \"C\": 4.42}, \"26793\": {\"I\": 3.77, \"C\": 3.75}, \"26792\": {\"I\": 3.7, \"C\": 3.8}, \"3621\": {\"I\": 4.01, \"C\": 4.18}, \"15173\": {\"I\": 3.85, \"C\": 4.01}, \"18711\": {\"I\": 3.78, \"C\": 3.96}, \"20267\": {\"I\": 3.65, \"C\": 3.9}, \"22060\": {\"I\": 4.2, \"C\": 4.22}, \"6868\": {\"I\": 3.91, \"C\": 4.0}, \"2271\": {\"I\": 4.01, \"C\": 4.07}, \"8775\": {\"I\": 3.81, \"C\": 4.38}, \"8918\": {\"I\": 4.12, \"C\": 4.0}, \"1043\": {\"I\": 3.95, \"C\": 3.96}, \"22597\": {\"I\": 3.92, \"C\": 4.43}, \"2339\": {\"I\": 3.79, \"C\": 3.88}, \"26099\": {\"I\": 3.23, \"C\": 3.55}, \"2235\": {\"I\": 3.64, \"C\": 3.51}, \"19908\": {\"I\": 3.74, \"C\": 3.91}, \"5444\": {\"I\": 3.95, \"C\": 4.1}, \"25489\": {\"I\": 3.85, \"C\": 3.93}, \"1683\": {\"I\": 3.84, \"C\": 3.9}, \"6961\": {\"I\": 4.13, \"C\": 4.34}, \"1269\": {\"I\": 4.07, \"C\": 4.33}, \"21646\": {\"I\": 3.57, \"C\": 3.79}, \"23375\": {\"I\": 4.24, \"C\": 4.31}, \"14346\": {\"I\": 3.93, \"C\": 4.3}, \"21649\": {\"I\": 3.73, \"C\": 4.3}, \"14345\": {\"I\": 3.72, \"C\": 3.92}, \"1264\": {\"I\": 4.24, \"C\": 4.5}, \"21081\": {\"I\": 3.67, \"C\": 3.83}, \"2097\": {\"I\": 4.07, \"C\": 4.24}, \"8882\": {\"I\": 3.95, \"C\": 4.2}, \"3079\": {\"I\": 4.18, \"C\": 4.65}, \"4470\": {\"I\": 3.73, \"C\": 4.15}, \"3650\": {\"I\": 3.82, \"C\": 4.2}, \"24994\": {\"I\": 3.63, \"C\": 3.8}, \"10067\": {\"I\": 3.75, \"C\": 3.98}, \"1547\": {\"I\": 3.92, \"C\": 4.06}, \"6005\": {\"I\": 4.23, \"C\": 4.27}, \"6000\": {\"I\": 3.43, \"C\": 3.64}, \"13569\": {\"I\": 3.27, \"C\": 3.0}, \"13563\": {\"I\": 4.07, \"C\": 4.22}, \"4907\": {\"I\": 3.98, \"C\": 4.0}, \"4906\": {\"I\": 4.03, \"C\": 4.28}, \"11462\": {\"I\": 4.41, \"C\": 4.43}, \"8\": {\"I\": 3.85, \"C\": 4.04}, \"26174\": {\"I\": 3.98, \"C\": 4.0}, \"7195\": {\"I\": 4.0, \"C\": 4.27}, \"2467\": {\"I\": 4.43, \"C\": 4.47}, \"23602\": {\"I\": 4.36, \"C\": 4.4}, \"5146\": {\"I\": 3.78, \"C\": 3.9}, \"5147\": {\"I\": 3.86, \"C\": 4.1}, \"9377\": {\"I\": 3.36, \"C\": 3.54}, \"1014\": {\"I\": 4.09, \"C\": 4.12}, \"5754\": {\"I\": 4.24, \"C\": 4.38}, \"2\": {\"I\": 3.88, \"C\": 4.06}, \"8532\": {\"I\": 3.39, \"C\": 3.74}, \"4232\": {\"I\": 3.95, \"C\": 3.85}, \"15197\": {\"I\": 2.89, \"C\": 2.89}, \"15059\": {\"I\": 4.5, \"C\": 4.4}, \"15198\": {\"I\": 3.44, \"C\": 3.37}, \"15052\": {\"I\": 3.85, \"C\": 3.97}, \"5680\": {\"I\": 4.35, \"C\": 4.2}, \"10611\": {\"I\": 3.81, \"C\": 4.09}, \"23289\": {\"I\": 4.22, \"C\": 4.55}, \"23162\": {\"I\": 4.25, \"C\": 4.31}, \"6316\": {\"I\": 3.91, \"C\": 4.13}, \"23166\": {\"I\": 3.73, \"C\": 3.86}, \"1384\": {\"I\": 4.14, \"C\": 4.41}, \"2062\": {\"I\": 4.12, \"C\": 4.05}, \"4977\": {\"I\": 3.74, \"C\": 3.82}, \"19109\": {\"I\": 3.84, \"C\": 3.99}, \"22830\": {\"I\": 3.68, \"C\": 3.95}, \"23661\": {\"I\": 3.82, \"C\": 3.85}, \"26417\": {\"I\": 3.52, \"C\": 4.0}, \"26415\": {\"I\": 3.92, \"C\": 3.65}, \"8324\": {\"I\": 4.09, \"C\": 4.25}, \"6702\": {\"I\": 4.14, \"C\": 4.04}, \"23664\": {\"I\": 3.78, \"C\": 3.9}, \"13148\": {\"I\": 3.98, \"C\": 3.54}, \"24313\": {\"I\": 3.82, \"C\": 3.87}, \"7363\": {\"I\": 3.41, \"C\": 2.75}, \"8880\": {\"I\": 4.02, \"C\": 4.22}, \"8881\": {\"I\": 4.2, \"C\": 4.67}, \"7366\": {\"I\": 3.36, \"C\": 3.68}, \"12315\": {\"I\": 4.17, \"C\": 4.51}, \"8457\": {\"I\": 4.0, \"C\": 3.9}, \"20987\": {\"I\": 3.24, \"C\": 3.15}, \"22369\": {\"I\": 3.75, \"C\": 3.89}, \"12553\": {\"I\": 2.95, \"C\": 3.8}, \"6823\": {\"I\": 3.72, \"C\": 3.92}, \"14232\": {\"I\": 3.73, \"C\": 4.6}, \"15880\": {\"I\": 3.59, \"C\": 3.5}, \"6828\": {\"I\": 3.77, \"C\": 3.73}, \"10546\": {\"I\": 3.59, \"C\": 3.9}, \"23410\": {\"I\": 3.73, \"C\": 3.83}, \"6427\": {\"I\": 3.48, \"C\": 3.54}, \"3310\": {\"I\": 4.51, \"C\": 4.55}, \"3316\": {\"I\": 4.23, \"C\": 4.4}, \"13744\": {\"I\": 3.61, \"C\": 3.85}, \"13740\": {\"I\": 3.76, \"C\": 3.99}, \"2028\": {\"I\": 3.45, \"C\": 3.1}, \"8814\": {\"I\": 4.43, \"C\": 4.49}, \"18901\": {\"I\": 3.96, \"C\": 4.22}, \"23942\": {\"I\": 4.05, \"C\": 4.0}, \"20246\": {\"I\": 3.58, \"C\": 3.83}, \"8251\": {\"I\": 3.93, \"C\": 4.08}, \"18723\": {\"I\": 4.05, \"C\": 4.17}, \"21128\": {\"I\": 4.5, \"C\": 4.23}, \"8745\": {\"I\": 3.82, \"C\": 4.0}, \"3005\": {\"I\": 3.32, \"C\": 3.58}, \"3007\": {\"I\": 3.76, \"C\": 4.02}, \"25429\": {\"I\": 4.2, \"C\": 4.3}, \"19910\": {\"I\": 3.82, \"C\": 4.05}, \"16235\": {\"I\": 3.28, \"C\": 3.05}, \"24888\": {\"I\": 3.14, \"C\": 3.51}, \"17964\": {\"I\": 4.08, \"C\": 4.37}, \"1914\": {\"I\": 3.87, \"C\": 4.14}, \"3361\": {\"I\": 3.91, \"C\": 4.0}, \"3363\": {\"I\": 3.8, \"C\": 3.75}, \"1833\": {\"I\": 4.43, \"C\": 4.38}, \"10405\": {\"I\": 3.52, \"C\": 3.8}, \"9455\": {\"I\": 3.83, \"C\": 3.94}, \"1036\": {\"I\": 4.04, \"C\": 4.18}, \"1037\": {\"I\": 4.18, \"C\": 4.4}, \"5029\": {\"I\": 4.08, \"C\": 4.29}, \"1359\": {\"I\": 3.45, \"C\": 3.52}, \"1352\": {\"I\": 4.06, \"C\": 4.23}, \"1351\": {\"I\": 3.94, \"C\": 4.14}, \"1354\": {\"I\": 4.49, \"C\": 4.27}, \"6958\": {\"I\": 3.53, \"C\": 3.8}, \"6959\": {\"I\": 3.91, \"C\": 3.82}, \"4379\": {\"I\": 4.14, \"C\": 4.07}, \"3728\": {\"I\": 4.2, \"C\": 4.25}, \"16830\": {\"I\": 3.82, \"C\": 4.04}, \"5467\": {\"I\": 4.24, \"C\": 4.46}, \"21636\": {\"I\": 4.0, \"C\": 4.15}, \"4374\": {\"I\": 3.27, \"C\": 3.45}, \"16856\": {\"I\": 3.67, \"C\": 3.83}, \"3689\": {\"I\": 3.97, \"C\": 4.17}, \"6355\": {\"I\": 4.2, \"C\": 4.42}, \"12102\": {\"I\": 4.06, \"C\": 4.3}, \"4529\": {\"I\": 3.94, \"C\": 4.04}, \"6351\": {\"I\": 4.26, \"C\": 4.22}, \"7993\": {\"I\": 3.97, \"C\": 3.79}, \"7990\": {\"I\": 4.03, \"C\": 4.14}, \"6055\": {\"I\": 3.59, \"C\": 3.89}, \"1516\": {\"I\": 4.52, \"C\": 4.67}, \"5115\": {\"I\": 3.68, \"C\": 3.64}, \"5114\": {\"I\": 3.92}, \"2731\": {\"I\": 3.94, \"C\": 4.04}, \"2732\": {\"I\": 4.21, \"C\": 4.25}, \"4088\": {\"I\": 4.22, \"C\": 4.45}, \"19390\": {\"I\": 3.66, \"C\": 4.01}, \"5294\": {\"I\": 3.64, \"C\": 3.45}, \"2738\": {\"I\": 3.98, \"C\": 4.11}, \"3531\": {\"I\": 4.42, \"C\": 4.26}, \"3530\": {\"I\": 4.11, \"C\": 4.15}, \"3533\": {\"I\": 4.36, \"C\": 4.0}, \"12816\": {\"I\": 3.45, \"C\": 3.42}, \"3537\": {\"I\": 3.95, \"C\": 4.2}, \"9224\": {\"I\": 4.16, \"C\": 4.77}, \"13813\": {\"I\": 3.65, \"C\": 3.71}, \"7209\": {\"I\": 4.05, \"C\": 4.5}, \"50537\": {\"I\": 3.82, \"C\": 2.95}, \"7202\": {\"I\": 3.87, \"C\": 4.02}, \"2742\": {\"I\": 3.95, \"C\": 4.1}, \"9\": {\"I\": 3.95, \"C\": 4.07}, \"6073\": {\"I\": 4.08, \"C\": 4.39}, \"9758\": {\"I\": 3.73, \"C\": 4.0}, \"20381\": {\"I\": 3.91, \"C\": 4.25}, \"3910\": {\"I\": 4.0, \"C\": 4.02}, \"3918\": {\"I\": 4.15, \"C\": 4.31}, \"10509\": {\"I\": 4.43, \"C\": 4.5}, \"26347\": {\"I\": 3.94, \"C\": 3.9}, \"23453\": {\"I\": 4.03, \"C\": 4.46}, \"10635\": {\"I\": 3.92, \"C\": 4.1}, \"12607\": {\"I\": 4.77, \"C\": 4.27}, \"26580\": {\"I\": 4.02, \"C\": 4.16}, \"4956\": {\"I\": 5.0, \"C\": 5.0}, \"9554\": {\"I\": 4.08, \"C\": 4.21}, \"8912\": {\"I\": 3.73, \"C\": 4.25}, \"19433\": {\"I\": 4.31, \"C\": 4.4}, \"17648\": {\"I\": 3.73, \"C\": 4.15}, \"24722\": {\"I\": 4.0, \"C\": 4.1}, \"19437\": {\"I\": 4.32, \"C\": 3.95}, \"3984\": {\"I\": 3.82, \"C\": 4.05}, \"22195\": {\"I\": 4.2, \"C\": 4.43}, \"2162\": {\"I\": 4.12, \"C\": 4.14}, \"12921\": {\"I\": 3.68, \"C\": 3.94}, \"1789\": {\"I\": 4.09, \"C\": 4.29}, \"2967\": {\"I\": 4.2, \"C\": 4.27}, \"1967\": {\"I\": 4.19, \"C\": 4.26}, \"2963\": {\"I\": 4.55, \"C\": 4.8}, \"2844\": {\"I\": 3.87, \"C\": 3.74}, \"15163\": {\"I\": 3.7, \"C\": 3.84}, \"5476\": {\"I\": 3.88, \"C\": 4.19}, \"22174\": {\"I\": 4.41, \"C\": 4.43}, \"3322\": {\"I\": 4.33, \"C\": 4.51}, \"5475\": {\"I\": 4.16, \"C\": 4.35}, \"5473\": {\"I\": 4.59, \"C\": 4.9}, \"24318\": {\"I\": 3.88, \"C\": 4.11}, \"14267\": {\"I\": 2.75, \"C\": 2.38}, \"15762\": {\"I\": 4.91, \"C\": 4.95}, \"12071\": {\"I\": 3.93, \"C\": 4.15}, \"12070\": {\"I\": 3.62, \"C\": 4.0}, \"13636\": {\"I\": 3.86, \"C\": 4.14}, \"8927\": {\"I\": 3.9, \"C\": 4.09}, \"20074\": {\"I\": 3.7, \"C\": 3.9}, \"2320\": {\"I\": 4.41, \"C\": 4.58}, \"4702\": {\"I\": 4.05, \"C\": 4.11}, \"20371\": {\"I\": 3.77, \"C\": 3.96}, \"10189\": {\"I\": 4.08, \"C\": 3.96}, \"10889\": {\"I\": 3.0, \"C\": 3.6}, \"25771\": {\"I\": 4.0, \"C\": 3.85}, \"25779\": {\"I\": 3.45, \"C\": 3.6}, \"1670\": {\"I\": 4.02, \"C\": 4.13}, \"1673\": {\"I\": 4.48, \"C\": 4.49}, \"1094\": {\"I\": 3.86, \"C\": 4.05}, \"3762\": {\"I\": 3.93, \"C\": 3.9}, \"8470\": {\"I\": 3.99, \"C\": 4.17}, \"12537\": {\"I\": 3.18, \"C\": 3.3}, \"1156\": {\"I\": 3.61, \"C\": 4.03}, \"25452\": {\"I\": 4.17, \"C\": 4.37}, \"4560\": {\"I\": 3.64, \"C\": 4.25}, \"11176\": {\"I\": 3.9, \"C\": 4.08}, \"2499\": {\"I\": 4.95, \"C\": 5.0}, \"2389\": {\"I\": 4.29, \"C\": 4.28}, \"8877\": {\"I\": 3.98, \"C\": 4.19}, \"24386\": {\"I\": 3.75, \"C\": 3.83}, \"2491\": {\"I\": 3.84, \"C\": 4.01}, \"6391\": {\"I\": 4.81, \"C\": 5.0}, \"25428\": {\"I\": 4.02, \"C\": 3.92}, \"2996\": {\"I\": 3.68, \"C\": 3.73}, \"3006\": {\"I\": 4.19, \"C\": 4.11}, \"12783\": {\"I\": 4.0, \"C\": 4.2}, \"24857\": {\"I\": 3.07, \"C\": 3.27}, \"2778\": {\"I\": 3.89, \"C\": 4.04}, \"2476\": {\"I\": 3.09, \"C\": 3.45}, \"3282\": {\"I\": 3.98, \"C\": 4.32}, \"10070\": {\"I\": 4.39, \"C\": 4.11}, \"10329\": {\"I\": 3.74, \"C\": 4.08}, \"4891\": {\"I\": 3.9, \"C\": 4.37}, \"10043\": {\"I\": 3.3, \"C\": 3.55}, \"5154\": {\"I\": 4.24, \"C\": 4.27}, \"4895\": {\"I\": 3.91, \"C\": 4.15}, \"2478\": {\"I\": 4.77, \"C\": 4.95}, \"24083\": {\"I\": 3.45, \"C\": 2.9}, \"7877\": {\"I\": 3.07, \"C\": 3.52}, \"7975\": {\"I\": 4.67, \"C\": 4.76}, \"7879\": {\"I\": 3.73, \"C\": 4.0}, \"4204\": {\"I\": 3.85, \"C\": 4.05}, \"4800\": {\"I\": 3.97, \"C\": 4.06}, \"11035\": {\"I\": 4.14, \"C\": 4.5}, \"4804\": {\"I\": 4.19, \"C\": 4.36}, \"4808\": {\"I\": 3.92, \"C\": 3.91}, \"1851\": {\"I\": 4.41, \"C\": 4.55}, \"1857\": {\"I\": 3.89, \"C\": 3.81}, \"22176\": {\"I\": 4.12, \"C\": 4.18}, \"6066\": {\"I\": 4.18, \"C\": 4.2}, \"1399\": {\"I\": 4.02, \"C\": 4.15}, \"23175\": {\"I\": 3.87, \"C\": 4.12}, \"5130\": {\"I\": 4.24, \"C\": 4.25}, \"1528\": {\"I\": 4.01, \"C\": 4.37}, \"1392\": {\"I\": 3.94, \"C\": 4.16}, \"2075\": {\"I\": 3.99, \"C\": 4.19}, \"7734\": {\"I\": 3.93, \"C\": 4.28}, \"10133\": {\"I\": 4.0, \"C\": 4.32}, \"21013\": {\"I\": 4.01, \"C\": 4.17}, \"14125\": {\"I\": 4.39, \"C\": 4.41}, \"19554\": {\"I\": 3.86, \"C\": 3.8}, \"3261\": {\"I\": 4.02, \"C\": 4.23}, \"1935\": {\"I\": 4.08, \"C\": 4.21}, \"3266\": {\"I\": 3.86, \"C\": 3.98}, \"5125\": {\"I\": 2.86, \"C\": 3.2}, \"5121\": {\"I\": 3.96, \"C\": 4.06}, \"23703\": {\"I\": 3.7, \"C\": 3.9}, \"23702\": {\"I\": 3.7, \"C\": 3.99}, \"8954\": {\"I\": 3.73, \"C\": 4.4}, \"22983\": {\"I\": 3.5, \"C\": 3.4}, \"8897\": {\"I\": 3.64, \"C\": 3.95}, \"4908\": {\"I\": 3.82, \"C\": 4.05}, \"4968\": {\"I\": 4.25, \"C\": 4.42}, \"24769\": {\"I\": 4.2, \"C\": 4.63}, \"8977\": {\"I\": 3.81, \"C\": 4.03}, \"7429\": {\"I\": 4.09, \"C\": 4.17}, \"25709\": {\"I\": 3.64, \"C\": 3.88}, \"6837\": {\"I\": 4.09, \"C\": 4.4}, \"23670\": {\"I\": 3.73, \"C\": 3.35}, \"25701\": {\"I\": 3.64, \"C\": 4.2}, \"12557\": {\"I\": 4.2, \"C\": 4.41}, \"25707\": {\"I\": 4.01, \"C\": 4.24}, \"19613\": {\"I\": 3.73, \"C\": 3.95}, \"7152\": {\"I\": 4.36, \"C\": 4.95}, \"6127\": {\"I\": 3.68, \"C\": 4.09}, \"6163\": {\"I\": 4.59, \"C\": 4.25}, \"6164\": {\"I\": 3.68, \"C\": 3.9}, \"10558\": {\"I\": 3.77, \"C\": 3.55}, \"8792\": {\"I\": 3.36, \"C\": 4.0}, \"4060\": {\"I\": 4.1, \"C\": 4.32}, \"10851\": {\"I\": 3.97, \"C\": 4.09}, \"5231\": {\"I\": 4.36, \"C\": 4.6}, \"6762\": {\"I\": 3.89, \"C\": 3.97}, \"11500\": {\"I\": 3.59, \"C\": 3.78}, \"1736\": {\"I\": 3.97, \"C\": 4.13}, \"11810\": {\"I\": 3.93, \"C\": 3.92}, \"13121\": {\"I\": 3.93, \"C\": 3.85}, \"2772\": {\"I\": 3.8, \"C\": 3.78}, \"9209\": {\"I\": 3.82, \"C\": 4.0}, \"15151\": {\"I\": 3.98, \"C\": 3.97}, \"21139\": {\"I\": 3.94, \"C\": 4.19}, \"15156\": {\"I\": 3.81, \"C\": 3.92}, \"3608\": {\"I\": 4.09, \"C\": 4.21}, \"15096\": {\"I\": 3.74, \"C\": 3.99}, \"15097\": {\"I\": 3.56, \"C\": 4.22}, \"16228\": {\"I\": 3.17, \"C\": 3.55}, \"3428\": {\"I\": 4.11, \"C\": 4.15}, \"24229\": {\"I\": 3.87, \"C\": 3.9}, \"4607\": {\"I\": 3.91, \"C\": 3.95}, \"2956\": {\"I\": 3.81, \"C\": 3.79}, \"3174\": {\"I\": 3.86, \"C\": 4.27}, \"3177\": {\"I\": 4.07, \"C\": 4.13}, \"20249\": {\"I\": 3.65, \"C\": 3.92}, \"2212\": {\"I\": 4.01, \"C\": 4.15}, \"1023\": {\"I\": 3.77, \"C\": 3.83}, \"7875\": {\"I\": 3.79, \"C\": 3.91}, \"3377\": {\"I\": 4.41, \"C\": 4.53}, \"23928\": {\"I\": 3.77, \"C\": 3.35}, \"2362\": {\"I\": 5.0, \"C\": 5.0}, \"3323\": {\"I\": 3.64, \"C\": 3.61}, \"9505\": {\"I\": 3.91, \"C\": 3.55}, \"7555\": {\"I\": 3.36, \"C\": 3.2}, \"11432\": {\"I\": 4.01, \"C\": 4.21}, \"3930\": {\"I\": 4.52, \"C\": 4.43}, \"1741\": {\"I\": 4.21, \"C\": 4.1}, \"4366\": {\"I\": 3.82, \"C\": 3.25}, \"12899\": {\"I\": 4.14, \"C\": 4.37}, \"12898\": {\"I\": 4.06, \"C\": 4.16}, \"12894\": {\"I\": 3.61, \"C\": 3.83}, \"4243\": {\"I\": 4.1, \"C\": 4.29}, \"12893\": {\"I\": 3.5, \"C\": 3.63}, \"25563\": {\"I\": 3.68, \"C\": 4.05}, \"4451\": {\"I\": 4.23, \"C\": 4.47}, \"5523\": {\"I\": 4.11, \"C\": 4.28}, \"16824\": {\"I\": 3.83, \"C\": 4.03}, \"3968\": {\"I\": 4.5, \"C\": 4.2}, \"5640\": {\"I\": 3.64, \"C\": 3.75}, \"8274\": {\"I\": 3.92, \"C\": 4.1}, \"18041\": {\"I\": 3.75, \"C\": 3.73}, \"1893\": {\"I\": 3.95, \"C\": 4.05}, \"7255\": {\"I\": 3.86, \"C\": 3.7}, \"6345\": {\"I\": 4.15, \"C\": 4.43}, \"14416\": {\"I\": 3.75, \"C\": 4.17}, \"2130\": {\"I\": 3.95, \"C\": 4.01}, \"4512\": {\"I\": 4.52, \"C\": 4.34}, \"3103\": {\"I\": 3.74, \"C\": 3.96}, \"1110\": {\"I\": 4.0, \"C\": 3.8}, \"1560\": {\"I\": 4.41, \"C\": 4.5}, \"1362\": {\"I\": 3.88, \"C\": 4.15}, \"26118\": {\"I\": 3.27, \"C\": 3.53}, \"2502\": {\"I\": 4.25, \"C\": 4.56}, \"1363\": {\"I\": 3.73, \"C\": 3.95}, \"2726\": {\"I\": 4.53, \"C\": 4.83}, \"9351\": {\"I\": 3.86, \"C\": 4.03}, \"8202\": {\"I\": 4.07, \"C\": 4.18}, \"20149\": {\"I\": 3.82, \"C\": 3.99}, \"5734\": {\"I\": 4.22, \"C\": 4.45}, \"17176\": {\"I\": 3.74, \"C\": 3.95}, \"7233\": {\"I\": 3.67, \"C\": 3.7}, \"5048\": {\"I\": 4.29, \"C\": 4.37}, \"21718\": {\"I\": 3.86, \"C\": 3.86}, \"25192\": {\"I\": 3.27, \"C\": 3.55}, \"8558\": {\"I\": 3.97, \"C\": 4.27}, \"10641\": {\"I\": 3.64, \"C\": 4.02}, \"5040\": {\"I\": 4.91, \"C\": 4.92}, \"15075\": {\"I\": 3.76, \"C\": 3.85}, \"5639\": {\"I\": 3.91, \"C\": 3.7}, \"7585\": {\"I\": 3.77, \"C\": 3.73}, \"9805\": {\"I\": 3.88, \"C\": 4.15}, \"5631\": {\"I\": 4.36, \"C\": 4.67}, \"7469\": {\"I\": 4.0, \"C\": 3.9}, \"7746\": {\"I\": 3.99, \"C\": 4.2}, \"6331\": {\"I\": 3.59, \"C\": 3.52}}'"
      ]
     },
     "execution_count": 71,
     "metadata": {},
     "output_type": "execute_result"
    }
   ],
   "source": [
    "json.dumps(jsonMap)"
   ]
  },
  {
   "cell_type": "code",
   "execution_count": 75,
   "metadata": {
    "collapsed": false
   },
   "outputs": [],
   "source": [
    "f = open('F:\\GMR Manager New Report\\manager_json.json', 'w')\n",
    "json.dump(jsonMap,f)"
   ]
  },
  {
   "cell_type": "code",
   "execution_count": 76,
   "metadata": {
    "collapsed": false
   },
   "outputs": [
    {
     "data": {
      "text/plain": [
       "{'C': 4.2, 'I': 3.99}"
      ]
     },
     "execution_count": 76,
     "metadata": {},
     "output_type": "execute_result"
    }
   ],
   "source": [
    "jsonMap['7746']"
   ]
  },
  {
   "cell_type": "code",
   "execution_count": null,
   "metadata": {
    "collapsed": true
   },
   "outputs": [],
   "source": []
  }
 ],
 "metadata": {
  "kernelspec": {
   "display_name": "Python 2",
   "language": "python",
   "name": "python2"
  },
  "language_info": {
   "codemirror_mode": {
    "name": "ipython",
    "version": 2
   },
   "file_extension": ".py",
   "mimetype": "text/x-python",
   "name": "python",
   "nbconvert_exporter": "python",
   "pygments_lexer": "ipython2",
   "version": "2.7.12"
  }
 },
 "nbformat": 4,
 "nbformat_minor": 1
}
