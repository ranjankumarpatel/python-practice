{
 "cells": [
  {
   "cell_type": "code",
   "execution_count": 32,
   "metadata": {
    "collapsed": true
   },
   "outputs": [],
   "source": [
    "import pandas as pd"
   ]
  },
  {
   "cell_type": "code",
   "execution_count": 56,
   "metadata": {
    "collapsed": true
   },
   "outputs": [],
   "source": [
    "import MySQLdb as db\n",
    "from pandas import DataFrame\n",
    "#from pandas.io.sql import frame_query\n",
    "\n",
    "database = db.connect('localhost','root','','engage_v1')\n",
    "#data     = frame_query(\"SELECT * FROM ass_v1_360_invite_response\", database)"
   ]
  },
  {
   "cell_type": "code",
   "execution_count": 57,
   "metadata": {
    "collapsed": true
   },
   "outputs": [],
   "source": [
    "database.autocommit=False"
   ]
  },
  {
   "cell_type": "code",
   "execution_count": 58,
   "metadata": {
    "collapsed": false
   },
   "outputs": [
    {
     "data": {
      "text/plain": [
       "False"
      ]
     },
     "execution_count": 58,
     "metadata": {},
     "output_type": "execute_result"
    }
   ],
   "source": [
    "database.autocommit"
   ]
  },
  {
   "cell_type": "code",
   "execution_count": 59,
   "metadata": {
    "collapsed": true
   },
   "outputs": [],
   "source": [
    "mgr = pd.read_sql_query(sql=\"\"\"SELECT MANAGER_ID, MANAGER_EMP_ID, NAME, EMAIL_ID, GEN_DATE, PASSWORD, LEVEL \n",
    "FROM engage_v1.survey_manager;\n",
    "\"\"\",con=database)"
   ]
  },
  {
   "cell_type": "code",
   "execution_count": 60,
   "metadata": {
    "collapsed": false
   },
   "outputs": [
    {
     "data": {
      "text/html": [
       "<div>\n",
       "<table border=\"1\" class=\"dataframe\">\n",
       "  <thead>\n",
       "    <tr style=\"text-align: right;\">\n",
       "      <th></th>\n",
       "      <th>MANAGER_ID</th>\n",
       "      <th>MANAGER_EMP_ID</th>\n",
       "      <th>NAME</th>\n",
       "      <th>EMAIL_ID</th>\n",
       "      <th>GEN_DATE</th>\n",
       "      <th>PASSWORD</th>\n",
       "      <th>LEVEL</th>\n",
       "    </tr>\n",
       "  </thead>\n",
       "  <tbody>\n",
       "    <tr>\n",
       "      <th>785</th>\n",
       "      <td>159868</td>\n",
       "      <td>17964</td>\n",
       "      <td>Siba Ram Mohanty</td>\n",
       "      <td>Siba Ram Mohanty</td>\n",
       "      <td>2016-09-01 12:34:36</td>\n",
       "      <td>569753</td>\n",
       "      <td>M6-S11</td>\n",
       "    </tr>\n",
       "    <tr>\n",
       "      <th>786</th>\n",
       "      <td>159869</td>\n",
       "      <td>25748</td>\n",
       "      <td>Utkarsh Gupta</td>\n",
       "      <td>Utkarsh Gupta</td>\n",
       "      <td>2016-09-01 12:34:36</td>\n",
       "      <td>935989</td>\n",
       "      <td>M6-S12</td>\n",
       "    </tr>\n",
       "    <tr>\n",
       "      <th>787</th>\n",
       "      <td>159870</td>\n",
       "      <td>12070</td>\n",
       "      <td>Sreekanth Purushothama Pai</td>\n",
       "      <td>Sreekanth Purushothama Pai</td>\n",
       "      <td>2016-09-01 12:34:36</td>\n",
       "      <td>582372</td>\n",
       "      <td>M5-S9</td>\n",
       "    </tr>\n",
       "    <tr>\n",
       "      <th>788</th>\n",
       "      <td>159871</td>\n",
       "      <td>8897</td>\n",
       "      <td>Sangeet Kumar</td>\n",
       "      <td>Sangeet Kumar</td>\n",
       "      <td>2016-09-01 12:34:36</td>\n",
       "      <td>797116</td>\n",
       "      <td>M6-S12</td>\n",
       "    </tr>\n",
       "    <tr>\n",
       "      <th>789</th>\n",
       "      <td>159872</td>\n",
       "      <td>11489</td>\n",
       "      <td>Keshava Murthy T V</td>\n",
       "      <td>Keshava Murthy T V</td>\n",
       "      <td>2016-10-20 03:00:00</td>\n",
       "      <td>None</td>\n",
       "      <td>M5-S9</td>\n",
       "    </tr>\n",
       "  </tbody>\n",
       "</table>\n",
       "</div>"
      ],
      "text/plain": [
       "     MANAGER_ID MANAGER_EMP_ID                        NAME  \\\n",
       "785      159868          17964            Siba Ram Mohanty   \n",
       "786      159869          25748               Utkarsh Gupta   \n",
       "787      159870          12070  Sreekanth Purushothama Pai   \n",
       "788      159871           8897               Sangeet Kumar   \n",
       "789      159872          11489          Keshava Murthy T V   \n",
       "\n",
       "                       EMAIL_ID            GEN_DATE PASSWORD   LEVEL  \n",
       "785            Siba Ram Mohanty 2016-09-01 12:34:36   569753  M6-S11  \n",
       "786               Utkarsh Gupta 2016-09-01 12:34:36   935989  M6-S12  \n",
       "787  Sreekanth Purushothama Pai 2016-09-01 12:34:36   582372   M5-S9  \n",
       "788               Sangeet Kumar 2016-09-01 12:34:36   797116  M6-S12  \n",
       "789          Keshava Murthy T V 2016-10-20 03:00:00     None   M5-S9  "
      ]
     },
     "execution_count": 60,
     "metadata": {},
     "output_type": "execute_result"
    }
   ],
   "source": [
    "mgr.sort_values('MANAGER_ID').tail()"
   ]
  },
  {
   "cell_type": "code",
   "execution_count": null,
   "metadata": {
    "collapsed": true
   },
   "outputs": [],
   "source": []
  },
  {
   "cell_type": "code",
   "execution_count": 128,
   "metadata": {
    "collapsed": true
   },
   "outputs": [],
   "source": [
    "dir = \"C:\\Users\\BNSPL-2\\Google Drive\\PROJECT DOCUMENTS\\GMR Engage Survey\\GMR MASTER DATA\"\n",
    "rawdata = pd.read_excel(dir+\"\\EE Survey Master.xlsx\",sheetname=\"Sheet1\")"
   ]
  },
  {
   "cell_type": "code",
   "execution_count": 135,
   "metadata": {
    "collapsed": false
   },
   "outputs": [
    {
     "data": {
      "text/html": [
       "<div>\n",
       "<table border=\"1\" class=\"dataframe\">\n",
       "  <thead>\n",
       "    <tr style=\"text-align: right;\">\n",
       "      <th></th>\n",
       "      <th>EMP_ID</th>\n",
       "      <th>Emp Name</th>\n",
       "      <th>JRL</th>\n",
       "      <th>Department</th>\n",
       "      <th>Function</th>\n",
       "      <th>Business</th>\n",
       "      <th>Sector</th>\n",
       "      <th>DOJ</th>\n",
       "      <th>Age</th>\n",
       "      <th>Location</th>\n",
       "      <th>...</th>\n",
       "      <th>4th Level Mgr Name</th>\n",
       "      <th>4th Level Mgr JRL.1</th>\n",
       "      <th>5th Level Mgr Pernr</th>\n",
       "      <th>5th Level Mgr Name</th>\n",
       "      <th>6th Level Mgr JRL</th>\n",
       "      <th>6th Level Mgr Name</th>\n",
       "      <th>6th Level Mgr Level</th>\n",
       "      <th>7th Level Mgr JRL</th>\n",
       "      <th>7th Level Mgr Name</th>\n",
       "      <th>7th Level Mgr JRL.1</th>\n",
       "    </tr>\n",
       "  </thead>\n",
       "  <tbody>\n",
       "    <tr>\n",
       "      <th>0</th>\n",
       "      <td>24762</td>\n",
       "      <td>R R V v n e Prasadraju Patsamatla</td>\n",
       "      <td>M6-S12</td>\n",
       "      <td>Finance &amp; Accounts</td>\n",
       "      <td>Finance &amp; Accounts</td>\n",
       "      <td>Energy</td>\n",
       "      <td>Energy</td>\n",
       "      <td>2015-09-30</td>\n",
       "      <td>35</td>\n",
       "      <td>VPGL-Rajamundry-Andhra</td>\n",
       "      <td>...</td>\n",
       "      <td>Mallikarjuna Rao Grandhi</td>\n",
       "      <td>GH</td>\n",
       "      <td>0.0</td>\n",
       "      <td>0</td>\n",
       "      <td>NaN</td>\n",
       "      <td>NaN</td>\n",
       "      <td>NaN</td>\n",
       "      <td>NaN</td>\n",
       "      <td>NaN</td>\n",
       "      <td>NaN</td>\n",
       "    </tr>\n",
       "    <tr>\n",
       "      <th>1</th>\n",
       "      <td>24734</td>\n",
       "      <td>Ramachandra S Mallavarapu</td>\n",
       "      <td>A2</td>\n",
       "      <td>Talent Acquisition</td>\n",
       "      <td>Human Resources</td>\n",
       "      <td>SSC</td>\n",
       "      <td>Corporate</td>\n",
       "      <td>2015-09-30</td>\n",
       "      <td>24</td>\n",
       "      <td>SSC-BLR-Karnataka</td>\n",
       "      <td>...</td>\n",
       "      <td>P M Kumar</td>\n",
       "      <td>GH</td>\n",
       "      <td>1.0</td>\n",
       "      <td>Mallikarjuna Rao Grandhi</td>\n",
       "      <td>0.0</td>\n",
       "      <td>0</td>\n",
       "      <td>0</td>\n",
       "      <td>NaN</td>\n",
       "      <td>NaN</td>\n",
       "      <td>NaN</td>\n",
       "    </tr>\n",
       "    <tr>\n",
       "      <th>2</th>\n",
       "      <td>24770</td>\n",
       "      <td>Rahul Sharma</td>\n",
       "      <td>M7-S14</td>\n",
       "      <td>Trainees - O&amp;M</td>\n",
       "      <td>Operations &amp; Maintenance</td>\n",
       "      <td>Energy</td>\n",
       "      <td>Energy</td>\n",
       "      <td>2015-09-30</td>\n",
       "      <td>25</td>\n",
       "      <td>Warora</td>\n",
       "      <td>...</td>\n",
       "      <td>Ramesh R Pai</td>\n",
       "      <td>M2</td>\n",
       "      <td>1538.0</td>\n",
       "      <td>Sanjay Narayan Barde</td>\n",
       "      <td>2.0</td>\n",
       "      <td>Gbs Raju</td>\n",
       "      <td>GH</td>\n",
       "      <td>1.0</td>\n",
       "      <td>Mallikarjuna Rao Grandhi</td>\n",
       "      <td>GH</td>\n",
       "    </tr>\n",
       "    <tr>\n",
       "      <th>3</th>\n",
       "      <td>24945</td>\n",
       "      <td>Ashok Sharma</td>\n",
       "      <td>M6-S12</td>\n",
       "      <td>Corporate Relations</td>\n",
       "      <td>Corporate Relations</td>\n",
       "      <td>Construction</td>\n",
       "      <td>Transportation &amp; UI</td>\n",
       "      <td>2015-09-30</td>\n",
       "      <td>38</td>\n",
       "      <td>Fathepur</td>\n",
       "      <td>...</td>\n",
       "      <td>Bangaru Raju</td>\n",
       "      <td>M1</td>\n",
       "      <td>8.0</td>\n",
       "      <td>B V Nageswara Rao</td>\n",
       "      <td>1.0</td>\n",
       "      <td>Mallikarjuna Rao Grandhi</td>\n",
       "      <td>GH</td>\n",
       "      <td>0.0</td>\n",
       "      <td>0</td>\n",
       "      <td>0</td>\n",
       "    </tr>\n",
       "    <tr>\n",
       "      <th>4</th>\n",
       "      <td>24771</td>\n",
       "      <td>Virendra Kumar Sah</td>\n",
       "      <td>A2</td>\n",
       "      <td>Chemistry</td>\n",
       "      <td>Operations &amp; Maintenance</td>\n",
       "      <td>Energy</td>\n",
       "      <td>Energy</td>\n",
       "      <td>2015-09-30</td>\n",
       "      <td>30</td>\n",
       "      <td>Warora</td>\n",
       "      <td>...</td>\n",
       "      <td>Sanjay Narayan Barde</td>\n",
       "      <td>M1</td>\n",
       "      <td>2.0</td>\n",
       "      <td>Gbs Raju</td>\n",
       "      <td>1.0</td>\n",
       "      <td>Mallikarjuna Rao Grandhi</td>\n",
       "      <td>GH</td>\n",
       "      <td>0.0</td>\n",
       "      <td>0</td>\n",
       "      <td>0</td>\n",
       "    </tr>\n",
       "  </tbody>\n",
       "</table>\n",
       "<p>5 rows × 40 columns</p>\n",
       "</div>"
      ],
      "text/plain": [
       "   EMP_ID                           Emp Name     JRL           Department  \\\n",
       "0   24762  R R V v n e Prasadraju Patsamatla  M6-S12   Finance & Accounts   \n",
       "1   24734          Ramachandra S Mallavarapu      A2   Talent Acquisition   \n",
       "2   24770                       Rahul Sharma  M7-S14       Trainees - O&M   \n",
       "3   24945                       Ashok Sharma  M6-S12  Corporate Relations   \n",
       "4   24771                 Virendra Kumar Sah      A2            Chemistry   \n",
       "\n",
       "                   Function      Business               Sector        DOJ  \\\n",
       "0        Finance & Accounts        Energy               Energy 2015-09-30   \n",
       "1           Human Resources           SSC            Corporate 2015-09-30   \n",
       "2  Operations & Maintenance        Energy               Energy 2015-09-30   \n",
       "3       Corporate Relations  Construction  Transportation & UI 2015-09-30   \n",
       "4  Operations & Maintenance        Energy               Energy 2015-09-30   \n",
       "\n",
       "   Age                Location         ...                4th Level Mgr Name  \\\n",
       "0   35  VPGL-Rajamundry-Andhra         ...          Mallikarjuna Rao Grandhi   \n",
       "1   24       SSC-BLR-Karnataka         ...                         P M Kumar   \n",
       "2   25                  Warora         ...                      Ramesh R Pai   \n",
       "3   38                Fathepur         ...                      Bangaru Raju   \n",
       "4   30                  Warora         ...              Sanjay Narayan Barde   \n",
       "\n",
       "   4th Level Mgr JRL.1 5th Level Mgr Pernr        5th Level Mgr Name  \\\n",
       "0                   GH                 0.0                         0   \n",
       "1                   GH                 1.0  Mallikarjuna Rao Grandhi   \n",
       "2                   M2              1538.0      Sanjay Narayan Barde   \n",
       "3                   M1                 8.0         B V Nageswara Rao   \n",
       "4                   M1                 2.0                  Gbs Raju   \n",
       "\n",
       "  6th Level Mgr JRL        6th Level Mgr Name 6th Level Mgr Level  \\\n",
       "0               NaN                       NaN                 NaN   \n",
       "1               0.0                         0                   0   \n",
       "2               2.0                  Gbs Raju                  GH   \n",
       "3               1.0  Mallikarjuna Rao Grandhi                  GH   \n",
       "4               1.0  Mallikarjuna Rao Grandhi                  GH   \n",
       "\n",
       "   7th Level Mgr JRL        7th Level Mgr Name 7th Level Mgr JRL.1  \n",
       "0                NaN                       NaN                 NaN  \n",
       "1                NaN                       NaN                 NaN  \n",
       "2                1.0  Mallikarjuna Rao Grandhi                  GH  \n",
       "3                0.0                         0                   0  \n",
       "4                0.0                         0                   0  \n",
       "\n",
       "[5 rows x 40 columns]"
      ]
     },
     "execution_count": 135,
     "metadata": {},
     "output_type": "execute_result"
    }
   ],
   "source": [
    "rawdata.head()"
   ]
  },
  {
   "cell_type": "code",
   "execution_count": 136,
   "metadata": {
    "collapsed": true
   },
   "outputs": [],
   "source": [
    "rawdata.drop(['Emp Name', 'JRL', 'Department', 'Function', 'Business',\n",
    "       'Sector', 'DOJ', 'Age', 'Location', 'GMR Exp', 'Total Exp',\n",
    "       'Email', 'R-11-12', 'R-12-13', 'R-13-14', 'R-14-15', 'Mgr Pernr',\n",
    "       'Mgr Name', 'Mgr JRL',  '2nd Level Pernr', '2nd Level Mgr Name',\n",
    "       '2nd Level Mgr JRL', '3rd Level Mgr JRL', '3rd Level Mgr Name',\n",
    "       '3rd Level Mgr Level', '4th Level Mgr JRL', '4th Level Mgr Name',\n",
    "       '4th Level Mgr JRL.1', '5th Level Mgr Pernr', '5th Level Mgr Name',\n",
    "       '6th Level Mgr JRL', '6th Level Mgr Name', '6th Level Mgr Level',\n",
    "       '7th Level Mgr JRL', '7th Level Mgr Name', '7th Level Mgr JRL.1'],axis=1,inplace=True)"
   ]
  },
  {
   "cell_type": "code",
   "execution_count": 137,
   "metadata": {
    "collapsed": false
   },
   "outputs": [
    {
     "data": {
      "text/html": [
       "<div>\n",
       "<table border=\"1\" class=\"dataframe\">\n",
       "  <thead>\n",
       "    <tr style=\"text-align: right;\">\n",
       "      <th></th>\n",
       "      <th>EMP_ID</th>\n",
       "      <th>MANAGER_EMP_ID</th>\n",
       "      <th>NAME</th>\n",
       "      <th>LEVEL</th>\n",
       "    </tr>\n",
       "  </thead>\n",
       "  <tbody>\n",
       "    <tr>\n",
       "      <th>0</th>\n",
       "      <td>24762</td>\n",
       "      <td>1993.0</td>\n",
       "      <td>Arunendu Saha</td>\n",
       "      <td>M2</td>\n",
       "    </tr>\n",
       "    <tr>\n",
       "      <th>1</th>\n",
       "      <td>24734</td>\n",
       "      <td>5146.0</td>\n",
       "      <td>Indrani B</td>\n",
       "      <td>M6-S11</td>\n",
       "    </tr>\n",
       "    <tr>\n",
       "      <th>2</th>\n",
       "      <td>24770</td>\n",
       "      <td>10611.0</td>\n",
       "      <td>Akash Kumar Saxena</td>\n",
       "      <td>M5-S9</td>\n",
       "    </tr>\n",
       "    <tr>\n",
       "      <th>3</th>\n",
       "      <td>24945</td>\n",
       "      <td>12894.0</td>\n",
       "      <td>Chandra Pal Mehta</td>\n",
       "      <td>M4</td>\n",
       "    </tr>\n",
       "    <tr>\n",
       "      <th>4</th>\n",
       "      <td>24771</td>\n",
       "      <td>14345.0</td>\n",
       "      <td>Bharat Ramchandra Pinjarkar</td>\n",
       "      <td>M5-S9</td>\n",
       "    </tr>\n",
       "  </tbody>\n",
       "</table>\n",
       "</div>"
      ],
      "text/plain": [
       "   EMP_ID  MANAGER_EMP_ID                         NAME   LEVEL\n",
       "0   24762          1993.0                Arunendu Saha      M2\n",
       "1   24734          5146.0                    Indrani B  M6-S11\n",
       "2   24770         10611.0           Akash Kumar Saxena   M5-S9\n",
       "3   24945         12894.0            Chandra Pal Mehta      M4\n",
       "4   24771         14345.0  Bharat Ramchandra Pinjarkar   M5-S9"
      ]
     },
     "execution_count": 137,
     "metadata": {},
     "output_type": "execute_result"
    }
   ],
   "source": [
    "rawdata.head()"
   ]
  },
  {
   "cell_type": "code",
   "execution_count": 138,
   "metadata": {
    "collapsed": false
   },
   "outputs": [],
   "source": [
    "rawdata.rename(columns={'Reviewer Name':'NAME','Reviewer JRL':'LEVEL','Reviewer Pernr':'MANAGER_EMP_ID','Pernr':'EMP_ID'}, inplace=True)"
   ]
  },
  {
   "cell_type": "code",
   "execution_count": 139,
   "metadata": {
    "collapsed": false
   },
   "outputs": [
    {
     "data": {
      "text/html": [
       "<div>\n",
       "<table border=\"1\" class=\"dataframe\">\n",
       "  <thead>\n",
       "    <tr style=\"text-align: right;\">\n",
       "      <th></th>\n",
       "      <th>EMP_ID</th>\n",
       "      <th>MANAGER_EMP_ID</th>\n",
       "      <th>NAME</th>\n",
       "      <th>LEVEL</th>\n",
       "    </tr>\n",
       "  </thead>\n",
       "  <tbody>\n",
       "    <tr>\n",
       "      <th>0</th>\n",
       "      <td>24762</td>\n",
       "      <td>1993.0</td>\n",
       "      <td>Arunendu Saha</td>\n",
       "      <td>M2</td>\n",
       "    </tr>\n",
       "    <tr>\n",
       "      <th>1</th>\n",
       "      <td>24734</td>\n",
       "      <td>5146.0</td>\n",
       "      <td>Indrani B</td>\n",
       "      <td>M6-S11</td>\n",
       "    </tr>\n",
       "    <tr>\n",
       "      <th>2</th>\n",
       "      <td>24770</td>\n",
       "      <td>10611.0</td>\n",
       "      <td>Akash Kumar Saxena</td>\n",
       "      <td>M5-S9</td>\n",
       "    </tr>\n",
       "    <tr>\n",
       "      <th>3</th>\n",
       "      <td>24945</td>\n",
       "      <td>12894.0</td>\n",
       "      <td>Chandra Pal Mehta</td>\n",
       "      <td>M4</td>\n",
       "    </tr>\n",
       "    <tr>\n",
       "      <th>4</th>\n",
       "      <td>24771</td>\n",
       "      <td>14345.0</td>\n",
       "      <td>Bharat Ramchandra Pinjarkar</td>\n",
       "      <td>M5-S9</td>\n",
       "    </tr>\n",
       "  </tbody>\n",
       "</table>\n",
       "</div>"
      ],
      "text/plain": [
       "   EMP_ID  MANAGER_EMP_ID                         NAME   LEVEL\n",
       "0   24762          1993.0                Arunendu Saha      M2\n",
       "1   24734          5146.0                    Indrani B  M6-S11\n",
       "2   24770         10611.0           Akash Kumar Saxena   M5-S9\n",
       "3   24945         12894.0            Chandra Pal Mehta      M4\n",
       "4   24771         14345.0  Bharat Ramchandra Pinjarkar   M5-S9"
      ]
     },
     "execution_count": 139,
     "metadata": {},
     "output_type": "execute_result"
    }
   ],
   "source": [
    "rawdata.head()"
   ]
  },
  {
   "cell_type": "code",
   "execution_count": 140,
   "metadata": {
    "collapsed": false
   },
   "outputs": [
    {
     "data": {
      "text/html": [
       "<div>\n",
       "<table border=\"1\" class=\"dataframe\">\n",
       "  <thead>\n",
       "    <tr style=\"text-align: right;\">\n",
       "      <th></th>\n",
       "      <th>EMP_ID</th>\n",
       "      <th>MANAGER_EMP_ID</th>\n",
       "      <th>NAME</th>\n",
       "      <th>LEVEL</th>\n",
       "    </tr>\n",
       "  </thead>\n",
       "  <tbody>\n",
       "    <tr>\n",
       "      <th>647</th>\n",
       "      <td>21274</td>\n",
       "      <td>6005.0</td>\n",
       "      <td>Venkat Raman Akella</td>\n",
       "      <td>M5-S9</td>\n",
       "    </tr>\n",
       "    <tr>\n",
       "      <th>851</th>\n",
       "      <td>20073</td>\n",
       "      <td>6005.0</td>\n",
       "      <td>Venkat Raman Akella</td>\n",
       "      <td>M5-S9</td>\n",
       "    </tr>\n",
       "    <tr>\n",
       "      <th>1277</th>\n",
       "      <td>15055</td>\n",
       "      <td>6005.0</td>\n",
       "      <td>Venkat Raman Akella</td>\n",
       "      <td>M5-S9</td>\n",
       "    </tr>\n",
       "    <tr>\n",
       "      <th>1317</th>\n",
       "      <td>14427</td>\n",
       "      <td>6005.0</td>\n",
       "      <td>Venkat Raman Akella</td>\n",
       "      <td>M5-S9</td>\n",
       "    </tr>\n",
       "    <tr>\n",
       "      <th>1590</th>\n",
       "      <td>12363</td>\n",
       "      <td>6005.0</td>\n",
       "      <td>Venkat Raman Akella</td>\n",
       "      <td>M5-S9</td>\n",
       "    </tr>\n",
       "    <tr>\n",
       "      <th>2494</th>\n",
       "      <td>6066</td>\n",
       "      <td>6005.0</td>\n",
       "      <td>Venkat Raman Akella</td>\n",
       "      <td>M5-S9</td>\n",
       "    </tr>\n",
       "    <tr>\n",
       "      <th>2900</th>\n",
       "      <td>4031</td>\n",
       "      <td>6005.0</td>\n",
       "      <td>Venkat Raman Akella</td>\n",
       "      <td>M5-S9</td>\n",
       "    </tr>\n",
       "    <tr>\n",
       "      <th>2915</th>\n",
       "      <td>3979</td>\n",
       "      <td>6005.0</td>\n",
       "      <td>Venkat Raman Akella</td>\n",
       "      <td>M5-S9</td>\n",
       "    </tr>\n",
       "    <tr>\n",
       "      <th>2945</th>\n",
       "      <td>3796</td>\n",
       "      <td>6005.0</td>\n",
       "      <td>Venkat Raman Akella</td>\n",
       "      <td>M5-S9</td>\n",
       "    </tr>\n",
       "    <tr>\n",
       "      <th>3632</th>\n",
       "      <td>24868</td>\n",
       "      <td>6005.0</td>\n",
       "      <td>Venkat Raman Akella</td>\n",
       "      <td>M5-S9</td>\n",
       "    </tr>\n",
       "  </tbody>\n",
       "</table>\n",
       "</div>"
      ],
      "text/plain": [
       "      EMP_ID  MANAGER_EMP_ID                 NAME  LEVEL\n",
       "647    21274          6005.0  Venkat Raman Akella  M5-S9\n",
       "851    20073          6005.0  Venkat Raman Akella  M5-S9\n",
       "1277   15055          6005.0  Venkat Raman Akella  M5-S9\n",
       "1317   14427          6005.0  Venkat Raman Akella  M5-S9\n",
       "1590   12363          6005.0  Venkat Raman Akella  M5-S9\n",
       "2494    6066          6005.0  Venkat Raman Akella  M5-S9\n",
       "2900    4031          6005.0  Venkat Raman Akella  M5-S9\n",
       "2915    3979          6005.0  Venkat Raman Akella  M5-S9\n",
       "2945    3796          6005.0  Venkat Raman Akella  M5-S9\n",
       "3632   24868          6005.0  Venkat Raman Akella  M5-S9"
      ]
     },
     "execution_count": 140,
     "metadata": {},
     "output_type": "execute_result"
    }
   ],
   "source": [
    "rawdata[rawdata.MANAGER_EMP_ID == 6005.0]"
   ]
  },
  {
   "cell_type": "code",
   "execution_count": 141,
   "metadata": {
    "collapsed": false
   },
   "outputs": [
    {
     "data": {
      "text/html": [
       "<div>\n",
       "<table border=\"1\" class=\"dataframe\">\n",
       "  <thead>\n",
       "    <tr style=\"text-align: right;\">\n",
       "      <th></th>\n",
       "      <th>EMP_ID</th>\n",
       "      <th>MANAGER_EMP_ID</th>\n",
       "      <th>NAME</th>\n",
       "      <th>LEVEL</th>\n",
       "    </tr>\n",
       "  </thead>\n",
       "  <tbody>\n",
       "    <tr>\n",
       "      <th>2966</th>\n",
       "      <td>3694</td>\n",
       "      <td>1.0</td>\n",
       "      <td>Mallikarjuna Rao Grandhi</td>\n",
       "      <td>GH</td>\n",
       "    </tr>\n",
       "    <tr>\n",
       "      <th>3342</th>\n",
       "      <td>1935</td>\n",
       "      <td>1.0</td>\n",
       "      <td>Mallikarjuna Rao Grandhi</td>\n",
       "      <td>GH</td>\n",
       "    </tr>\n",
       "    <tr>\n",
       "      <th>2016</th>\n",
       "      <td>9385</td>\n",
       "      <td>1.0</td>\n",
       "      <td>Mallikarjuna Rao Grandhi</td>\n",
       "      <td>GH</td>\n",
       "    </tr>\n",
       "    <tr>\n",
       "      <th>3348</th>\n",
       "      <td>1857</td>\n",
       "      <td>1.0</td>\n",
       "      <td>Mallikarjuna Rao Grandhi</td>\n",
       "      <td>GH</td>\n",
       "    </tr>\n",
       "    <tr>\n",
       "      <th>3351</th>\n",
       "      <td>1859</td>\n",
       "      <td>1.0</td>\n",
       "      <td>Mallikarjuna Rao Grandhi</td>\n",
       "      <td>GH</td>\n",
       "    </tr>\n",
       "  </tbody>\n",
       "</table>\n",
       "</div>"
      ],
      "text/plain": [
       "      EMP_ID  MANAGER_EMP_ID                      NAME LEVEL\n",
       "2966    3694             1.0  Mallikarjuna Rao Grandhi    GH\n",
       "3342    1935             1.0  Mallikarjuna Rao Grandhi    GH\n",
       "2016    9385             1.0  Mallikarjuna Rao Grandhi    GH\n",
       "3348    1857             1.0  Mallikarjuna Rao Grandhi    GH\n",
       "3351    1859             1.0  Mallikarjuna Rao Grandhi    GH"
      ]
     },
     "execution_count": 141,
     "metadata": {},
     "output_type": "execute_result"
    }
   ],
   "source": [
    "rawdata.sort_values('MANAGER_EMP_ID').head()"
   ]
  },
  {
   "cell_type": "code",
   "execution_count": 142,
   "metadata": {
    "collapsed": false
   },
   "outputs": [
    {
     "data": {
      "text/html": [
       "<div>\n",
       "<table border=\"1\" class=\"dataframe\">\n",
       "  <thead>\n",
       "    <tr style=\"text-align: right;\">\n",
       "      <th></th>\n",
       "      <th>EMP_ID</th>\n",
       "      <th>MANAGER_EMP_ID</th>\n",
       "      <th>NAME</th>\n",
       "      <th>LEVEL</th>\n",
       "    </tr>\n",
       "  </thead>\n",
       "  <tbody>\n",
       "    <tr>\n",
       "      <th>2966</th>\n",
       "      <td>3694</td>\n",
       "      <td>1.0</td>\n",
       "      <td>Mallikarjuna Rao Grandhi</td>\n",
       "      <td>GH</td>\n",
       "    </tr>\n",
       "    <tr>\n",
       "      <th>3342</th>\n",
       "      <td>1935</td>\n",
       "      <td>1.0</td>\n",
       "      <td>Mallikarjuna Rao Grandhi</td>\n",
       "      <td>GH</td>\n",
       "    </tr>\n",
       "    <tr>\n",
       "      <th>2016</th>\n",
       "      <td>9385</td>\n",
       "      <td>1.0</td>\n",
       "      <td>Mallikarjuna Rao Grandhi</td>\n",
       "      <td>GH</td>\n",
       "    </tr>\n",
       "    <tr>\n",
       "      <th>3348</th>\n",
       "      <td>1857</td>\n",
       "      <td>1.0</td>\n",
       "      <td>Mallikarjuna Rao Grandhi</td>\n",
       "      <td>GH</td>\n",
       "    </tr>\n",
       "    <tr>\n",
       "      <th>3351</th>\n",
       "      <td>1859</td>\n",
       "      <td>1.0</td>\n",
       "      <td>Mallikarjuna Rao Grandhi</td>\n",
       "      <td>GH</td>\n",
       "    </tr>\n",
       "  </tbody>\n",
       "</table>\n",
       "</div>"
      ],
      "text/plain": [
       "      EMP_ID  MANAGER_EMP_ID                      NAME LEVEL\n",
       "2966    3694             1.0  Mallikarjuna Rao Grandhi    GH\n",
       "3342    1935             1.0  Mallikarjuna Rao Grandhi    GH\n",
       "2016    9385             1.0  Mallikarjuna Rao Grandhi    GH\n",
       "3348    1857             1.0  Mallikarjuna Rao Grandhi    GH\n",
       "3351    1859             1.0  Mallikarjuna Rao Grandhi    GH"
      ]
     },
     "execution_count": 142,
     "metadata": {},
     "output_type": "execute_result"
    }
   ],
   "source": [
    "rawdata.drop_duplicates().sort_values('MANAGER_EMP_ID').head()"
   ]
  },
  {
   "cell_type": "code",
   "execution_count": 143,
   "metadata": {
    "collapsed": false
   },
   "outputs": [],
   "source": [
    "raw_no_dup = rawdata.drop_duplicates().sort_values('MANAGER_EMP_ID')"
   ]
  },
  {
   "cell_type": "code",
   "execution_count": 173,
   "metadata": {
    "collapsed": false
   },
   "outputs": [
    {
     "data": {
      "text/html": [
       "<div>\n",
       "<table border=\"1\" class=\"dataframe\">\n",
       "  <thead>\n",
       "    <tr style=\"text-align: right;\">\n",
       "      <th></th>\n",
       "      <th>EMP_ID</th>\n",
       "      <th>MANAGER_EMP_ID</th>\n",
       "      <th>NAME</th>\n",
       "      <th>LEVEL</th>\n",
       "    </tr>\n",
       "  </thead>\n",
       "  <tbody>\n",
       "    <tr>\n",
       "      <th>2945</th>\n",
       "      <td>3796</td>\n",
       "      <td>6005.0</td>\n",
       "      <td>Venkat Raman Akella</td>\n",
       "      <td>M5-S9</td>\n",
       "    </tr>\n",
       "    <tr>\n",
       "      <th>3632</th>\n",
       "      <td>24868</td>\n",
       "      <td>6005.0</td>\n",
       "      <td>Venkat Raman Akella</td>\n",
       "      <td>M5-S9</td>\n",
       "    </tr>\n",
       "    <tr>\n",
       "      <th>1277</th>\n",
       "      <td>15055</td>\n",
       "      <td>6005.0</td>\n",
       "      <td>Venkat Raman Akella</td>\n",
       "      <td>M5-S9</td>\n",
       "    </tr>\n",
       "    <tr>\n",
       "      <th>1590</th>\n",
       "      <td>12363</td>\n",
       "      <td>6005.0</td>\n",
       "      <td>Venkat Raman Akella</td>\n",
       "      <td>M5-S9</td>\n",
       "    </tr>\n",
       "    <tr>\n",
       "      <th>647</th>\n",
       "      <td>21274</td>\n",
       "      <td>6005.0</td>\n",
       "      <td>Venkat Raman Akella</td>\n",
       "      <td>M5-S9</td>\n",
       "    </tr>\n",
       "    <tr>\n",
       "      <th>2900</th>\n",
       "      <td>4031</td>\n",
       "      <td>6005.0</td>\n",
       "      <td>Venkat Raman Akella</td>\n",
       "      <td>M5-S9</td>\n",
       "    </tr>\n",
       "    <tr>\n",
       "      <th>2494</th>\n",
       "      <td>6066</td>\n",
       "      <td>6005.0</td>\n",
       "      <td>Venkat Raman Akella</td>\n",
       "      <td>M5-S9</td>\n",
       "    </tr>\n",
       "    <tr>\n",
       "      <th>2915</th>\n",
       "      <td>3979</td>\n",
       "      <td>6005.0</td>\n",
       "      <td>Venkat Raman Akella</td>\n",
       "      <td>M5-S9</td>\n",
       "    </tr>\n",
       "    <tr>\n",
       "      <th>851</th>\n",
       "      <td>20073</td>\n",
       "      <td>6005.0</td>\n",
       "      <td>Venkat Raman Akella</td>\n",
       "      <td>M5-S9</td>\n",
       "    </tr>\n",
       "    <tr>\n",
       "      <th>1317</th>\n",
       "      <td>14427</td>\n",
       "      <td>6005.0</td>\n",
       "      <td>Venkat Raman Akella</td>\n",
       "      <td>M5-S9</td>\n",
       "    </tr>\n",
       "  </tbody>\n",
       "</table>\n",
       "</div>"
      ],
      "text/plain": [
       "      EMP_ID  MANAGER_EMP_ID                 NAME  LEVEL\n",
       "2945    3796          6005.0  Venkat Raman Akella  M5-S9\n",
       "3632   24868          6005.0  Venkat Raman Akella  M5-S9\n",
       "1277   15055          6005.0  Venkat Raman Akella  M5-S9\n",
       "1590   12363          6005.0  Venkat Raman Akella  M5-S9\n",
       "647    21274          6005.0  Venkat Raman Akella  M5-S9\n",
       "2900    4031          6005.0  Venkat Raman Akella  M5-S9\n",
       "2494    6066          6005.0  Venkat Raman Akella  M5-S9\n",
       "2915    3979          6005.0  Venkat Raman Akella  M5-S9\n",
       "851    20073          6005.0  Venkat Raman Akella  M5-S9\n",
       "1317   14427          6005.0  Venkat Raman Akella  M5-S9"
      ]
     },
     "execution_count": 173,
     "metadata": {},
     "output_type": "execute_result"
    }
   ],
   "source": [
    "raw_no_dup.head()\n",
    "raw_no_dup[raw_no_dup.MANAGER_EMP_ID == 6005.0]"
   ]
  },
  {
   "cell_type": "code",
   "execution_count": 146,
   "metadata": {
    "collapsed": false
   },
   "outputs": [],
   "source": [
    "mgr['MANAGER_EMP_ID'] = mgr.MANAGER_EMP_ID.astype('float64')"
   ]
  },
  {
   "cell_type": "code",
   "execution_count": 160,
   "metadata": {
    "collapsed": false
   },
   "outputs": [
    {
     "data": {
      "text/html": [
       "<div>\n",
       "<table border=\"1\" class=\"dataframe\">\n",
       "  <thead>\n",
       "    <tr style=\"text-align: right;\">\n",
       "      <th></th>\n",
       "      <th>MANAGER_ID</th>\n",
       "      <th>MANAGER_EMP_ID</th>\n",
       "      <th>NAME</th>\n",
       "      <th>EMAIL_ID</th>\n",
       "      <th>GEN_DATE</th>\n",
       "      <th>PASSWORD</th>\n",
       "      <th>LEVEL</th>\n",
       "    </tr>\n",
       "  </thead>\n",
       "  <tbody>\n",
       "    <tr>\n",
       "      <th>0</th>\n",
       "      <td>159083</td>\n",
       "      <td>1405.0</td>\n",
       "      <td>Ashis Basu</td>\n",
       "      <td>Ashis Basu</td>\n",
       "      <td>2016-09-01 12:34:36</td>\n",
       "      <td>626399</td>\n",
       "      <td>M1</td>\n",
       "    </tr>\n",
       "    <tr>\n",
       "      <th>1</th>\n",
       "      <td>159084</td>\n",
       "      <td>1403.0</td>\n",
       "      <td>Neere Vishwanath Shetty</td>\n",
       "      <td>Neere Vishwanath Shetty</td>\n",
       "      <td>2016-09-01 12:34:36</td>\n",
       "      <td>198468</td>\n",
       "      <td>M2</td>\n",
       "    </tr>\n",
       "    <tr>\n",
       "      <th>2</th>\n",
       "      <td>159085</td>\n",
       "      <td>1402.0</td>\n",
       "      <td>Arun Kumar</td>\n",
       "      <td>Arun Kumar</td>\n",
       "      <td>2016-09-01 12:34:36</td>\n",
       "      <td>223568</td>\n",
       "      <td>M5-S9</td>\n",
       "    </tr>\n",
       "    <tr>\n",
       "      <th>3</th>\n",
       "      <td>159086</td>\n",
       "      <td>10981.0</td>\n",
       "      <td>Kumar M</td>\n",
       "      <td>Kumar M</td>\n",
       "      <td>2016-09-01 12:34:36</td>\n",
       "      <td>491162</td>\n",
       "      <td>M6-S11</td>\n",
       "    </tr>\n",
       "    <tr>\n",
       "      <th>4</th>\n",
       "      <td>159087</td>\n",
       "      <td>1406.0</td>\n",
       "      <td>Subba Rao G</td>\n",
       "      <td>Subba Rao G</td>\n",
       "      <td>2016-09-01 12:34:36</td>\n",
       "      <td>591469</td>\n",
       "      <td>M1</td>\n",
       "    </tr>\n",
       "  </tbody>\n",
       "</table>\n",
       "</div>"
      ],
      "text/plain": [
       "   MANAGER_ID  MANAGER_EMP_ID                     NAME  \\\n",
       "0      159083          1405.0               Ashis Basu   \n",
       "1      159084          1403.0  Neere Vishwanath Shetty   \n",
       "2      159085          1402.0               Arun Kumar   \n",
       "3      159086         10981.0                  Kumar M   \n",
       "4      159087          1406.0              Subba Rao G   \n",
       "\n",
       "                  EMAIL_ID            GEN_DATE PASSWORD   LEVEL  \n",
       "0               Ashis Basu 2016-09-01 12:34:36   626399      M1  \n",
       "1  Neere Vishwanath Shetty 2016-09-01 12:34:36   198468      M2  \n",
       "2               Arun Kumar 2016-09-01 12:34:36   223568   M5-S9  \n",
       "3                  Kumar M 2016-09-01 12:34:36   491162  M6-S11  \n",
       "4              Subba Rao G 2016-09-01 12:34:36   591469      M1  "
      ]
     },
     "execution_count": 160,
     "metadata": {},
     "output_type": "execute_result"
    }
   ],
   "source": [
    "mgr.head()"
   ]
  },
  {
   "cell_type": "code",
   "execution_count": 170,
   "metadata": {
    "collapsed": false
   },
   "outputs": [],
   "source": [
    "#revmgr = pd.merge(raw_no_dup,mgr,on=\"MANAGER_EMP_ID\")"
   ]
  },
  {
   "cell_type": "code",
   "execution_count": 175,
   "metadata": {
    "collapsed": false
   },
   "outputs": [],
   "source": [
    "#revmgr.head()\n",
    "#revmgr = mgr[mgr.MANAGER_EMP_ID.isin(raw_no_dup.MANAGER_EMP_ID) == False].head()\n",
    "#revmgr.drop(['NAME','EMAIL_ID','GEN_DATE','PASSWORD','LEVEL'],axis=1,inplace=True)"
   ]
  },
  {
   "cell_type": "code",
   "execution_count": 176,
   "metadata": {
    "collapsed": false
   },
   "outputs": [
    {
     "data": {
      "text/html": [
       "<div>\n",
       "<table border=\"1\" class=\"dataframe\">\n",
       "  <thead>\n",
       "    <tr style=\"text-align: right;\">\n",
       "      <th></th>\n",
       "      <th>MANAGER_ID</th>\n",
       "      <th>MANAGER_EMP_ID</th>\n",
       "      <th>NAME</th>\n",
       "      <th>EMAIL_ID</th>\n",
       "      <th>GEN_DATE</th>\n",
       "      <th>PASSWORD</th>\n",
       "      <th>LEVEL</th>\n",
       "    </tr>\n",
       "  </thead>\n",
       "  <tbody>\n",
       "  </tbody>\n",
       "</table>\n",
       "</div>"
      ],
      "text/plain": [
       "Empty DataFrame\n",
       "Columns: [MANAGER_ID, MANAGER_EMP_ID, NAME, EMAIL_ID, GEN_DATE, PASSWORD, LEVEL]\n",
       "Index: []"
      ]
     },
     "execution_count": 176,
     "metadata": {},
     "output_type": "execute_result"
    }
   ],
   "source": [
    "#revmgr.head()\n",
    "#revmgr.MANAGER_EMP_ID.dtype\n",
    "#revmgr[revmgr.MANAGER_EMP_ID == 6005]"
   ]
  },
  {
   "cell_type": "code",
   "execution_count": 178,
   "metadata": {
    "collapsed": false
   },
   "outputs": [
    {
     "data": {
      "text/html": [
       "<div>\n",
       "<table border=\"1\" class=\"dataframe\">\n",
       "  <thead>\n",
       "    <tr style=\"text-align: right;\">\n",
       "      <th></th>\n",
       "      <th>MANAGER_ID</th>\n",
       "      <th>MANAGER_EMP_ID</th>\n",
       "      <th>EMP_ID</th>\n",
       "    </tr>\n",
       "  </thead>\n",
       "  <tbody>\n",
       "    <tr>\n",
       "      <th>0</th>\n",
       "      <td>159083</td>\n",
       "      <td>1405.0</td>\n",
       "      <td>20978</td>\n",
       "    </tr>\n",
       "    <tr>\n",
       "      <th>1</th>\n",
       "      <td>159083</td>\n",
       "      <td>1405.0</td>\n",
       "      <td>12713</td>\n",
       "    </tr>\n",
       "    <tr>\n",
       "      <th>2</th>\n",
       "      <td>159083</td>\n",
       "      <td>1405.0</td>\n",
       "      <td>21942</td>\n",
       "    </tr>\n",
       "    <tr>\n",
       "      <th>3</th>\n",
       "      <td>159083</td>\n",
       "      <td>1405.0</td>\n",
       "      <td>15495</td>\n",
       "    </tr>\n",
       "    <tr>\n",
       "      <th>4</th>\n",
       "      <td>159083</td>\n",
       "      <td>1405.0</td>\n",
       "      <td>11122</td>\n",
       "    </tr>\n",
       "  </tbody>\n",
       "</table>\n",
       "</div>"
      ],
      "text/plain": [
       "   MANAGER_ID  MANAGER_EMP_ID  EMP_ID\n",
       "0      159083          1405.0   20978\n",
       "1      159083          1405.0   12713\n",
       "2      159083          1405.0   21942\n",
       "3      159083          1405.0   15495\n",
       "4      159083          1405.0   11122"
      ]
     },
     "execution_count": 178,
     "metadata": {},
     "output_type": "execute_result"
    }
   ],
   "source": [
    "mgr_join = pd.merge(mgr,raw_no_dup,on=\"MANAGER_EMP_ID\")\n",
    "mgr_join.head()\n",
    "mgr_join.drop(['NAME_x','EMAIL_ID','GEN_DATE','PASSWORD','LEVEL_x','NAME_y','LEVEL_y'],axis=1,inplace=True)\n",
    "mgr_join = mgr_join.drop_duplicates()\n",
    "mgr_join.head()"
   ]
  },
  {
   "cell_type": "code",
   "execution_count": 179,
   "metadata": {
    "collapsed": false
   },
   "outputs": [],
   "source": [
    "userpern = pd.read_sql_query(sql=\"\"\"SELECT survey_v1_user_servey_def.USD_ID,\n",
    "       user_info.EMP_ID,\n",
    "       user_info.email,\n",
    "       user_info.name\n",
    "  FROM engage_v1.survey_v1_user_servey_def\n",
    "       JOIN all_survey_v1_user_client_mapper_view\n",
    "          ON all_survey_v1_user_client_mapper_view.UCM_ID =\n",
    "                survey_v1_user_servey_def.UCM_ID\n",
    "       JOIN user_info\n",
    "          ON user_info.USER_ID =\n",
    "                all_survey_v1_user_client_mapper_view.USER_ID\n",
    " WHERE SURVEY_DEF_ID = 12;\n",
    "\"\"\",con=database)"
   ]
  },
  {
   "cell_type": "code",
   "execution_count": 180,
   "metadata": {
    "collapsed": false
   },
   "outputs": [
    {
     "data": {
      "text/html": [
       "<div>\n",
       "<table border=\"1\" class=\"dataframe\">\n",
       "  <thead>\n",
       "    <tr style=\"text-align: right;\">\n",
       "      <th></th>\n",
       "      <th>USD_ID</th>\n",
       "      <th>EMP_ID</th>\n",
       "      <th>email</th>\n",
       "      <th>name</th>\n",
       "    </tr>\n",
       "  </thead>\n",
       "  <tbody>\n",
       "    <tr>\n",
       "      <th>0</th>\n",
       "      <td>208</td>\n",
       "      <td>6356</td>\n",
       "      <td>VIKAS.SINHA@GMRGROUP.IN</td>\n",
       "      <td>Vikas Kumar Sinha</td>\n",
       "    </tr>\n",
       "    <tr>\n",
       "      <th>1</th>\n",
       "      <td>209</td>\n",
       "      <td>19373</td>\n",
       "      <td>PREETIKA.NAIDU@GMRGROUP.IN</td>\n",
       "      <td>Preetika Naidu</td>\n",
       "    </tr>\n",
       "    <tr>\n",
       "      <th>2</th>\n",
       "      <td>210</td>\n",
       "      <td>3657</td>\n",
       "      <td>AMIT.KUMAR2@GMRGROUP.IN</td>\n",
       "      <td>Amit Kumar</td>\n",
       "    </tr>\n",
       "    <tr>\n",
       "      <th>3</th>\n",
       "      <td>211</td>\n",
       "      <td>6127</td>\n",
       "      <td>ARUN.ROY@GMRGROUP.IN</td>\n",
       "      <td>Arun Prakash Roy</td>\n",
       "    </tr>\n",
       "    <tr>\n",
       "      <th>4</th>\n",
       "      <td>212</td>\n",
       "      <td>21618</td>\n",
       "      <td>NITISH@GMRGROUP.IN</td>\n",
       "      <td>Nitish ...</td>\n",
       "    </tr>\n",
       "  </tbody>\n",
       "</table>\n",
       "</div>"
      ],
      "text/plain": [
       "   USD_ID EMP_ID                       email               name\n",
       "0     208   6356     VIKAS.SINHA@GMRGROUP.IN  Vikas Kumar Sinha\n",
       "1     209  19373  PREETIKA.NAIDU@GMRGROUP.IN     Preetika Naidu\n",
       "2     210   3657     AMIT.KUMAR2@GMRGROUP.IN         Amit Kumar\n",
       "3     211   6127        ARUN.ROY@GMRGROUP.IN   Arun Prakash Roy\n",
       "4     212  21618          NITISH@GMRGROUP.IN         Nitish ..."
      ]
     },
     "execution_count": 180,
     "metadata": {},
     "output_type": "execute_result"
    }
   ],
   "source": [
    "userpern.head()"
   ]
  },
  {
   "cell_type": "code",
   "execution_count": 181,
   "metadata": {
    "collapsed": false
   },
   "outputs": [
    {
     "data": {
      "text/plain": [
       "dtype('float64')"
      ]
     },
     "execution_count": 181,
     "metadata": {},
     "output_type": "execute_result"
    }
   ],
   "source": [
    "mgr_join.MANAGER_EMP_ID.dtype"
   ]
  },
  {
   "cell_type": "code",
   "execution_count": 182,
   "metadata": {
    "collapsed": false
   },
   "outputs": [],
   "source": [
    "userpern['EMP_ID'] = userpern.EMP_ID.astype('int64')"
   ]
  },
  {
   "cell_type": "code",
   "execution_count": 183,
   "metadata": {
    "collapsed": true
   },
   "outputs": [],
   "source": [
    "joindata = pd.merge(userpern,mgr_join,on=\"EMP_ID\")"
   ]
  },
  {
   "cell_type": "code",
   "execution_count": 184,
   "metadata": {
    "collapsed": false
   },
   "outputs": [
    {
     "data": {
      "text/html": [
       "<div>\n",
       "<table border=\"1\" class=\"dataframe\">\n",
       "  <thead>\n",
       "    <tr style=\"text-align: right;\">\n",
       "      <th></th>\n",
       "      <th>USD_ID</th>\n",
       "      <th>EMP_ID</th>\n",
       "      <th>MANAGER_ID</th>\n",
       "      <th>MANAGER_EMP_ID</th>\n",
       "    </tr>\n",
       "  </thead>\n",
       "  <tbody>\n",
       "    <tr>\n",
       "      <th>0</th>\n",
       "      <td>208</td>\n",
       "      <td>6356</td>\n",
       "      <td>159286</td>\n",
       "      <td>18559.0</td>\n",
       "    </tr>\n",
       "    <tr>\n",
       "      <th>1</th>\n",
       "      <td>209</td>\n",
       "      <td>19373</td>\n",
       "      <td>159689</td>\n",
       "      <td>1741.0</td>\n",
       "    </tr>\n",
       "    <tr>\n",
       "      <th>2</th>\n",
       "      <td>210</td>\n",
       "      <td>3657</td>\n",
       "      <td>159572</td>\n",
       "      <td>2212.0</td>\n",
       "    </tr>\n",
       "    <tr>\n",
       "      <th>3</th>\n",
       "      <td>211</td>\n",
       "      <td>6127</td>\n",
       "      <td>159370</td>\n",
       "      <td>18041.0</td>\n",
       "    </tr>\n",
       "    <tr>\n",
       "      <th>4</th>\n",
       "      <td>212</td>\n",
       "      <td>21618</td>\n",
       "      <td>159624</td>\n",
       "      <td>1789.0</td>\n",
       "    </tr>\n",
       "  </tbody>\n",
       "</table>\n",
       "</div>"
      ],
      "text/plain": [
       "   USD_ID  EMP_ID  MANAGER_ID  MANAGER_EMP_ID\n",
       "0     208    6356      159286         18559.0\n",
       "1     209   19373      159689          1741.0\n",
       "2     210    3657      159572          2212.0\n",
       "3     211    6127      159370         18041.0\n",
       "4     212   21618      159624          1789.0"
      ]
     },
     "execution_count": 184,
     "metadata": {},
     "output_type": "execute_result"
    }
   ],
   "source": [
    "joindata.drop(['email','name'],axis=1,inplace=True)\n",
    "joindata.head()"
   ]
  },
  {
   "cell_type": "code",
   "execution_count": 185,
   "metadata": {
    "collapsed": true
   },
   "outputs": [],
   "source": [
    "joindata.rename(columns={'USD_ID':'SUSD_ID'},inplace=True)"
   ]
  },
  {
   "cell_type": "code",
   "execution_count": 186,
   "metadata": {
    "collapsed": false
   },
   "outputs": [
    {
     "data": {
      "text/html": [
       "<div>\n",
       "<table border=\"1\" class=\"dataframe\">\n",
       "  <thead>\n",
       "    <tr style=\"text-align: right;\">\n",
       "      <th></th>\n",
       "      <th>SUSD_ID</th>\n",
       "      <th>EMP_ID</th>\n",
       "      <th>MANAGER_ID</th>\n",
       "      <th>MANAGER_EMP_ID</th>\n",
       "    </tr>\n",
       "  </thead>\n",
       "  <tbody>\n",
       "    <tr>\n",
       "      <th>0</th>\n",
       "      <td>208</td>\n",
       "      <td>6356</td>\n",
       "      <td>159286</td>\n",
       "      <td>18559.0</td>\n",
       "    </tr>\n",
       "    <tr>\n",
       "      <th>1</th>\n",
       "      <td>209</td>\n",
       "      <td>19373</td>\n",
       "      <td>159689</td>\n",
       "      <td>1741.0</td>\n",
       "    </tr>\n",
       "    <tr>\n",
       "      <th>2</th>\n",
       "      <td>210</td>\n",
       "      <td>3657</td>\n",
       "      <td>159572</td>\n",
       "      <td>2212.0</td>\n",
       "    </tr>\n",
       "    <tr>\n",
       "      <th>3</th>\n",
       "      <td>211</td>\n",
       "      <td>6127</td>\n",
       "      <td>159370</td>\n",
       "      <td>18041.0</td>\n",
       "    </tr>\n",
       "    <tr>\n",
       "      <th>4</th>\n",
       "      <td>212</td>\n",
       "      <td>21618</td>\n",
       "      <td>159624</td>\n",
       "      <td>1789.0</td>\n",
       "    </tr>\n",
       "  </tbody>\n",
       "</table>\n",
       "</div>"
      ],
      "text/plain": [
       "   SUSD_ID  EMP_ID  MANAGER_ID  MANAGER_EMP_ID\n",
       "0      208    6356      159286         18559.0\n",
       "1      209   19373      159689          1741.0\n",
       "2      210    3657      159572          2212.0\n",
       "3      211    6127      159370         18041.0\n",
       "4      212   21618      159624          1789.0"
      ]
     },
     "execution_count": 186,
     "metadata": {},
     "output_type": "execute_result"
    }
   ],
   "source": [
    "#joindata.drop(['EMP_ID'],axis=1,inplace=True)\n",
    "joindata.sort_values('SUSD_ID').head()"
   ]
  },
  {
   "cell_type": "code",
   "execution_count": 190,
   "metadata": {
    "collapsed": false
   },
   "outputs": [
    {
     "data": {
      "text/html": [
       "<div>\n",
       "<table border=\"1\" class=\"dataframe\">\n",
       "  <thead>\n",
       "    <tr style=\"text-align: right;\">\n",
       "      <th></th>\n",
       "      <th>SUSD_ID</th>\n",
       "      <th>EMP_ID</th>\n",
       "      <th>MANAGER_ID</th>\n",
       "      <th>MANAGER_EMP_ID</th>\n",
       "      <th>MANAGER_LEVEL</th>\n",
       "    </tr>\n",
       "  </thead>\n",
       "  <tbody>\n",
       "    <tr>\n",
       "      <th>0</th>\n",
       "      <td>208</td>\n",
       "      <td>6356</td>\n",
       "      <td>159286</td>\n",
       "      <td>18559.0</td>\n",
       "      <td>99</td>\n",
       "    </tr>\n",
       "    <tr>\n",
       "      <th>1</th>\n",
       "      <td>209</td>\n",
       "      <td>19373</td>\n",
       "      <td>159689</td>\n",
       "      <td>1741.0</td>\n",
       "      <td>99</td>\n",
       "    </tr>\n",
       "    <tr>\n",
       "      <th>2</th>\n",
       "      <td>210</td>\n",
       "      <td>3657</td>\n",
       "      <td>159572</td>\n",
       "      <td>2212.0</td>\n",
       "      <td>99</td>\n",
       "    </tr>\n",
       "    <tr>\n",
       "      <th>3</th>\n",
       "      <td>211</td>\n",
       "      <td>6127</td>\n",
       "      <td>159370</td>\n",
       "      <td>18041.0</td>\n",
       "      <td>99</td>\n",
       "    </tr>\n",
       "    <tr>\n",
       "      <th>4</th>\n",
       "      <td>212</td>\n",
       "      <td>21618</td>\n",
       "      <td>159624</td>\n",
       "      <td>1789.0</td>\n",
       "      <td>99</td>\n",
       "    </tr>\n",
       "  </tbody>\n",
       "</table>\n",
       "</div>"
      ],
      "text/plain": [
       "   SUSD_ID  EMP_ID  MANAGER_ID  MANAGER_EMP_ID  MANAGER_LEVEL\n",
       "0      208    6356      159286         18559.0             99\n",
       "1      209   19373      159689          1741.0             99\n",
       "2      210    3657      159572          2212.0             99\n",
       "3      211    6127      159370         18041.0             99\n",
       "4      212   21618      159624          1789.0             99"
      ]
     },
     "execution_count": 190,
     "metadata": {},
     "output_type": "execute_result"
    }
   ],
   "source": [
    "joindata['MANAGER_LEVEL'] = 99\n",
    "#joindata.drop(['MANAGER_EMP_ID'],axis=1,inplace=True)\n",
    "joindata.head()"
   ]
  },
  {
   "cell_type": "code",
   "execution_count": 191,
   "metadata": {
    "collapsed": false
   },
   "outputs": [
    {
     "data": {
      "text/plain": [
       "3623"
      ]
     },
     "execution_count": 191,
     "metadata": {},
     "output_type": "execute_result"
    }
   ],
   "source": [
    "#joindata[joindata.MANAGER_EMP_ID==6005.0]\n",
    "joindata.MANAGER_EMP_ID.count()"
   ]
  },
  {
   "cell_type": "code",
   "execution_count": 192,
   "metadata": {
    "collapsed": true
   },
   "outputs": [],
   "source": [
    "dir = \"C:\\Users\\BNSPL-2\\Google Drive\\PROJECT DOCUMENTS\\GMR Engage Survey\\GMR MASTER DATA\"\n",
    "joindata.to_excel(dir+\"\\Reviewer_upload.xlsx\",sheet_name=\"Review\")"
   ]
  },
  {
   "cell_type": "code",
   "execution_count": null,
   "metadata": {
    "collapsed": true
   },
   "outputs": [],
   "source": []
  }
 ],
 "metadata": {
  "kernelspec": {
   "display_name": "Python 2",
   "language": "python",
   "name": "python2"
  },
  "language_info": {
   "codemirror_mode": {
    "name": "ipython",
    "version": 2
   },
   "file_extension": ".py",
   "mimetype": "text/x-python",
   "name": "python",
   "nbconvert_exporter": "python",
   "pygments_lexer": "ipython2",
   "version": "2.7.12"
  }
 },
 "nbformat": 4,
 "nbformat_minor": 1
}
